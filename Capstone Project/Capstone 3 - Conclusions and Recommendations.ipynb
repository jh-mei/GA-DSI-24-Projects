{
 "cells": [
  {
   "cell_type": "markdown",
   "id": "fa1d2a02",
   "metadata": {},
   "source": [
    "# Capstone Part 3: Conclusions and Recommendations"
   ]
  },
  {
   "cell_type": "markdown",
   "id": "775d0646",
   "metadata": {},
   "source": [
    "## Streamlit Deployment"
   ]
  },
  {
   "cell_type": "code",
   "execution_count": 5,
   "id": "0da669bd",
   "metadata": {},
   "outputs": [],
   "source": [
    "import streamlit as st"
   ]
  },
  {
   "cell_type": "code",
   "execution_count": null,
   "id": "53232e8e",
   "metadata": {},
   "outputs": [],
   "source": []
  }
 ],
 "metadata": {
  "kernelspec": {
   "display_name": "Python 3",
   "language": "python",
   "name": "python3"
  },
  "language_info": {
   "codemirror_mode": {
    "name": "ipython",
    "version": 3
   },
   "file_extension": ".py",
   "mimetype": "text/x-python",
   "name": "python",
   "nbconvert_exporter": "python",
   "pygments_lexer": "ipython3",
   "version": "3.8.8"
  }
 },
 "nbformat": 4,
 "nbformat_minor": 5
}
