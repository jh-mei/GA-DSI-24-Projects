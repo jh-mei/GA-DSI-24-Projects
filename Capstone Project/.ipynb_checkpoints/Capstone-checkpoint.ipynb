{
 "cells": [
  {
   "cell_type": "markdown",
   "id": "fba6655a",
   "metadata": {},
   "source": [
    "# Dealing with the dataset"
   ]
  },
  {
   "cell_type": "code",
   "execution_count": 1,
   "id": "aa65c463",
   "metadata": {},
   "outputs": [],
   "source": [
    "import numpy as np\n",
    "import pandas as pd\n",
    "import os\n",
    "import io\n",
    "\n",
    "import multiprocessing\n",
    "import seaborn as sns\n",
    "import email\n",
    "import matplotlib.pyplot as plt"
   ]
  },
  {
   "cell_type": "code",
   "execution_count": 3,
   "id": "d13a864a",
   "metadata": {},
   "outputs": [],
   "source": [
    "from transformers import AutoTokenizer, AutoModelForTokenClassification\n",
    "from transformers import pipeline"
   ]
  },
  {
   "cell_type": "code",
   "execution_count": 30,
   "id": "c8ee57ed",
   "metadata": {},
   "outputs": [],
   "source": [
    "from tqdm.notebook import tqdm, trange\n",
    "import time"
   ]
  },
  {
   "cell_type": "code",
   "execution_count": 99,
   "id": "5ef12764",
   "metadata": {},
   "outputs": [],
   "source": [
    "from numba.typed import List\n",
    "from numba import njit"
   ]
  },
  {
   "cell_type": "code",
   "execution_count": 4,
   "id": "b4b5d5df",
   "metadata": {},
   "outputs": [],
   "source": [
    "df = pd.read_csv('dataset/enron1.csv')"
   ]
  },
  {
   "cell_type": "code",
   "execution_count": 7,
   "id": "de19139d",
   "metadata": {
    "scrolled": true
   },
   "outputs": [
    {
     "data": {
      "application/vnd.jupyter.widget-view+json": {
       "model_id": "310f7248cc6d46f79f2571778fe0d2a6",
       "version_major": 2,
       "version_minor": 0
      },
      "text/plain": [
       "Downloading:   0%|          | 0.00/829 [00:00<?, ?B/s]"
      ]
     },
     "metadata": {},
     "output_type": "display_data"
    },
    {
     "data": {
      "application/vnd.jupyter.widget-view+json": {
       "model_id": "632e08f59a1c46ee80c9ebe3a7c507d2",
       "version_major": 2,
       "version_minor": 0
      },
      "text/plain": [
       "Downloading:   0%|          | 0.00/213k [00:00<?, ?B/s]"
      ]
     },
     "metadata": {},
     "output_type": "display_data"
    },
    {
     "data": {
      "application/vnd.jupyter.widget-view+json": {
       "model_id": "466ca8fc87ad40c49b7a4e0bf8f653f8",
       "version_major": 2,
       "version_minor": 0
      },
      "text/plain": [
       "Downloading:   0%|          | 0.00/2.00 [00:00<?, ?B/s]"
      ]
     },
     "metadata": {},
     "output_type": "display_data"
    },
    {
     "data": {
      "application/vnd.jupyter.widget-view+json": {
       "model_id": "0a975d62c6794508bdef916e6e033af5",
       "version_major": 2,
       "version_minor": 0
      },
      "text/plain": [
       "Downloading:   0%|          | 0.00/112 [00:00<?, ?B/s]"
      ]
     },
     "metadata": {},
     "output_type": "display_data"
    },
    {
     "data": {
      "application/vnd.jupyter.widget-view+json": {
       "model_id": "2873d9a5ecd34ef8bac56a22c5709647",
       "version_major": 2,
       "version_minor": 0
      },
      "text/plain": [
       "Downloading:   0%|          | 0.00/59.0 [00:00<?, ?B/s]"
      ]
     },
     "metadata": {},
     "output_type": "display_data"
    },
    {
     "data": {
      "application/vnd.jupyter.widget-view+json": {
       "model_id": "a6bd6ef523b5461cbb76e322bc84b4dd",
       "version_major": 2,
       "version_minor": 0
      },
      "text/plain": [
       "Downloading:   0%|          | 0.00/433M [00:00<?, ?B/s]"
      ]
     },
     "metadata": {},
     "output_type": "display_data"
    },
    {
     "name": "stdout",
     "output_type": "stream",
     "text": [
      "[{'word': 'Austin', 'score': 0.9921137094497681, 'entity': 'B-LOC', 'index': 132}]\n"
     ]
    }
   ],
   "source": [
    "tokenizer = AutoTokenizer.from_pretrained('dslim/bert-base-NER')\n",
    "model = AutoModelForTokenClassification.from_pretrained(\"dslim/bert-base-NER\")"
   ]
  },
  {
   "cell_type": "code",
   "execution_count": 55,
   "id": "dc0011a3",
   "metadata": {},
   "outputs": [
    {
     "data": {
      "text/plain": [
       "Subject    0\n",
       "content    0\n",
       "dtype: int64"
      ]
     },
     "execution_count": 55,
     "metadata": {},
     "output_type": "execute_result"
    }
   ],
   "source": [
    "df.isnull().sum()"
   ]
  },
  {
   "cell_type": "code",
   "execution_count": 53,
   "id": "affcd804",
   "metadata": {},
   "outputs": [],
   "source": [
    "df = df.fillna(0)"
   ]
  },
  {
   "cell_type": "code",
   "execution_count": 59,
   "id": "e84fd997",
   "metadata": {},
   "outputs": [],
   "source": [
    "df['content'] = df['content'].astype(str)"
   ]
  },
  {
   "cell_type": "code",
   "execution_count": 102,
   "id": "63d92a8f",
   "metadata": {},
   "outputs": [],
   "source": [
    "def get_stop_list(df):\n",
    "    nlp = pipeline(\"ner\", model=model, tokenizer=tokenizer)\n",
    "    for i in tqdm(df['content']):\n",
    "        ner_results = nlp(i)\n",
    "    stop_list = [i['word'] for i in ner_results if i['entity'] == 'B-PER' or i['entity'] == 'I-PER']\n",
    "    return stop_list"
   ]
  },
  {
   "cell_type": "code",
   "execution_count": 112,
   "id": "7b7bd355",
   "metadata": {
    "scrolled": true
   },
   "outputs": [
    {
     "data": {
      "application/vnd.jupyter.widget-view+json": {
       "model_id": "7786bd5c639e4a3587ffe500d731a97d",
       "version_major": 2,
       "version_minor": 0
      },
      "text/plain": [
       "  0%|          | 0/100000 [00:00<?, ?it/s]"
      ]
     },
     "metadata": {},
     "output_type": "display_data"
    },
    {
     "ename": "KeyboardInterrupt",
     "evalue": "",
     "output_type": "error",
     "traceback": [
      "\u001b[1;31m---------------------------------------------------------------------------\u001b[0m",
      "\u001b[1;31mKeyboardInterrupt\u001b[0m                         Traceback (most recent call last)",
      "\u001b[1;32m<ipython-input-112-3ce3e5946065>\u001b[0m in \u001b[0;36m<module>\u001b[1;34m\u001b[0m\n\u001b[1;32m----> 1\u001b[1;33m \u001b[0mget_stop_list\u001b[0m\u001b[1;33m(\u001b[0m\u001b[0mdf\u001b[0m\u001b[1;33m)\u001b[0m\u001b[1;33m\u001b[0m\u001b[1;33m\u001b[0m\u001b[0m\n\u001b[0m",
      "\u001b[1;32m<ipython-input-102-e1e0fd2199f4>\u001b[0m in \u001b[0;36mget_stop_list\u001b[1;34m(df)\u001b[0m\n\u001b[0;32m      2\u001b[0m     \u001b[0mnlp\u001b[0m \u001b[1;33m=\u001b[0m \u001b[0mpipeline\u001b[0m\u001b[1;33m(\u001b[0m\u001b[1;34m\"ner\"\u001b[0m\u001b[1;33m,\u001b[0m \u001b[0mmodel\u001b[0m\u001b[1;33m=\u001b[0m\u001b[0mmodel\u001b[0m\u001b[1;33m,\u001b[0m \u001b[0mtokenizer\u001b[0m\u001b[1;33m=\u001b[0m\u001b[0mtokenizer\u001b[0m\u001b[1;33m)\u001b[0m\u001b[1;33m\u001b[0m\u001b[1;33m\u001b[0m\u001b[0m\n\u001b[0;32m      3\u001b[0m     \u001b[1;32mfor\u001b[0m \u001b[0mi\u001b[0m \u001b[1;32min\u001b[0m \u001b[0mtqdm\u001b[0m\u001b[1;33m(\u001b[0m\u001b[0mdf\u001b[0m\u001b[1;33m[\u001b[0m\u001b[1;34m'content'\u001b[0m\u001b[1;33m]\u001b[0m\u001b[1;33m)\u001b[0m\u001b[1;33m:\u001b[0m\u001b[1;33m\u001b[0m\u001b[1;33m\u001b[0m\u001b[0m\n\u001b[1;32m----> 4\u001b[1;33m         \u001b[0mner_results\u001b[0m \u001b[1;33m=\u001b[0m \u001b[0mnlp\u001b[0m\u001b[1;33m(\u001b[0m\u001b[0mi\u001b[0m\u001b[1;33m)\u001b[0m\u001b[1;33m\u001b[0m\u001b[1;33m\u001b[0m\u001b[0m\n\u001b[0m\u001b[0;32m      5\u001b[0m     \u001b[0mstop_list\u001b[0m \u001b[1;33m=\u001b[0m \u001b[1;33m[\u001b[0m\u001b[0mi\u001b[0m\u001b[1;33m[\u001b[0m\u001b[1;34m'word'\u001b[0m\u001b[1;33m]\u001b[0m \u001b[1;32mfor\u001b[0m \u001b[0mi\u001b[0m \u001b[1;32min\u001b[0m \u001b[0mner_results\u001b[0m \u001b[1;32mif\u001b[0m \u001b[0mi\u001b[0m\u001b[1;33m[\u001b[0m\u001b[1;34m'entity'\u001b[0m\u001b[1;33m]\u001b[0m \u001b[1;33m==\u001b[0m \u001b[1;34m'B-PER'\u001b[0m \u001b[1;32mor\u001b[0m \u001b[0mi\u001b[0m\u001b[1;33m[\u001b[0m\u001b[1;34m'entity'\u001b[0m\u001b[1;33m]\u001b[0m \u001b[1;33m==\u001b[0m \u001b[1;34m'I-PER'\u001b[0m\u001b[1;33m]\u001b[0m\u001b[1;33m\u001b[0m\u001b[1;33m\u001b[0m\u001b[0m\n\u001b[0;32m      6\u001b[0m     \u001b[1;32mreturn\u001b[0m \u001b[0mstop_list\u001b[0m\u001b[1;33m\u001b[0m\u001b[1;33m\u001b[0m\u001b[0m\n",
      "\u001b[1;32m~\\anaconda3\\envs\\dsi\\lib\\site-packages\\transformers\\pipelines.py\u001b[0m in \u001b[0;36m__call__\u001b[1;34m(self, inputs, **kwargs)\u001b[0m\n\u001b[0;32m   1468\u001b[0m                     \u001b[1;32mwith\u001b[0m \u001b[0mtorch\u001b[0m\u001b[1;33m.\u001b[0m\u001b[0mno_grad\u001b[0m\u001b[1;33m(\u001b[0m\u001b[1;33m)\u001b[0m\u001b[1;33m:\u001b[0m\u001b[1;33m\u001b[0m\u001b[1;33m\u001b[0m\u001b[0m\n\u001b[0;32m   1469\u001b[0m                         \u001b[0mtokens\u001b[0m \u001b[1;33m=\u001b[0m \u001b[0mself\u001b[0m\u001b[1;33m.\u001b[0m\u001b[0mensure_tensor_on_device\u001b[0m\u001b[1;33m(\u001b[0m\u001b[1;33m**\u001b[0m\u001b[0mtokens\u001b[0m\u001b[1;33m)\u001b[0m\u001b[1;33m\u001b[0m\u001b[1;33m\u001b[0m\u001b[0m\n\u001b[1;32m-> 1470\u001b[1;33m                         \u001b[0mentities\u001b[0m \u001b[1;33m=\u001b[0m \u001b[0mself\u001b[0m\u001b[1;33m.\u001b[0m\u001b[0mmodel\u001b[0m\u001b[1;33m(\u001b[0m\u001b[1;33m**\u001b[0m\u001b[0mtokens\u001b[0m\u001b[1;33m)\u001b[0m\u001b[1;33m[\u001b[0m\u001b[1;36m0\u001b[0m\u001b[1;33m]\u001b[0m\u001b[1;33m[\u001b[0m\u001b[1;36m0\u001b[0m\u001b[1;33m]\u001b[0m\u001b[1;33m.\u001b[0m\u001b[0mcpu\u001b[0m\u001b[1;33m(\u001b[0m\u001b[1;33m)\u001b[0m\u001b[1;33m.\u001b[0m\u001b[0mnumpy\u001b[0m\u001b[1;33m(\u001b[0m\u001b[1;33m)\u001b[0m\u001b[1;33m\u001b[0m\u001b[1;33m\u001b[0m\u001b[0m\n\u001b[0m\u001b[0;32m   1471\u001b[0m                         \u001b[0minput_ids\u001b[0m \u001b[1;33m=\u001b[0m \u001b[0mtokens\u001b[0m\u001b[1;33m[\u001b[0m\u001b[1;34m\"input_ids\"\u001b[0m\u001b[1;33m]\u001b[0m\u001b[1;33m.\u001b[0m\u001b[0mcpu\u001b[0m\u001b[1;33m(\u001b[0m\u001b[1;33m)\u001b[0m\u001b[1;33m.\u001b[0m\u001b[0mnumpy\u001b[0m\u001b[1;33m(\u001b[0m\u001b[1;33m)\u001b[0m\u001b[1;33m[\u001b[0m\u001b[1;36m0\u001b[0m\u001b[1;33m]\u001b[0m\u001b[1;33m\u001b[0m\u001b[1;33m\u001b[0m\u001b[0m\n\u001b[0;32m   1472\u001b[0m \u001b[1;33m\u001b[0m\u001b[0m\n",
      "\u001b[1;32m~\\anaconda3\\envs\\dsi\\lib\\site-packages\\torch\\nn\\modules\\module.py\u001b[0m in \u001b[0;36m__call__\u001b[1;34m(self, *input, **kwargs)\u001b[0m\n\u001b[0;32m    530\u001b[0m             \u001b[0mresult\u001b[0m \u001b[1;33m=\u001b[0m \u001b[0mself\u001b[0m\u001b[1;33m.\u001b[0m\u001b[0m_slow_forward\u001b[0m\u001b[1;33m(\u001b[0m\u001b[1;33m*\u001b[0m\u001b[0minput\u001b[0m\u001b[1;33m,\u001b[0m \u001b[1;33m**\u001b[0m\u001b[0mkwargs\u001b[0m\u001b[1;33m)\u001b[0m\u001b[1;33m\u001b[0m\u001b[1;33m\u001b[0m\u001b[0m\n\u001b[0;32m    531\u001b[0m         \u001b[1;32melse\u001b[0m\u001b[1;33m:\u001b[0m\u001b[1;33m\u001b[0m\u001b[1;33m\u001b[0m\u001b[0m\n\u001b[1;32m--> 532\u001b[1;33m             \u001b[0mresult\u001b[0m \u001b[1;33m=\u001b[0m \u001b[0mself\u001b[0m\u001b[1;33m.\u001b[0m\u001b[0mforward\u001b[0m\u001b[1;33m(\u001b[0m\u001b[1;33m*\u001b[0m\u001b[0minput\u001b[0m\u001b[1;33m,\u001b[0m \u001b[1;33m**\u001b[0m\u001b[0mkwargs\u001b[0m\u001b[1;33m)\u001b[0m\u001b[1;33m\u001b[0m\u001b[1;33m\u001b[0m\u001b[0m\n\u001b[0m\u001b[0;32m    533\u001b[0m         \u001b[1;32mfor\u001b[0m \u001b[0mhook\u001b[0m \u001b[1;32min\u001b[0m \u001b[0mself\u001b[0m\u001b[1;33m.\u001b[0m\u001b[0m_forward_hooks\u001b[0m\u001b[1;33m.\u001b[0m\u001b[0mvalues\u001b[0m\u001b[1;33m(\u001b[0m\u001b[1;33m)\u001b[0m\u001b[1;33m:\u001b[0m\u001b[1;33m\u001b[0m\u001b[1;33m\u001b[0m\u001b[0m\n\u001b[0;32m    534\u001b[0m             \u001b[0mhook_result\u001b[0m \u001b[1;33m=\u001b[0m \u001b[0mhook\u001b[0m\u001b[1;33m(\u001b[0m\u001b[0mself\u001b[0m\u001b[1;33m,\u001b[0m \u001b[0minput\u001b[0m\u001b[1;33m,\u001b[0m \u001b[0mresult\u001b[0m\u001b[1;33m)\u001b[0m\u001b[1;33m\u001b[0m\u001b[1;33m\u001b[0m\u001b[0m\n",
      "\u001b[1;32m~\\anaconda3\\envs\\dsi\\lib\\site-packages\\transformers\\modeling_bert.py\u001b[0m in \u001b[0;36mforward\u001b[1;34m(self, input_ids, attention_mask, token_type_ids, position_ids, head_mask, inputs_embeds, labels, output_attentions, output_hidden_states, return_dict)\u001b[0m\n\u001b[0;32m   1528\u001b[0m         \u001b[0mreturn_dict\u001b[0m \u001b[1;33m=\u001b[0m \u001b[0mreturn_dict\u001b[0m \u001b[1;32mif\u001b[0m \u001b[0mreturn_dict\u001b[0m \u001b[1;32mis\u001b[0m \u001b[1;32mnot\u001b[0m \u001b[1;32mNone\u001b[0m \u001b[1;32melse\u001b[0m \u001b[0mself\u001b[0m\u001b[1;33m.\u001b[0m\u001b[0mconfig\u001b[0m\u001b[1;33m.\u001b[0m\u001b[0muse_return_dict\u001b[0m\u001b[1;33m\u001b[0m\u001b[1;33m\u001b[0m\u001b[0m\n\u001b[0;32m   1529\u001b[0m \u001b[1;33m\u001b[0m\u001b[0m\n\u001b[1;32m-> 1530\u001b[1;33m         outputs = self.bert(\n\u001b[0m\u001b[0;32m   1531\u001b[0m             \u001b[0minput_ids\u001b[0m\u001b[1;33m,\u001b[0m\u001b[1;33m\u001b[0m\u001b[1;33m\u001b[0m\u001b[0m\n\u001b[0;32m   1532\u001b[0m             \u001b[0mattention_mask\u001b[0m\u001b[1;33m=\u001b[0m\u001b[0mattention_mask\u001b[0m\u001b[1;33m,\u001b[0m\u001b[1;33m\u001b[0m\u001b[1;33m\u001b[0m\u001b[0m\n",
      "\u001b[1;32m~\\anaconda3\\envs\\dsi\\lib\\site-packages\\torch\\nn\\modules\\module.py\u001b[0m in \u001b[0;36m__call__\u001b[1;34m(self, *input, **kwargs)\u001b[0m\n\u001b[0;32m    530\u001b[0m             \u001b[0mresult\u001b[0m \u001b[1;33m=\u001b[0m \u001b[0mself\u001b[0m\u001b[1;33m.\u001b[0m\u001b[0m_slow_forward\u001b[0m\u001b[1;33m(\u001b[0m\u001b[1;33m*\u001b[0m\u001b[0minput\u001b[0m\u001b[1;33m,\u001b[0m \u001b[1;33m**\u001b[0m\u001b[0mkwargs\u001b[0m\u001b[1;33m)\u001b[0m\u001b[1;33m\u001b[0m\u001b[1;33m\u001b[0m\u001b[0m\n\u001b[0;32m    531\u001b[0m         \u001b[1;32melse\u001b[0m\u001b[1;33m:\u001b[0m\u001b[1;33m\u001b[0m\u001b[1;33m\u001b[0m\u001b[0m\n\u001b[1;32m--> 532\u001b[1;33m             \u001b[0mresult\u001b[0m \u001b[1;33m=\u001b[0m \u001b[0mself\u001b[0m\u001b[1;33m.\u001b[0m\u001b[0mforward\u001b[0m\u001b[1;33m(\u001b[0m\u001b[1;33m*\u001b[0m\u001b[0minput\u001b[0m\u001b[1;33m,\u001b[0m \u001b[1;33m**\u001b[0m\u001b[0mkwargs\u001b[0m\u001b[1;33m)\u001b[0m\u001b[1;33m\u001b[0m\u001b[1;33m\u001b[0m\u001b[0m\n\u001b[0m\u001b[0;32m    533\u001b[0m         \u001b[1;32mfor\u001b[0m \u001b[0mhook\u001b[0m \u001b[1;32min\u001b[0m \u001b[0mself\u001b[0m\u001b[1;33m.\u001b[0m\u001b[0m_forward_hooks\u001b[0m\u001b[1;33m.\u001b[0m\u001b[0mvalues\u001b[0m\u001b[1;33m(\u001b[0m\u001b[1;33m)\u001b[0m\u001b[1;33m:\u001b[0m\u001b[1;33m\u001b[0m\u001b[1;33m\u001b[0m\u001b[0m\n\u001b[0;32m    534\u001b[0m             \u001b[0mhook_result\u001b[0m \u001b[1;33m=\u001b[0m \u001b[0mhook\u001b[0m\u001b[1;33m(\u001b[0m\u001b[0mself\u001b[0m\u001b[1;33m,\u001b[0m \u001b[0minput\u001b[0m\u001b[1;33m,\u001b[0m \u001b[0mresult\u001b[0m\u001b[1;33m)\u001b[0m\u001b[1;33m\u001b[0m\u001b[1;33m\u001b[0m\u001b[0m\n",
      "\u001b[1;32m~\\anaconda3\\envs\\dsi\\lib\\site-packages\\transformers\\modeling_bert.py\u001b[0m in \u001b[0;36mforward\u001b[1;34m(self, input_ids, attention_mask, token_type_ids, position_ids, head_mask, inputs_embeds, encoder_hidden_states, encoder_attention_mask, output_attentions, output_hidden_states, return_dict)\u001b[0m\n\u001b[0;32m    838\u001b[0m             \u001b[0minput_ids\u001b[0m\u001b[1;33m=\u001b[0m\u001b[0minput_ids\u001b[0m\u001b[1;33m,\u001b[0m \u001b[0mposition_ids\u001b[0m\u001b[1;33m=\u001b[0m\u001b[0mposition_ids\u001b[0m\u001b[1;33m,\u001b[0m \u001b[0mtoken_type_ids\u001b[0m\u001b[1;33m=\u001b[0m\u001b[0mtoken_type_ids\u001b[0m\u001b[1;33m,\u001b[0m \u001b[0minputs_embeds\u001b[0m\u001b[1;33m=\u001b[0m\u001b[0minputs_embeds\u001b[0m\u001b[1;33m\u001b[0m\u001b[1;33m\u001b[0m\u001b[0m\n\u001b[0;32m    839\u001b[0m         )\n\u001b[1;32m--> 840\u001b[1;33m         encoder_outputs = self.encoder(\n\u001b[0m\u001b[0;32m    841\u001b[0m             \u001b[0membedding_output\u001b[0m\u001b[1;33m,\u001b[0m\u001b[1;33m\u001b[0m\u001b[1;33m\u001b[0m\u001b[0m\n\u001b[0;32m    842\u001b[0m             \u001b[0mattention_mask\u001b[0m\u001b[1;33m=\u001b[0m\u001b[0mextended_attention_mask\u001b[0m\u001b[1;33m,\u001b[0m\u001b[1;33m\u001b[0m\u001b[1;33m\u001b[0m\u001b[0m\n",
      "\u001b[1;32m~\\anaconda3\\envs\\dsi\\lib\\site-packages\\torch\\nn\\modules\\module.py\u001b[0m in \u001b[0;36m__call__\u001b[1;34m(self, *input, **kwargs)\u001b[0m\n\u001b[0;32m    530\u001b[0m             \u001b[0mresult\u001b[0m \u001b[1;33m=\u001b[0m \u001b[0mself\u001b[0m\u001b[1;33m.\u001b[0m\u001b[0m_slow_forward\u001b[0m\u001b[1;33m(\u001b[0m\u001b[1;33m*\u001b[0m\u001b[0minput\u001b[0m\u001b[1;33m,\u001b[0m \u001b[1;33m**\u001b[0m\u001b[0mkwargs\u001b[0m\u001b[1;33m)\u001b[0m\u001b[1;33m\u001b[0m\u001b[1;33m\u001b[0m\u001b[0m\n\u001b[0;32m    531\u001b[0m         \u001b[1;32melse\u001b[0m\u001b[1;33m:\u001b[0m\u001b[1;33m\u001b[0m\u001b[1;33m\u001b[0m\u001b[0m\n\u001b[1;32m--> 532\u001b[1;33m             \u001b[0mresult\u001b[0m \u001b[1;33m=\u001b[0m \u001b[0mself\u001b[0m\u001b[1;33m.\u001b[0m\u001b[0mforward\u001b[0m\u001b[1;33m(\u001b[0m\u001b[1;33m*\u001b[0m\u001b[0minput\u001b[0m\u001b[1;33m,\u001b[0m \u001b[1;33m**\u001b[0m\u001b[0mkwargs\u001b[0m\u001b[1;33m)\u001b[0m\u001b[1;33m\u001b[0m\u001b[1;33m\u001b[0m\u001b[0m\n\u001b[0m\u001b[0;32m    533\u001b[0m         \u001b[1;32mfor\u001b[0m \u001b[0mhook\u001b[0m \u001b[1;32min\u001b[0m \u001b[0mself\u001b[0m\u001b[1;33m.\u001b[0m\u001b[0m_forward_hooks\u001b[0m\u001b[1;33m.\u001b[0m\u001b[0mvalues\u001b[0m\u001b[1;33m(\u001b[0m\u001b[1;33m)\u001b[0m\u001b[1;33m:\u001b[0m\u001b[1;33m\u001b[0m\u001b[1;33m\u001b[0m\u001b[0m\n\u001b[0;32m    534\u001b[0m             \u001b[0mhook_result\u001b[0m \u001b[1;33m=\u001b[0m \u001b[0mhook\u001b[0m\u001b[1;33m(\u001b[0m\u001b[0mself\u001b[0m\u001b[1;33m,\u001b[0m \u001b[0minput\u001b[0m\u001b[1;33m,\u001b[0m \u001b[0mresult\u001b[0m\u001b[1;33m)\u001b[0m\u001b[1;33m\u001b[0m\u001b[1;33m\u001b[0m\u001b[0m\n",
      "\u001b[1;32m~\\anaconda3\\envs\\dsi\\lib\\site-packages\\transformers\\modeling_bert.py\u001b[0m in \u001b[0;36mforward\u001b[1;34m(self, hidden_states, attention_mask, head_mask, encoder_hidden_states, encoder_attention_mask, output_attentions, output_hidden_states, return_dict)\u001b[0m\n\u001b[0;32m    475\u001b[0m                 )\n\u001b[0;32m    476\u001b[0m             \u001b[1;32melse\u001b[0m\u001b[1;33m:\u001b[0m\u001b[1;33m\u001b[0m\u001b[1;33m\u001b[0m\u001b[0m\n\u001b[1;32m--> 477\u001b[1;33m                 layer_outputs = layer_module(\n\u001b[0m\u001b[0;32m    478\u001b[0m                     \u001b[0mhidden_states\u001b[0m\u001b[1;33m,\u001b[0m\u001b[1;33m\u001b[0m\u001b[1;33m\u001b[0m\u001b[0m\n\u001b[0;32m    479\u001b[0m                     \u001b[0mattention_mask\u001b[0m\u001b[1;33m,\u001b[0m\u001b[1;33m\u001b[0m\u001b[1;33m\u001b[0m\u001b[0m\n",
      "\u001b[1;32m~\\anaconda3\\envs\\dsi\\lib\\site-packages\\torch\\nn\\modules\\module.py\u001b[0m in \u001b[0;36m__call__\u001b[1;34m(self, *input, **kwargs)\u001b[0m\n\u001b[0;32m    530\u001b[0m             \u001b[0mresult\u001b[0m \u001b[1;33m=\u001b[0m \u001b[0mself\u001b[0m\u001b[1;33m.\u001b[0m\u001b[0m_slow_forward\u001b[0m\u001b[1;33m(\u001b[0m\u001b[1;33m*\u001b[0m\u001b[0minput\u001b[0m\u001b[1;33m,\u001b[0m \u001b[1;33m**\u001b[0m\u001b[0mkwargs\u001b[0m\u001b[1;33m)\u001b[0m\u001b[1;33m\u001b[0m\u001b[1;33m\u001b[0m\u001b[0m\n\u001b[0;32m    531\u001b[0m         \u001b[1;32melse\u001b[0m\u001b[1;33m:\u001b[0m\u001b[1;33m\u001b[0m\u001b[1;33m\u001b[0m\u001b[0m\n\u001b[1;32m--> 532\u001b[1;33m             \u001b[0mresult\u001b[0m \u001b[1;33m=\u001b[0m \u001b[0mself\u001b[0m\u001b[1;33m.\u001b[0m\u001b[0mforward\u001b[0m\u001b[1;33m(\u001b[0m\u001b[1;33m*\u001b[0m\u001b[0minput\u001b[0m\u001b[1;33m,\u001b[0m \u001b[1;33m**\u001b[0m\u001b[0mkwargs\u001b[0m\u001b[1;33m)\u001b[0m\u001b[1;33m\u001b[0m\u001b[1;33m\u001b[0m\u001b[0m\n\u001b[0m\u001b[0;32m    533\u001b[0m         \u001b[1;32mfor\u001b[0m \u001b[0mhook\u001b[0m \u001b[1;32min\u001b[0m \u001b[0mself\u001b[0m\u001b[1;33m.\u001b[0m\u001b[0m_forward_hooks\u001b[0m\u001b[1;33m.\u001b[0m\u001b[0mvalues\u001b[0m\u001b[1;33m(\u001b[0m\u001b[1;33m)\u001b[0m\u001b[1;33m:\u001b[0m\u001b[1;33m\u001b[0m\u001b[1;33m\u001b[0m\u001b[0m\n\u001b[0;32m    534\u001b[0m             \u001b[0mhook_result\u001b[0m \u001b[1;33m=\u001b[0m \u001b[0mhook\u001b[0m\u001b[1;33m(\u001b[0m\u001b[0mself\u001b[0m\u001b[1;33m,\u001b[0m \u001b[0minput\u001b[0m\u001b[1;33m,\u001b[0m \u001b[0mresult\u001b[0m\u001b[1;33m)\u001b[0m\u001b[1;33m\u001b[0m\u001b[1;33m\u001b[0m\u001b[0m\n",
      "\u001b[1;32m~\\anaconda3\\envs\\dsi\\lib\\site-packages\\transformers\\modeling_bert.py\u001b[0m in \u001b[0;36mforward\u001b[1;34m(self, hidden_states, attention_mask, head_mask, encoder_hidden_states, encoder_attention_mask, output_attentions)\u001b[0m\n\u001b[0;32m    396\u001b[0m         \u001b[0moutput_attentions\u001b[0m\u001b[1;33m=\u001b[0m\u001b[1;32mFalse\u001b[0m\u001b[1;33m,\u001b[0m\u001b[1;33m\u001b[0m\u001b[1;33m\u001b[0m\u001b[0m\n\u001b[0;32m    397\u001b[0m     ):\n\u001b[1;32m--> 398\u001b[1;33m         self_attention_outputs = self.attention(\n\u001b[0m\u001b[0;32m    399\u001b[0m             \u001b[0mhidden_states\u001b[0m\u001b[1;33m,\u001b[0m\u001b[1;33m\u001b[0m\u001b[1;33m\u001b[0m\u001b[0m\n\u001b[0;32m    400\u001b[0m             \u001b[0mattention_mask\u001b[0m\u001b[1;33m,\u001b[0m\u001b[1;33m\u001b[0m\u001b[1;33m\u001b[0m\u001b[0m\n",
      "\u001b[1;32m~\\anaconda3\\envs\\dsi\\lib\\site-packages\\torch\\nn\\modules\\module.py\u001b[0m in \u001b[0;36m__call__\u001b[1;34m(self, *input, **kwargs)\u001b[0m\n\u001b[0;32m    530\u001b[0m             \u001b[0mresult\u001b[0m \u001b[1;33m=\u001b[0m \u001b[0mself\u001b[0m\u001b[1;33m.\u001b[0m\u001b[0m_slow_forward\u001b[0m\u001b[1;33m(\u001b[0m\u001b[1;33m*\u001b[0m\u001b[0minput\u001b[0m\u001b[1;33m,\u001b[0m \u001b[1;33m**\u001b[0m\u001b[0mkwargs\u001b[0m\u001b[1;33m)\u001b[0m\u001b[1;33m\u001b[0m\u001b[1;33m\u001b[0m\u001b[0m\n\u001b[0;32m    531\u001b[0m         \u001b[1;32melse\u001b[0m\u001b[1;33m:\u001b[0m\u001b[1;33m\u001b[0m\u001b[1;33m\u001b[0m\u001b[0m\n\u001b[1;32m--> 532\u001b[1;33m             \u001b[0mresult\u001b[0m \u001b[1;33m=\u001b[0m \u001b[0mself\u001b[0m\u001b[1;33m.\u001b[0m\u001b[0mforward\u001b[0m\u001b[1;33m(\u001b[0m\u001b[1;33m*\u001b[0m\u001b[0minput\u001b[0m\u001b[1;33m,\u001b[0m \u001b[1;33m**\u001b[0m\u001b[0mkwargs\u001b[0m\u001b[1;33m)\u001b[0m\u001b[1;33m\u001b[0m\u001b[1;33m\u001b[0m\u001b[0m\n\u001b[0m\u001b[0;32m    533\u001b[0m         \u001b[1;32mfor\u001b[0m \u001b[0mhook\u001b[0m \u001b[1;32min\u001b[0m \u001b[0mself\u001b[0m\u001b[1;33m.\u001b[0m\u001b[0m_forward_hooks\u001b[0m\u001b[1;33m.\u001b[0m\u001b[0mvalues\u001b[0m\u001b[1;33m(\u001b[0m\u001b[1;33m)\u001b[0m\u001b[1;33m:\u001b[0m\u001b[1;33m\u001b[0m\u001b[1;33m\u001b[0m\u001b[0m\n\u001b[0;32m    534\u001b[0m             \u001b[0mhook_result\u001b[0m \u001b[1;33m=\u001b[0m \u001b[0mhook\u001b[0m\u001b[1;33m(\u001b[0m\u001b[0mself\u001b[0m\u001b[1;33m,\u001b[0m \u001b[0minput\u001b[0m\u001b[1;33m,\u001b[0m \u001b[0mresult\u001b[0m\u001b[1;33m)\u001b[0m\u001b[1;33m\u001b[0m\u001b[1;33m\u001b[0m\u001b[0m\n",
      "\u001b[1;32m~\\anaconda3\\envs\\dsi\\lib\\site-packages\\transformers\\modeling_bert.py\u001b[0m in \u001b[0;36mforward\u001b[1;34m(self, hidden_states, attention_mask, head_mask, encoder_hidden_states, encoder_attention_mask, output_attentions)\u001b[0m\n\u001b[0;32m    331\u001b[0m         \u001b[0moutput_attentions\u001b[0m\u001b[1;33m=\u001b[0m\u001b[1;32mFalse\u001b[0m\u001b[1;33m,\u001b[0m\u001b[1;33m\u001b[0m\u001b[1;33m\u001b[0m\u001b[0m\n\u001b[0;32m    332\u001b[0m     ):\n\u001b[1;32m--> 333\u001b[1;33m         self_outputs = self.self(\n\u001b[0m\u001b[0;32m    334\u001b[0m             \u001b[0mhidden_states\u001b[0m\u001b[1;33m,\u001b[0m\u001b[1;33m\u001b[0m\u001b[1;33m\u001b[0m\u001b[0m\n\u001b[0;32m    335\u001b[0m             \u001b[0mattention_mask\u001b[0m\u001b[1;33m,\u001b[0m\u001b[1;33m\u001b[0m\u001b[1;33m\u001b[0m\u001b[0m\n",
      "\u001b[1;32m~\\anaconda3\\envs\\dsi\\lib\\site-packages\\torch\\nn\\modules\\module.py\u001b[0m in \u001b[0;36m__call__\u001b[1;34m(self, *input, **kwargs)\u001b[0m\n\u001b[0;32m    530\u001b[0m             \u001b[0mresult\u001b[0m \u001b[1;33m=\u001b[0m \u001b[0mself\u001b[0m\u001b[1;33m.\u001b[0m\u001b[0m_slow_forward\u001b[0m\u001b[1;33m(\u001b[0m\u001b[1;33m*\u001b[0m\u001b[0minput\u001b[0m\u001b[1;33m,\u001b[0m \u001b[1;33m**\u001b[0m\u001b[0mkwargs\u001b[0m\u001b[1;33m)\u001b[0m\u001b[1;33m\u001b[0m\u001b[1;33m\u001b[0m\u001b[0m\n\u001b[0;32m    531\u001b[0m         \u001b[1;32melse\u001b[0m\u001b[1;33m:\u001b[0m\u001b[1;33m\u001b[0m\u001b[1;33m\u001b[0m\u001b[0m\n\u001b[1;32m--> 532\u001b[1;33m             \u001b[0mresult\u001b[0m \u001b[1;33m=\u001b[0m \u001b[0mself\u001b[0m\u001b[1;33m.\u001b[0m\u001b[0mforward\u001b[0m\u001b[1;33m(\u001b[0m\u001b[1;33m*\u001b[0m\u001b[0minput\u001b[0m\u001b[1;33m,\u001b[0m \u001b[1;33m**\u001b[0m\u001b[0mkwargs\u001b[0m\u001b[1;33m)\u001b[0m\u001b[1;33m\u001b[0m\u001b[1;33m\u001b[0m\u001b[0m\n\u001b[0m\u001b[0;32m    533\u001b[0m         \u001b[1;32mfor\u001b[0m \u001b[0mhook\u001b[0m \u001b[1;32min\u001b[0m \u001b[0mself\u001b[0m\u001b[1;33m.\u001b[0m\u001b[0m_forward_hooks\u001b[0m\u001b[1;33m.\u001b[0m\u001b[0mvalues\u001b[0m\u001b[1;33m(\u001b[0m\u001b[1;33m)\u001b[0m\u001b[1;33m:\u001b[0m\u001b[1;33m\u001b[0m\u001b[1;33m\u001b[0m\u001b[0m\n\u001b[0;32m    534\u001b[0m             \u001b[0mhook_result\u001b[0m \u001b[1;33m=\u001b[0m \u001b[0mhook\u001b[0m\u001b[1;33m(\u001b[0m\u001b[0mself\u001b[0m\u001b[1;33m,\u001b[0m \u001b[0minput\u001b[0m\u001b[1;33m,\u001b[0m \u001b[0mresult\u001b[0m\u001b[1;33m)\u001b[0m\u001b[1;33m\u001b[0m\u001b[1;33m\u001b[0m\u001b[0m\n",
      "\u001b[1;32m~\\anaconda3\\envs\\dsi\\lib\\site-packages\\transformers\\modeling_bert.py\u001b[0m in \u001b[0;36mforward\u001b[1;34m(self, hidden_states, attention_mask, head_mask, encoder_hidden_states, encoder_attention_mask, output_attentions)\u001b[0m\n\u001b[0;32m    263\u001b[0m \u001b[1;33m\u001b[0m\u001b[0m\n\u001b[0;32m    264\u001b[0m         \u001b[1;31m# Normalize the attention scores to probabilities.\u001b[0m\u001b[1;33m\u001b[0m\u001b[1;33m\u001b[0m\u001b[1;33m\u001b[0m\u001b[0m\n\u001b[1;32m--> 265\u001b[1;33m         \u001b[0mattention_probs\u001b[0m \u001b[1;33m=\u001b[0m \u001b[0mnn\u001b[0m\u001b[1;33m.\u001b[0m\u001b[0mSoftmax\u001b[0m\u001b[1;33m(\u001b[0m\u001b[0mdim\u001b[0m\u001b[1;33m=\u001b[0m\u001b[1;33m-\u001b[0m\u001b[1;36m1\u001b[0m\u001b[1;33m)\u001b[0m\u001b[1;33m(\u001b[0m\u001b[0mattention_scores\u001b[0m\u001b[1;33m)\u001b[0m\u001b[1;33m\u001b[0m\u001b[1;33m\u001b[0m\u001b[0m\n\u001b[0m\u001b[0;32m    266\u001b[0m \u001b[1;33m\u001b[0m\u001b[0m\n\u001b[0;32m    267\u001b[0m         \u001b[1;31m# This is actually dropping out entire tokens to attend to, which might\u001b[0m\u001b[1;33m\u001b[0m\u001b[1;33m\u001b[0m\u001b[1;33m\u001b[0m\u001b[0m\n",
      "\u001b[1;32m~\\anaconda3\\envs\\dsi\\lib\\site-packages\\torch\\nn\\modules\\module.py\u001b[0m in \u001b[0;36m__call__\u001b[1;34m(self, *input, **kwargs)\u001b[0m\n\u001b[0;32m    530\u001b[0m             \u001b[0mresult\u001b[0m \u001b[1;33m=\u001b[0m \u001b[0mself\u001b[0m\u001b[1;33m.\u001b[0m\u001b[0m_slow_forward\u001b[0m\u001b[1;33m(\u001b[0m\u001b[1;33m*\u001b[0m\u001b[0minput\u001b[0m\u001b[1;33m,\u001b[0m \u001b[1;33m**\u001b[0m\u001b[0mkwargs\u001b[0m\u001b[1;33m)\u001b[0m\u001b[1;33m\u001b[0m\u001b[1;33m\u001b[0m\u001b[0m\n\u001b[0;32m    531\u001b[0m         \u001b[1;32melse\u001b[0m\u001b[1;33m:\u001b[0m\u001b[1;33m\u001b[0m\u001b[1;33m\u001b[0m\u001b[0m\n\u001b[1;32m--> 532\u001b[1;33m             \u001b[0mresult\u001b[0m \u001b[1;33m=\u001b[0m \u001b[0mself\u001b[0m\u001b[1;33m.\u001b[0m\u001b[0mforward\u001b[0m\u001b[1;33m(\u001b[0m\u001b[1;33m*\u001b[0m\u001b[0minput\u001b[0m\u001b[1;33m,\u001b[0m \u001b[1;33m**\u001b[0m\u001b[0mkwargs\u001b[0m\u001b[1;33m)\u001b[0m\u001b[1;33m\u001b[0m\u001b[1;33m\u001b[0m\u001b[0m\n\u001b[0m\u001b[0;32m    533\u001b[0m         \u001b[1;32mfor\u001b[0m \u001b[0mhook\u001b[0m \u001b[1;32min\u001b[0m \u001b[0mself\u001b[0m\u001b[1;33m.\u001b[0m\u001b[0m_forward_hooks\u001b[0m\u001b[1;33m.\u001b[0m\u001b[0mvalues\u001b[0m\u001b[1;33m(\u001b[0m\u001b[1;33m)\u001b[0m\u001b[1;33m:\u001b[0m\u001b[1;33m\u001b[0m\u001b[1;33m\u001b[0m\u001b[0m\n\u001b[0;32m    534\u001b[0m             \u001b[0mhook_result\u001b[0m \u001b[1;33m=\u001b[0m \u001b[0mhook\u001b[0m\u001b[1;33m(\u001b[0m\u001b[0mself\u001b[0m\u001b[1;33m,\u001b[0m \u001b[0minput\u001b[0m\u001b[1;33m,\u001b[0m \u001b[0mresult\u001b[0m\u001b[1;33m)\u001b[0m\u001b[1;33m\u001b[0m\u001b[1;33m\u001b[0m\u001b[0m\n",
      "\u001b[1;32m~\\anaconda3\\envs\\dsi\\lib\\site-packages\\torch\\nn\\modules\\activation.py\u001b[0m in \u001b[0;36mforward\u001b[1;34m(self, input)\u001b[0m\n\u001b[0;32m   1016\u001b[0m \u001b[1;33m\u001b[0m\u001b[0m\n\u001b[0;32m   1017\u001b[0m     \u001b[1;32mdef\u001b[0m \u001b[0mforward\u001b[0m\u001b[1;33m(\u001b[0m\u001b[0mself\u001b[0m\u001b[1;33m,\u001b[0m \u001b[0minput\u001b[0m\u001b[1;33m)\u001b[0m\u001b[1;33m:\u001b[0m\u001b[1;33m\u001b[0m\u001b[1;33m\u001b[0m\u001b[0m\n\u001b[1;32m-> 1018\u001b[1;33m         \u001b[1;32mreturn\u001b[0m \u001b[0mF\u001b[0m\u001b[1;33m.\u001b[0m\u001b[0msoftmax\u001b[0m\u001b[1;33m(\u001b[0m\u001b[0minput\u001b[0m\u001b[1;33m,\u001b[0m \u001b[0mself\u001b[0m\u001b[1;33m.\u001b[0m\u001b[0mdim\u001b[0m\u001b[1;33m,\u001b[0m \u001b[0m_stacklevel\u001b[0m\u001b[1;33m=\u001b[0m\u001b[1;36m5\u001b[0m\u001b[1;33m)\u001b[0m\u001b[1;33m\u001b[0m\u001b[1;33m\u001b[0m\u001b[0m\n\u001b[0m\u001b[0;32m   1019\u001b[0m \u001b[1;33m\u001b[0m\u001b[0m\n\u001b[0;32m   1020\u001b[0m     \u001b[1;32mdef\u001b[0m \u001b[0mextra_repr\u001b[0m\u001b[1;33m(\u001b[0m\u001b[0mself\u001b[0m\u001b[1;33m)\u001b[0m\u001b[1;33m:\u001b[0m\u001b[1;33m\u001b[0m\u001b[1;33m\u001b[0m\u001b[0m\n",
      "\u001b[1;32m~\\anaconda3\\envs\\dsi\\lib\\site-packages\\torch\\nn\\functional.py\u001b[0m in \u001b[0;36msoftmax\u001b[1;34m(input, dim, _stacklevel, dtype)\u001b[0m\n\u001b[0;32m   1229\u001b[0m         \u001b[0mdim\u001b[0m \u001b[1;33m=\u001b[0m \u001b[0m_get_softmax_dim\u001b[0m\u001b[1;33m(\u001b[0m\u001b[1;34m'softmax'\u001b[0m\u001b[1;33m,\u001b[0m \u001b[0minput\u001b[0m\u001b[1;33m.\u001b[0m\u001b[0mdim\u001b[0m\u001b[1;33m(\u001b[0m\u001b[1;33m)\u001b[0m\u001b[1;33m,\u001b[0m \u001b[0m_stacklevel\u001b[0m\u001b[1;33m)\u001b[0m\u001b[1;33m\u001b[0m\u001b[1;33m\u001b[0m\u001b[0m\n\u001b[0;32m   1230\u001b[0m     \u001b[1;32mif\u001b[0m \u001b[0mdtype\u001b[0m \u001b[1;32mis\u001b[0m \u001b[1;32mNone\u001b[0m\u001b[1;33m:\u001b[0m\u001b[1;33m\u001b[0m\u001b[1;33m\u001b[0m\u001b[0m\n\u001b[1;32m-> 1231\u001b[1;33m         \u001b[0mret\u001b[0m \u001b[1;33m=\u001b[0m \u001b[0minput\u001b[0m\u001b[1;33m.\u001b[0m\u001b[0msoftmax\u001b[0m\u001b[1;33m(\u001b[0m\u001b[0mdim\u001b[0m\u001b[1;33m)\u001b[0m\u001b[1;33m\u001b[0m\u001b[1;33m\u001b[0m\u001b[0m\n\u001b[0m\u001b[0;32m   1232\u001b[0m     \u001b[1;32melse\u001b[0m\u001b[1;33m:\u001b[0m\u001b[1;33m\u001b[0m\u001b[1;33m\u001b[0m\u001b[0m\n\u001b[0;32m   1233\u001b[0m         \u001b[0mret\u001b[0m \u001b[1;33m=\u001b[0m \u001b[0minput\u001b[0m\u001b[1;33m.\u001b[0m\u001b[0msoftmax\u001b[0m\u001b[1;33m(\u001b[0m\u001b[0mdim\u001b[0m\u001b[1;33m,\u001b[0m \u001b[0mdtype\u001b[0m\u001b[1;33m=\u001b[0m\u001b[0mdtype\u001b[0m\u001b[1;33m)\u001b[0m\u001b[1;33m\u001b[0m\u001b[1;33m\u001b[0m\u001b[0m\n",
      "\u001b[1;31mKeyboardInterrupt\u001b[0m: "
     ]
    }
   ],
   "source": [
    "get_stop_list(df)"
   ]
  },
  {
   "cell_type": "code",
   "execution_count": 48,
   "id": "0286d823",
   "metadata": {},
   "outputs": [],
   "source": [
    "# df = df.drop(columns=['Unnamed: 0', 'Message-ID', 'Date', 'From', 'To', 'X-Folder', 'X-Origin', 'user', 'Cat_1_level_1', 'Cat_1_level_2', 'Cat_1_weight',\n",
    "#        'Cat_2_level_1', 'Cat_2_level_2', 'Cat_2_weight', 'Cat_3_level_1',\n",
    "#        'Cat_3_level_2', 'Cat_3_weight', 'Cat_4_level_1', 'Cat_4_level_2',\n",
    "#        'Cat_4_weight', 'Cat_5_level_1', 'Cat_5_level_2', 'Cat_5_weight',\n",
    "#        'Cat_6_level_1', 'Cat_6_level_2', 'Cat_6_weight', 'Cat_7_level_1',\n",
    "#        'Cat_7_level_2', 'Cat_7_weight', 'Cat_8_level_1', 'Cat_8_level_2',\n",
    "#        'Cat_8_weight', 'Cat_9_level_1', 'Cat_9_level_2', 'Cat_9_weight',\n",
    "#        'Cat_10_level_1', 'Cat_10_level_2', 'Cat_10_weight', 'Cat_11_level_1',\n",
    "#        'Cat_11_level_2', 'Cat_11_weight', 'Cat_12_level_1', 'Cat_12_level_2',\n",
    "#        'Cat_12_weight', 'labeled'])"
   ]
  },
  {
   "cell_type": "code",
   "execution_count": 50,
   "id": "05b9b554",
   "metadata": {},
   "outputs": [],
   "source": [
    "# df.to_csv('dataset/enron6.csv', index=False)"
   ]
  },
  {
   "cell_type": "markdown",
   "id": "9a5cd049",
   "metadata": {},
   "source": [
    "# Program Logic"
   ]
  },
  {
   "cell_type": "markdown",
   "id": "7198036a",
   "metadata": {},
   "source": [
    "- Target only words that are specific to industry or phrases that are used very often (\n",
    "- Target abbreviations (rare usages inclusive)\n",
    "- Do not target names. Tokenize to and from columns and add those words to stop list\n"
   ]
  }
 ],
 "metadata": {
  "kernelspec": {
   "display_name": "Python 3",
   "language": "python",
   "name": "python3"
  },
  "language_info": {
   "codemirror_mode": {
    "name": "ipython",
    "version": 3
   },
   "file_extension": ".py",
   "mimetype": "text/x-python",
   "name": "python",
   "nbconvert_exporter": "python",
   "pygments_lexer": "ipython3",
   "version": "3.8.8"
  },
  "widgets": {
   "application/vnd.jupyter.widget-state+json": {
    "state": {
     "00c7b5c7fae54d4b8b748da5a7fbb56e": {
      "model_module": "@jupyter-widgets/base",
      "model_module_version": "1.2.0",
      "model_name": "LayoutModel",
      "state": {}
     },
     "00e61c7af6e8411cb84edefef335db43": {
      "model_module": "@jupyter-widgets/controls",
      "model_module_version": "1.5.0",
      "model_name": "DescriptionStyleModel",
      "state": {
       "description_width": ""
      }
     },
     "010bcaf517ba4a65bda6a56a428aad93": {
      "model_module": "@jupyter-widgets/controls",
      "model_module_version": "1.5.0",
      "model_name": "FloatProgressModel",
      "state": {
       "bar_style": "success",
       "layout": "IPY_MODEL_f0ec1c66f1f6432b967951e7a20ce1e2",
       "max": 4,
       "style": "IPY_MODEL_1858ddf212f8468cbf0444d2ffa08f66",
       "value": 4
      }
     },
     "017ea7f2af274f479bdc7321f1a99ab6": {
      "model_module": "@jupyter-widgets/base",
      "model_module_version": "1.2.0",
      "model_name": "LayoutModel",
      "state": {}
     },
     "02bf4737fe8d4facb24277331e7bda4f": {
      "model_module": "@jupyter-widgets/controls",
      "model_module_version": "1.5.0",
      "model_name": "FloatProgressModel",
      "state": {
       "bar_style": "success",
       "layout": "IPY_MODEL_233cbcb1fbe44690ae25f24da791ecd1",
       "max": 4,
       "style": "IPY_MODEL_a1ae8886afe948e09ca0314667b5c87c",
       "value": 4
      }
     },
     "03cef617f23742a9ac3f52da9220d41b": {
      "model_module": "@jupyter-widgets/controls",
      "model_module_version": "1.5.0",
      "model_name": "DescriptionStyleModel",
      "state": {
       "description_width": ""
      }
     },
     "04615f19c9384642867ba5b83a0ee3c0": {
      "model_module": "@jupyter-widgets/base",
      "model_module_version": "1.2.0",
      "model_name": "LayoutModel",
      "state": {}
     },
     "04d86737c954494384729d49222b145b": {
      "model_module": "@jupyter-widgets/controls",
      "model_module_version": "1.5.0",
      "model_name": "HTMLModel",
      "state": {
       "layout": "IPY_MODEL_681625fcfea745b7bb7bd8e069b4dc39",
       "style": "IPY_MODEL_7dccc98030104df487dd11ed33baa692",
       "value": "100%"
      }
     },
     "0613db26eab44867a8521136ffba5d5d": {
      "model_module": "@jupyter-widgets/controls",
      "model_module_version": "1.5.0",
      "model_name": "FloatProgressModel",
      "state": {
       "bar_style": "success",
       "layout": "IPY_MODEL_78ff550214a7469caf760dc7ed5a12ed",
       "max": 433316646,
       "style": "IPY_MODEL_657e5283985d4640af94474f318688af",
       "value": 433316646
      }
     },
     "068a9cb05d1d48a18bae2c5ff1cdc60c": {
      "model_module": "@jupyter-widgets/controls",
      "model_module_version": "1.5.0",
      "model_name": "HTMLModel",
      "state": {
       "layout": "IPY_MODEL_d9d668a00b5c4544a54e6cde84256e62",
       "style": "IPY_MODEL_96ca2ded785b46d9b8c8aa6bd2a88cbd",
       "value": " 433M/433M [00:13&lt;00:00, 32.8MB/s]"
      }
     },
     "071fffcf35654e1891b7923549595991": {
      "model_module": "@jupyter-widgets/base",
      "model_module_version": "1.2.0",
      "model_name": "LayoutModel",
      "state": {}
     },
     "086f11200b874b3f9f6f4decd1cef162": {
      "model_module": "@jupyter-widgets/controls",
      "model_module_version": "1.5.0",
      "model_name": "FloatProgressModel",
      "state": {
       "bar_style": "success",
       "layout": "IPY_MODEL_8e7326cdff1c4062988259c146b91d5d",
       "max": 4,
       "style": "IPY_MODEL_dbef8e5365b74259aa832427d10a79ac",
       "value": 4
      }
     },
     "09084763ab2c47e79eefb70e4201668e": {
      "model_module": "@jupyter-widgets/base",
      "model_module_version": "1.2.0",
      "model_name": "LayoutModel",
      "state": {}
     },
     "098017ab35e0425eb7d9275f34a391ec": {
      "model_module": "@jupyter-widgets/base",
      "model_module_version": "1.2.0",
      "model_name": "LayoutModel",
      "state": {}
     },
     "09e58735decc43f5880d844e176fd623": {
      "model_module": "@jupyter-widgets/controls",
      "model_module_version": "1.5.0",
      "model_name": "DescriptionStyleModel",
      "state": {
       "description_width": ""
      }
     },
     "0a2b8e1644ed4ac3bcafc401ae73954c": {
      "model_module": "@jupyter-widgets/controls",
      "model_module_version": "1.5.0",
      "model_name": "ProgressStyleModel",
      "state": {
       "description_width": ""
      }
     },
     "0a6c3da1092042a39aef98d975260fd2": {
      "model_module": "@jupyter-widgets/controls",
      "model_module_version": "1.5.0",
      "model_name": "HTMLModel",
      "state": {
       "layout": "IPY_MODEL_1d6eb62513104158abe22028a8a2cda3",
       "style": "IPY_MODEL_6f9c9f674d164d41805ff707e2edfcc5",
       "value": " 2912/100000 [30:08&lt;19:15:57,  1.40it/s]"
      }
     },
     "0a975d62c6794508bdef916e6e033af5": {
      "model_module": "@jupyter-widgets/controls",
      "model_module_version": "1.5.0",
      "model_name": "HBoxModel",
      "state": {
       "children": [
        "IPY_MODEL_9919315b733a4296959d394913bfcb83",
        "IPY_MODEL_331eecbbe7da4fa7bc93a6d84918b0eb",
        "IPY_MODEL_d13e6969bd52461f99aadfab5a711ddf"
       ],
       "layout": "IPY_MODEL_cd6afa04a0744e6f8bb1b238472ce398"
      }
     },
     "0b3168e06c7740f8a0cfcb45d1782f63": {
      "model_module": "@jupyter-widgets/controls",
      "model_module_version": "1.5.0",
      "model_name": "DescriptionStyleModel",
      "state": {
       "description_width": ""
      }
     },
     "0c6a2b7fee56484f80028fc8911347fc": {
      "model_module": "@jupyter-widgets/controls",
      "model_module_version": "1.5.0",
      "model_name": "HTMLModel",
      "state": {
       "layout": "IPY_MODEL_8ef34297dfba4c5894e0b71fda67ca09",
       "style": "IPY_MODEL_f808c285a6b342d991ded1699d94eb32",
       "value": " 180/180 [00:15&lt;00:00, 11.90it/s]"
      }
     },
     "0e9f2169b1b2409386aa209b1d39a3a3": {
      "model_module": "@jupyter-widgets/controls",
      "model_module_version": "1.5.0",
      "model_name": "HTMLModel",
      "state": {
       "layout": "IPY_MODEL_f621de8d0043425ca1ab8f95bafb69c4",
       "style": "IPY_MODEL_4cd2b9b3098e4201aa7c7f4bc9fa83af",
       "value": " 773/773 [01:03&lt;00:00, 12.33it/s]"
      }
     },
     "0f11465f8b474fc08ce185bbcc2f2503": {
      "model_module": "@jupyter-widgets/controls",
      "model_module_version": "1.5.0",
      "model_name": "HBoxModel",
      "state": {
       "children": [
        "IPY_MODEL_04d86737c954494384729d49222b145b",
        "IPY_MODEL_02bf4737fe8d4facb24277331e7bda4f",
        "IPY_MODEL_7e251e0f5eb7414180df047617fe52b7"
       ],
       "layout": "IPY_MODEL_f7444db47ea74db481d1958eaa57edf3"
      }
     },
     "0f91498d0ea946e994297e33db06ad37": {
      "model_module": "@jupyter-widgets/controls",
      "model_module_version": "1.5.0",
      "model_name": "FloatProgressModel",
      "state": {
       "bar_style": "danger",
       "layout": "IPY_MODEL_3bf303bfb39d49b491c14f9c368d0b55",
       "max": 100000,
       "style": "IPY_MODEL_acf322d799ee4d90b6b1f5951dfb9d32",
       "value": 1412
      }
     },
     "0fa49c920e8f4e9991c23fb1ba71f4c2": {
      "model_module": "@jupyter-widgets/controls",
      "model_module_version": "1.5.0",
      "model_name": "HTMLModel",
      "state": {
       "layout": "IPY_MODEL_57b2de44db464ae994540a8592808716",
       "style": "IPY_MODEL_da431b53694b4ff0b6d7a0c842938085",
       "value": " 1412/100000 [13:10&lt;27:07:28,  1.01it/s]"
      }
     },
     "0fde6238770b41e4a04abb5878289f58": {
      "model_module": "@jupyter-widgets/controls",
      "model_module_version": "1.5.0",
      "model_name": "HTMLModel",
      "state": {
       "layout": "IPY_MODEL_b8539a62fd18407995ad92e7aae1e0c9",
       "style": "IPY_MODEL_6b50848f037f4dc78014c93321c2311e",
       "value": "100%"
      }
     },
     "146c6530c661467783343932bbbf0d44": {
      "model_module": "@jupyter-widgets/controls",
      "model_module_version": "1.5.0",
      "model_name": "DescriptionStyleModel",
      "state": {
       "description_width": ""
      }
     },
     "1554f8477e284130a14b035b4de88b91": {
      "model_module": "@jupyter-widgets/controls",
      "model_module_version": "1.5.0",
      "model_name": "FloatProgressModel",
      "state": {
       "bar_style": "danger",
       "layout": "IPY_MODEL_664375a28f5c4b7f80109b66f81c68c6",
       "max": 100000,
       "style": "IPY_MODEL_18c3fa78dd5f4ba98efee2870ece6f84",
       "value": 12
      }
     },
     "15ac09be8dde4a1eb4685ed9e65d547f": {
      "model_module": "@jupyter-widgets/controls",
      "model_module_version": "1.5.0",
      "model_name": "ProgressStyleModel",
      "state": {
       "description_width": ""
      }
     },
     "161168cec6994a1d823309274b764a30": {
      "model_module": "@jupyter-widgets/controls",
      "model_module_version": "1.5.0",
      "model_name": "HTMLModel",
      "state": {
       "layout": "IPY_MODEL_3cf33fe1d34546169f28f4efbc145878",
       "style": "IPY_MODEL_1e9fb434b10a4b9e8dce3f16e3d01dd2",
       "value": "  3%"
      }
     },
     "166dd8cfb47b4f0891ffc1d94a0ac7a5": {
      "model_module": "@jupyter-widgets/base",
      "model_module_version": "1.2.0",
      "model_name": "LayoutModel",
      "state": {}
     },
     "17b04fedd5c2487db387b73fb60eb7e7": {
      "model_module": "@jupyter-widgets/controls",
      "model_module_version": "1.5.0",
      "model_name": "HTMLModel",
      "state": {
       "layout": "IPY_MODEL_9dfda30fbf5047ed8ddd53746498d89f",
       "style": "IPY_MODEL_81f43fdb5ab0432f92b167d30a32542c",
       "value": "100%"
      }
     },
     "17d042e508094e2e8d5da74d1643fe57": {
      "model_module": "@jupyter-widgets/controls",
      "model_module_version": "1.5.0",
      "model_name": "HBoxModel",
      "state": {
       "children": [
        "IPY_MODEL_bc7b88ebaef54537bbb1261c438164ec",
        "IPY_MODEL_21d7faf675874903a51ff10dbd49340d",
        "IPY_MODEL_f100f1493d604593bb044f4b6698b168"
       ],
       "layout": "IPY_MODEL_cc05f872c45946829a62a71f1a6d85c8"
      }
     },
     "1858ddf212f8468cbf0444d2ffa08f66": {
      "model_module": "@jupyter-widgets/controls",
      "model_module_version": "1.5.0",
      "model_name": "ProgressStyleModel",
      "state": {
       "description_width": ""
      }
     },
     "18c3fa78dd5f4ba98efee2870ece6f84": {
      "model_module": "@jupyter-widgets/controls",
      "model_module_version": "1.5.0",
      "model_name": "ProgressStyleModel",
      "state": {
       "description_width": ""
      }
     },
     "1967754ebc624c97a8812ef80ef04ac8": {
      "model_module": "@jupyter-widgets/base",
      "model_module_version": "1.2.0",
      "model_name": "LayoutModel",
      "state": {}
     },
     "19cd9ef56ae74bae906eb7e537169f34": {
      "model_module": "@jupyter-widgets/base",
      "model_module_version": "1.2.0",
      "model_name": "LayoutModel",
      "state": {}
     },
     "1a6cc14ec7d44ad5a359c4a8d841d5d1": {
      "model_module": "@jupyter-widgets/controls",
      "model_module_version": "1.5.0",
      "model_name": "ProgressStyleModel",
      "state": {
       "description_width": ""
      }
     },
     "1ba5842c54f64778a457d61df36ae6bd": {
      "model_module": "@jupyter-widgets/base",
      "model_module_version": "1.2.0",
      "model_name": "LayoutModel",
      "state": {}
     },
     "1cc9fb5bc1b749f8ab32b90668e40b3d": {
      "model_module": "@jupyter-widgets/controls",
      "model_module_version": "1.5.0",
      "model_name": "HBoxModel",
      "state": {
       "children": [
        "IPY_MODEL_82f51d463ab84c60828445e75e8cbe76",
        "IPY_MODEL_9961879debcf4a368a557f886f1d9e33",
        "IPY_MODEL_cb68f8545a3d420b94cf6b4aa1cae42d"
       ],
       "layout": "IPY_MODEL_83eded2f3bd746c08c167bfed05bedc0"
      }
     },
     "1cd5abc04279436c9cb909d478700828": {
      "model_module": "@jupyter-widgets/base",
      "model_module_version": "1.2.0",
      "model_name": "LayoutModel",
      "state": {}
     },
     "1d1a4d27fbc84012b0a87f58a3fef0f0": {
      "model_module": "@jupyter-widgets/controls",
      "model_module_version": "1.5.0",
      "model_name": "HBoxModel",
      "state": {
       "children": [
        "IPY_MODEL_a70fdf8b51854e3abe5e28468ba234fa",
        "IPY_MODEL_f3dbe9e9d36c4845b69536694935197c",
        "IPY_MODEL_95212605fdc548238b349b7ec5aedd68"
       ],
       "layout": "IPY_MODEL_21a252184f1b4bae8fb3267a3a15aadb"
      }
     },
     "1d6eb62513104158abe22028a8a2cda3": {
      "model_module": "@jupyter-widgets/base",
      "model_module_version": "1.2.0",
      "model_name": "LayoutModel",
      "state": {}
     },
     "1d7bea43f04d4b858ccf062c9f754765": {
      "model_module": "@jupyter-widgets/controls",
      "model_module_version": "1.5.0",
      "model_name": "FloatProgressModel",
      "state": {
       "bar_style": "danger",
       "layout": "IPY_MODEL_9a98567f59d442c8827825f4d1303247",
       "max": 100000,
       "style": "IPY_MODEL_7763e10a9c2645f7823fd6c47280c208",
       "value": 11005
      }
     },
     "1e4d2d32385440d1a230edc06545f007": {
      "model_module": "@jupyter-widgets/base",
      "model_module_version": "1.2.0",
      "model_name": "LayoutModel",
      "state": {}
     },
     "1e8c65f7f4d74537ab941d60dc32c2b2": {
      "model_module": "@jupyter-widgets/controls",
      "model_module_version": "1.5.0",
      "model_name": "DescriptionStyleModel",
      "state": {
       "description_width": ""
      }
     },
     "1e9fb434b10a4b9e8dce3f16e3d01dd2": {
      "model_module": "@jupyter-widgets/controls",
      "model_module_version": "1.5.0",
      "model_name": "DescriptionStyleModel",
      "state": {
       "description_width": ""
      }
     },
     "1fc32723056d4c5a900af585b21122f2": {
      "model_module": "@jupyter-widgets/controls",
      "model_module_version": "1.5.0",
      "model_name": "HBoxModel",
      "state": {
       "children": [
        "IPY_MODEL_99465a81f0134e60a90c407b54640059",
        "IPY_MODEL_010bcaf517ba4a65bda6a56a428aad93",
        "IPY_MODEL_8211eac8127f4b83b59a9896a4953ec3"
       ],
       "layout": "IPY_MODEL_f9ef40e21dc84ec19664a08f88af6c7c"
      }
     },
     "2019723d93ea48e9b12098b92b0371f5": {
      "model_module": "@jupyter-widgets/controls",
      "model_module_version": "1.5.0",
      "model_name": "HBoxModel",
      "state": {
       "children": [
        "IPY_MODEL_0fde6238770b41e4a04abb5878289f58",
        "IPY_MODEL_086f11200b874b3f9f6f4decd1cef162",
        "IPY_MODEL_64263bcc8fc6487ba8c8361448d9d603"
       ],
       "layout": "IPY_MODEL_5f27c0f3eb324ab98805693f6522a971"
      }
     },
     "206e6bd06c5c42d885d19cfa79001fd3": {
      "model_module": "@jupyter-widgets/base",
      "model_module_version": "1.2.0",
      "model_name": "LayoutModel",
      "state": {}
     },
     "207791456d954a9ba9603c5109fe2887": {
      "model_module": "@jupyter-widgets/controls",
      "model_module_version": "1.5.0",
      "model_name": "HTMLModel",
      "state": {
       "layout": "IPY_MODEL_7c3ffb4a955d4007b26f0f40119e880e",
       "style": "IPY_MODEL_35d9b562d77440658371f1b214624dca",
       "value": "Downloading: 100%"
      }
     },
     "21a252184f1b4bae8fb3267a3a15aadb": {
      "model_module": "@jupyter-widgets/base",
      "model_module_version": "1.2.0",
      "model_name": "LayoutModel",
      "state": {}
     },
     "21d7faf675874903a51ff10dbd49340d": {
      "model_module": "@jupyter-widgets/controls",
      "model_module_version": "1.5.0",
      "model_name": "FloatProgressModel",
      "state": {
       "bar_style": "success",
       "layout": "IPY_MODEL_8e8a828458d440e4af4a13742531efff",
       "max": 3,
       "style": "IPY_MODEL_1a6cc14ec7d44ad5a359c4a8d841d5d1",
       "value": 3
      }
     },
     "225aa4eb91804664a8d91a9d9e812502": {
      "model_module": "@jupyter-widgets/controls",
      "model_module_version": "1.5.0",
      "model_name": "DescriptionStyleModel",
      "state": {
       "description_width": ""
      }
     },
     "225e101a3f334ba0bd27c3930620514f": {
      "model_module": "@jupyter-widgets/controls",
      "model_module_version": "1.5.0",
      "model_name": "DescriptionStyleModel",
      "state": {
       "description_width": ""
      }
     },
     "233cbcb1fbe44690ae25f24da791ecd1": {
      "model_module": "@jupyter-widgets/base",
      "model_module_version": "1.2.0",
      "model_name": "LayoutModel",
      "state": {}
     },
     "23db5254a4ca473a9f725f3a6820cafd": {
      "model_module": "@jupyter-widgets/controls",
      "model_module_version": "1.5.0",
      "model_name": "HTMLModel",
      "state": {
       "layout": "IPY_MODEL_2f8f955066c04479bb24e78d94e3fef2",
       "style": "IPY_MODEL_2b519b0a73054810b9321f1e292417e1",
       "value": "  1%"
      }
     },
     "24fe0e769ed04a36b08132874179b996": {
      "model_module": "@jupyter-widgets/base",
      "model_module_version": "1.2.0",
      "model_name": "LayoutModel",
      "state": {}
     },
     "270334fc821849e4ad7ef292086b3705": {
      "model_module": "@jupyter-widgets/controls",
      "model_module_version": "1.5.0",
      "model_name": "HBoxModel",
      "state": {
       "children": [
        "IPY_MODEL_95a94e48cda54e078883fb5bbd7c94b4",
        "IPY_MODEL_db12b1bcb1724834ab9334f364d7b062",
        "IPY_MODEL_d2b2f91382294dd69267d4f11d5fd978"
       ],
       "layout": "IPY_MODEL_3e09c219a776496e8ec83f2182c5192a"
      }
     },
     "27115ba35fb04ba394763f5dc218fc31": {
      "model_module": "@jupyter-widgets/base",
      "model_module_version": "1.2.0",
      "model_name": "LayoutModel",
      "state": {}
     },
     "273c6a91f2f44da7a5d72ee33be6ac5c": {
      "model_module": "@jupyter-widgets/base",
      "model_module_version": "1.2.0",
      "model_name": "LayoutModel",
      "state": {}
     },
     "282ce9c34c2f40cb97764c2be921f33f": {
      "model_module": "@jupyter-widgets/base",
      "model_module_version": "1.2.0",
      "model_name": "LayoutModel",
      "state": {}
     },
     "2873d9a5ecd34ef8bac56a22c5709647": {
      "model_module": "@jupyter-widgets/controls",
      "model_module_version": "1.5.0",
      "model_name": "HBoxModel",
      "state": {
       "children": [
        "IPY_MODEL_f0f6e238fb474ea19aaeba699614250e",
        "IPY_MODEL_a48ffe2121714d1d9f9c24caf10eac87",
        "IPY_MODEL_57655cb4bd1c47a5ac102db50376fcbb"
       ],
       "layout": "IPY_MODEL_54ad605b612048d69cec276e43cfa44b"
      }
     },
     "28e3d31e10474af5a256c19e6038d8a4": {
      "model_module": "@jupyter-widgets/controls",
      "model_module_version": "1.5.0",
      "model_name": "DescriptionStyleModel",
      "state": {
       "description_width": ""
      }
     },
     "2946049d5fee4c0dadc23eefc91041ee": {
      "model_module": "@jupyter-widgets/controls",
      "model_module_version": "1.5.0",
      "model_name": "ProgressStyleModel",
      "state": {
       "description_width": ""
      }
     },
     "2a6b483f077d4b5cba893e06e6361d12": {
      "model_module": "@jupyter-widgets/base",
      "model_module_version": "1.2.0",
      "model_name": "LayoutModel",
      "state": {}
     },
     "2b519b0a73054810b9321f1e292417e1": {
      "model_module": "@jupyter-widgets/controls",
      "model_module_version": "1.5.0",
      "model_name": "DescriptionStyleModel",
      "state": {
       "description_width": ""
      }
     },
     "2b70c3cf1f0c425a976028db096ff54e": {
      "model_module": "@jupyter-widgets/base",
      "model_module_version": "1.2.0",
      "model_name": "LayoutModel",
      "state": {}
     },
     "2b7c171f52844bbe934db1688a0643b4": {
      "model_module": "@jupyter-widgets/base",
      "model_module_version": "1.2.0",
      "model_name": "LayoutModel",
      "state": {}
     },
     "2cfe282a87954fd7a851bfe5fa7d5bfe": {
      "model_module": "@jupyter-widgets/base",
      "model_module_version": "1.2.0",
      "model_name": "LayoutModel",
      "state": {}
     },
     "2d4610c6a0284839a7fe0cd5e0286955": {
      "model_module": "@jupyter-widgets/base",
      "model_module_version": "1.2.0",
      "model_name": "LayoutModel",
      "state": {}
     },
     "2e3802f30ed54534b3cf18d4e91d7b20": {
      "model_module": "@jupyter-widgets/controls",
      "model_module_version": "1.5.0",
      "model_name": "ProgressStyleModel",
      "state": {
       "description_width": ""
      }
     },
     "2e3820b5af8d4986a9b4ef090529c38d": {
      "model_module": "@jupyter-widgets/base",
      "model_module_version": "1.2.0",
      "model_name": "LayoutModel",
      "state": {}
     },
     "2f185034257c45c2bdb4cc584da85afd": {
      "model_module": "@jupyter-widgets/base",
      "model_module_version": "1.2.0",
      "model_name": "LayoutModel",
      "state": {}
     },
     "2f6e1f12980049be97779c31dcb6693e": {
      "model_module": "@jupyter-widgets/controls",
      "model_module_version": "1.5.0",
      "model_name": "ProgressStyleModel",
      "state": {
       "description_width": ""
      }
     },
     "2f8f955066c04479bb24e78d94e3fef2": {
      "model_module": "@jupyter-widgets/base",
      "model_module_version": "1.2.0",
      "model_name": "LayoutModel",
      "state": {}
     },
     "2fbbff8e1be24caaa848cff96ef8f79d": {
      "model_module": "@jupyter-widgets/base",
      "model_module_version": "1.2.0",
      "model_name": "LayoutModel",
      "state": {}
     },
     "301d922bbfdc4203afabc9faffc9be30": {
      "model_module": "@jupyter-widgets/controls",
      "model_module_version": "1.5.0",
      "model_name": "DescriptionStyleModel",
      "state": {
       "description_width": ""
      }
     },
     "3083cbb9879040fca063baa635fa8877": {
      "model_module": "@jupyter-widgets/controls",
      "model_module_version": "1.5.0",
      "model_name": "FloatProgressModel",
      "state": {
       "bar_style": "success",
       "layout": "IPY_MODEL_2f185034257c45c2bdb4cc584da85afd",
       "max": 29,
       "style": "IPY_MODEL_770c646a502d438f863fdd1480ecf1d5",
       "value": 29
      }
     },
     "30bf6f106c1f4fa2a45f57c46bab1ff8": {
      "model_module": "@jupyter-widgets/controls",
      "model_module_version": "1.5.0",
      "model_name": "ProgressStyleModel",
      "state": {
       "description_width": ""
      }
     },
     "30f23fe0c6c74ebf80cd1bf4d2c8ee00": {
      "model_module": "@jupyter-widgets/controls",
      "model_module_version": "1.5.0",
      "model_name": "HBoxModel",
      "state": {
       "children": [
        "IPY_MODEL_70e5b3ddb9f1415cb21f9928096621b9",
        "IPY_MODEL_61761a14ec2b40ce92b6124c94ff20d6",
        "IPY_MODEL_af230a6d0ac14eae81657c2875e93e2b"
       ],
       "layout": "IPY_MODEL_701f7a65c7c340c5be32cd5993c33b5e"
      }
     },
     "30f7e2440e064e5faf7e2a9e2a1fc972": {
      "model_module": "@jupyter-widgets/controls",
      "model_module_version": "1.5.0",
      "model_name": "HTMLModel",
      "state": {
       "layout": "IPY_MODEL_7bc2e3a3887046a88c3ec171db0826ae",
       "style": "IPY_MODEL_f53256fa1d8b4212bb01fe72fa71d7a5",
       "value": " 4/4 [00:00&lt;00:00,  5.69it/s]"
      }
     },
     "31062c90dea84ae6ae7f78b44740ac6f": {
      "model_module": "@jupyter-widgets/controls",
      "model_module_version": "1.5.0",
      "model_name": "ProgressStyleModel",
      "state": {
       "description_width": ""
      }
     },
     "310d1de072f54e83b51ef38e237feb39": {
      "model_module": "@jupyter-widgets/controls",
      "model_module_version": "1.5.0",
      "model_name": "HTMLModel",
      "state": {
       "layout": "IPY_MODEL_545015d57e4d40ddbf75b97fa12018e5",
       "style": "IPY_MODEL_986dab1119d2487dbab79eee9133f86b",
       "value": "100%"
      }
     },
     "310f7248cc6d46f79f2571778fe0d2a6": {
      "model_module": "@jupyter-widgets/controls",
      "model_module_version": "1.5.0",
      "model_name": "HBoxModel",
      "state": {
       "children": [
        "IPY_MODEL_b4a3ad98252e4d569b71fbbc8ddbbfe8",
        "IPY_MODEL_8a42f68e746c402aad13281fd58e4dda",
        "IPY_MODEL_5799b287d43c46948c44a38b913ccca0"
       ],
       "layout": "IPY_MODEL_c67440dfe92d4cc2893c9cd470f4cacd"
      }
     },
     "31698a2b1c6e4c53a98b6e2c58a5cfe4": {
      "model_module": "@jupyter-widgets/controls",
      "model_module_version": "1.5.0",
      "model_name": "HBoxModel",
      "state": {
       "children": [
        "IPY_MODEL_7581731df2334d8c99835d7d460ecf67",
        "IPY_MODEL_34391fc16eea4833996b845897b4761d",
        "IPY_MODEL_30f7e2440e064e5faf7e2a9e2a1fc972"
       ],
       "layout": "IPY_MODEL_7512aa6ccb1a4699b8b0736bff177f11"
      }
     },
     "331eecbbe7da4fa7bc93a6d84918b0eb": {
      "model_module": "@jupyter-widgets/controls",
      "model_module_version": "1.5.0",
      "model_name": "FloatProgressModel",
      "state": {
       "bar_style": "success",
       "layout": "IPY_MODEL_f64014a126cf4e578dd8f08b74c5cf28",
       "max": 112,
       "style": "IPY_MODEL_b6c29f2abc644e6a86cb9430245d9767",
       "value": 112
      }
     },
     "334482aa8ff141c8998b36a87a03c385": {
      "model_module": "@jupyter-widgets/controls",
      "model_module_version": "1.5.0",
      "model_name": "HTMLModel",
      "state": {
       "layout": "IPY_MODEL_3e1a0b591ca840fc8f745696315dcca8",
       "style": "IPY_MODEL_a2bfa4a5c0f24a97af2ef784e58d612d",
       "value": " 773/773 [01:03&lt;00:00, 11.90it/s]"
      }
     },
     "33aab6aca0cd4bd0a27a887cff42888f": {
      "model_module": "@jupyter-widgets/controls",
      "model_module_version": "1.5.0",
      "model_name": "HTMLModel",
      "state": {
       "layout": "IPY_MODEL_94019bb9e1264849856d99e59cbc7f15",
       "style": "IPY_MODEL_acb1b2c96fc2470a85c2392820aae718",
       "value": " 112/100000 [01:06&lt;21:38:29,  1.28it/s]"
      }
     },
     "34391fc16eea4833996b845897b4761d": {
      "model_module": "@jupyter-widgets/controls",
      "model_module_version": "1.5.0",
      "model_name": "FloatProgressModel",
      "state": {
       "bar_style": "success",
       "layout": "IPY_MODEL_6db61b47eac249c8bc7f3c4f92b5a1ee",
       "max": 4,
       "style": "IPY_MODEL_0a2b8e1644ed4ac3bcafc401ae73954c",
       "value": 4
      }
     },
     "3458b3af1359416c9080a14d5305229d": {
      "model_module": "@jupyter-widgets/controls",
      "model_module_version": "1.5.0",
      "model_name": "HTMLModel",
      "state": {
       "layout": "IPY_MODEL_54c98b7bec4f42729da9a93316af5b4f",
       "style": "IPY_MODEL_0b3168e06c7740f8a0cfcb45d1782f63",
       "value": "100%"
      }
     },
     "35422741f8874cfba6fe822a93109118": {
      "model_module": "@jupyter-widgets/controls",
      "model_module_version": "1.5.0",
      "model_name": "DescriptionStyleModel",
      "state": {
       "description_width": ""
      }
     },
     "3584daf80a444e6a8a1c18b44b64c94d": {
      "model_module": "@jupyter-widgets/controls",
      "model_module_version": "1.5.0",
      "model_name": "DescriptionStyleModel",
      "state": {
       "description_width": ""
      }
     },
     "35d9b562d77440658371f1b214624dca": {
      "model_module": "@jupyter-widgets/controls",
      "model_module_version": "1.5.0",
      "model_name": "DescriptionStyleModel",
      "state": {
       "description_width": ""
      }
     },
     "36ed22fbf2e641b59d1b923ca8da12a0": {
      "model_module": "@jupyter-widgets/controls",
      "model_module_version": "1.5.0",
      "model_name": "HTMLModel",
      "state": {
       "layout": "IPY_MODEL_1967754ebc624c97a8812ef80ef04ac8",
       "style": "IPY_MODEL_e6784184ffa84c03a92895b17baef620",
       "value": " 29/29 [00:02&lt;00:00, 11.88it/s]"
      }
     },
     "37026c910e534d8ead776ed01f78f851": {
      "model_module": "@jupyter-widgets/controls",
      "model_module_version": "1.5.0",
      "model_name": "DescriptionStyleModel",
      "state": {
       "description_width": ""
      }
     },
     "3794ecb40f2c4a33b2215d2a1164894a": {
      "model_module": "@jupyter-widgets/base",
      "model_module_version": "1.2.0",
      "model_name": "LayoutModel",
      "state": {}
     },
     "3adcc3ee31374dddb1b492827f5060bc": {
      "model_module": "@jupyter-widgets/controls",
      "model_module_version": "1.5.0",
      "model_name": "HTMLModel",
      "state": {
       "layout": "IPY_MODEL_f6c6f2c6b1d3417a85f3fb71302dcc6a",
       "style": "IPY_MODEL_bb955c81907a4b8084f2172300085b20",
       "value": " 20/20 [00:01&lt;00:00, 11.70it/s]"
      }
     },
     "3bf303bfb39d49b491c14f9c368d0b55": {
      "model_module": "@jupyter-widgets/base",
      "model_module_version": "1.2.0",
      "model_name": "LayoutModel",
      "state": {}
     },
     "3ce9dff6e67b4733894be9a1577e10af": {
      "model_module": "@jupyter-widgets/controls",
      "model_module_version": "1.5.0",
      "model_name": "HBoxModel",
      "state": {
       "children": [
        "IPY_MODEL_ed94e9acbc2a4e61a7c5d28726abc986",
        "IPY_MODEL_5c314462016949bd9ac8290c1b5de17b",
        "IPY_MODEL_a19ac6da7d294a62b58851affb5e92da"
       ],
       "layout": "IPY_MODEL_206e6bd06c5c42d885d19cfa79001fd3"
      }
     },
     "3cf33fe1d34546169f28f4efbc145878": {
      "model_module": "@jupyter-widgets/base",
      "model_module_version": "1.2.0",
      "model_name": "LayoutModel",
      "state": {}
     },
     "3d008063f0c44b0c9edeefda3ecb66a3": {
      "model_module": "@jupyter-widgets/controls",
      "model_module_version": "1.5.0",
      "model_name": "DescriptionStyleModel",
      "state": {
       "description_width": ""
      }
     },
     "3e09c219a776496e8ec83f2182c5192a": {
      "model_module": "@jupyter-widgets/base",
      "model_module_version": "1.2.0",
      "model_name": "LayoutModel",
      "state": {}
     },
     "3e1a0b591ca840fc8f745696315dcca8": {
      "model_module": "@jupyter-widgets/base",
      "model_module_version": "1.2.0",
      "model_name": "LayoutModel",
      "state": {}
     },
     "3fe7e0758cc549ea980293397243fd86": {
      "model_module": "@jupyter-widgets/controls",
      "model_module_version": "1.5.0",
      "model_name": "HBoxModel",
      "state": {
       "children": [
        "IPY_MODEL_ad626e68aabc469592b9700a5a028fa1",
        "IPY_MODEL_a450228ea79040109a4b11d7a535f189",
        "IPY_MODEL_c3bb0e9e40744d659fab54b7ac231b0b"
       ],
       "layout": "IPY_MODEL_7157f8d6b75b4ac1b3ca3903f84ee7e6"
      }
     },
     "40463b2605a34da887ed78d7e3956bad": {
      "model_module": "@jupyter-widgets/controls",
      "model_module_version": "1.5.0",
      "model_name": "HBoxModel",
      "state": {
       "children": [
        "IPY_MODEL_9e63e641d41b448bb488b53dd357a62e",
        "IPY_MODEL_99f7913bb46f41488c6ce6730ae0a1cc",
        "IPY_MODEL_c18f6c1d4d5b4373acb458575528088d"
       ],
       "layout": "IPY_MODEL_1ba5842c54f64778a457d61df36ae6bd"
      }
     },
     "4444e32cfb4646fcba0186293b53de9d": {
      "model_module": "@jupyter-widgets/controls",
      "model_module_version": "1.5.0",
      "model_name": "DescriptionStyleModel",
      "state": {
       "description_width": ""
      }
     },
     "45a7e7715c5e4a34a0eec0a342fb9735": {
      "model_module": "@jupyter-widgets/base",
      "model_module_version": "1.2.0",
      "model_name": "LayoutModel",
      "state": {}
     },
     "46370dac210c44ba956c0ec7a162c921": {
      "model_module": "@jupyter-widgets/base",
      "model_module_version": "1.2.0",
      "model_name": "LayoutModel",
      "state": {}
     },
     "466ca8fc87ad40c49b7a4e0bf8f653f8": {
      "model_module": "@jupyter-widgets/controls",
      "model_module_version": "1.5.0",
      "model_name": "HBoxModel",
      "state": {
       "children": [
        "IPY_MODEL_63e25e8e2e1b4916b94597babb49bacf",
        "IPY_MODEL_6ce6e63405ed4ea5a3f220a7d0824092",
        "IPY_MODEL_6c096238d1d04b078460011eef80412b"
       ],
       "layout": "IPY_MODEL_fdb8ab9deb06414698002beb7600938e"
      }
     },
     "4698d6102017415c8272a9ec884a5d5f": {
      "model_module": "@jupyter-widgets/base",
      "model_module_version": "1.2.0",
      "model_name": "LayoutModel",
      "state": {}
     },
     "4a0f90ad404a43c3bdd9cdcadfc96be3": {
      "model_module": "@jupyter-widgets/controls",
      "model_module_version": "1.5.0",
      "model_name": "DescriptionStyleModel",
      "state": {
       "description_width": ""
      }
     },
     "4a5860f281e4491da6fb9caef256e044": {
      "model_module": "@jupyter-widgets/controls",
      "model_module_version": "1.5.0",
      "model_name": "HBoxModel",
      "state": {
       "children": [
        "IPY_MODEL_f99a205742ea4010bcf941b0261e32a8",
        "IPY_MODEL_65f931652806498882f43b991c158596",
        "IPY_MODEL_a8867553714b468898a635adcef2f68b"
       ],
       "layout": "IPY_MODEL_b090f0655e2f4efca649660161e806ed"
      }
     },
     "4a67c6b850d6459ea91dd45f0911364f": {
      "model_module": "@jupyter-widgets/controls",
      "model_module_version": "1.5.0",
      "model_name": "FloatProgressModel",
      "state": {
       "bar_style": "success",
       "layout": "IPY_MODEL_b1d414ef13e44533b249c20e921e951d",
       "max": 180,
       "style": "IPY_MODEL_6d2ce70f943a443ea0c16ed416de38ef",
       "value": 180
      }
     },
     "4b7235ba79b7403ea9fe33e5629bcc80": {
      "model_module": "@jupyter-widgets/controls",
      "model_module_version": "1.5.0",
      "model_name": "HBoxModel",
      "state": {
       "children": [
        "IPY_MODEL_597e532a03f94f6bae0f42db1eac963d",
        "IPY_MODEL_777a7f0b13b242a98347e4d300b3e3e2",
        "IPY_MODEL_b369b86a6c424d5d85e6d7e64c3c9c0c"
       ],
       "layout": "IPY_MODEL_d9e391a07d44405ebe567b43bc680969"
      }
     },
     "4b7f9002fb984a95bbe6fa232fda13f5": {
      "model_module": "@jupyter-widgets/base",
      "model_module_version": "1.2.0",
      "model_name": "LayoutModel",
      "state": {}
     },
     "4bc768c95b49471d98926985f1e5a600": {
      "model_module": "@jupyter-widgets/controls",
      "model_module_version": "1.5.0",
      "model_name": "HTMLModel",
      "state": {
       "layout": "IPY_MODEL_eb0167897ecb4f4abdd9c8f18f8dfd0a",
       "style": "IPY_MODEL_4444e32cfb4646fcba0186293b53de9d",
       "value": " 213k/213k [00:00&lt;00:00, 179kB/s]"
      }
     },
     "4cd2b9b3098e4201aa7c7f4bc9fa83af": {
      "model_module": "@jupyter-widgets/controls",
      "model_module_version": "1.5.0",
      "model_name": "DescriptionStyleModel",
      "state": {
       "description_width": ""
      }
     },
     "5002357c9dff464e915bdff99006d23a": {
      "model_module": "@jupyter-widgets/base",
      "model_module_version": "1.2.0",
      "model_name": "LayoutModel",
      "state": {}
     },
     "506145d3ad014c4e9069a104720f661e": {
      "model_module": "@jupyter-widgets/controls",
      "model_module_version": "1.5.0",
      "model_name": "HBoxModel",
      "state": {
       "children": [
        "IPY_MODEL_b1c08fd8fc174643ba31407de341346c",
        "IPY_MODEL_1554f8477e284130a14b035b4de88b91",
        "IPY_MODEL_77665cd6b9684bdfba1a04f03354862f"
       ],
       "layout": "IPY_MODEL_fbc01f0d17674ceda123fd6027c768ff"
      }
     },
     "52b4b03a16704c99b7248c7ee12d9b74": {
      "model_module": "@jupyter-widgets/controls",
      "model_module_version": "1.5.0",
      "model_name": "ProgressStyleModel",
      "state": {
       "description_width": ""
      }
     },
     "52f8a809b7de4c749d142011ce659a6c": {
      "model_module": "@jupyter-widgets/controls",
      "model_module_version": "1.5.0",
      "model_name": "HTMLModel",
      "state": {
       "layout": "IPY_MODEL_09084763ab2c47e79eefb70e4201668e",
       "style": "IPY_MODEL_b45355d3c6464fa3a96abff9a0fd6d0f",
       "value": "  0%"
      }
     },
     "532244b917dc4b00b0623826b4b2ffa5": {
      "model_module": "@jupyter-widgets/controls",
      "model_module_version": "1.5.0",
      "model_name": "HBoxModel",
      "state": {
       "children": [
        "IPY_MODEL_3458b3af1359416c9080a14d5305229d",
        "IPY_MODEL_4a67c6b850d6459ea91dd45f0911364f",
        "IPY_MODEL_0c6a2b7fee56484f80028fc8911347fc"
       ],
       "layout": "IPY_MODEL_a3e20a3fb13f4477bd6609de37d36cdb"
      }
     },
     "53f7961a0bf24af1994c3be23dde4979": {
      "model_module": "@jupyter-widgets/base",
      "model_module_version": "1.2.0",
      "model_name": "LayoutModel",
      "state": {}
     },
     "545015d57e4d40ddbf75b97fa12018e5": {
      "model_module": "@jupyter-widgets/base",
      "model_module_version": "1.2.0",
      "model_name": "LayoutModel",
      "state": {}
     },
     "5488f7eae7584285b0f91b86b68fc028": {
      "model_module": "@jupyter-widgets/controls",
      "model_module_version": "1.5.0",
      "model_name": "ProgressStyleModel",
      "state": {
       "description_width": ""
      }
     },
     "54ad605b612048d69cec276e43cfa44b": {
      "model_module": "@jupyter-widgets/base",
      "model_module_version": "1.2.0",
      "model_name": "LayoutModel",
      "state": {}
     },
     "54c98b7bec4f42729da9a93316af5b4f": {
      "model_module": "@jupyter-widgets/base",
      "model_module_version": "1.2.0",
      "model_name": "LayoutModel",
      "state": {}
     },
     "54ed6fda6e924446943625c6541a8b0a": {
      "model_module": "@jupyter-widgets/base",
      "model_module_version": "1.2.0",
      "model_name": "LayoutModel",
      "state": {}
     },
     "556201907df54bc3965142eec99c8500": {
      "model_module": "@jupyter-widgets/controls",
      "model_module_version": "1.5.0",
      "model_name": "HTMLModel",
      "state": {
       "layout": "IPY_MODEL_2b7c171f52844bbe934db1688a0643b4",
       "style": "IPY_MODEL_8c8f12eadd4a43c8a995519ddc70ef88",
       "value": "100%"
      }
     },
     "55c1e743f5a34a7ba03a56b7c5f54643": {
      "model_module": "@jupyter-widgets/controls",
      "model_module_version": "1.5.0",
      "model_name": "FloatProgressModel",
      "state": {
       "layout": "IPY_MODEL_c689bbedc632463ba19f32b7b154a507",
       "max": 100000,
       "style": "IPY_MODEL_15ac09be8dde4a1eb4685ed9e65d547f",
       "value": 2912
      }
     },
     "55da229f4a174bbdac160b23af75c712": {
      "model_module": "@jupyter-widgets/base",
      "model_module_version": "1.2.0",
      "model_name": "LayoutModel",
      "state": {}
     },
     "57655cb4bd1c47a5ac102db50376fcbb": {
      "model_module": "@jupyter-widgets/controls",
      "model_module_version": "1.5.0",
      "model_name": "HTMLModel",
      "state": {
       "layout": "IPY_MODEL_19cd9ef56ae74bae906eb7e537169f34",
       "style": "IPY_MODEL_a55e456a71d6497a9b722db51986fc66",
       "value": " 59.0/59.0 [00:00&lt;00:00, 1.64kB/s]"
      }
     },
     "5799b287d43c46948c44a38b913ccca0": {
      "model_module": "@jupyter-widgets/controls",
      "model_module_version": "1.5.0",
      "model_name": "HTMLModel",
      "state": {
       "layout": "IPY_MODEL_8220fa5bf71d468b8bb27393569c0e45",
       "style": "IPY_MODEL_3584daf80a444e6a8a1c18b44b64c94d",
       "value": " 829/829 [00:00&lt;00:00, 18.0kB/s]"
      }
     },
     "57b2de44db464ae994540a8592808716": {
      "model_module": "@jupyter-widgets/base",
      "model_module_version": "1.2.0",
      "model_name": "LayoutModel",
      "state": {}
     },
     "58754259f4814b1791cbf84369f24f54": {
      "model_module": "@jupyter-widgets/controls",
      "model_module_version": "1.5.0",
      "model_name": "HTMLModel",
      "state": {
       "layout": "IPY_MODEL_a4cdc7ac4d1348a0be31567e61548036",
       "style": "IPY_MODEL_301d922bbfdc4203afabc9faffc9be30",
       "value": "  0%"
      }
     },
     "589e7ecc474548229d255638cb96b473": {
      "model_module": "@jupyter-widgets/controls",
      "model_module_version": "1.5.0",
      "model_name": "HTMLModel",
      "state": {
       "layout": "IPY_MODEL_6894e6a44f0f425684ed3fff4f8f3e0d",
       "style": "IPY_MODEL_f7ad9030083948969bf72d157ff47827",
       "value": "100%"
      }
     },
     "597e532a03f94f6bae0f42db1eac963d": {
      "model_module": "@jupyter-widgets/controls",
      "model_module_version": "1.5.0",
      "model_name": "HTMLModel",
      "state": {
       "layout": "IPY_MODEL_f686a6071544455ebc9029c6e69447d1",
       "style": "IPY_MODEL_f05baa4d982a480a80308885ed6b8fbd",
       "value": "  0%"
      }
     },
     "5a12c636504a4f6d8b28faeaa2e52d84": {
      "model_module": "@jupyter-widgets/base",
      "model_module_version": "1.2.0",
      "model_name": "LayoutModel",
      "state": {}
     },
     "5a2669437dcc4b49ba85d77dcbd512a4": {
      "model_module": "@jupyter-widgets/controls",
      "model_module_version": "1.5.0",
      "model_name": "DescriptionStyleModel",
      "state": {
       "description_width": ""
      }
     },
     "5b08aa5e6e1c48758322a74a9055f10c": {
      "model_module": "@jupyter-widgets/controls",
      "model_module_version": "1.5.0",
      "model_name": "ProgressStyleModel",
      "state": {
       "description_width": ""
      }
     },
     "5c314462016949bd9ac8290c1b5de17b": {
      "model_module": "@jupyter-widgets/controls",
      "model_module_version": "1.5.0",
      "model_name": "FloatProgressModel",
      "state": {
       "bar_style": "danger",
       "layout": "IPY_MODEL_282ce9c34c2f40cb97764c2be921f33f",
       "max": 100000,
       "style": "IPY_MODEL_686ff41244794e42be4f1255b0b48af2",
       "value": 79
      }
     },
     "5c9af078932c42329b08dcb9ea4bc743": {
      "model_module": "@jupyter-widgets/controls",
      "model_module_version": "1.5.0",
      "model_name": "ProgressStyleModel",
      "state": {
       "description_width": ""
      }
     },
     "5ed300257ed04562b1a67f14accd566d": {
      "model_module": "@jupyter-widgets/controls",
      "model_module_version": "1.5.0",
      "model_name": "DescriptionStyleModel",
      "state": {
       "description_width": ""
      }
     },
     "5f05f30f1b044b8c9bda79551cc2c8bd": {
      "model_module": "@jupyter-widgets/base",
      "model_module_version": "1.2.0",
      "model_name": "LayoutModel",
      "state": {}
     },
     "5f27c0f3eb324ab98805693f6522a971": {
      "model_module": "@jupyter-widgets/base",
      "model_module_version": "1.2.0",
      "model_name": "LayoutModel",
      "state": {}
     },
     "61761a14ec2b40ce92b6124c94ff20d6": {
      "model_module": "@jupyter-widgets/controls",
      "model_module_version": "1.5.0",
      "model_name": "FloatProgressModel",
      "state": {
       "bar_style": "success",
       "layout": "IPY_MODEL_2fbbff8e1be24caaa848cff96ef8f79d",
       "max": 20,
       "style": "IPY_MODEL_31062c90dea84ae6ae7f78b44740ac6f",
       "value": 20
      }
     },
     "61b78ce06c9340fe90017812c12797e3": {
      "model_module": "@jupyter-widgets/controls",
      "model_module_version": "1.5.0",
      "model_name": "HBoxModel",
      "state": {
       "children": [
        "IPY_MODEL_52f8a809b7de4c749d142011ce659a6c",
        "IPY_MODEL_b10ea02a6a5946e2b3f2e44c0accf437",
        "IPY_MODEL_e439c06166ca4a0089c3c88129c26285"
       ],
       "layout": "IPY_MODEL_abbfa6ea56cb4f85815bc05b8734bc8a"
      }
     },
     "62de98e739d748eb918b6b4c52a68019": {
      "model_module": "@jupyter-widgets/base",
      "model_module_version": "1.2.0",
      "model_name": "LayoutModel",
      "state": {}
     },
     "63001cde02f44884addaff8b618805ec": {
      "model_module": "@jupyter-widgets/base",
      "model_module_version": "1.2.0",
      "model_name": "LayoutModel",
      "state": {}
     },
     "632e08f59a1c46ee80c9ebe3a7c507d2": {
      "model_module": "@jupyter-widgets/controls",
      "model_module_version": "1.5.0",
      "model_name": "HBoxModel",
      "state": {
       "children": [
        "IPY_MODEL_207791456d954a9ba9603c5109fe2887",
        "IPY_MODEL_ea76dc7643f042e39101df89f947959f",
        "IPY_MODEL_4bc768c95b49471d98926985f1e5a600"
       ],
       "layout": "IPY_MODEL_c6651d16c1374c4da2d640571539fc1b"
      }
     },
     "63954768d21848efa7c90735761019d9": {
      "model_module": "@jupyter-widgets/base",
      "model_module_version": "1.2.0",
      "model_name": "LayoutModel",
      "state": {}
     },
     "63e25e8e2e1b4916b94597babb49bacf": {
      "model_module": "@jupyter-widgets/controls",
      "model_module_version": "1.5.0",
      "model_name": "HTMLModel",
      "state": {
       "layout": "IPY_MODEL_45a7e7715c5e4a34a0eec0a342fb9735",
       "style": "IPY_MODEL_e542613b4dac4226b11475487967f0f1",
       "value": "Downloading: 100%"
      }
     },
     "64263bcc8fc6487ba8c8361448d9d603": {
      "model_module": "@jupyter-widgets/controls",
      "model_module_version": "1.5.0",
      "model_name": "HTMLModel",
      "state": {
       "layout": "IPY_MODEL_2d4610c6a0284839a7fe0cd5e0286955",
       "style": "IPY_MODEL_ea434d56cffe47ed8ee00861cbe7baf4",
       "value": " 4/4 [00:00&lt;00:00,  5.52it/s]"
      }
     },
     "6436e94bff254979b3e74c0f31e5aab8": {
      "model_module": "@jupyter-widgets/base",
      "model_module_version": "1.2.0",
      "model_name": "LayoutModel",
      "state": {}
     },
     "64ecfddef20f4cd88b4d07f2d9c6e211": {
      "model_module": "@jupyter-widgets/base",
      "model_module_version": "1.2.0",
      "model_name": "LayoutModel",
      "state": {}
     },
     "650b14cf35d34999a65ab2a64857ac64": {
      "model_module": "@jupyter-widgets/controls",
      "model_module_version": "1.5.0",
      "model_name": "DescriptionStyleModel",
      "state": {
       "description_width": ""
      }
     },
     "6551fe3ad35d466e812f269b78969a81": {
      "model_module": "@jupyter-widgets/base",
      "model_module_version": "1.2.0",
      "model_name": "LayoutModel",
      "state": {}
     },
     "6560ade6a804489fbc9d67ab27003e62": {
      "model_module": "@jupyter-widgets/controls",
      "model_module_version": "1.5.0",
      "model_name": "DescriptionStyleModel",
      "state": {
       "description_width": ""
      }
     },
     "657e5283985d4640af94474f318688af": {
      "model_module": "@jupyter-widgets/controls",
      "model_module_version": "1.5.0",
      "model_name": "ProgressStyleModel",
      "state": {
       "description_width": ""
      }
     },
     "65f931652806498882f43b991c158596": {
      "model_module": "@jupyter-widgets/controls",
      "model_module_version": "1.5.0",
      "model_name": "FloatProgressModel",
      "state": {
       "bar_style": "success",
       "layout": "IPY_MODEL_273c6a91f2f44da7a5d72ee33be6ac5c",
       "max": 773,
       "style": "IPY_MODEL_5c9af078932c42329b08dcb9ea4bc743",
       "value": 773
      }
     },
     "664375a28f5c4b7f80109b66f81c68c6": {
      "model_module": "@jupyter-widgets/base",
      "model_module_version": "1.2.0",
      "model_name": "LayoutModel",
      "state": {}
     },
     "681625fcfea745b7bb7bd8e069b4dc39": {
      "model_module": "@jupyter-widgets/base",
      "model_module_version": "1.2.0",
      "model_name": "LayoutModel",
      "state": {}
     },
     "686ff41244794e42be4f1255b0b48af2": {
      "model_module": "@jupyter-widgets/controls",
      "model_module_version": "1.5.0",
      "model_name": "ProgressStyleModel",
      "state": {
       "description_width": ""
      }
     },
     "6894e6a44f0f425684ed3fff4f8f3e0d": {
      "model_module": "@jupyter-widgets/base",
      "model_module_version": "1.2.0",
      "model_name": "LayoutModel",
      "state": {}
     },
     "6a9cf6fc54794317b983c32ea88f5d9d": {
      "model_module": "@jupyter-widgets/base",
      "model_module_version": "1.2.0",
      "model_name": "LayoutModel",
      "state": {}
     },
     "6b50848f037f4dc78014c93321c2311e": {
      "model_module": "@jupyter-widgets/controls",
      "model_module_version": "1.5.0",
      "model_name": "DescriptionStyleModel",
      "state": {
       "description_width": ""
      }
     },
     "6ba5c859f50349669292c433f9158157": {
      "model_module": "@jupyter-widgets/controls",
      "model_module_version": "1.5.0",
      "model_name": "DescriptionStyleModel",
      "state": {
       "description_width": ""
      }
     },
     "6c096238d1d04b078460011eef80412b": {
      "model_module": "@jupyter-widgets/controls",
      "model_module_version": "1.5.0",
      "model_name": "HTMLModel",
      "state": {
       "layout": "IPY_MODEL_6a9cf6fc54794317b983c32ea88f5d9d",
       "style": "IPY_MODEL_9fe52ed85e404fe09513dc45f4d3f7be",
       "value": " 2.00/2.00 [00:00&lt;00:00, 46.5B/s]"
      }
     },
     "6c467fd8212b4c2d8dc4c22a8acc898b": {
      "model_module": "@jupyter-widgets/base",
      "model_module_version": "1.2.0",
      "model_name": "LayoutModel",
      "state": {}
     },
     "6ca8f05a25534a7490f95c9a6685aa5e": {
      "model_module": "@jupyter-widgets/controls",
      "model_module_version": "1.5.0",
      "model_name": "DescriptionStyleModel",
      "state": {
       "description_width": ""
      }
     },
     "6ce6e63405ed4ea5a3f220a7d0824092": {
      "model_module": "@jupyter-widgets/controls",
      "model_module_version": "1.5.0",
      "model_name": "FloatProgressModel",
      "state": {
       "bar_style": "success",
       "layout": "IPY_MODEL_dc6a7008955142f5aa07d949f6e39fd9",
       "max": 2,
       "style": "IPY_MODEL_52b4b03a16704c99b7248c7ee12d9b74",
       "value": 2
      }
     },
     "6d2ce70f943a443ea0c16ed416de38ef": {
      "model_module": "@jupyter-widgets/controls",
      "model_module_version": "1.5.0",
      "model_name": "ProgressStyleModel",
      "state": {
       "description_width": ""
      }
     },
     "6db61b47eac249c8bc7f3c4f92b5a1ee": {
      "model_module": "@jupyter-widgets/base",
      "model_module_version": "1.2.0",
      "model_name": "LayoutModel",
      "state": {}
     },
     "6f9c9f674d164d41805ff707e2edfcc5": {
      "model_module": "@jupyter-widgets/controls",
      "model_module_version": "1.5.0",
      "model_name": "DescriptionStyleModel",
      "state": {
       "description_width": ""
      }
     },
     "701f7a65c7c340c5be32cd5993c33b5e": {
      "model_module": "@jupyter-widgets/base",
      "model_module_version": "1.2.0",
      "model_name": "LayoutModel",
      "state": {}
     },
     "70e5b3ddb9f1415cb21f9928096621b9": {
      "model_module": "@jupyter-widgets/controls",
      "model_module_version": "1.5.0",
      "model_name": "HTMLModel",
      "state": {
       "layout": "IPY_MODEL_63001cde02f44884addaff8b618805ec",
       "style": "IPY_MODEL_9e65c3ac710f4aabbec59ca4d8f62438",
       "value": "100%"
      }
     },
     "7157f8d6b75b4ac1b3ca3903f84ee7e6": {
      "model_module": "@jupyter-widgets/base",
      "model_module_version": "1.2.0",
      "model_name": "LayoutModel",
      "state": {}
     },
     "71f7ffa63745487592cad5e29a6706aa": {
      "model_module": "@jupyter-widgets/controls",
      "model_module_version": "1.5.0",
      "model_name": "HTMLModel",
      "state": {
       "layout": "IPY_MODEL_ab1b8004b5364686957a48e1a6800e29",
       "style": "IPY_MODEL_5ed300257ed04562b1a67f14accd566d",
       "value": "Downloading: 100%"
      }
     },
     "72e449e8ad63474a88cc74b772cbeae3": {
      "model_module": "@jupyter-widgets/controls",
      "model_module_version": "1.5.0",
      "model_name": "ProgressStyleModel",
      "state": {
       "description_width": ""
      }
     },
     "7512aa6ccb1a4699b8b0736bff177f11": {
      "model_module": "@jupyter-widgets/base",
      "model_module_version": "1.2.0",
      "model_name": "LayoutModel",
      "state": {}
     },
     "756ccce612644905971dfcfc8cb8f3d0": {
      "model_module": "@jupyter-widgets/controls",
      "model_module_version": "1.5.0",
      "model_name": "FloatProgressModel",
      "state": {
       "bar_style": "success",
       "layout": "IPY_MODEL_9baa00ce20f243d7b4afee1052db8d4e",
       "max": 4,
       "style": "IPY_MODEL_7a188fe2451a4ebb938e31d1b7cbdc80",
       "value": 4
      }
     },
     "7581731df2334d8c99835d7d460ecf67": {
      "model_module": "@jupyter-widgets/controls",
      "model_module_version": "1.5.0",
      "model_name": "HTMLModel",
      "state": {
       "layout": "IPY_MODEL_e04f0d7065bf4502842e9351aedd37d8",
       "style": "IPY_MODEL_146c6530c661467783343932bbbf0d44",
       "value": "100%"
      }
     },
     "7605cf3056894deaa174335d07aadb40": {
      "model_module": "@jupyter-widgets/controls",
      "model_module_version": "1.5.0",
      "model_name": "ProgressStyleModel",
      "state": {
       "description_width": ""
      }
     },
     "770c646a502d438f863fdd1480ecf1d5": {
      "model_module": "@jupyter-widgets/controls",
      "model_module_version": "1.5.0",
      "model_name": "ProgressStyleModel",
      "state": {
       "description_width": ""
      }
     },
     "7763e10a9c2645f7823fd6c47280c208": {
      "model_module": "@jupyter-widgets/controls",
      "model_module_version": "1.5.0",
      "model_name": "ProgressStyleModel",
      "state": {
       "description_width": ""
      }
     },
     "77665cd6b9684bdfba1a04f03354862f": {
      "model_module": "@jupyter-widgets/controls",
      "model_module_version": "1.5.0",
      "model_name": "HTMLModel",
      "state": {
       "layout": "IPY_MODEL_54ed6fda6e924446943625c6541a8b0a",
       "style": "IPY_MODEL_4a0f90ad404a43c3bdd9cdcadfc96be3",
       "value": " 12/100000 [00:03&lt;10:20:47,  2.68it/s]"
      }
     },
     "777a7f0b13b242a98347e4d300b3e3e2": {
      "model_module": "@jupyter-widgets/controls",
      "model_module_version": "1.5.0",
      "model_name": "FloatProgressModel",
      "state": {
       "bar_style": "danger",
       "layout": "IPY_MODEL_62de98e739d748eb918b6b4c52a68019",
       "max": 100000,
       "style": "IPY_MODEL_996c70fe1ce6427bad782cc8bf787f3d",
       "value": 108
      }
     },
     "7786bd5c639e4a3587ffe500d731a97d": {
      "model_module": "@jupyter-widgets/controls",
      "model_module_version": "1.5.0",
      "model_name": "HBoxModel",
      "state": {
       "children": [
        "IPY_MODEL_161168cec6994a1d823309274b764a30",
        "IPY_MODEL_55c1e743f5a34a7ba03a56b7c5f54643",
        "IPY_MODEL_0a6c3da1092042a39aef98d975260fd2"
       ],
       "layout": "IPY_MODEL_d3448108054749d2872b924da6ae9ec0"
      }
     },
     "784c561f4b6742ef9443bf5cc4842ce0": {
      "model_module": "@jupyter-widgets/controls",
      "model_module_version": "1.5.0",
      "model_name": "HTMLModel",
      "state": {
       "layout": "IPY_MODEL_d4730064f8c242d3b5d4dc513861c5e0",
       "style": "IPY_MODEL_7c8553bd05f44c97a54a88e8ba555078",
       "value": "100%"
      }
     },
     "78d15547bb6740af99c1c7eb75ab3e7a": {
      "model_module": "@jupyter-widgets/controls",
      "model_module_version": "1.5.0",
      "model_name": "DescriptionStyleModel",
      "state": {
       "description_width": ""
      }
     },
     "78ff550214a7469caf760dc7ed5a12ed": {
      "model_module": "@jupyter-widgets/base",
      "model_module_version": "1.2.0",
      "model_name": "LayoutModel",
      "state": {}
     },
     "7a188fe2451a4ebb938e31d1b7cbdc80": {
      "model_module": "@jupyter-widgets/controls",
      "model_module_version": "1.5.0",
      "model_name": "ProgressStyleModel",
      "state": {
       "description_width": ""
      }
     },
     "7b816cd3861d45d2bfaed7239814c40e": {
      "model_module": "@jupyter-widgets/controls",
      "model_module_version": "1.5.0",
      "model_name": "HTMLModel",
      "state": {
       "layout": "IPY_MODEL_e314f4b622e64be9be0f81c16eb2596d",
       "style": "IPY_MODEL_b9876a3ea3b843de96b1b6c99105ef8c",
       "value": "  0%"
      }
     },
     "7bc2e3a3887046a88c3ec171db0826ae": {
      "model_module": "@jupyter-widgets/base",
      "model_module_version": "1.2.0",
      "model_name": "LayoutModel",
      "state": {}
     },
     "7c3ffb4a955d4007b26f0f40119e880e": {
      "model_module": "@jupyter-widgets/base",
      "model_module_version": "1.2.0",
      "model_name": "LayoutModel",
      "state": {}
     },
     "7c8553bd05f44c97a54a88e8ba555078": {
      "model_module": "@jupyter-widgets/controls",
      "model_module_version": "1.5.0",
      "model_name": "DescriptionStyleModel",
      "state": {
       "description_width": ""
      }
     },
     "7dbfead7c3f44bb08a4a62abcc688cdb": {
      "model_module": "@jupyter-widgets/base",
      "model_module_version": "1.2.0",
      "model_name": "LayoutModel",
      "state": {}
     },
     "7dccc98030104df487dd11ed33baa692": {
      "model_module": "@jupyter-widgets/controls",
      "model_module_version": "1.5.0",
      "model_name": "DescriptionStyleModel",
      "state": {
       "description_width": ""
      }
     },
     "7e251e0f5eb7414180df047617fe52b7": {
      "model_module": "@jupyter-widgets/controls",
      "model_module_version": "1.5.0",
      "model_name": "HTMLModel",
      "state": {
       "layout": "IPY_MODEL_00c7b5c7fae54d4b8b748da5a7fbb56e",
       "style": "IPY_MODEL_37026c910e534d8ead776ed01f78f851",
       "value": " 4/4 [00:00&lt;00:00,  5.84it/s]"
      }
     },
     "8070c7c7f29b466bac94cf772367cb75": {
      "model_module": "@jupyter-widgets/base",
      "model_module_version": "1.2.0",
      "model_name": "LayoutModel",
      "state": {}
     },
     "81f43fdb5ab0432f92b167d30a32542c": {
      "model_module": "@jupyter-widgets/controls",
      "model_module_version": "1.5.0",
      "model_name": "DescriptionStyleModel",
      "state": {
       "description_width": ""
      }
     },
     "8211eac8127f4b83b59a9896a4953ec3": {
      "model_module": "@jupyter-widgets/controls",
      "model_module_version": "1.5.0",
      "model_name": "HTMLModel",
      "state": {
       "layout": "IPY_MODEL_8c4dda0fc066496c95be8aad485123e5",
       "style": "IPY_MODEL_a7c2677c37d54deb94eab553efbbde14",
       "value": " 4/4 [00:00&lt;00:00,  5.37it/s]"
      }
     },
     "8220fa5bf71d468b8bb27393569c0e45": {
      "model_module": "@jupyter-widgets/base",
      "model_module_version": "1.2.0",
      "model_name": "LayoutModel",
      "state": {}
     },
     "82f51d463ab84c60828445e75e8cbe76": {
      "model_module": "@jupyter-widgets/controls",
      "model_module_version": "1.5.0",
      "model_name": "HTMLModel",
      "state": {
       "layout": "IPY_MODEL_4698d6102017415c8272a9ec884a5d5f",
       "style": "IPY_MODEL_d2d5e27d44c849818b6a49566545a010",
       "value": "100%"
      }
     },
     "8379c41591054fc38440ed5e17e8eda9": {
      "model_module": "@jupyter-widgets/controls",
      "model_module_version": "1.5.0",
      "model_name": "DescriptionStyleModel",
      "state": {
       "description_width": ""
      }
     },
     "83eded2f3bd746c08c167bfed05bedc0": {
      "model_module": "@jupyter-widgets/base",
      "model_module_version": "1.2.0",
      "model_name": "LayoutModel",
      "state": {}
     },
     "840f2e8ec9ab4602bdfdd71a20363d31": {
      "model_module": "@jupyter-widgets/controls",
      "model_module_version": "1.5.0",
      "model_name": "HTMLModel",
      "state": {
       "layout": "IPY_MODEL_2b70c3cf1f0c425a976028db096ff54e",
       "style": "IPY_MODEL_00e61c7af6e8411cb84edefef335db43",
       "value": " 49/100000 [00:28&lt;11:29:56,  2.41it/s]"
      }
     },
     "85631be000914e1ab795a6494e3fe039": {
      "model_module": "@jupyter-widgets/controls",
      "model_module_version": "1.5.0",
      "model_name": "HTMLModel",
      "state": {
       "layout": "IPY_MODEL_a30c5585a7d848f5bd209f60ab5bca9e",
       "style": "IPY_MODEL_f480f9440fee48acae91a21f5ba3fbbf",
       "value": " 32/100000 [00:02&lt;2:15:30, 12.29it/s]"
      }
     },
     "856e00713e414abd96b17d559a480165": {
      "model_module": "@jupyter-widgets/base",
      "model_module_version": "1.2.0",
      "model_name": "LayoutModel",
      "state": {}
     },
     "88096005ba71417080e43bddfcc8b162": {
      "model_module": "@jupyter-widgets/base",
      "model_module_version": "1.2.0",
      "model_name": "LayoutModel",
      "state": {}
     },
     "88946eb10beb42c9ba98e14a3571210f": {
      "model_module": "@jupyter-widgets/controls",
      "model_module_version": "1.5.0",
      "model_name": "ProgressStyleModel",
      "state": {
       "description_width": ""
      }
     },
     "8a42f68e746c402aad13281fd58e4dda": {
      "model_module": "@jupyter-widgets/controls",
      "model_module_version": "1.5.0",
      "model_name": "FloatProgressModel",
      "state": {
       "bar_style": "success",
       "layout": "IPY_MODEL_04615f19c9384642867ba5b83a0ee3c0",
       "max": 829,
       "style": "IPY_MODEL_925116e9bbf24ac0a22e42654bb43fdb",
       "value": 829
      }
     },
     "8c4a44a09c0b4804abbdcb4e44af3b78": {
      "model_module": "@jupyter-widgets/controls",
      "model_module_version": "1.5.0",
      "model_name": "HBoxModel",
      "state": {
       "children": [
        "IPY_MODEL_9c00014615f14111b796b7debf656298",
        "IPY_MODEL_d54a7884454c4b0895404a765002413e",
        "IPY_MODEL_0e9f2169b1b2409386aa209b1d39a3a3"
       ],
       "layout": "IPY_MODEL_fa579d2b22d04568bc81431a6e98ff37"
      }
     },
     "8c4dda0fc066496c95be8aad485123e5": {
      "model_module": "@jupyter-widgets/base",
      "model_module_version": "1.2.0",
      "model_name": "LayoutModel",
      "state": {}
     },
     "8c8193ea3c1e4eb0a49de414e3cc6188": {
      "model_module": "@jupyter-widgets/base",
      "model_module_version": "1.2.0",
      "model_name": "LayoutModel",
      "state": {}
     },
     "8c8f12eadd4a43c8a995519ddc70ef88": {
      "model_module": "@jupyter-widgets/controls",
      "model_module_version": "1.5.0",
      "model_name": "DescriptionStyleModel",
      "state": {
       "description_width": ""
      }
     },
     "8d2465f83ec84c22ac8928c1b5b9c59d": {
      "model_module": "@jupyter-widgets/base",
      "model_module_version": "1.2.0",
      "model_name": "LayoutModel",
      "state": {}
     },
     "8e7326cdff1c4062988259c146b91d5d": {
      "model_module": "@jupyter-widgets/base",
      "model_module_version": "1.2.0",
      "model_name": "LayoutModel",
      "state": {}
     },
     "8e8a828458d440e4af4a13742531efff": {
      "model_module": "@jupyter-widgets/base",
      "model_module_version": "1.2.0",
      "model_name": "LayoutModel",
      "state": {}
     },
     "8ef34297dfba4c5894e0b71fda67ca09": {
      "model_module": "@jupyter-widgets/base",
      "model_module_version": "1.2.0",
      "model_name": "LayoutModel",
      "state": {}
     },
     "8f4272b16e0b4c298fa00d23d604fc4f": {
      "model_module": "@jupyter-widgets/controls",
      "model_module_version": "1.5.0",
      "model_name": "DescriptionStyleModel",
      "state": {
       "description_width": ""
      }
     },
     "90691ab379f74c7aad867abbb7e77988": {
      "model_module": "@jupyter-widgets/base",
      "model_module_version": "1.2.0",
      "model_name": "LayoutModel",
      "state": {}
     },
     "925116e9bbf24ac0a22e42654bb43fdb": {
      "model_module": "@jupyter-widgets/controls",
      "model_module_version": "1.5.0",
      "model_name": "ProgressStyleModel",
      "state": {
       "description_width": ""
      }
     },
     "9349691c652a4cdf9c09f6e9c4c08559": {
      "model_module": "@jupyter-widgets/base",
      "model_module_version": "1.2.0",
      "model_name": "LayoutModel",
      "state": {}
     },
     "94019bb9e1264849856d99e59cbc7f15": {
      "model_module": "@jupyter-widgets/base",
      "model_module_version": "1.2.0",
      "model_name": "LayoutModel",
      "state": {}
     },
     "94c4b8536965455bb607ae218c367967": {
      "model_module": "@jupyter-widgets/base",
      "model_module_version": "1.2.0",
      "model_name": "LayoutModel",
      "state": {}
     },
     "95212605fdc548238b349b7ec5aedd68": {
      "model_module": "@jupyter-widgets/controls",
      "model_module_version": "1.5.0",
      "model_name": "HTMLModel",
      "state": {
       "layout": "IPY_MODEL_6436e94bff254979b3e74c0f31e5aab8",
       "style": "IPY_MODEL_bbc330f016734f5eb0c9b87888974bea",
       "value": " 0/4 [14:05&lt;?, ?it/s]"
      }
     },
     "95a94e48cda54e078883fb5bbd7c94b4": {
      "model_module": "@jupyter-widgets/controls",
      "model_module_version": "1.5.0",
      "model_name": "HTMLModel",
      "state": {
       "layout": "IPY_MODEL_d4c41f5cedfc4af899f4a5e28277bbda",
       "style": "IPY_MODEL_999e94a1e89641d59fa01f46bf3c0d2b",
       "value": "100%"
      }
     },
     "96ca2ded785b46d9b8c8aa6bd2a88cbd": {
      "model_module": "@jupyter-widgets/controls",
      "model_module_version": "1.5.0",
      "model_name": "DescriptionStyleModel",
      "state": {
       "description_width": ""
      }
     },
     "980fbb10939c44858e00c180c7149009": {
      "model_module": "@jupyter-widgets/base",
      "model_module_version": "1.2.0",
      "model_name": "LayoutModel",
      "state": {}
     },
     "986dab1119d2487dbab79eee9133f86b": {
      "model_module": "@jupyter-widgets/controls",
      "model_module_version": "1.5.0",
      "model_name": "DescriptionStyleModel",
      "state": {
       "description_width": ""
      }
     },
     "98f3c7fc06014fee99a534bfc2adad29": {
      "model_module": "@jupyter-widgets/controls",
      "model_module_version": "1.5.0",
      "model_name": "ProgressStyleModel",
      "state": {
       "description_width": ""
      }
     },
     "9914d70ea70245668dfe72af4037a11a": {
      "model_module": "@jupyter-widgets/base",
      "model_module_version": "1.2.0",
      "model_name": "LayoutModel",
      "state": {}
     },
     "9919315b733a4296959d394913bfcb83": {
      "model_module": "@jupyter-widgets/controls",
      "model_module_version": "1.5.0",
      "model_name": "HTMLModel",
      "state": {
       "layout": "IPY_MODEL_e2883cb8fd7048cc9555d0d6e866dc13",
       "style": "IPY_MODEL_225aa4eb91804664a8d91a9d9e812502",
       "value": "Downloading: 100%"
      }
     },
     "99465a81f0134e60a90c407b54640059": {
      "model_module": "@jupyter-widgets/controls",
      "model_module_version": "1.5.0",
      "model_name": "HTMLModel",
      "state": {
       "layout": "IPY_MODEL_90691ab379f74c7aad867abbb7e77988",
       "style": "IPY_MODEL_b96716a6a79f49c18e16c811c216931b",
       "value": "100%"
      }
     },
     "9961879debcf4a368a557f886f1d9e33": {
      "model_module": "@jupyter-widgets/controls",
      "model_module_version": "1.5.0",
      "model_name": "FloatProgressModel",
      "state": {
       "bar_style": "success",
       "layout": "IPY_MODEL_5002357c9dff464e915bdff99006d23a",
       "max": 20,
       "style": "IPY_MODEL_2946049d5fee4c0dadc23eefc91041ee",
       "value": 20
      }
     },
     "996c70fe1ce6427bad782cc8bf787f3d": {
      "model_module": "@jupyter-widgets/controls",
      "model_module_version": "1.5.0",
      "model_name": "ProgressStyleModel",
      "state": {
       "description_width": ""
      }
     },
     "999e94a1e89641d59fa01f46bf3c0d2b": {
      "model_module": "@jupyter-widgets/controls",
      "model_module_version": "1.5.0",
      "model_name": "DescriptionStyleModel",
      "state": {
       "description_width": ""
      }
     },
     "99e932248bc64440a773d803045b4d1b": {
      "model_module": "@jupyter-widgets/controls",
      "model_module_version": "1.5.0",
      "model_name": "HBoxModel",
      "state": {
       "children": [
        "IPY_MODEL_589e7ecc474548229d255638cb96b473",
        "IPY_MODEL_eb18606b04c44300b5266c58e002d388",
        "IPY_MODEL_e92191e5e23648a0b244eb8fcee6de71"
       ],
       "layout": "IPY_MODEL_2a6b483f077d4b5cba893e06e6361d12"
      }
     },
     "99f7913bb46f41488c6ce6730ae0a1cc": {
      "model_module": "@jupyter-widgets/controls",
      "model_module_version": "1.5.0",
      "model_name": "FloatProgressModel",
      "state": {
       "bar_style": "success",
       "layout": "IPY_MODEL_6551fe3ad35d466e812f269b78969a81",
       "max": 4,
       "style": "IPY_MODEL_98f3c7fc06014fee99a534bfc2adad29",
       "value": 4
      }
     },
     "9a4eaf9fd8814358a7bfcab0998d3e4b": {
      "model_module": "@jupyter-widgets/controls",
      "model_module_version": "1.5.0",
      "model_name": "DescriptionStyleModel",
      "state": {
       "description_width": ""
      }
     },
     "9a98567f59d442c8827825f4d1303247": {
      "model_module": "@jupyter-widgets/base",
      "model_module_version": "1.2.0",
      "model_name": "LayoutModel",
      "state": {}
     },
     "9baa00ce20f243d7b4afee1052db8d4e": {
      "model_module": "@jupyter-widgets/base",
      "model_module_version": "1.2.0",
      "model_name": "LayoutModel",
      "state": {}
     },
     "9bec73a8e2a146eaba22e9e173ca74da": {
      "model_module": "@jupyter-widgets/base",
      "model_module_version": "1.2.0",
      "model_name": "LayoutModel",
      "state": {}
     },
     "9c00014615f14111b796b7debf656298": {
      "model_module": "@jupyter-widgets/controls",
      "model_module_version": "1.5.0",
      "model_name": "HTMLModel",
      "state": {
       "layout": "IPY_MODEL_2cfe282a87954fd7a851bfe5fa7d5bfe",
       "style": "IPY_MODEL_09e58735decc43f5880d844e176fd623",
       "value": "100%"
      }
     },
     "9c4ec69f0fb348f192cfaea79eb0ffaa": {
      "model_module": "@jupyter-widgets/controls",
      "model_module_version": "1.5.0",
      "model_name": "DescriptionStyleModel",
      "state": {
       "description_width": ""
      }
     },
     "9d00c04ef07d44eb92f2289005b7a576": {
      "model_module": "@jupyter-widgets/base",
      "model_module_version": "1.2.0",
      "model_name": "LayoutModel",
      "state": {}
     },
     "9d45e67065e84fac9d2b591e15c6005a": {
      "model_module": "@jupyter-widgets/base",
      "model_module_version": "1.2.0",
      "model_name": "LayoutModel",
      "state": {}
     },
     "9d8bdfe4a6d34214a15344724c58c54d": {
      "model_module": "@jupyter-widgets/controls",
      "model_module_version": "1.5.0",
      "model_name": "HBoxModel",
      "state": {
       "children": [
        "IPY_MODEL_556201907df54bc3965142eec99c8500",
        "IPY_MODEL_3083cbb9879040fca063baa635fa8877",
        "IPY_MODEL_36ed22fbf2e641b59d1b923ca8da12a0"
       ],
       "layout": "IPY_MODEL_856e00713e414abd96b17d559a480165"
      }
     },
     "9dfda30fbf5047ed8ddd53746498d89f": {
      "model_module": "@jupyter-widgets/base",
      "model_module_version": "1.2.0",
      "model_name": "LayoutModel",
      "state": {}
     },
     "9e63e641d41b448bb488b53dd357a62e": {
      "model_module": "@jupyter-widgets/controls",
      "model_module_version": "1.5.0",
      "model_name": "HTMLModel",
      "state": {
       "layout": "IPY_MODEL_b91071a1c4f8494188076802e88d0373",
       "style": "IPY_MODEL_35422741f8874cfba6fe822a93109118",
       "value": "100%"
      }
     },
     "9e65c3ac710f4aabbec59ca4d8f62438": {
      "model_module": "@jupyter-widgets/controls",
      "model_module_version": "1.5.0",
      "model_name": "DescriptionStyleModel",
      "state": {
       "description_width": ""
      }
     },
     "9fe52ed85e404fe09513dc45f4d3f7be": {
      "model_module": "@jupyter-widgets/controls",
      "model_module_version": "1.5.0",
      "model_name": "DescriptionStyleModel",
      "state": {
       "description_width": ""
      }
     },
     "a1606995372a4ad5b45cc22aae5ced3e": {
      "model_module": "@jupyter-widgets/base",
      "model_module_version": "1.2.0",
      "model_name": "LayoutModel",
      "state": {}
     },
     "a19ac6da7d294a62b58851affb5e92da": {
      "model_module": "@jupyter-widgets/controls",
      "model_module_version": "1.5.0",
      "model_name": "HTMLModel",
      "state": {
       "layout": "IPY_MODEL_3794ecb40f2c4a33b2215d2a1164894a",
       "style": "IPY_MODEL_dc4c6a4265b248d59880029a6e236611",
       "value": " 79/100000 [00:47&lt;9:05:55,  3.05it/s]"
      }
     },
     "a1ae8886afe948e09ca0314667b5c87c": {
      "model_module": "@jupyter-widgets/controls",
      "model_module_version": "1.5.0",
      "model_name": "ProgressStyleModel",
      "state": {
       "description_width": ""
      }
     },
     "a2bfa4a5c0f24a97af2ef784e58d612d": {
      "model_module": "@jupyter-widgets/controls",
      "model_module_version": "1.5.0",
      "model_name": "DescriptionStyleModel",
      "state": {
       "description_width": ""
      }
     },
     "a30c5585a7d848f5bd209f60ab5bca9e": {
      "model_module": "@jupyter-widgets/base",
      "model_module_version": "1.2.0",
      "model_name": "LayoutModel",
      "state": {}
     },
     "a3e20a3fb13f4477bd6609de37d36cdb": {
      "model_module": "@jupyter-widgets/base",
      "model_module_version": "1.2.0",
      "model_name": "LayoutModel",
      "state": {}
     },
     "a450228ea79040109a4b11d7a535f189": {
      "model_module": "@jupyter-widgets/controls",
      "model_module_version": "1.5.0",
      "model_name": "FloatProgressModel",
      "state": {
       "bar_style": "success",
       "layout": "IPY_MODEL_64ecfddef20f4cd88b4d07f2d9c6e211",
       "max": 20,
       "style": "IPY_MODEL_30bf6f106c1f4fa2a45f57c46bab1ff8",
       "value": 20
      }
     },
     "a48ffe2121714d1d9f9c24caf10eac87": {
      "model_module": "@jupyter-widgets/controls",
      "model_module_version": "1.5.0",
      "model_name": "FloatProgressModel",
      "state": {
       "bar_style": "success",
       "layout": "IPY_MODEL_1cd5abc04279436c9cb909d478700828",
       "max": 59,
       "style": "IPY_MODEL_5b08aa5e6e1c48758322a74a9055f10c",
       "value": 59
      }
     },
     "a4cdc7ac4d1348a0be31567e61548036": {
      "model_module": "@jupyter-widgets/base",
      "model_module_version": "1.2.0",
      "model_name": "LayoutModel",
      "state": {}
     },
     "a55e456a71d6497a9b722db51986fc66": {
      "model_module": "@jupyter-widgets/controls",
      "model_module_version": "1.5.0",
      "model_name": "DescriptionStyleModel",
      "state": {
       "description_width": ""
      }
     },
     "a61d6b45a420420abe14df5366c74638": {
      "model_module": "@jupyter-widgets/base",
      "model_module_version": "1.2.0",
      "model_name": "LayoutModel",
      "state": {}
     },
     "a6718db254c142e2b432ed5df5a915c0": {
      "model_module": "@jupyter-widgets/controls",
      "model_module_version": "1.5.0",
      "model_name": "FloatProgressModel",
      "state": {
       "bar_style": "danger",
       "layout": "IPY_MODEL_fb801bac374c4ad28deef03eb44e99bb",
       "max": 100000,
       "style": "IPY_MODEL_2e3802f30ed54534b3cf18d4e91d7b20",
       "value": 112
      }
     },
     "a6bd6ef523b5461cbb76e322bc84b4dd": {
      "model_module": "@jupyter-widgets/controls",
      "model_module_version": "1.5.0",
      "model_name": "HBoxModel",
      "state": {
       "children": [
        "IPY_MODEL_71f7ffa63745487592cad5e29a6706aa",
        "IPY_MODEL_0613db26eab44867a8521136ffba5d5d",
        "IPY_MODEL_068a9cb05d1d48a18bae2c5ff1cdc60c"
       ],
       "layout": "IPY_MODEL_53f7961a0bf24af1994c3be23dde4979"
      }
     },
     "a70fdf8b51854e3abe5e28468ba234fa": {
      "model_module": "@jupyter-widgets/controls",
      "model_module_version": "1.5.0",
      "model_name": "HTMLModel",
      "state": {
       "layout": "IPY_MODEL_071fffcf35654e1891b7923549595991",
       "style": "IPY_MODEL_225e101a3f334ba0bd27c3930620514f",
       "value": "  0%"
      }
     },
     "a7c2677c37d54deb94eab553efbbde14": {
      "model_module": "@jupyter-widgets/controls",
      "model_module_version": "1.5.0",
      "model_name": "DescriptionStyleModel",
      "state": {
       "description_width": ""
      }
     },
     "a8867553714b468898a635adcef2f68b": {
      "model_module": "@jupyter-widgets/controls",
      "model_module_version": "1.5.0",
      "model_name": "HTMLModel",
      "state": {
       "layout": "IPY_MODEL_4b7f9002fb984a95bbe6fa232fda13f5",
       "style": "IPY_MODEL_5a2669437dcc4b49ba85d77dcbd512a4",
       "value": " 773/773 [01:01&lt;00:00, 12.62it/s]"
      }
     },
     "ab1b8004b5364686957a48e1a6800e29": {
      "model_module": "@jupyter-widgets/base",
      "model_module_version": "1.2.0",
      "model_name": "LayoutModel",
      "state": {}
     },
     "abbfa6ea56cb4f85815bc05b8734bc8a": {
      "model_module": "@jupyter-widgets/base",
      "model_module_version": "1.2.0",
      "model_name": "LayoutModel",
      "state": {}
     },
     "acb1b2c96fc2470a85c2392820aae718": {
      "model_module": "@jupyter-widgets/controls",
      "model_module_version": "1.5.0",
      "model_name": "DescriptionStyleModel",
      "state": {
       "description_width": ""
      }
     },
     "acf322d799ee4d90b6b1f5951dfb9d32": {
      "model_module": "@jupyter-widgets/controls",
      "model_module_version": "1.5.0",
      "model_name": "ProgressStyleModel",
      "state": {
       "description_width": ""
      }
     },
     "ad626e68aabc469592b9700a5a028fa1": {
      "model_module": "@jupyter-widgets/controls",
      "model_module_version": "1.5.0",
      "model_name": "HTMLModel",
      "state": {
       "layout": "IPY_MODEL_166dd8cfb47b4f0891ffc1d94a0ac7a5",
       "style": "IPY_MODEL_c686b41a497c4d1fb87d6904a0c9475c",
       "value": "100%"
      }
     },
     "ae22e88043f74453b8d10e1e49aa0bbc": {
      "model_module": "@jupyter-widgets/controls",
      "model_module_version": "1.5.0",
      "model_name": "HBoxModel",
      "state": {
       "children": [
        "IPY_MODEL_17b04fedd5c2487db387b73fb60eb7e7",
        "IPY_MODEL_e88cb174dbec483ea86de1c04ffdb4ed",
        "IPY_MODEL_3adcc3ee31374dddb1b492827f5060bc"
       ],
       "layout": "IPY_MODEL_d70446abdca7441981f9133042fc2a9f"
      }
     },
     "af230a6d0ac14eae81657c2875e93e2b": {
      "model_module": "@jupyter-widgets/controls",
      "model_module_version": "1.5.0",
      "model_name": "HTMLModel",
      "state": {
       "layout": "IPY_MODEL_980fbb10939c44858e00c180c7149009",
       "style": "IPY_MODEL_6ca8f05a25534a7490f95c9a6685aa5e",
       "value": " 20/20 [00:01&lt;00:00, 12.24it/s]"
      }
     },
     "b0362640b2934b799a409c4181904930": {
      "model_module": "@jupyter-widgets/base",
      "model_module_version": "1.2.0",
      "model_name": "LayoutModel",
      "state": {}
     },
     "b090f0655e2f4efca649660161e806ed": {
      "model_module": "@jupyter-widgets/base",
      "model_module_version": "1.2.0",
      "model_name": "LayoutModel",
      "state": {}
     },
     "b10ea02a6a5946e2b3f2e44c0accf437": {
      "model_module": "@jupyter-widgets/controls",
      "model_module_version": "1.5.0",
      "model_name": "FloatProgressModel",
      "state": {
       "bar_style": "danger",
       "layout": "IPY_MODEL_1e4d2d32385440d1a230edc06545f007",
       "max": 100000,
       "style": "IPY_MODEL_f99f9fdf5f3c4f10b2d5313336f6035d",
       "value": 49
      }
     },
     "b1c08fd8fc174643ba31407de341346c": {
      "model_module": "@jupyter-widgets/controls",
      "model_module_version": "1.5.0",
      "model_name": "HTMLModel",
      "state": {
       "layout": "IPY_MODEL_098017ab35e0425eb7d9275f34a391ec",
       "style": "IPY_MODEL_1e8c65f7f4d74537ab941d60dc32c2b2",
       "value": "  0%"
      }
     },
     "b1d414ef13e44533b249c20e921e951d": {
      "model_module": "@jupyter-widgets/base",
      "model_module_version": "1.2.0",
      "model_name": "LayoutModel",
      "state": {}
     },
     "b1f1ec65b32f4b84834969a84000763f": {
      "model_module": "@jupyter-widgets/base",
      "model_module_version": "1.2.0",
      "model_name": "LayoutModel",
      "state": {}
     },
     "b369b86a6c424d5d85e6d7e64c3c9c0c": {
      "model_module": "@jupyter-widgets/controls",
      "model_module_version": "1.5.0",
      "model_name": "HTMLModel",
      "state": {
       "layout": "IPY_MODEL_c03e856e3f8f49a3a4be10ab4f971bcf",
       "style": "IPY_MODEL_28e3d31e10474af5a256c19e6038d8a4",
       "value": " 108/100000 [01:03&lt;12:05:28,  2.29it/s]"
      }
     },
     "b45355d3c6464fa3a96abff9a0fd6d0f": {
      "model_module": "@jupyter-widgets/controls",
      "model_module_version": "1.5.0",
      "model_name": "DescriptionStyleModel",
      "state": {
       "description_width": ""
      }
     },
     "b4a3ad98252e4d569b71fbbc8ddbbfe8": {
      "model_module": "@jupyter-widgets/controls",
      "model_module_version": "1.5.0",
      "model_name": "HTMLModel",
      "state": {
       "layout": "IPY_MODEL_9914d70ea70245668dfe72af4037a11a",
       "style": "IPY_MODEL_c54112d49a8e4e3789ea9d7c4432aefe",
       "value": "Downloading: 100%"
      }
     },
     "b6807860ff0c4845a07c65703ed38a31": {
      "model_module": "@jupyter-widgets/base",
      "model_module_version": "1.2.0",
      "model_name": "LayoutModel",
      "state": {}
     },
     "b6c29f2abc644e6a86cb9430245d9767": {
      "model_module": "@jupyter-widgets/controls",
      "model_module_version": "1.5.0",
      "model_name": "ProgressStyleModel",
      "state": {
       "description_width": ""
      }
     },
     "b700300a2c5f4a328fffd305cbaf3d1c": {
      "model_module": "@jupyter-widgets/controls",
      "model_module_version": "1.5.0",
      "model_name": "ProgressStyleModel",
      "state": {
       "description_width": ""
      }
     },
     "b8539a62fd18407995ad92e7aae1e0c9": {
      "model_module": "@jupyter-widgets/base",
      "model_module_version": "1.2.0",
      "model_name": "LayoutModel",
      "state": {}
     },
     "b91071a1c4f8494188076802e88d0373": {
      "model_module": "@jupyter-widgets/base",
      "model_module_version": "1.2.0",
      "model_name": "LayoutModel",
      "state": {}
     },
     "b96716a6a79f49c18e16c811c216931b": {
      "model_module": "@jupyter-widgets/controls",
      "model_module_version": "1.5.0",
      "model_name": "DescriptionStyleModel",
      "state": {
       "description_width": ""
      }
     },
     "b9876a3ea3b843de96b1b6c99105ef8c": {
      "model_module": "@jupyter-widgets/controls",
      "model_module_version": "1.5.0",
      "model_name": "DescriptionStyleModel",
      "state": {
       "description_width": ""
      }
     },
     "bb955c81907a4b8084f2172300085b20": {
      "model_module": "@jupyter-widgets/controls",
      "model_module_version": "1.5.0",
      "model_name": "DescriptionStyleModel",
      "state": {
       "description_width": ""
      }
     },
     "bbc330f016734f5eb0c9b87888974bea": {
      "model_module": "@jupyter-widgets/controls",
      "model_module_version": "1.5.0",
      "model_name": "DescriptionStyleModel",
      "state": {
       "description_width": ""
      }
     },
     "bbf8dd666a364850b3df09f6db40db3d": {
      "model_module": "@jupyter-widgets/controls",
      "model_module_version": "1.5.0",
      "model_name": "DescriptionStyleModel",
      "state": {
       "description_width": ""
      }
     },
     "bc7b88ebaef54537bbb1261c438164ec": {
      "model_module": "@jupyter-widgets/controls",
      "model_module_version": "1.5.0",
      "model_name": "HTMLModel",
      "state": {
       "layout": "IPY_MODEL_55da229f4a174bbdac160b23af75c712",
       "style": "IPY_MODEL_78d15547bb6740af99c1c7eb75ab3e7a",
       "value": "100%"
      }
     },
     "bc9ef22d98bb44c9877939485d16d084": {
      "model_module": "@jupyter-widgets/controls",
      "model_module_version": "1.5.0",
      "model_name": "ProgressStyleModel",
      "state": {
       "description_width": ""
      }
     },
     "bcf43fdb675b4b048bebb94092b38caa": {
      "model_module": "@jupyter-widgets/base",
      "model_module_version": "1.2.0",
      "model_name": "LayoutModel",
      "state": {}
     },
     "bd80c31b156041488a39e56c1a79ffb5": {
      "model_module": "@jupyter-widgets/controls",
      "model_module_version": "1.5.0",
      "model_name": "HBoxModel",
      "state": {
       "children": [
        "IPY_MODEL_784c561f4b6742ef9443bf5cc4842ce0",
        "IPY_MODEL_756ccce612644905971dfcfc8cb8f3d0",
        "IPY_MODEL_c17e3f896d7d44a793f8eb7f6aee6263"
       ],
       "layout": "IPY_MODEL_27115ba35fb04ba394763f5dc218fc31"
      }
     },
     "c03e856e3f8f49a3a4be10ab4f971bcf": {
      "model_module": "@jupyter-widgets/base",
      "model_module_version": "1.2.0",
      "model_name": "LayoutModel",
      "state": {}
     },
     "c17e3f896d7d44a793f8eb7f6aee6263": {
      "model_module": "@jupyter-widgets/controls",
      "model_module_version": "1.5.0",
      "model_name": "HTMLModel",
      "state": {
       "layout": "IPY_MODEL_a61d6b45a420420abe14df5366c74638",
       "style": "IPY_MODEL_eb8509990ca54455a0276a7e24e922f4",
       "value": " 4/4 [00:00&lt;00:00,  5.88it/s]"
      }
     },
     "c18f6c1d4d5b4373acb458575528088d": {
      "model_module": "@jupyter-widgets/controls",
      "model_module_version": "1.5.0",
      "model_name": "HTMLModel",
      "state": {
       "layout": "IPY_MODEL_bcf43fdb675b4b048bebb94092b38caa",
       "style": "IPY_MODEL_9c4ec69f0fb348f192cfaea79eb0ffaa",
       "value": " 4/4 [00:00&lt;00:00,  5.76it/s]"
      }
     },
     "c3256556eae44af6ada0664a6b988b08": {
      "model_module": "@jupyter-widgets/base",
      "model_module_version": "1.2.0",
      "model_name": "LayoutModel",
      "state": {}
     },
     "c330737e77c34e299b2ec2640c330af5": {
      "model_module": "@jupyter-widgets/controls",
      "model_module_version": "1.5.0",
      "model_name": "ProgressStyleModel",
      "state": {
       "description_width": ""
      }
     },
     "c3bb0e9e40744d659fab54b7ac231b0b": {
      "model_module": "@jupyter-widgets/controls",
      "model_module_version": "1.5.0",
      "model_name": "HTMLModel",
      "state": {
       "layout": "IPY_MODEL_5f05f30f1b044b8c9bda79551cc2c8bd",
       "style": "IPY_MODEL_03cef617f23742a9ac3f52da9220d41b",
       "value": " 20/20 [00:01&lt;00:00, 11.81it/s]"
      }
     },
     "c54112d49a8e4e3789ea9d7c4432aefe": {
      "model_module": "@jupyter-widgets/controls",
      "model_module_version": "1.5.0",
      "model_name": "DescriptionStyleModel",
      "state": {
       "description_width": ""
      }
     },
     "c6651d16c1374c4da2d640571539fc1b": {
      "model_module": "@jupyter-widgets/base",
      "model_module_version": "1.2.0",
      "model_name": "LayoutModel",
      "state": {}
     },
     "c67440dfe92d4cc2893c9cd470f4cacd": {
      "model_module": "@jupyter-widgets/base",
      "model_module_version": "1.2.0",
      "model_name": "LayoutModel",
      "state": {}
     },
     "c686b41a497c4d1fb87d6904a0c9475c": {
      "model_module": "@jupyter-widgets/controls",
      "model_module_version": "1.5.0",
      "model_name": "DescriptionStyleModel",
      "state": {
       "description_width": ""
      }
     },
     "c689bbedc632463ba19f32b7b154a507": {
      "model_module": "@jupyter-widgets/base",
      "model_module_version": "1.2.0",
      "model_name": "LayoutModel",
      "state": {}
     },
     "c7dd3aa5b29c4807b2ea8ad4c88ffbd7": {
      "model_module": "@jupyter-widgets/controls",
      "model_module_version": "1.5.0",
      "model_name": "HBoxModel",
      "state": {
       "children": [
        "IPY_MODEL_310d1de072f54e83b51ef38e237feb39",
        "IPY_MODEL_e7830bc5a16e4a78939d09579aaae26f",
        "IPY_MODEL_334482aa8ff141c8998b36a87a03c385"
       ],
       "layout": "IPY_MODEL_7dbfead7c3f44bb08a4a62abcc688cdb"
      }
     },
     "cade08522f3b4f99b13b9f545a24022b": {
      "model_module": "@jupyter-widgets/controls",
      "model_module_version": "1.5.0",
      "model_name": "DescriptionStyleModel",
      "state": {
       "description_width": ""
      }
     },
     "cb68f8545a3d420b94cf6b4aa1cae42d": {
      "model_module": "@jupyter-widgets/controls",
      "model_module_version": "1.5.0",
      "model_name": "HTMLModel",
      "state": {
       "layout": "IPY_MODEL_b6807860ff0c4845a07c65703ed38a31",
       "style": "IPY_MODEL_bbf8dd666a364850b3df09f6db40db3d",
       "value": " 20/20 [00:01&lt;00:00, 11.54it/s]"
      }
     },
     "cc05f872c45946829a62a71f1a6d85c8": {
      "model_module": "@jupyter-widgets/base",
      "model_module_version": "1.2.0",
      "model_name": "LayoutModel",
      "state": {}
     },
     "cd6afa04a0744e6f8bb1b238472ce398": {
      "model_module": "@jupyter-widgets/base",
      "model_module_version": "1.2.0",
      "model_name": "LayoutModel",
      "state": {}
     },
     "ce2d162ce8dc4279a5cae9b0b499ac77": {
      "model_module": "@jupyter-widgets/controls",
      "model_module_version": "1.5.0",
      "model_name": "DescriptionStyleModel",
      "state": {
       "description_width": ""
      }
     },
     "ce4abf94ffb04fcb9dca2d165a095c7b": {
      "model_module": "@jupyter-widgets/controls",
      "model_module_version": "1.5.0",
      "model_name": "HBoxModel",
      "state": {
       "children": [
        "IPY_MODEL_ec8ebdd7b99842969a4d0acf9e9d9ed6",
        "IPY_MODEL_a6718db254c142e2b432ed5df5a915c0",
        "IPY_MODEL_33aab6aca0cd4bd0a27a887cff42888f"
       ],
       "layout": "IPY_MODEL_46370dac210c44ba956c0ec7a162c921"
      }
     },
     "d13e6969bd52461f99aadfab5a711ddf": {
      "model_module": "@jupyter-widgets/controls",
      "model_module_version": "1.5.0",
      "model_name": "HTMLModel",
      "state": {
       "layout": "IPY_MODEL_fa8110ee17b3456096cfd5874e051502",
       "style": "IPY_MODEL_f63d60e1678e4be197772c253bbe73d1",
       "value": " 112/112 [00:00&lt;00:00, 2.55kB/s]"
      }
     },
     "d2b2f91382294dd69267d4f11d5fd978": {
      "model_module": "@jupyter-widgets/controls",
      "model_module_version": "1.5.0",
      "model_name": "HTMLModel",
      "state": {
       "layout": "IPY_MODEL_24fe0e769ed04a36b08132874179b996",
       "style": "IPY_MODEL_650b14cf35d34999a65ab2a64857ac64",
       "value": " 180/180 [00:14&lt;00:00, 11.84it/s]"
      }
     },
     "d2d5e27d44c849818b6a49566545a010": {
      "model_module": "@jupyter-widgets/controls",
      "model_module_version": "1.5.0",
      "model_name": "DescriptionStyleModel",
      "state": {
       "description_width": ""
      }
     },
     "d3448108054749d2872b924da6ae9ec0": {
      "model_module": "@jupyter-widgets/base",
      "model_module_version": "1.2.0",
      "model_name": "LayoutModel",
      "state": {}
     },
     "d35950db714d473aac1779636d1da9d6": {
      "model_module": "@jupyter-widgets/base",
      "model_module_version": "1.2.0",
      "model_name": "LayoutModel",
      "state": {}
     },
     "d4730064f8c242d3b5d4dc513861c5e0": {
      "model_module": "@jupyter-widgets/base",
      "model_module_version": "1.2.0",
      "model_name": "LayoutModel",
      "state": {}
     },
     "d475524e2798449e98b38afa59661d36": {
      "model_module": "@jupyter-widgets/controls",
      "model_module_version": "1.5.0",
      "model_name": "HBoxModel",
      "state": {
       "children": [
        "IPY_MODEL_58754259f4814b1791cbf84369f24f54",
        "IPY_MODEL_fd55ec4156da46c8b9f6bb565c05c04a",
        "IPY_MODEL_85631be000914e1ab795a6494e3fe039"
       ],
       "layout": "IPY_MODEL_c3256556eae44af6ada0664a6b988b08"
      }
     },
     "d485134751ee4a2a9c81c189bf5deb6d": {
      "model_module": "@jupyter-widgets/controls",
      "model_module_version": "1.5.0",
      "model_name": "HTMLModel",
      "state": {
       "layout": "IPY_MODEL_9d45e67065e84fac9d2b591e15c6005a",
       "style": "IPY_MODEL_9a4eaf9fd8814358a7bfcab0998d3e4b",
       "value": " 11%"
      }
     },
     "d4c41f5cedfc4af899f4a5e28277bbda": {
      "model_module": "@jupyter-widgets/base",
      "model_module_version": "1.2.0",
      "model_name": "LayoutModel",
      "state": {}
     },
     "d54a7884454c4b0895404a765002413e": {
      "model_module": "@jupyter-widgets/controls",
      "model_module_version": "1.5.0",
      "model_name": "FloatProgressModel",
      "state": {
       "bar_style": "success",
       "layout": "IPY_MODEL_e4255cacab32461caa360ddb3b9a0fd1",
       "max": 773,
       "style": "IPY_MODEL_2f6e1f12980049be97779c31dcb6693e",
       "value": 773
      }
     },
     "d5a4ced60fb341e4a719cfa9199a2e2c": {
      "model_module": "@jupyter-widgets/controls",
      "model_module_version": "1.5.0",
      "model_name": "HBoxModel",
      "state": {
       "children": [
        "IPY_MODEL_d485134751ee4a2a9c81c189bf5deb6d",
        "IPY_MODEL_1d7bea43f04d4b858ccf062c9f754765",
        "IPY_MODEL_e3518f411f404099b98abf21005be3e5"
       ],
       "layout": "IPY_MODEL_9d00c04ef07d44eb92f2289005b7a576"
      }
     },
     "d70446abdca7441981f9133042fc2a9f": {
      "model_module": "@jupyter-widgets/base",
      "model_module_version": "1.2.0",
      "model_name": "LayoutModel",
      "state": {}
     },
     "d819c1cbfdb9498aae1ad6c781fb7e56": {
      "model_module": "@jupyter-widgets/controls",
      "model_module_version": "1.5.0",
      "model_name": "HBoxModel",
      "state": {
       "children": [
        "IPY_MODEL_7b816cd3861d45d2bfaed7239814c40e",
        "IPY_MODEL_f070000af7e84082946a03fb34a6fab7",
        "IPY_MODEL_840f2e8ec9ab4602bdfdd71a20363d31"
       ],
       "layout": "IPY_MODEL_d35950db714d473aac1779636d1da9d6"
      }
     },
     "d9d668a00b5c4544a54e6cde84256e62": {
      "model_module": "@jupyter-widgets/base",
      "model_module_version": "1.2.0",
      "model_name": "LayoutModel",
      "state": {}
     },
     "d9e391a07d44405ebe567b43bc680969": {
      "model_module": "@jupyter-widgets/base",
      "model_module_version": "1.2.0",
      "model_name": "LayoutModel",
      "state": {}
     },
     "da431b53694b4ff0b6d7a0c842938085": {
      "model_module": "@jupyter-widgets/controls",
      "model_module_version": "1.5.0",
      "model_name": "DescriptionStyleModel",
      "state": {
       "description_width": ""
      }
     },
     "db12b1bcb1724834ab9334f364d7b062": {
      "model_module": "@jupyter-widgets/controls",
      "model_module_version": "1.5.0",
      "model_name": "FloatProgressModel",
      "state": {
       "bar_style": "success",
       "layout": "IPY_MODEL_8d2465f83ec84c22ac8928c1b5b9c59d",
       "max": 180,
       "style": "IPY_MODEL_b700300a2c5f4a328fffd305cbaf3d1c",
       "value": 180
      }
     },
     "dbef8e5365b74259aa832427d10a79ac": {
      "model_module": "@jupyter-widgets/controls",
      "model_module_version": "1.5.0",
      "model_name": "ProgressStyleModel",
      "state": {
       "description_width": ""
      }
     },
     "dc4c6a4265b248d59880029a6e236611": {
      "model_module": "@jupyter-widgets/controls",
      "model_module_version": "1.5.0",
      "model_name": "DescriptionStyleModel",
      "state": {
       "description_width": ""
      }
     },
     "dc6a7008955142f5aa07d949f6e39fd9": {
      "model_module": "@jupyter-widgets/base",
      "model_module_version": "1.2.0",
      "model_name": "LayoutModel",
      "state": {}
     },
     "e04f0d7065bf4502842e9351aedd37d8": {
      "model_module": "@jupyter-widgets/base",
      "model_module_version": "1.2.0",
      "model_name": "LayoutModel",
      "state": {}
     },
     "e1d6a99b79df41a39d3f6cb797635492": {
      "model_module": "@jupyter-widgets/base",
      "model_module_version": "1.2.0",
      "model_name": "LayoutModel",
      "state": {}
     },
     "e2883cb8fd7048cc9555d0d6e866dc13": {
      "model_module": "@jupyter-widgets/base",
      "model_module_version": "1.2.0",
      "model_name": "LayoutModel",
      "state": {}
     },
     "e314f4b622e64be9be0f81c16eb2596d": {
      "model_module": "@jupyter-widgets/base",
      "model_module_version": "1.2.0",
      "model_name": "LayoutModel",
      "state": {}
     },
     "e3518f411f404099b98abf21005be3e5": {
      "model_module": "@jupyter-widgets/controls",
      "model_module_version": "1.5.0",
      "model_name": "HTMLModel",
      "state": {
       "layout": "IPY_MODEL_9349691c652a4cdf9c09f6e9c4c08559",
       "style": "IPY_MODEL_cade08522f3b4f99b13b9f545a24022b",
       "value": " 11005/100000 [16:46&lt;1:50:30, 13.42it/s]"
      }
     },
     "e4255cacab32461caa360ddb3b9a0fd1": {
      "model_module": "@jupyter-widgets/base",
      "model_module_version": "1.2.0",
      "model_name": "LayoutModel",
      "state": {}
     },
     "e439c06166ca4a0089c3c88129c26285": {
      "model_module": "@jupyter-widgets/controls",
      "model_module_version": "1.5.0",
      "model_name": "HTMLModel",
      "state": {
       "layout": "IPY_MODEL_e1d6a99b79df41a39d3f6cb797635492",
       "style": "IPY_MODEL_ce2d162ce8dc4279a5cae9b0b499ac77",
       "value": " 49/100000 [00:27&lt;10:20:25,  2.69it/s]"
      }
     },
     "e542613b4dac4226b11475487967f0f1": {
      "model_module": "@jupyter-widgets/controls",
      "model_module_version": "1.5.0",
      "model_name": "DescriptionStyleModel",
      "state": {
       "description_width": ""
      }
     },
     "e6784184ffa84c03a92895b17baef620": {
      "model_module": "@jupyter-widgets/controls",
      "model_module_version": "1.5.0",
      "model_name": "DescriptionStyleModel",
      "state": {
       "description_width": ""
      }
     },
     "e7830bc5a16e4a78939d09579aaae26f": {
      "model_module": "@jupyter-widgets/controls",
      "model_module_version": "1.5.0",
      "model_name": "FloatProgressModel",
      "state": {
       "bar_style": "success",
       "layout": "IPY_MODEL_a1606995372a4ad5b45cc22aae5ced3e",
       "max": 773,
       "style": "IPY_MODEL_5488f7eae7584285b0f91b86b68fc028",
       "value": 773
      }
     },
     "e88cb174dbec483ea86de1c04ffdb4ed": {
      "model_module": "@jupyter-widgets/controls",
      "model_module_version": "1.5.0",
      "model_name": "FloatProgressModel",
      "state": {
       "bar_style": "success",
       "layout": "IPY_MODEL_fac05fb8288c482aa91bd29b88e13b40",
       "max": 20,
       "style": "IPY_MODEL_88946eb10beb42c9ba98e14a3571210f",
       "value": 20
      }
     },
     "e92191e5e23648a0b244eb8fcee6de71": {
      "model_module": "@jupyter-widgets/controls",
      "model_module_version": "1.5.0",
      "model_name": "HTMLModel",
      "state": {
       "layout": "IPY_MODEL_88096005ba71417080e43bddfcc8b162",
       "style": "IPY_MODEL_ef5628cde22841298ad7a34bb23cbe38",
       "value": " 3/3 [00:00&lt;00:00,  3.85it/s]"
      }
     },
     "ea434d56cffe47ed8ee00861cbe7baf4": {
      "model_module": "@jupyter-widgets/controls",
      "model_module_version": "1.5.0",
      "model_name": "DescriptionStyleModel",
      "state": {
       "description_width": ""
      }
     },
     "ea76dc7643f042e39101df89f947959f": {
      "model_module": "@jupyter-widgets/controls",
      "model_module_version": "1.5.0",
      "model_name": "FloatProgressModel",
      "state": {
       "bar_style": "success",
       "layout": "IPY_MODEL_017ea7f2af274f479bdc7321f1a99ab6",
       "max": 213450,
       "style": "IPY_MODEL_c330737e77c34e299b2ec2640c330af5",
       "value": 213450
      }
     },
     "eb0167897ecb4f4abdd9c8f18f8dfd0a": {
      "model_module": "@jupyter-widgets/base",
      "model_module_version": "1.2.0",
      "model_name": "LayoutModel",
      "state": {}
     },
     "eb18606b04c44300b5266c58e002d388": {
      "model_module": "@jupyter-widgets/controls",
      "model_module_version": "1.5.0",
      "model_name": "FloatProgressModel",
      "state": {
       "bar_style": "success",
       "layout": "IPY_MODEL_9bec73a8e2a146eaba22e9e173ca74da",
       "max": 3,
       "style": "IPY_MODEL_fa516c40043d4b30ba827da9168bc745",
       "value": 3
      }
     },
     "eb8509990ca54455a0276a7e24e922f4": {
      "model_module": "@jupyter-widgets/controls",
      "model_module_version": "1.5.0",
      "model_name": "DescriptionStyleModel",
      "state": {
       "description_width": ""
      }
     },
     "ec8ebdd7b99842969a4d0acf9e9d9ed6": {
      "model_module": "@jupyter-widgets/controls",
      "model_module_version": "1.5.0",
      "model_name": "HTMLModel",
      "state": {
       "layout": "IPY_MODEL_63954768d21848efa7c90735761019d9",
       "style": "IPY_MODEL_8379c41591054fc38440ed5e17e8eda9",
       "value": "  0%"
      }
     },
     "ed94e9acbc2a4e61a7c5d28726abc986": {
      "model_module": "@jupyter-widgets/controls",
      "model_module_version": "1.5.0",
      "model_name": "HTMLModel",
      "state": {
       "layout": "IPY_MODEL_2e3820b5af8d4986a9b4ef090529c38d",
       "style": "IPY_MODEL_8f4272b16e0b4c298fa00d23d604fc4f",
       "value": "  0%"
      }
     },
     "ef5628cde22841298ad7a34bb23cbe38": {
      "model_module": "@jupyter-widgets/controls",
      "model_module_version": "1.5.0",
      "model_name": "DescriptionStyleModel",
      "state": {
       "description_width": ""
      }
     },
     "f05baa4d982a480a80308885ed6b8fbd": {
      "model_module": "@jupyter-widgets/controls",
      "model_module_version": "1.5.0",
      "model_name": "DescriptionStyleModel",
      "state": {
       "description_width": ""
      }
     },
     "f070000af7e84082946a03fb34a6fab7": {
      "model_module": "@jupyter-widgets/controls",
      "model_module_version": "1.5.0",
      "model_name": "FloatProgressModel",
      "state": {
       "bar_style": "danger",
       "layout": "IPY_MODEL_94c4b8536965455bb607ae218c367967",
       "max": 100000,
       "style": "IPY_MODEL_bc9ef22d98bb44c9877939485d16d084",
       "value": 49
      }
     },
     "f0ec1c66f1f6432b967951e7a20ce1e2": {
      "model_module": "@jupyter-widgets/base",
      "model_module_version": "1.2.0",
      "model_name": "LayoutModel",
      "state": {}
     },
     "f0f6e238fb474ea19aaeba699614250e": {
      "model_module": "@jupyter-widgets/controls",
      "model_module_version": "1.5.0",
      "model_name": "HTMLModel",
      "state": {
       "layout": "IPY_MODEL_b1f1ec65b32f4b84834969a84000763f",
       "style": "IPY_MODEL_3d008063f0c44b0c9edeefda3ecb66a3",
       "value": "Downloading: 100%"
      }
     },
     "f100f1493d604593bb044f4b6698b168": {
      "model_module": "@jupyter-widgets/controls",
      "model_module_version": "1.5.0",
      "model_name": "HTMLModel",
      "state": {
       "layout": "IPY_MODEL_b0362640b2934b799a409c4181904930",
       "style": "IPY_MODEL_6ba5c859f50349669292c433f9158157",
       "value": " 3/3 [00:00&lt;00:00,  3.73it/s]"
      }
     },
     "f3dbe9e9d36c4845b69536694935197c": {
      "model_module": "@jupyter-widgets/controls",
      "model_module_version": "1.5.0",
      "model_name": "FloatProgressModel",
      "state": {
       "bar_style": "danger",
       "layout": "IPY_MODEL_8070c7c7f29b466bac94cf772367cb75",
       "max": 4,
       "style": "IPY_MODEL_72e449e8ad63474a88cc74b772cbeae3"
      }
     },
     "f480f9440fee48acae91a21f5ba3fbbf": {
      "model_module": "@jupyter-widgets/controls",
      "model_module_version": "1.5.0",
      "model_name": "DescriptionStyleModel",
      "state": {
       "description_width": ""
      }
     },
     "f53256fa1d8b4212bb01fe72fa71d7a5": {
      "model_module": "@jupyter-widgets/controls",
      "model_module_version": "1.5.0",
      "model_name": "DescriptionStyleModel",
      "state": {
       "description_width": ""
      }
     },
     "f621de8d0043425ca1ab8f95bafb69c4": {
      "model_module": "@jupyter-widgets/base",
      "model_module_version": "1.2.0",
      "model_name": "LayoutModel",
      "state": {}
     },
     "f63d60e1678e4be197772c253bbe73d1": {
      "model_module": "@jupyter-widgets/controls",
      "model_module_version": "1.5.0",
      "model_name": "DescriptionStyleModel",
      "state": {
       "description_width": ""
      }
     },
     "f64014a126cf4e578dd8f08b74c5cf28": {
      "model_module": "@jupyter-widgets/base",
      "model_module_version": "1.2.0",
      "model_name": "LayoutModel",
      "state": {}
     },
     "f686a6071544455ebc9029c6e69447d1": {
      "model_module": "@jupyter-widgets/base",
      "model_module_version": "1.2.0",
      "model_name": "LayoutModel",
      "state": {}
     },
     "f6c6f2c6b1d3417a85f3fb71302dcc6a": {
      "model_module": "@jupyter-widgets/base",
      "model_module_version": "1.2.0",
      "model_name": "LayoutModel",
      "state": {}
     },
     "f7444db47ea74db481d1958eaa57edf3": {
      "model_module": "@jupyter-widgets/base",
      "model_module_version": "1.2.0",
      "model_name": "LayoutModel",
      "state": {}
     },
     "f7ad9030083948969bf72d157ff47827": {
      "model_module": "@jupyter-widgets/controls",
      "model_module_version": "1.5.0",
      "model_name": "DescriptionStyleModel",
      "state": {
       "description_width": ""
      }
     },
     "f808c285a6b342d991ded1699d94eb32": {
      "model_module": "@jupyter-widgets/controls",
      "model_module_version": "1.5.0",
      "model_name": "DescriptionStyleModel",
      "state": {
       "description_width": ""
      }
     },
     "f99a205742ea4010bcf941b0261e32a8": {
      "model_module": "@jupyter-widgets/controls",
      "model_module_version": "1.5.0",
      "model_name": "HTMLModel",
      "state": {
       "layout": "IPY_MODEL_5a12c636504a4f6d8b28faeaa2e52d84",
       "style": "IPY_MODEL_6560ade6a804489fbc9d67ab27003e62",
       "value": "100%"
      }
     },
     "f99f9fdf5f3c4f10b2d5313336f6035d": {
      "model_module": "@jupyter-widgets/controls",
      "model_module_version": "1.5.0",
      "model_name": "ProgressStyleModel",
      "state": {
       "description_width": ""
      }
     },
     "f9ef40e21dc84ec19664a08f88af6c7c": {
      "model_module": "@jupyter-widgets/base",
      "model_module_version": "1.2.0",
      "model_name": "LayoutModel",
      "state": {}
     },
     "fa516c40043d4b30ba827da9168bc745": {
      "model_module": "@jupyter-widgets/controls",
      "model_module_version": "1.5.0",
      "model_name": "ProgressStyleModel",
      "state": {
       "description_width": ""
      }
     },
     "fa579d2b22d04568bc81431a6e98ff37": {
      "model_module": "@jupyter-widgets/base",
      "model_module_version": "1.2.0",
      "model_name": "LayoutModel",
      "state": {}
     },
     "fa8110ee17b3456096cfd5874e051502": {
      "model_module": "@jupyter-widgets/base",
      "model_module_version": "1.2.0",
      "model_name": "LayoutModel",
      "state": {}
     },
     "fac05fb8288c482aa91bd29b88e13b40": {
      "model_module": "@jupyter-widgets/base",
      "model_module_version": "1.2.0",
      "model_name": "LayoutModel",
      "state": {}
     },
     "fb801bac374c4ad28deef03eb44e99bb": {
      "model_module": "@jupyter-widgets/base",
      "model_module_version": "1.2.0",
      "model_name": "LayoutModel",
      "state": {}
     },
     "fbc01f0d17674ceda123fd6027c768ff": {
      "model_module": "@jupyter-widgets/base",
      "model_module_version": "1.2.0",
      "model_name": "LayoutModel",
      "state": {}
     },
     "fd55ec4156da46c8b9f6bb565c05c04a": {
      "model_module": "@jupyter-widgets/controls",
      "model_module_version": "1.5.0",
      "model_name": "FloatProgressModel",
      "state": {
       "bar_style": "danger",
       "layout": "IPY_MODEL_6c467fd8212b4c2d8dc4c22a8acc898b",
       "max": 100000,
       "style": "IPY_MODEL_7605cf3056894deaa174335d07aadb40",
       "value": 32
      }
     },
     "fdb8ab9deb06414698002beb7600938e": {
      "model_module": "@jupyter-widgets/base",
      "model_module_version": "1.2.0",
      "model_name": "LayoutModel",
      "state": {}
     },
     "feffc483c6674d06b28b4af5be31ed55": {
      "model_module": "@jupyter-widgets/controls",
      "model_module_version": "1.5.0",
      "model_name": "HBoxModel",
      "state": {
       "children": [
        "IPY_MODEL_23db5254a4ca473a9f725f3a6820cafd",
        "IPY_MODEL_0f91498d0ea946e994297e33db06ad37",
        "IPY_MODEL_0fa49c920e8f4e9991c23fb1ba71f4c2"
       ],
       "layout": "IPY_MODEL_8c8193ea3c1e4eb0a49de414e3cc6188"
      }
     }
    },
    "version_major": 2,
    "version_minor": 0
   }
  }
 },
 "nbformat": 4,
 "nbformat_minor": 5
}
