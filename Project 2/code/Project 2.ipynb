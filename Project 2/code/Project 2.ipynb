{
 "cells": [
  {
   "cell_type": "markdown",
   "id": "1b641732",
   "metadata": {},
   "source": [
    "<img src=\"http://imgur.com/1ZcRyrc.png\" style=\"float: left; margin: 20px; height: 55px\">\n",
    "\n",
    "# Project 2"
   ]
  },
  {
   "cell_type": "markdown",
   "id": "33f7524e",
   "metadata": {},
   "source": [
    "## Problem Statement"
   ]
  },
  {
   "cell_type": "markdown",
   "id": "c3bbe553",
   "metadata": {},
   "source": [
    "Suppose that I was a Data Scientist hired by a private real estate firm. The firm would like to know how much they should set their price estimate according to the house's features when purchasing houses from property owners. \n",
    "\n",
    "This project aims to answer that question based on a given dataset and regression models."
   ]
  },
  {
   "cell_type": "markdown",
   "id": "819e8399",
   "metadata": {},
   "source": [
    "### Contents:\n",
    "- [Background](#Background)\n",
    "- [Preprocessing](#Preprocessing)\n",
    "- [Feature Selection & Engineering](#Feature-Selection-&-Engineering)\n",
    "- [Exploratory Data Analysis](#Exploratory-Data-Analysis)\n",
    "- [Data Modelling](#Data-Modelling)\n",
    "- [Conclusions and Recommendations](#Conclusions-and-Recommendations)"
   ]
  },
  {
   "cell_type": "markdown",
   "id": "c4b10535",
   "metadata": {},
   "source": [
    "## Background"
   ]
  },
  {
   "cell_type": "markdown",
   "id": "90c728bb",
   "metadata": {},
   "source": [
    "### Datasets Used"
   ]
  },
  {
   "cell_type": "markdown",
   "id": "a3faac49",
   "metadata": {},
   "source": [
    "* [`test.csv`](../datasets/test.csv): Kaggle dataset\n",
    "* [`train.csv`](../datasets/train.csv): Training dataset"
   ]
  },
  {
   "cell_type": "markdown",
   "id": "01cda9e8",
   "metadata": {},
   "source": [
    "## Preprocessing"
   ]
  },
  {
   "cell_type": "markdown",
   "id": "9d01d08b",
   "metadata": {},
   "source": [
    "### Library Imports"
   ]
  },
  {
   "cell_type": "code",
   "execution_count": 1,
   "id": "0e18d968",
   "metadata": {},
   "outputs": [],
   "source": [
    "# basic libraries\n",
    "import numpy as np\n",
    "import pandas as pd\n",
    "\n",
    "# scikit-learn libraries\n",
    "from sklearn import metrics\n",
    "from sklearn.model_selection import train_test_split, cross_val_score\n",
    "from sklearn.preprocessing import StandardScaler\n",
    "from sklearn.linear_model import(\n",
    "    LinearRegression,\n",
    "    Ridge,\n",
    "    RidgeCV,\n",
    "    Lasso,\n",
    "    LassoCV,\n",
    "    LogisticRegression,\n",
    "    LogisticRegressionCV,\n",
    "    ElasticNetCV\n",
    ")\n",
    "\n",
    "# visualization libraries\n",
    "import matplotlib.pyplot as plt\n",
    "import seaborn as sns\n",
    "\n",
    "%matplotlib inline"
   ]
  },
  {
   "cell_type": "markdown",
   "id": "7606f689",
   "metadata": {},
   "source": [
    "### Data Import"
   ]
  },
  {
   "cell_type": "code",
   "execution_count": 2,
   "id": "901d8d0b",
   "metadata": {},
   "outputs": [],
   "source": [
    "# read in relevant csvs\n",
    "test = pd.read_csv('../datasets/new_test.csv')\n",
    "train = pd.read_csv('../datasets/train.csv')"
   ]
  },
  {
   "cell_type": "markdown",
   "id": "4a18c25b",
   "metadata": {},
   "source": [
    "### Functions Used"
   ]
  },
  {
   "cell_type": "code",
   "execution_count": 3,
   "id": "6659c627",
   "metadata": {},
   "outputs": [],
   "source": [
    "# Function to fill np.nans for list\n",
    "def fill_na_list(list_, df):\n",
    "    for name in list_:\n",
    "        df[name] = df[name].fillna(0)"
   ]
  },
  {
   "cell_type": "code",
   "execution_count": 4,
   "id": "fef9cd7d",
   "metadata": {},
   "outputs": [],
   "source": [
    "# Function to rename column names and replace whitespace with underscore\n",
    "def lower_names(df):\n",
    "    df.columns = df.columns.str.replace(' ','_')\n",
    "    df.columns = df.columns.str.lower()\n",
    "    return df"
   ]
  },
  {
   "cell_type": "code",
   "execution_count": 5,
   "id": "df394685",
   "metadata": {},
   "outputs": [],
   "source": [
    "# Function to plot histogram for two variables\n",
    "def plot_hist(x_, y_, df):\n",
    "    plt.subplots(figsize=(10,5))\n",
    "    sns.histplot(\n",
    "        x=x_,\n",
    "        y=y_,\n",
    "        data=df\n",
    "    );"
   ]
  },
  {
   "cell_type": "code",
   "execution_count": 6,
   "id": "b6fa3b6f",
   "metadata": {},
   "outputs": [],
   "source": [
    "# Function to group two columns and drop those columns, then dummify new column\n",
    "def group_and_drop(new_var, col1, col2, df):\n",
    "    df[new_var] = df[col1]+'_'+df[col2] # grouping\n",
    "    df = df.drop(columns=[col1,col2]) # dropping original columns\n",
    "    return df"
   ]
  },
  {
   "cell_type": "code",
   "execution_count": 7,
   "id": "7c4be1d1",
   "metadata": {},
   "outputs": [],
   "source": [
    "# Function to numerically encode a common ordinal scale found in this data\n",
    "# Poor = 1, Fair = 2, Average = 3, Good = 4, Excellent = 5\n",
    "def encode_scale(col, df):\n",
    "    df[col] = df[col].map(\n",
    "        {\n",
    "            0: 0,\n",
    "            'Po': 1,\n",
    "            'Fa': 2,\n",
    "            'TA': 3,\n",
    "            'Gd': 4,\n",
    "            'Ex': 5\n",
    "        }\n",
    "    )\n",
    "    return df"
   ]
  },
  {
   "cell_type": "code",
   "execution_count": 8,
   "id": "bba6ceee",
   "metadata": {},
   "outputs": [],
   "source": [
    "# Replace with new column, value being mean and drop original columns\n",
    "def mean_drop(col1, col2, new_var, df):\n",
    "    encode_scale(col1, df) # encode col1\n",
    "    encode_scale(col2, df) # encode col2\n",
    "    df[new_var] = (df[col1] + df[col2]) / 2 # get mean in new var col\n",
    "    df = df.drop(columns=[col1, col2]) # drop original columns\n",
    "    return df"
   ]
  },
  {
   "cell_type": "code",
   "execution_count": 9,
   "id": "b6d20e42",
   "metadata": {},
   "outputs": [],
   "source": [
    "# Binarize columns with only two values\n",
    "def binarize_(col, new_col, val1, val0, df):\n",
    "    df[new_col] = df[col].map({val1: 1, val0: 0})\n",
    "    df = df.drop(columns=[col]) # drop original column\n",
    "    return df"
   ]
  },
  {
   "cell_type": "code",
   "execution_count": 10,
   "id": "89dd01c2",
   "metadata": {},
   "outputs": [],
   "source": [
    "# Plot histograms for a list of variables\n",
    "def plot_list_hists(list_, df):\n",
    "    for var in list_:\n",
    "        plt.subplots(figsize=(5,5))\n",
    "        sns.histplot(x=var, data=df, kde=True)"
   ]
  },
  {
   "cell_type": "markdown",
   "id": "2abb13e1",
   "metadata": {},
   "source": [
    "### Data Cleaning"
   ]
  },
  {
   "cell_type": "markdown",
   "id": "11bfcb18",
   "metadata": {},
   "source": [
    "According to the source (http://jse.amstat.org/v19n3/decock/DataDocumentation.txt), there are 23 nominal, 23 ordinal, 14 discrete, and 20 continuous variables."
   ]
  },
  {
   "cell_type": "code",
   "execution_count": 11,
   "id": "bee738e2",
   "metadata": {},
   "outputs": [
    {
     "data": {
      "text/plain": [
       "(2051, 81)"
      ]
     },
     "execution_count": 11,
     "metadata": {},
     "output_type": "execute_result"
    }
   ],
   "source": [
    "train.shape"
   ]
  },
  {
   "cell_type": "code",
   "execution_count": 12,
   "id": "ffdfeb10",
   "metadata": {},
   "outputs": [
    {
     "data": {
      "text/plain": [
       "(879, 80)"
      ]
     },
     "execution_count": 12,
     "metadata": {},
     "output_type": "execute_result"
    }
   ],
   "source": [
    "# ENSURE NUMBER OF ROWS IS SAME AT THE END\n",
    "test.shape"
   ]
  },
  {
   "cell_type": "markdown",
   "id": "2cf343d4",
   "metadata": {},
   "source": [
    "Note that there is one extra column that is not considered a variable in the documentation."
   ]
  },
  {
   "cell_type": "code",
   "execution_count": 13,
   "id": "56e903bc",
   "metadata": {},
   "outputs": [
    {
     "data": {
      "text/html": [
       "<div>\n",
       "<style scoped>\n",
       "    .dataframe tbody tr th:only-of-type {\n",
       "        vertical-align: middle;\n",
       "    }\n",
       "\n",
       "    .dataframe tbody tr th {\n",
       "        vertical-align: top;\n",
       "    }\n",
       "\n",
       "    .dataframe thead th {\n",
       "        text-align: right;\n",
       "    }\n",
       "</style>\n",
       "<table border=\"1\" class=\"dataframe\">\n",
       "  <thead>\n",
       "    <tr style=\"text-align: right;\">\n",
       "      <th></th>\n",
       "      <th>Id</th>\n",
       "      <th>PID</th>\n",
       "      <th>MS SubClass</th>\n",
       "      <th>MS Zoning</th>\n",
       "      <th>Lot Frontage</th>\n",
       "      <th>Lot Area</th>\n",
       "      <th>Street</th>\n",
       "      <th>Alley</th>\n",
       "      <th>Lot Shape</th>\n",
       "      <th>Land Contour</th>\n",
       "      <th>...</th>\n",
       "      <th>Screen Porch</th>\n",
       "      <th>Pool Area</th>\n",
       "      <th>Pool QC</th>\n",
       "      <th>Fence</th>\n",
       "      <th>Misc Feature</th>\n",
       "      <th>Misc Val</th>\n",
       "      <th>Mo Sold</th>\n",
       "      <th>Yr Sold</th>\n",
       "      <th>Sale Type</th>\n",
       "      <th>SalePrice</th>\n",
       "    </tr>\n",
       "  </thead>\n",
       "  <tbody>\n",
       "    <tr>\n",
       "      <th>0</th>\n",
       "      <td>109</td>\n",
       "      <td>533352170</td>\n",
       "      <td>60</td>\n",
       "      <td>RL</td>\n",
       "      <td>NaN</td>\n",
       "      <td>13517</td>\n",
       "      <td>Pave</td>\n",
       "      <td>NaN</td>\n",
       "      <td>IR1</td>\n",
       "      <td>Lvl</td>\n",
       "      <td>...</td>\n",
       "      <td>0</td>\n",
       "      <td>0</td>\n",
       "      <td>NaN</td>\n",
       "      <td>NaN</td>\n",
       "      <td>NaN</td>\n",
       "      <td>0</td>\n",
       "      <td>3</td>\n",
       "      <td>2010</td>\n",
       "      <td>WD</td>\n",
       "      <td>130500</td>\n",
       "    </tr>\n",
       "  </tbody>\n",
       "</table>\n",
       "<p>1 rows × 81 columns</p>\n",
       "</div>"
      ],
      "text/plain": [
       "    Id        PID  MS SubClass MS Zoning  Lot Frontage  Lot Area Street Alley  \\\n",
       "0  109  533352170           60        RL           NaN     13517   Pave   NaN   \n",
       "\n",
       "  Lot Shape Land Contour  ... Screen Porch Pool Area Pool QC Fence  \\\n",
       "0       IR1          Lvl  ...            0         0     NaN   NaN   \n",
       "\n",
       "  Misc Feature Misc Val Mo Sold Yr Sold  Sale Type  SalePrice  \n",
       "0          NaN        0       3    2010        WD      130500  \n",
       "\n",
       "[1 rows x 81 columns]"
      ]
     },
     "execution_count": 13,
     "metadata": {},
     "output_type": "execute_result"
    }
   ],
   "source": [
    "train.head(1)"
   ]
  },
  {
   "cell_type": "markdown",
   "id": "962c0e21",
   "metadata": {},
   "source": [
    "The column is the Id column which will be important in the submission to Kaggle later. We will save it for now and rejoin it later."
   ]
  },
  {
   "cell_type": "code",
   "execution_count": 14,
   "id": "3601d528",
   "metadata": {},
   "outputs": [],
   "source": [
    "train_id = train['Id']\n",
    "test_id = test['Id']"
   ]
  },
  {
   "cell_type": "markdown",
   "id": "7ab32193",
   "metadata": {},
   "source": [
    "Now, we check if the data is complete."
   ]
  },
  {
   "cell_type": "code",
   "execution_count": 15,
   "id": "5c26ae88",
   "metadata": {},
   "outputs": [
    {
     "data": {
      "text/plain": [
       "Pool QC           2042\n",
       "Misc Feature      1986\n",
       "Alley             1911\n",
       "Fence             1651\n",
       "Fireplace Qu      1000\n",
       "Lot Frontage       330\n",
       "Garage Finish      114\n",
       "Garage Qual        114\n",
       "Garage Yr Blt      114\n",
       "Garage Cond        114\n",
       "Garage Type        113\n",
       "Bsmt Exposure       58\n",
       "BsmtFin Type 2      56\n",
       "BsmtFin Type 1      55\n",
       "Bsmt Cond           55\n",
       "Bsmt Qual           55\n",
       "Mas Vnr Area        22\n",
       "Mas Vnr Type        22\n",
       "Bsmt Half Bath       2\n",
       "Bsmt Full Bath       2\n",
       "Garage Area          1\n",
       "Total Bsmt SF        1\n",
       "Bsmt Unf SF          1\n",
       "BsmtFin SF 2         1\n",
       "BsmtFin SF 1         1\n",
       "Garage Cars          1\n",
       "dtype: int64"
      ]
     },
     "execution_count": 15,
     "metadata": {},
     "output_type": "execute_result"
    }
   ],
   "source": [
    "# check for null values\n",
    "missing_data = train.isnull().sum().sort_values(ascending=False)\n",
    "missing_data[missing_data != 0]"
   ]
  },
  {
   "cell_type": "markdown",
   "id": "b86ce990",
   "metadata": {},
   "source": [
    "Steps to be taken to deal with null values:\n",
    "\n",
    "1. There are only 2051 - 2042 = 9 houses with pools, which makes up for 0.43% of the entire data. To make it a fair comparison, houses with Pool QC that has a non-null value will be removed. Same goes for Misc Feature (3.16%) and Alley (6.82%). The reason these houses are removed first before removing the column completely is because these features could contribute significantly to the Sale Price.\n",
    "\n",
    "\n",
    "2. Because of step 1, Pool Area column which is linked to Pool QC as well as Misc Value column which is linked to Misc Feature will be both dropped.\n",
    "\n",
    "\n",
    "3. We can safely assume for columns regarding garage and basement that those missing data implies a lack of garage or basement respectively because the number of missing values for each case are very similar (eg. Bsmt Cond and Bsmt Qual both have 55 missing values). In that case, we can imput a value of 0 for these missing data. But before that we should investigate why some of the numbers do not match up.\n",
    "\n",
    "\n",
    "4. Masonry veneer is mainly an aesthetic feature, and thus should not have a large impact on Sale Price. The columns Mas Vnr Type and Mas Vnr Area will be dropped.\n",
    "\n",
    "\n",
    "5. Remaining columns are Fence, Fireplace Qu, Lot Frontage. By observing the data, we can assume that a missing value for these features implies a lack of said feature. A value of 0 will be imputted for these missing data."
   ]
  },
  {
   "cell_type": "code",
   "execution_count": 16,
   "id": "20529495",
   "metadata": {},
   "outputs": [],
   "source": [
    "# Step 1 - Removing houses with pool and then dropping the column\n",
    "train = train.drop(\n",
    "    train.dropna(\n",
    "        subset=['Pool QC']\n",
    "    ).index\n",
    ").drop(\n",
    "    columns='Pool QC'\n",
    ")\n",
    "\n",
    "test = test.drop(columns='Pool QC')\n",
    "\n",
    "# Repeating for Misc Feature and Alley\n",
    "train = train.drop(\n",
    "    train.dropna(\n",
    "        subset=['Misc Feature']\n",
    "    ).index\n",
    ").drop(\n",
    "    columns='Misc Feature'\n",
    ")\n",
    "train = train.drop(\n",
    "    train.dropna(\n",
    "        subset=['Alley']\n",
    "    ).index\n",
    ").drop(\n",
    "    columns='Alley'\n",
    ")\n",
    "\n",
    "test = test.drop(columns='Misc Feature')\n",
    "test = test.drop(columns='Alley')"
   ]
  },
  {
   "cell_type": "code",
   "execution_count": 17,
   "id": "99674dc8",
   "metadata": {},
   "outputs": [],
   "source": [
    "# Step 2 - Drop Pool Area and Misc Value columns\n",
    "train = train.drop(columns=['Pool Area', 'Misc Val'])\n",
    "\n",
    "test = test.drop(columns=['Pool Area', 'Misc Val'])"
   ]
  },
  {
   "cell_type": "code",
   "execution_count": 18,
   "id": "7f2cb896",
   "metadata": {},
   "outputs": [
    {
     "data": {
      "text/html": [
       "<div>\n",
       "<style scoped>\n",
       "    .dataframe tbody tr th:only-of-type {\n",
       "        vertical-align: middle;\n",
       "    }\n",
       "\n",
       "    .dataframe tbody tr th {\n",
       "        vertical-align: top;\n",
       "    }\n",
       "\n",
       "    .dataframe thead th {\n",
       "        text-align: right;\n",
       "    }\n",
       "</style>\n",
       "<table border=\"1\" class=\"dataframe\">\n",
       "  <thead>\n",
       "    <tr style=\"text-align: right;\">\n",
       "      <th></th>\n",
       "      <th>Garage Type</th>\n",
       "      <th>Garage Finish</th>\n",
       "    </tr>\n",
       "  </thead>\n",
       "  <tbody>\n",
       "    <tr>\n",
       "      <th>1712</th>\n",
       "      <td>Detchd</td>\n",
       "      <td>NaN</td>\n",
       "    </tr>\n",
       "  </tbody>\n",
       "</table>\n",
       "</div>"
      ],
      "text/plain": [
       "     Garage Type Garage Finish\n",
       "1712      Detchd           NaN"
      ]
     },
     "execution_count": 18,
     "metadata": {},
     "output_type": "execute_result"
    }
   ],
   "source": [
    "# Step 3 - Imput value of 0 for missing data in Basement and Garage related columns\n",
    "# Look at why null values in Garage Type do not add up\n",
    "train.loc[\n",
    "    train['Garage Type'].isna() != train['Garage Finish'].isna(),\n",
    "          ['Garage Type', 'Garage Finish']\n",
    "]"
   ]
  },
  {
   "cell_type": "markdown",
   "id": "8178af78",
   "metadata": {},
   "source": [
    "We will remove this house since there is most likely a garage, but we don't know what kind of finish it is."
   ]
  },
  {
   "cell_type": "code",
   "execution_count": 19,
   "id": "f7182d35",
   "metadata": {},
   "outputs": [],
   "source": [
    "# Remove this row \n",
    "train = train.drop(1712)\n",
    "\n",
    "# Imput value of 0 for missing data in Garage\n",
    "fill_na_list([\n",
    "    'Garage Finish',\n",
    "    'Garage Qual',\n",
    "    'Garage Yr Blt',\n",
    "    'Garage Cond',\n",
    "    'Garage Type',\n",
    "    'Garage Area',\n",
    "    'Garage Cars'\n",
    "], train)\n",
    "\n",
    "fill_na_list([\n",
    "    'Garage Finish',\n",
    "    'Garage Qual',\n",
    "    'Garage Yr Blt',\n",
    "    'Garage Cond',\n",
    "    'Garage Type',\n",
    "    'Garage Area',\n",
    "    'Garage Cars'\n",
    "], test)"
   ]
  },
  {
   "cell_type": "code",
   "execution_count": 20,
   "id": "c649ae13",
   "metadata": {},
   "outputs": [
    {
     "data": {
      "text/html": [
       "<div>\n",
       "<style scoped>\n",
       "    .dataframe tbody tr th:only-of-type {\n",
       "        vertical-align: middle;\n",
       "    }\n",
       "\n",
       "    .dataframe tbody tr th {\n",
       "        vertical-align: top;\n",
       "    }\n",
       "\n",
       "    .dataframe thead th {\n",
       "        text-align: right;\n",
       "    }\n",
       "</style>\n",
       "<table border=\"1\" class=\"dataframe\">\n",
       "  <thead>\n",
       "    <tr style=\"text-align: right;\">\n",
       "      <th></th>\n",
       "      <th>Bsmt Exposure</th>\n",
       "      <th>Bsmt Cond</th>\n",
       "      <th>BsmtFin Type 2</th>\n",
       "    </tr>\n",
       "  </thead>\n",
       "  <tbody>\n",
       "    <tr>\n",
       "      <th>1456</th>\n",
       "      <td>NaN</td>\n",
       "      <td>TA</td>\n",
       "      <td>Unf</td>\n",
       "    </tr>\n",
       "    <tr>\n",
       "      <th>1547</th>\n",
       "      <td>NaN</td>\n",
       "      <td>TA</td>\n",
       "      <td>Unf</td>\n",
       "    </tr>\n",
       "    <tr>\n",
       "      <th>1997</th>\n",
       "      <td>NaN</td>\n",
       "      <td>TA</td>\n",
       "      <td>Unf</td>\n",
       "    </tr>\n",
       "  </tbody>\n",
       "</table>\n",
       "</div>"
      ],
      "text/plain": [
       "     Bsmt Exposure Bsmt Cond BsmtFin Type 2\n",
       "1456           NaN        TA            Unf\n",
       "1547           NaN        TA            Unf\n",
       "1997           NaN        TA            Unf"
      ]
     },
     "execution_count": 20,
     "metadata": {},
     "output_type": "execute_result"
    }
   ],
   "source": [
    "# Look at why null values in Bsmt Exposure and BsmtFin Type 2 do not add up\n",
    "train.loc[\n",
    "    train['Bsmt Exposure'].isna() != train['Bsmt Cond'].isna(),\n",
    "          [\n",
    "              'Bsmt Exposure',\n",
    "              'Bsmt Cond',\n",
    "              'BsmtFin Type 2'\n",
    "          ]\n",
    "]"
   ]
  },
  {
   "cell_type": "code",
   "execution_count": 21,
   "id": "e55c3cf4",
   "metadata": {},
   "outputs": [
    {
     "data": {
      "text/html": [
       "<div>\n",
       "<style scoped>\n",
       "    .dataframe tbody tr th:only-of-type {\n",
       "        vertical-align: middle;\n",
       "    }\n",
       "\n",
       "    .dataframe tbody tr th {\n",
       "        vertical-align: top;\n",
       "    }\n",
       "\n",
       "    .dataframe thead th {\n",
       "        text-align: right;\n",
       "    }\n",
       "</style>\n",
       "<table border=\"1\" class=\"dataframe\">\n",
       "  <thead>\n",
       "    <tr style=\"text-align: right;\">\n",
       "      <th></th>\n",
       "      <th>Bsmt Exposure</th>\n",
       "      <th>Bsmt Cond</th>\n",
       "      <th>BsmtFin Type 2</th>\n",
       "    </tr>\n",
       "  </thead>\n",
       "  <tbody>\n",
       "    <tr>\n",
       "      <th>1147</th>\n",
       "      <td>No</td>\n",
       "      <td>TA</td>\n",
       "      <td>NaN</td>\n",
       "    </tr>\n",
       "  </tbody>\n",
       "</table>\n",
       "</div>"
      ],
      "text/plain": [
       "     Bsmt Exposure Bsmt Cond BsmtFin Type 2\n",
       "1147            No        TA            NaN"
      ]
     },
     "execution_count": 21,
     "metadata": {},
     "output_type": "execute_result"
    }
   ],
   "source": [
    "# look at why null values in bsmt cond and bsmtfin type 2 do not add up\n",
    "train.loc[\n",
    "    train['BsmtFin Type 2'].isna() != train['Bsmt Cond'].isna(),\n",
    "          [\n",
    "              'Bsmt Exposure',\n",
    "              'Bsmt Cond',\n",
    "              'BsmtFin Type 2'\n",
    "          ]\n",
    "]"
   ]
  },
  {
   "cell_type": "markdown",
   "id": "9067e09e",
   "metadata": {},
   "source": [
    "Similarly to the garage scenario, these houses will be dropped."
   ]
  },
  {
   "cell_type": "code",
   "execution_count": 22,
   "id": "c0401a6f",
   "metadata": {},
   "outputs": [],
   "source": [
    "# Remove those rows\n",
    "train = train.drop([1456, 1547, 1997, 1147])\n",
    "\n",
    "# Imput value of 0 for missing data in Basement\n",
    "fill_na_list([\n",
    "    'Bsmt Exposure',\n",
    "    'BsmtFin Type 2',\n",
    "    'BsmtFin Type 1',\n",
    "    'Bsmt Cond',\n",
    "    'Bsmt Qual',\n",
    "    'Bsmt Half Bath',\n",
    "    'Bsmt Full Bath',\n",
    "    'Bsmt Unf SF',\n",
    "    'BsmtFin SF 2',\n",
    "    'BsmtFin SF 1',\n",
    "    'Total Bsmt SF'\n",
    "], train)\n",
    "\n",
    "fill_na_list([\n",
    "    'Bsmt Exposure',\n",
    "    'BsmtFin Type 2',\n",
    "    'BsmtFin Type 1',\n",
    "    'Bsmt Cond',\n",
    "    'Bsmt Qual',\n",
    "    'Bsmt Half Bath',\n",
    "    'Bsmt Full Bath',\n",
    "    'Bsmt Unf SF',\n",
    "    'BsmtFin SF 2',\n",
    "    'BsmtFin SF 1',\n",
    "    'Total Bsmt SF'\n",
    "], test)"
   ]
  },
  {
   "cell_type": "code",
   "execution_count": 23,
   "id": "2da7f084",
   "metadata": {},
   "outputs": [],
   "source": [
    "# Step 4 - Drop masonry veneer columns\n",
    "train = train.drop(columns=['Mas Vnr Type', 'Mas Vnr Area'])\n",
    "\n",
    "test = test.drop(columns=['Mas Vnr Type', 'Mas Vnr Area'])"
   ]
  },
  {
   "cell_type": "code",
   "execution_count": 24,
   "id": "b5a70dac",
   "metadata": {},
   "outputs": [],
   "source": [
    "# Step 5 - Input 0 value for remaining null values\n",
    "fill_na_list([\n",
    "    'Fence',\n",
    "    'Fireplace Qu',\n",
    "    'Lot Frontage'\n",
    "], train)\n",
    "\n",
    "fill_na_list([\n",
    "    'Fence',\n",
    "    'Fireplace Qu',\n",
    "    'Lot Frontage'\n",
    "], test)"
   ]
  },
  {
   "cell_type": "code",
   "execution_count": 25,
   "id": "afea1b47",
   "metadata": {},
   "outputs": [
    {
     "data": {
      "text/plain": [
       "Id    0\n",
       "dtype: int64"
      ]
     },
     "execution_count": 25,
     "metadata": {},
     "output_type": "execute_result"
    }
   ],
   "source": [
    "# final check for null values\n",
    "train.isnull().sum().sort_values(ascending=False).head(1)"
   ]
  },
  {
   "cell_type": "code",
   "execution_count": 26,
   "id": "71b65ab4",
   "metadata": {},
   "outputs": [],
   "source": [
    "test = test.fillna(0)"
   ]
  },
  {
   "cell_type": "code",
   "execution_count": 27,
   "id": "eea9e0dc",
   "metadata": {},
   "outputs": [
    {
     "data": {
      "text/plain": [
       "Id    0\n",
       "dtype: int64"
      ]
     },
     "execution_count": 27,
     "metadata": {},
     "output_type": "execute_result"
    }
   ],
   "source": [
    "test.isnull().sum().sort_values(ascending=False).head(1)"
   ]
  },
  {
   "cell_type": "code",
   "execution_count": 28,
   "id": "20b068a8",
   "metadata": {},
   "outputs": [],
   "source": [
    "train = train.drop(columns=['Id', 'PID'])\n",
    "\n",
    "test = test.drop(columns=['Id', 'PID'])"
   ]
  },
  {
   "cell_type": "markdown",
   "id": "e320421f",
   "metadata": {},
   "source": [
    "Now that we no longer have any missing data, we can remove the Id and PID columns."
   ]
  },
  {
   "cell_type": "markdown",
   "id": "a59900db",
   "metadata": {},
   "source": [
    "## Feature Selection & Engineering"
   ]
  },
  {
   "cell_type": "markdown",
   "id": "7acf0d35",
   "metadata": {},
   "source": [
    "### Selection via Correlation"
   ]
  },
  {
   "cell_type": "markdown",
   "id": "1626c28d",
   "metadata": {},
   "source": [
    "The reasons for generating a heatmap is twofold:\n",
    "\n",
    "   1. We now look at the linear correlation between features in order to remove those that will not be significantly useful. \n",
    "    \n",
    "   2. Also, we want to see if features are highly correlated together, and if they are we might want to remove them to reduce collinearity.\n",
    "   \n",
    "The reason we choose 0.5 as our threshold for selection is because it is considered a high correlation if it is greater than 0.5."
   ]
  },
  {
   "cell_type": "code",
   "execution_count": 29,
   "id": "58cef74c",
   "metadata": {},
   "outputs": [
    {
     "data": {
      "image/png": "[encoded data removed]",
      "text/plain": [
       "<Figure size 936x936 with 2 Axes>"
      ]
     },
     "metadata": {
      "needs_background": "light"
     },
     "output_type": "display_data"
    }
   ],
   "source": [
    "collinear_values = train.corr().apply(lambda x: abs(x))\n",
    "collinear_values = collinear_values[collinear_values > 0.5].fillna(0)\n",
    "\n",
    "plt.figure(figsize=(13, 13))\n",
    "\n",
    "plt.title('Correlation > 0.5 Heatmap Between Features', fontsize=20)\n",
    "\n",
    "mask_ = np.zeros_like(train.corr())\n",
    "\n",
    "mask_[np.triu_indices_from(mask_)] = True\n",
    "\n",
    "sns.heatmap(\n",
    "    collinear_values,\n",
    "    cmap='Blues',\n",
    "    mask=mask_,\n",
    "    square=True,\n",
    "    vmin=0.5,\n",
    "    vmax=1\n",
    ");"
   ]
  },
  {
   "cell_type": "markdown",
   "id": "251a9786",
   "metadata": {},
   "source": [
    "We can see that there are several pairs of features with correlation greater than 0.5. Those that particularly stand out as features with collinearity are as follows:\n",
    "\n",
    "   1. Year Remod/Add and Year Built \n",
    "   \n",
    "       - If there was no remodelling done, the value of the two features are the same\n",
    "       \n",
    "       - We will add two new features: House Age (2021 - Year Built) and Remodelled (binary feature)\n",
    "       \n",
    "       - We will remove these two features\n",
    "   \n",
    "   \n",
    "   2. Bsmt Full Bath and BsmtFin SF 1\n",
    "   \n",
    "       - We will remove Bsmt Full Bath\n",
    "   \n",
    "   \n",
    "   3. Gr Liv Area and TotRms AbvGrd\n",
    "       \n",
    "       - The number of rooms is generally related to the living area\n",
    "       \n",
    "       - We will remove TotRms AbvGrd\n",
    "       \n",
    "       \n",
    "   4. Bedroom AbvGr and TotRms AbvGrd\n",
    "   \n",
    "       - Same reasoning as 3.\n",
    "       \n",
    "       - We will remove Bedroom AbvGr\n",
    "       \n",
    "       \n",
    "   5. Garage Area and Garage Cars\n",
    "   \n",
    "       - The number of cars a garage can fit is equivalent to garage area\n",
    "       \n",
    "       - We will remove Garage Cars\n",
    "       \n",
    "       \n",
    "   6. Gr Liv Area and 1st Flr SF and 2nd Flr SF\n",
    "   \n",
    "       - Gr Liv Area is the sum of 1st Flr SF and 2nd Flr SF\n",
    "       \n",
    "       - 1st Flr SF and 2nd Flr SF will be removed\n",
    "       \n",
    "       \n",
    "   7. BsmtFin SF 1 and BsmtFin SF 2 and Total Bsmt SF\n",
    "   \n",
    "       - Total Bsmt SF is the sum of BsmtFin SF 1 and BsmtFin SF 2\n",
    "       \n",
    "       - BsmtFin SF 1 and BsmtFin SF 2 will be removed"
   ]
  },
  {
   "cell_type": "code",
   "execution_count": 30,
   "id": "9a5c4c0e",
   "metadata": {},
   "outputs": [],
   "source": [
    "# step 1: adding new features House Age and Remodelled\n",
    "train['House Age'] = 2021 - train['Year Built']\n",
    "\n",
    "test['House Age'] = 2021 - test['Year Built']\n",
    "\n",
    "def x_fn(row):\n",
    "    row['Remodelled'] = 1 if row['Year Remod/Add'] == row['Year Built'] else 0\n",
    "    return row\n",
    "        \n",
    "train = train.apply(x_fn, axis=1)\n",
    "\n",
    "test = test.apply(x_fn, axis=1)"
   ]
  },
  {
   "cell_type": "code",
   "execution_count": 31,
   "id": "37d97d65",
   "metadata": {},
   "outputs": [],
   "source": [
    "# removing Year Remod/Add and Year Built columns\n",
    "# as well as steps 2 - 5\n",
    "train = train.drop(columns=[\n",
    "    'Year Remod/Add',\n",
    "    'Year Built',\n",
    "    'Bsmt Full Bath',\n",
    "    'TotRms AbvGrd',\n",
    "    'Bedroom AbvGr',\n",
    "    'Garage Cars',\n",
    "    '1st Flr SF',\n",
    "    '2nd Flr SF',\n",
    "    'BsmtFin SF 1',\n",
    "    'BsmtFin SF 2'\n",
    "])\n",
    "\n",
    "test = test.drop(columns=[\n",
    "    'Year Remod/Add',\n",
    "    'Year Built',\n",
    "    'Bsmt Full Bath',\n",
    "    'TotRms AbvGrd',\n",
    "    'Bedroom AbvGr',\n",
    "    'Garage Cars',\n",
    "    '1st Flr SF',\n",
    "    '2nd Flr SF',\n",
    "    'BsmtFin SF 1',\n",
    "    'BsmtFin SF 2'\n",
    "])"
   ]
  },
  {
   "cell_type": "markdown",
   "id": "d74c6e69",
   "metadata": {},
   "source": [
    "Finally, we pull out features with correlation less than 0.3 and drop them."
   ]
  },
  {
   "cell_type": "code",
   "execution_count": 32,
   "id": "5b0e9c00",
   "metadata": {},
   "outputs": [
    {
     "data": {
      "text/plain": [
       "Half Bath          0.278126\n",
       "Garage Yr Blt      0.256012\n",
       "Bsmt Unf SF        0.204248\n",
       "Lot Frontage       0.201067\n",
       "Screen Porch       0.130208\n",
       "Kitchen AbvGr      0.121174\n",
       "Enclosed Porch     0.118478\n",
       "Overall Cond       0.118157\n",
       "MS SubClass        0.091113\n",
       "Bsmt Half Bath     0.057095\n",
       "3Ssn Porch         0.045772\n",
       "Mo Sold            0.036059\n",
       "Low Qual Fin SF    0.033013\n",
       "Remodelled         0.019447\n",
       "Yr Sold            0.018143\n",
       "Name: SalePrice, dtype: float64"
      ]
     },
     "execution_count": 32,
     "metadata": {},
     "output_type": "execute_result"
    }
   ],
   "source": [
    "# features with correlation value less than 0.3 w.r.t. Sale Price\n",
    "corr_values = train.corr()['SalePrice'].apply(lambda x: abs(x)).sort_values(ascending=False)\n",
    "corr_values[(corr_values < 0.3)]"
   ]
  },
  {
   "cell_type": "code",
   "execution_count": 33,
   "id": "58313b4e",
   "metadata": {},
   "outputs": [
    {
     "data": {
      "image/png": "[encoded data removed]",
      "text/plain": [
       "<Figure size 432x288 with 1 Axes>"
      ]
     },
     "metadata": {
      "needs_background": "light"
     },
     "output_type": "display_data"
    }
   ],
   "source": [
    "sns.scatterplot(x=train['Remodelled'], y=train['SalePrice']);"
   ]
  },
  {
   "cell_type": "markdown",
   "id": "01404837",
   "metadata": {},
   "source": [
    "Interestingly, it seems that whether a house had been remodelled has no effect on the price of a house."
   ]
  },
  {
   "cell_type": "code",
   "execution_count": 34,
   "id": "7b179c96",
   "metadata": {},
   "outputs": [],
   "source": [
    "# dropping features with correlation value less than 0.2\n",
    "train = train.drop(columns=[\n",
    "    'Screen Porch',\n",
    "    'Kitchen AbvGr',\n",
    "    'Enclosed Porch',\n",
    "    'Overall Cond',\n",
    "    'MS SubClass',\n",
    "    'Bsmt Half Bath',\n",
    "    '3Ssn Porch',\n",
    "    'Mo Sold',\n",
    "    'Low Qual Fin SF',\n",
    "    'Remodelled',\n",
    "    'Yr Sold',\n",
    "    'Half Bath',\n",
    "    'Garage Yr Blt',\n",
    "    'Bsmt Unf SF',\n",
    "    'Lot Frontage'\n",
    "])\n",
    "\n",
    "test = test.drop(columns=[\n",
    "    'Screen Porch',\n",
    "    'Kitchen AbvGr',\n",
    "    'Enclosed Porch',\n",
    "    'Overall Cond',\n",
    "    'MS SubClass',\n",
    "    'Bsmt Half Bath',\n",
    "    '3Ssn Porch',\n",
    "    'Mo Sold',\n",
    "    'Low Qual Fin SF',\n",
    "    'Remodelled',\n",
    "    'Yr Sold',\n",
    "    'Half Bath',\n",
    "    'Garage Yr Blt',\n",
    "    'Bsmt Unf SF',\n",
    "    'Lot Frontage'\n",
    "])"
   ]
  },
  {
   "cell_type": "markdown",
   "id": "5e6266a4",
   "metadata": {},
   "source": [
    "### Selection via Grouping"
   ]
  },
  {
   "cell_type": "markdown",
   "id": "a5f57cea",
   "metadata": {},
   "source": [
    "Now we look at categorical features and group features that are of similar types so that we can have an overall idea of them. The features that look like they can be grouped are:\n",
    "\n",
    "   - Lot Shape and Lot Config \n",
    "   \n",
    "   - Land Contour and Land Slope\n",
    "   \n",
    "   - Condition 1 and Condition 2\n",
    "   \n",
    "   - MS Zoning and Neighborhood\n",
    "   \n",
    "   - Bldg Type and House Style\n",
    "   \n",
    "   - Roof Style and Roof Matl\n",
    "   \n",
    "   - Exterior 1st and Exterior 2nd\n",
    "   \n",
    "   - Exterior Qual and Exter Cond\n",
    "   \n",
    "   - Bsmt Qual, Bsmt Cond, Bsmt Exposure, BsmtFin Type 1 and BsmtFin Type 2\n",
    "   \n",
    "   - Heating and Heating QC\n",
    "   \n",
    "   - Fireplaces and Fireplace Qu\n",
    "   \n",
    "   - Garage Type, Garage Finish, Garage Qual and Garage Cond\n",
    "   \n",
    "   \n",
    "We will now explore more on how to group them."
   ]
  },
  {
   "cell_type": "code",
   "execution_count": 35,
   "id": "a601cc78",
   "metadata": {
    "scrolled": false
   },
   "outputs": [
    {
     "data": {
      "image/png": "[encoded data removed]",
      "text/plain": [
       "<Figure size 720x360 with 1 Axes>"
      ]
     },
     "metadata": {
      "needs_background": "light"
     },
     "output_type": "display_data"
    }
   ],
   "source": [
    "# histplot for lot shape vs lot config\n",
    "plot_hist('Lot Shape', 'Lot Config', train)"
   ]
  },
  {
   "cell_type": "markdown",
   "id": "ed81e622",
   "metadata": {},
   "source": [
    "It appears that majority of the houses are lot shape = regular and lot config = inside. We could group them into a binary variable Lot_is_Reg_Inside and drop the two original columns."
   ]
  },
  {
   "cell_type": "code",
   "execution_count": 36,
   "id": "69292094",
   "metadata": {},
   "outputs": [],
   "source": [
    "# binarize lot_is_reg_inside and drop original columns\n",
    "def x_fn(row):\n",
    "    row[\n",
    "        'Lot_is_Reg_Inside'\n",
    "    ] = 1 if row[\n",
    "        'Lot Shape'\n",
    "    ] == 'Reg' and row[\n",
    "        'Lot Config'\n",
    "    ] == 'Inside' else 0\n",
    "    return row\n",
    "        \n",
    "train = train.apply(x_fn, axis=1).drop(columns=['Lot Shape', 'Lot Config'])\n",
    "\n",
    "test = test.apply(x_fn, axis=1).drop(columns=['Lot Shape', 'Lot Config'])"
   ]
  },
  {
   "cell_type": "code",
   "execution_count": 37,
   "id": "9b9cb388",
   "metadata": {},
   "outputs": [
    {
     "data": {
      "image/png": "[encoded data removed]",
      "text/plain": [
       "<Figure size 720x360 with 1 Axes>"
      ]
     },
     "metadata": {
      "needs_background": "light"
     },
     "output_type": "display_data"
    }
   ],
   "source": [
    "# histplot for land contour vs land slope\n",
    "plot_hist('Land Contour', 'Land Slope', train)"
   ]
  },
  {
   "cell_type": "markdown",
   "id": "deffc776",
   "metadata": {},
   "source": [
    "Similarly to the lot comparison, majority of houses are on gentle slopage and level ground. We will binarize this to a variable called Land_is_Gtl_Lvl and drop the original columns."
   ]
  },
  {
   "cell_type": "code",
   "execution_count": 38,
   "id": "69af49bc",
   "metadata": {},
   "outputs": [],
   "source": [
    "# binarize land_is_gtl_lvl and drop original columns\n",
    "def x_fn(row):\n",
    "    row[\n",
    "        'Land_is_Gtl_Lvl'\n",
    "    ] = 1 if row[\n",
    "        'Land Slope'\n",
    "    ] == 'Gtl' and row[\n",
    "        'Land Contour'\n",
    "    ] == 'Lvl' else 0\n",
    "    return row\n",
    "        \n",
    "train = train.apply(x_fn, axis=1).drop(columns=['Land Slope', 'Land Contour'])\n",
    "\n",
    "test = test.apply(x_fn, axis=1).drop(columns=['Land Slope', 'Land Contour'])"
   ]
  },
  {
   "cell_type": "code",
   "execution_count": 39,
   "id": "48decd31",
   "metadata": {},
   "outputs": [
    {
     "data": {
      "image/png": "[encoded data removed]",
      "text/plain": [
       "<Figure size 720x360 with 1 Axes>"
      ]
     },
     "metadata": {
      "needs_background": "light"
     },
     "output_type": "display_data"
    }
   ],
   "source": [
    "# Comparing condition 1 to condition 2\n",
    "plot_hist('Condition 1', 'Condition 2', train)"
   ]
  },
  {
   "cell_type": "markdown",
   "id": "11679b2f",
   "metadata": {},
   "source": [
    "Similarly to the previous comparison, majority of houses are not near any railroads or parks. We will binarize this to a variable called Location_is_Normal and drop the original columns."
   ]
  },
  {
   "cell_type": "code",
   "execution_count": 40,
   "id": "a993a08c",
   "metadata": {},
   "outputs": [],
   "source": [
    "# binarize location_is_normal and drop original columns\n",
    "def x_fn(row):\n",
    "    row[\n",
    "        'Location_is_Normal'\n",
    "    ] = 1 if row[\n",
    "        'Condition 1'\n",
    "    ] == 'Norm' and row[\n",
    "        'Condition 2'\n",
    "    ] == 'Norm' else 0\n",
    "    return row\n",
    "        \n",
    "train = train.apply(x_fn, axis=1).drop(columns=['Condition 1', 'Condition 2'])\n",
    "\n",
    "test = test.apply(x_fn, axis=1).drop(columns=['Condition 1', 'Condition 2'])"
   ]
  },
  {
   "cell_type": "code",
   "execution_count": 41,
   "id": "73290d92",
   "metadata": {},
   "outputs": [
    {
     "data": {
      "image/png": "[encoded data removed]",
      "text/plain": [
       "<Figure size 720x360 with 1 Axes>"
      ]
     },
     "metadata": {
      "needs_background": "light"
     },
     "output_type": "display_data"
    }
   ],
   "source": [
    "# compare between MS Zoning and Neighborhood\n",
    "plot_hist('MS Zoning', 'Neighborhood', train)"
   ]
  },
  {
   "cell_type": "markdown",
   "id": "7ba15f10",
   "metadata": {},
   "source": [
    "It is rather difficult to group them by a binary configuration. However, it is clear that there are very few houses in MS Zones FV, C, A, RH and I. In that case, we could drop those, group the remaining values in MS Zoning and Neighborhood into a variable  called Neighborhood_Zone then finally dummifying that variable."
   ]
  },
  {
   "cell_type": "code",
   "execution_count": 42,
   "id": "a56947c7",
   "metadata": {},
   "outputs": [],
   "source": [
    "# Dropping houses that are not RL or RM MS Zoning\n",
    "train = train[train['MS Zoning'].isin(['RL', 'RM'])]"
   ]
  },
  {
   "cell_type": "code",
   "execution_count": 43,
   "id": "006d3e7c",
   "metadata": {},
   "outputs": [],
   "source": [
    "# group and dummify the 2 columns\n",
    "train = group_and_drop(\n",
    "    'Neighborhood_Zone',\n",
    "    'Neighborhood',\n",
    "    'MS Zoning',\n",
    "    train\n",
    ")\n",
    "\n",
    "train = pd.get_dummies(\n",
    "    train,\n",
    "    columns=[\n",
    "        'Neighborhood_Zone'\n",
    "    ], drop_first=True\n",
    ") # dummify grouped column\n",
    "\n",
    "test = group_and_drop(\n",
    "    'Neighborhood_Zone',\n",
    "    'Neighborhood',\n",
    "    'MS Zoning',\n",
    "    test\n",
    ")\n",
    "\n",
    "test = pd.get_dummies(\n",
    "    test,\n",
    "    columns=[\n",
    "        'Neighborhood_Zone'\n",
    "    ], drop_first=True\n",
    ")\n",
    "\n",
    "train, test = train.align(\n",
    "    test,\n",
    "    join='left',\n",
    "    axis=1\n",
    ")"
   ]
  },
  {
   "cell_type": "code",
   "execution_count": 44,
   "id": "7f60f135",
   "metadata": {},
   "outputs": [
    {
     "data": {
      "image/png": "[encoded data removed]",
      "text/plain": [
       "<Figure size 720x360 with 1 Axes>"
      ]
     },
     "metadata": {
      "needs_background": "light"
     },
     "output_type": "display_data"
    }
   ],
   "source": [
    "# Comparing Bldg Type and House Style\n",
    "plot_hist('Bldg Type', 'House Style', train)"
   ]
  },
  {
   "cell_type": "code",
   "execution_count": 45,
   "id": "4e213201",
   "metadata": {},
   "outputs": [
    {
     "data": {
      "text/plain": [
       "False    1467\n",
       "True      279\n",
       "Name: Bldg Type, dtype: int64"
      ]
     },
     "execution_count": 45,
     "metadata": {},
     "output_type": "execute_result"
    }
   ],
   "source": [
    "(train['Bldg Type'] != '1Fam').value_counts()"
   ]
  },
  {
   "cell_type": "markdown",
   "id": "3e58ea6c",
   "metadata": {},
   "source": [
    "There is too significant a number of houses that are not 1Fam Building Type that it is unwise to drop all of them. However, since 2fmCon houses were originally built as a 1Fam house, they can be grouped into a new value called sing_fam. Similarly, TwnhsE and Twnhs can be grouped into a new value called twnhse. Then, the 3 building types can be grouped with house style into a variable called Hse_Style_Type and dummified."
   ]
  },
  {
   "cell_type": "code",
   "execution_count": 46,
   "id": "d7110674",
   "metadata": {},
   "outputs": [],
   "source": [
    "# regrouping values in Bldg Type\n",
    "def x_fn(row):\n",
    "    if row['Bldg Type'] in ['1Fam', '2fmCon']:\n",
    "        row['Bldg Type'] = 'sing_fam'\n",
    "    elif row['Bldg Type'] in ['TwnhsE', 'Twnhs']:\n",
    "        row['Bldg Type'] = 'twnhse'\n",
    "    return row\n",
    "\n",
    "train = train.apply(x_fn, axis=1)\n",
    "\n",
    "test = test.apply(x_fn, axis=1)"
   ]
  },
  {
   "cell_type": "code",
   "execution_count": 47,
   "id": "a2846999",
   "metadata": {},
   "outputs": [],
   "source": [
    "# group and dummify the 2 columns\n",
    "train = group_and_drop(\n",
    "    'Hse_Style_Type',\n",
    "    'House Style',\n",
    "    'Bldg Type',\n",
    "    train\n",
    ")\n",
    "\n",
    "train = pd.get_dummies(\n",
    "    train,\n",
    "    columns=[\n",
    "        'Hse_Style_Type'\n",
    "    ], drop_first=True\n",
    ") # dummify grouped column\n",
    "\n",
    "test = group_and_drop(\n",
    "    'Hse_Style_Type',\n",
    "    'House Style',\n",
    "    'Bldg Type',\n",
    "    test\n",
    ")\n",
    "\n",
    "test = pd.get_dummies(\n",
    "    test,\n",
    "    columns=[\n",
    "        'Hse_Style_Type'\n",
    "    ], drop_first=True\n",
    ") # dummify grouped column\n",
    "\n",
    "train, test = train.align(\n",
    "    test,\n",
    "    join='left',\n",
    "    axis=1\n",
    ")"
   ]
  },
  {
   "cell_type": "code",
   "execution_count": 48,
   "id": "d598eff7",
   "metadata": {},
   "outputs": [
    {
     "data": {
      "image/png": "[encoded data removed]",
      "text/plain": [
       "<Figure size 720x360 with 1 Axes>"
      ]
     },
     "metadata": {
      "needs_background": "light"
     },
     "output_type": "display_data"
    }
   ],
   "source": [
    "# compare roof style and roof matl\n",
    "plot_hist('Roof Style', 'Roof Matl', train)"
   ]
  },
  {
   "cell_type": "markdown",
   "id": "6ffb4229",
   "metadata": {},
   "source": [
    "Majority are roof material composite shingle and roof style gable, so we group them into a binary variable Roof_is_CompShg_Gable."
   ]
  },
  {
   "cell_type": "code",
   "execution_count": 49,
   "id": "1dcc2e26",
   "metadata": {},
   "outputs": [],
   "source": [
    "# binarize roof_is_compshg_gable and drop original columns\n",
    "def x_fn(row):\n",
    "    row[\n",
    "        'Roof_is_CompShg_Gable'\n",
    "    ] = 1 if row[\n",
    "        'Roof Matl'\n",
    "    ] == 'CompShg' and row[\n",
    "        'Roof Style'\n",
    "    ] == 'Gable' else 0\n",
    "    return row\n",
    "        \n",
    "train = train.apply(\n",
    "    x_fn,\n",
    "    axis=1\n",
    ").drop(\n",
    "    columns=[\n",
    "        'Roof Matl',\n",
    "        'Roof Style'\n",
    "    ]\n",
    ")\n",
    "\n",
    "test = test.apply(\n",
    "    x_fn,\n",
    "    axis=1\n",
    ").drop(\n",
    "    columns=[\n",
    "        'Roof Matl',\n",
    "        'Roof Style'\n",
    "    ]\n",
    ")"
   ]
  },
  {
   "cell_type": "markdown",
   "id": "7a5b22ff",
   "metadata": {},
   "source": [
    "For exterior 1st and exterior 2nd, there should be high collinearity between them and Exter Qual and Cond. Going by this assumption, we should drop these columns."
   ]
  },
  {
   "cell_type": "code",
   "execution_count": 50,
   "id": "f39e31ff",
   "metadata": {},
   "outputs": [],
   "source": [
    "train = train.drop(\n",
    "    columns=[\n",
    "        'Exterior 1st',\n",
    "        'Exterior 2nd'\n",
    "    ]\n",
    ")\n",
    "\n",
    "test = test.drop(\n",
    "    columns=[\n",
    "        'Exterior 1st',\n",
    "        'Exterior 2nd'\n",
    "    ]\n",
    ")"
   ]
  },
  {
   "cell_type": "markdown",
   "id": "b1e8c330",
   "metadata": {},
   "source": [
    "Comparing exterior quality and exterior condition, since they are ordinal variables of the same scale, we will convert the variables to a scale score of 1 - 5 and then take the mean of the two."
   ]
  },
  {
   "cell_type": "code",
   "execution_count": 51,
   "id": "33edd6d3",
   "metadata": {},
   "outputs": [],
   "source": [
    "# encode columns\n",
    "train = mean_drop(\n",
    "    'Exter Qual',\n",
    "    'Exter Cond',\n",
    "    'Exter_Qual_Cond',\n",
    "    train\n",
    ")\n",
    "\n",
    "test = mean_drop(\n",
    "    'Exter Qual',\n",
    "    'Exter Cond',\n",
    "    'Exter_Qual_Cond',\n",
    "    test\n",
    ")"
   ]
  },
  {
   "cell_type": "markdown",
   "id": "2c7f0209",
   "metadata": {},
   "source": [
    "Comparing Bsmt Qual, Bsmt Cond, Bsmt Exposure, BsmtFin Type 1 and BsmtFin Type 2, the most insignificant features are Bsmt Exposure, BsmtFin Type 1 and 2. We will convert Bsmt Qual and Bsmt Cond using the same scale as before and then take the mean of the two. We will then drop all the original columns."
   ]
  },
  {
   "cell_type": "code",
   "execution_count": 52,
   "id": "eb499143",
   "metadata": {},
   "outputs": [],
   "source": [
    "# encode columns\n",
    "train = mean_drop(\n",
    "    'Bsmt Qual',\n",
    "    'Bsmt Cond',\n",
    "    'Bsmt_Qual_Cond',\n",
    "    train\n",
    ")\n",
    "\n",
    "test = mean_drop(\n",
    "    'Bsmt Qual',\n",
    "    'Bsmt Cond',\n",
    "    'Bsmt_Qual_Cond',\n",
    "    test\n",
    ")\n",
    "\n",
    "# drop BsmtFin Types 1, 2 and Bsmt Exposure\n",
    "train = train.drop(columns=[\n",
    "    'Bsmt Exposure',\n",
    "    'BsmtFin Type 1',\n",
    "    'BsmtFin Type 2',\n",
    "])\n",
    "\n",
    "test = test.drop(columns=[\n",
    "    'Bsmt Exposure',\n",
    "    'BsmtFin Type 1',\n",
    "    'BsmtFin Type 2',\n",
    "])"
   ]
  },
  {
   "cell_type": "code",
   "execution_count": 53,
   "id": "de47ebdd",
   "metadata": {},
   "outputs": [
    {
     "data": {
      "image/png": "[encoded data removed]",
      "text/plain": [
       "<Figure size 720x360 with 1 Axes>"
      ]
     },
     "metadata": {
      "needs_background": "light"
     },
     "output_type": "display_data"
    }
   ],
   "source": [
    "# comparing heating and heating qc\n",
    "plot_hist('Heating', 'Heating QC', train)"
   ]
  },
  {
   "cell_type": "code",
   "execution_count": 54,
   "id": "2e9bf7dc",
   "metadata": {},
   "outputs": [
    {
     "data": {
      "text/plain": [
       "GasA    0.986254\n",
       "GasW    0.008591\n",
       "Wall    0.002864\n",
       "Grav    0.002291\n",
       "Name: Heating, dtype: float64"
      ]
     },
     "execution_count": 54,
     "metadata": {},
     "output_type": "execute_result"
    }
   ],
   "source": [
    "# get percentage of houses heating types\n",
    "train['Heating'].value_counts(normalize=True)"
   ]
  },
  {
   "cell_type": "markdown",
   "id": "3ac5ab90",
   "metadata": {},
   "source": [
    "There are very few houses with heating that is not GasA type. We can drop those houses, then drop the column and then encode heating QC."
   ]
  },
  {
   "cell_type": "code",
   "execution_count": 55,
   "id": "75c14102",
   "metadata": {},
   "outputs": [],
   "source": [
    "# drop houses that are not gasA type\n",
    "train = train[train['Heating'] == 'GasA']\n",
    "train = train.drop(columns=['Heating'])\n",
    "\n",
    "test = test.drop(columns=['Heating'])\n",
    "\n",
    "# encode heating qc\n",
    "train = encode_scale('Heating QC', train)\n",
    "\n",
    "test = encode_scale('Heating QC', test)"
   ]
  },
  {
   "cell_type": "code",
   "execution_count": 56,
   "id": "2111dafa",
   "metadata": {},
   "outputs": [
    {
     "data": {
      "image/png": "[encoded data removed]",
      "text/plain": [
       "<Figure size 432x288 with 1 Axes>"
      ]
     },
     "metadata": {
      "needs_background": "light"
     },
     "output_type": "display_data"
    }
   ],
   "source": [
    "# count houses with fireplace\n",
    "sns.histplot(data=train, x='Fireplaces');"
   ]
  },
  {
   "cell_type": "markdown",
   "id": "9deac50d",
   "metadata": {},
   "source": [
    "The fireplace column is already in numerical discrete form, and so can be left alone. We can simply encode the fireplace quality column."
   ]
  },
  {
   "cell_type": "code",
   "execution_count": 57,
   "id": "79e55f2c",
   "metadata": {},
   "outputs": [],
   "source": [
    "# count fireplace qu\n",
    "train = encode_scale('Fireplace Qu', train)\n",
    "\n",
    "test = encode_scale('Fireplace Qu', test)"
   ]
  },
  {
   "cell_type": "code",
   "execution_count": 58,
   "id": "68edc7bd",
   "metadata": {},
   "outputs": [
    {
     "data": {
      "image/png": "[encoded data removed]",
      "text/plain": [
       "<Figure size 432x288 with 1 Axes>"
      ]
     },
     "metadata": {
      "needs_background": "light"
     },
     "output_type": "display_data"
    }
   ],
   "source": [
    "sns.histplot(data=train, x='Fireplace Qu');"
   ]
  },
  {
   "cell_type": "code",
   "execution_count": 59,
   "id": "d9d2ed3d",
   "metadata": {},
   "outputs": [
    {
     "data": {
      "text/plain": [
       "Unf    690\n",
       "RFn    497\n",
       "Fin    454\n",
       "0       81\n",
       "Name: Garage Finish, dtype: int64"
      ]
     },
     "execution_count": 59,
     "metadata": {},
     "output_type": "execute_result"
    }
   ],
   "source": [
    "# compare garage type and garage finish\n",
    "train['Garage Finish'].value_counts()"
   ]
  },
  {
   "cell_type": "code",
   "execution_count": 60,
   "id": "6a7e057a",
   "metadata": {},
   "outputs": [
    {
     "data": {
      "text/plain": [
       "Attchd     1076\n",
       "Detchd      393\n",
       "BuiltIn     125\n",
       "0            81\n",
       "Basment      25\n",
       "2Types       14\n",
       "CarPort       8\n",
       "Name: Garage Type, dtype: int64"
      ]
     },
     "execution_count": 60,
     "metadata": {},
     "output_type": "execute_result"
    }
   ],
   "source": [
    "train['Garage Type'].value_counts()"
   ]
  },
  {
   "cell_type": "markdown",
   "id": "e968e19e",
   "metadata": {},
   "source": [
    "It is unlikely that having a garage interior finish will affect sale price significantly. In fact, experts claim that a finished interior could even hurt a house's price (source: https://www.homelight.com/blog/does-a-finished-garage-add-value/#:~:text=A%20finished%20garage%20won't,means%20everything%2C%E2%80%9D%20says%20McKee). Also the type of garage is also found to be insignificant. What is important, however is the existence of a garage. Thus, we drop these two columns."
   ]
  },
  {
   "cell_type": "code",
   "execution_count": 61,
   "id": "bb1b230b",
   "metadata": {},
   "outputs": [],
   "source": [
    "train = train.drop(\n",
    "    columns=[\n",
    "        'Garage Finish',\n",
    "        'Garage Type'\n",
    "    ]\n",
    ")\n",
    "\n",
    "test = test.drop(\n",
    "    columns=[\n",
    "        'Garage Finish',\n",
    "        'Garage Type'\n",
    "    ]\n",
    ")"
   ]
  },
  {
   "cell_type": "markdown",
   "id": "e3655e0a",
   "metadata": {},
   "source": [
    "For Garage Qual and Cond, we perform the above steps used for Bsmt and Exter."
   ]
  },
  {
   "cell_type": "code",
   "execution_count": 62,
   "id": "edc53201",
   "metadata": {},
   "outputs": [],
   "source": [
    "# encode columns\n",
    "train = mean_drop(\n",
    "    'Garage Qual',\n",
    "    'Garage Cond',\n",
    "    'Garage_Qual_Cond',\n",
    "    train\n",
    ")\n",
    "\n",
    "test = mean_drop(\n",
    "    'Garage Qual',\n",
    "    'Garage Cond',\n",
    "    'Garage_Qual_Cond',\n",
    "    test\n",
    ")"
   ]
  },
  {
   "cell_type": "markdown",
   "id": "d63e4251",
   "metadata": {},
   "source": [
    "### Final Touches"
   ]
  },
  {
   "cell_type": "code",
   "execution_count": 63,
   "id": "09924297",
   "metadata": {},
   "outputs": [
    {
     "data": {
      "text/plain": [
       "['Street',\n",
       " 'Utilities',\n",
       " 'Foundation',\n",
       " 'Central Air',\n",
       " 'Electrical',\n",
       " 'Kitchen Qual',\n",
       " 'Functional',\n",
       " 'Paved Drive',\n",
       " 'Fence',\n",
       " 'Sale Type']"
      ]
     },
     "execution_count": 63,
     "metadata": {},
     "output_type": "execute_result"
    }
   ],
   "source": [
    "# get a list of dtype objects\n",
    "list(train.select_dtypes(['object']).columns)"
   ]
  },
  {
   "cell_type": "markdown",
   "id": "f07857f7",
   "metadata": {},
   "source": [
    "There are several columns still containing str values. Let's take a look at how to tackle these columns.\n",
    "\n",
    "   - Street: Only contains values 'Gravel' or 'Paved'. Convert to binary var 'is_paved' where 'Paved': 1, 'Gravel': 0.\n",
    "   \n",
    "   \n",
    "   - Utilities: There is only 1 house which is not AllPub (see value_counts below). We will drop this column.\n",
    "   \n",
    "   \n",
    "   - Foundation: Foundation types have little effect on house price according to source (https://www.homes.com/blog/2013/01/foundations-affect-on-home-value/). What actually matters is whether the foundation has issues. Column to be dropped.\n",
    "   \n",
    "   \n",
    "   - Central Air: Nominal list with 2 unique values: Yes and No. Simple binarization to Yes: 1, No: 0.\n",
    "   \n",
    "   \n",
    "   - Electrical: Data dictionary states it as an ordinal list, which implies that SBrkr>FuseA>FuseF>FuseP>Mix. We can scale it from 5 to 1 respectively.\n",
    "   \n",
    "   \n",
    "   - Kitchen Qual: Ordinal list where we can use encode_scale function as it uses the same rating system.\n",
    "   \n",
    "   \n",
    "   - Functional: Remap Typ: 8, Min1: 7, Min2: 6, Mod: 5, Maj1: 4, Maj2: 3, Sev: 2, Sal: 1. \n",
    "   \n",
    "   \n",
    "   - Paved Drive: Binarize to whether it has a paved drive, with yes being 1.\n",
    "   \n",
    "   \n",
    "   - Fence: The ratings are rather arbitrary, with good privacy not having much of a correlation with whether it is made of good wood. Thus, we will binarize this column to whether a house has a fence or not, with 1 being yes.\n",
    "   \n",
    "   \n",
    "   - Sale Type: Unnecessary column, to be dropped."
   ]
  },
  {
   "cell_type": "code",
   "execution_count": 64,
   "id": "db6efaf3",
   "metadata": {},
   "outputs": [],
   "source": [
    "# convert street to binary\n",
    "train = binarize_(\n",
    "    'Street',\n",
    "    'is_paved',\n",
    "    'Pave',\n",
    "    'Grvl',\n",
    "    train\n",
    ")\n",
    "\n",
    "test = binarize_(\n",
    "    'Street',\n",
    "    'is_paved',\n",
    "    'Pave',\n",
    "    'Grvl',\n",
    "    test\n",
    ")"
   ]
  },
  {
   "cell_type": "code",
   "execution_count": 65,
   "id": "f734dcbf",
   "metadata": {},
   "outputs": [
    {
     "data": {
      "text/plain": [
       "AllPub    1721\n",
       "NoSeWa       1\n",
       "Name: Utilities, dtype: int64"
      ]
     },
     "execution_count": 65,
     "metadata": {},
     "output_type": "execute_result"
    }
   ],
   "source": [
    "train['Utilities'].value_counts()"
   ]
  },
  {
   "cell_type": "code",
   "execution_count": 66,
   "id": "f5aa379f",
   "metadata": {},
   "outputs": [],
   "source": [
    "# drop utilities and foundation\n",
    "train = train.drop(columns=['Utilities', 'Foundation'])\n",
    "\n",
    "test = test.drop(columns=['Utilities', 'Foundation'])"
   ]
  },
  {
   "cell_type": "code",
   "execution_count": 67,
   "id": "df1cbbda",
   "metadata": {},
   "outputs": [],
   "source": [
    "# convert central air to binary\n",
    "train = binarize_(\n",
    "    'Central Air',\n",
    "    'has_ctrl_aircon',\n",
    "    'Y',\n",
    "    'N',\n",
    "    train\n",
    ")\n",
    "\n",
    "test = binarize_(\n",
    "    'Central Air',\n",
    "    'has_ctrl_aircon',\n",
    "    'Y',\n",
    "    'N',\n",
    "    test\n",
    ")"
   ]
  },
  {
   "cell_type": "code",
   "execution_count": 68,
   "id": "1a404534",
   "metadata": {},
   "outputs": [],
   "source": [
    "# scale electrical\n",
    "train['Electrical'] = train['Electrical'].map({\n",
    "    'SBrkr': 5,\n",
    "    'FuseA': 4,\n",
    "    'FuseF': 3,\n",
    "    'FuseP': 2,\n",
    "    'Mix': 1\n",
    "})\n",
    "\n",
    "test['Electrical'] = test['Electrical'].map({\n",
    "    'SBrkr': 5,\n",
    "    'FuseA': 4,\n",
    "    'FuseF': 3,\n",
    "    'FuseP': 2,\n",
    "    'Mix': 1\n",
    "})"
   ]
  },
  {
   "cell_type": "code",
   "execution_count": 69,
   "id": "19ce315f",
   "metadata": {},
   "outputs": [],
   "source": [
    "# scale kitchen qual\n",
    "train = encode_scale('Kitchen Qual', train)\n",
    "\n",
    "test = encode_scale('Kitchen Qual', test)"
   ]
  },
  {
   "cell_type": "code",
   "execution_count": 70,
   "id": "9d9302b5",
   "metadata": {},
   "outputs": [],
   "source": [
    "# scale functional\n",
    "train['Functional'] = train['Functional'].map({\n",
    "    'Typ': 8,\n",
    "    'Min1': 7,\n",
    "    'Min2': 6,\n",
    "    'Mod': 5,\n",
    "    'Maj1': 4,\n",
    "    'Maj2': 3,\n",
    "    'Sev': 2,\n",
    "    'Sal': 1\n",
    "})\n",
    "\n",
    "test['Functional'] = test['Functional'].map({\n",
    "    'Typ': 8,\n",
    "    'Min1': 7,\n",
    "    'Min2': 6,\n",
    "    'Mod': 5,\n",
    "    'Maj1': 4,\n",
    "    'Maj2': 3,\n",
    "    'Sev': 2,\n",
    "    'Sal': 1\n",
    "})"
   ]
  },
  {
   "cell_type": "code",
   "execution_count": 71,
   "id": "7f0017e1",
   "metadata": {},
   "outputs": [],
   "source": [
    "# binarize paved drive\n",
    "train['has_paved_drive'] = train['Paved Drive'].map({\n",
    "    'Y': 1,\n",
    "    'N': 0,\n",
    "    'P': 0,\n",
    "})\n",
    "\n",
    "test['has_paved_drive'] = test['Paved Drive'].map({\n",
    "    'Y': 1,\n",
    "    'N': 0,\n",
    "    'P': 0,\n",
    "})\n",
    "\n",
    "train = train.drop(columns='Paved Drive')\n",
    "\n",
    "test = test.drop(columns='Paved Drive')"
   ]
  },
  {
   "cell_type": "code",
   "execution_count": 72,
   "id": "0752258e",
   "metadata": {},
   "outputs": [],
   "source": [
    "# binarize fence\n",
    "train['has_fence'] = train['Fence'].map({\n",
    "    'MnPrv': 1,\n",
    "    'GdPrv': 1,\n",
    "    'GdWo': 1,\n",
    "    'MnWw': 1,\n",
    "    0: 0\n",
    "})\n",
    "\n",
    "test['has_fence'] = test['Fence'].map({\n",
    "    'MnPrv': 1,\n",
    "    'GdPrv': 1,\n",
    "    'GdWo': 1,\n",
    "    'MnWw': 1,\n",
    "    0: 0\n",
    "})\n",
    "\n",
    "train = train.drop(columns='Fence')\n",
    "\n",
    "test = test.drop(columns='Fence')"
   ]
  },
  {
   "cell_type": "code",
   "execution_count": 73,
   "id": "f5d54c72",
   "metadata": {},
   "outputs": [],
   "source": [
    "# drop sale type\n",
    "train = train.drop(columns='Sale Type')\n",
    "\n",
    "test = test.drop(columns='Sale Type')"
   ]
  },
  {
   "cell_type": "code",
   "execution_count": 74,
   "id": "a998e21f",
   "metadata": {},
   "outputs": [
    {
     "data": {
      "text/plain": [
       "Lot Area    0\n",
       "dtype: int64"
      ]
     },
     "execution_count": 74,
     "metadata": {},
     "output_type": "execute_result"
    }
   ],
   "source": [
    "# final checks. first, confirm no more null values\n",
    "train.isnull().sum().sort_values(ascending=False).head(1)"
   ]
  },
  {
   "cell_type": "code",
   "execution_count": 75,
   "id": "5cf083ef",
   "metadata": {},
   "outputs": [
    {
     "data": {
      "text/plain": [
       "[]"
      ]
     },
     "execution_count": 75,
     "metadata": {},
     "output_type": "execute_result"
    }
   ],
   "source": [
    "# final checks. secondly, confirm no more dtype objects\n",
    "list(train.select_dtypes(['object']).columns)"
   ]
  },
  {
   "cell_type": "code",
   "execution_count": 76,
   "id": "53a461fc",
   "metadata": {},
   "outputs": [
    {
     "data": {
      "text/plain": [
       "[]"
      ]
     },
     "execution_count": 76,
     "metadata": {},
     "output_type": "execute_result"
    }
   ],
   "source": [
    "list(test.select_dtypes(['object']).columns)"
   ]
  },
  {
   "cell_type": "code",
   "execution_count": 77,
   "id": "5e04ed47",
   "metadata": {},
   "outputs": [],
   "source": [
    "# changing column names to lowercase to make it friendlier to read\n",
    "train = lower_names(train)\n",
    "\n",
    "test = lower_names(test)"
   ]
  },
  {
   "cell_type": "markdown",
   "id": "6069ad10",
   "metadata": {},
   "source": [
    "## Exploratory Data Analysis\n"
   ]
  },
  {
   "cell_type": "code",
   "execution_count": 78,
   "id": "4759dbbe",
   "metadata": {},
   "outputs": [
    {
     "data": {
      "text/html": [
       "<div>\n",
       "<style scoped>\n",
       "    .dataframe tbody tr th:only-of-type {\n",
       "        vertical-align: middle;\n",
       "    }\n",
       "\n",
       "    .dataframe tbody tr th {\n",
       "        vertical-align: top;\n",
       "    }\n",
       "\n",
       "    .dataframe thead th {\n",
       "        text-align: right;\n",
       "    }\n",
       "</style>\n",
       "<table border=\"1\" class=\"dataframe\">\n",
       "  <thead>\n",
       "    <tr style=\"text-align: right;\">\n",
       "      <th></th>\n",
       "      <th>count</th>\n",
       "      <th>mean</th>\n",
       "      <th>std</th>\n",
       "      <th>min</th>\n",
       "      <th>25%</th>\n",
       "      <th>50%</th>\n",
       "      <th>75%</th>\n",
       "      <th>max</th>\n",
       "    </tr>\n",
       "  </thead>\n",
       "  <tbody>\n",
       "    <tr>\n",
       "      <th>saleprice</th>\n",
       "      <td>1722.0</td>\n",
       "      <td>185345.693380</td>\n",
       "      <td>81187.519278</td>\n",
       "      <td>12789.0</td>\n",
       "      <td>131125.00</td>\n",
       "      <td>165000.0</td>\n",
       "      <td>217000.00</td>\n",
       "      <td>611657.0</td>\n",
       "    </tr>\n",
       "    <tr>\n",
       "      <th>lot_area</th>\n",
       "      <td>1722.0</td>\n",
       "      <td>10153.458188</td>\n",
       "      <td>5893.455767</td>\n",
       "      <td>1300.0</td>\n",
       "      <td>7660.75</td>\n",
       "      <td>9535.0</td>\n",
       "      <td>11744.25</td>\n",
       "      <td>115149.0</td>\n",
       "    </tr>\n",
       "    <tr>\n",
       "      <th>gr_liv_area</th>\n",
       "      <td>1722.0</td>\n",
       "      <td>1499.738676</td>\n",
       "      <td>492.493667</td>\n",
       "      <td>334.0</td>\n",
       "      <td>1121.25</td>\n",
       "      <td>1456.0</td>\n",
       "      <td>1732.75</td>\n",
       "      <td>3820.0</td>\n",
       "    </tr>\n",
       "    <tr>\n",
       "      <th>total_bsmt_sf</th>\n",
       "      <td>1722.0</td>\n",
       "      <td>1080.141696</td>\n",
       "      <td>428.571303</td>\n",
       "      <td>0.0</td>\n",
       "      <td>816.00</td>\n",
       "      <td>1030.5</td>\n",
       "      <td>1348.00</td>\n",
       "      <td>3200.0</td>\n",
       "    </tr>\n",
       "    <tr>\n",
       "      <th>garage_area</th>\n",
       "      <td>1722.0</td>\n",
       "      <td>478.963415</td>\n",
       "      <td>211.947250</td>\n",
       "      <td>0.0</td>\n",
       "      <td>336.00</td>\n",
       "      <td>480.0</td>\n",
       "      <td>576.00</td>\n",
       "      <td>1356.0</td>\n",
       "    </tr>\n",
       "    <tr>\n",
       "      <th>wood_deck_sf</th>\n",
       "      <td>1722.0</td>\n",
       "      <td>97.560395</td>\n",
       "      <td>129.523155</td>\n",
       "      <td>0.0</td>\n",
       "      <td>0.00</td>\n",
       "      <td>0.0</td>\n",
       "      <td>168.00</td>\n",
       "      <td>1424.0</td>\n",
       "    </tr>\n",
       "    <tr>\n",
       "      <th>open_porch_sf</th>\n",
       "      <td>1722.0</td>\n",
       "      <td>43.924506</td>\n",
       "      <td>60.526809</td>\n",
       "      <td>0.0</td>\n",
       "      <td>0.00</td>\n",
       "      <td>25.0</td>\n",
       "      <td>66.00</td>\n",
       "      <td>502.0</td>\n",
       "    </tr>\n",
       "    <tr>\n",
       "      <th>house_age</th>\n",
       "      <td>1722.0</td>\n",
       "      <td>46.979094</td>\n",
       "      <td>27.523940</td>\n",
       "      <td>12.0</td>\n",
       "      <td>20.00</td>\n",
       "      <td>45.0</td>\n",
       "      <td>65.00</td>\n",
       "      <td>146.0</td>\n",
       "    </tr>\n",
       "    <tr>\n",
       "      <th>fireplace_qu</th>\n",
       "      <td>1722.0</td>\n",
       "      <td>1.869338</td>\n",
       "      <td>1.806696</td>\n",
       "      <td>0.0</td>\n",
       "      <td>0.00</td>\n",
       "      <td>2.0</td>\n",
       "      <td>4.00</td>\n",
       "      <td>5.0</td>\n",
       "    </tr>\n",
       "    <tr>\n",
       "      <th>overall_qual</th>\n",
       "      <td>1722.0</td>\n",
       "      <td>6.160279</td>\n",
       "      <td>1.390965</td>\n",
       "      <td>1.0</td>\n",
       "      <td>5.00</td>\n",
       "      <td>6.0</td>\n",
       "      <td>7.00</td>\n",
       "      <td>10.0</td>\n",
       "    </tr>\n",
       "  </tbody>\n",
       "</table>\n",
       "</div>"
      ],
      "text/plain": [
       "                count           mean           std      min        25%  \\\n",
       "saleprice      1722.0  185345.693380  81187.519278  12789.0  131125.00   \n",
       "lot_area       1722.0   10153.458188   5893.455767   1300.0    7660.75   \n",
       "gr_liv_area    1722.0    1499.738676    492.493667    334.0    1121.25   \n",
       "total_bsmt_sf  1722.0    1080.141696    428.571303      0.0     816.00   \n",
       "garage_area    1722.0     478.963415    211.947250      0.0     336.00   \n",
       "wood_deck_sf   1722.0      97.560395    129.523155      0.0       0.00   \n",
       "open_porch_sf  1722.0      43.924506     60.526809      0.0       0.00   \n",
       "house_age      1722.0      46.979094     27.523940     12.0      20.00   \n",
       "fireplace_qu   1722.0       1.869338      1.806696      0.0       0.00   \n",
       "overall_qual   1722.0       6.160279      1.390965      1.0       5.00   \n",
       "\n",
       "                    50%        75%       max  \n",
       "saleprice      165000.0  217000.00  611657.0  \n",
       "lot_area         9535.0   11744.25  115149.0  \n",
       "gr_liv_area      1456.0    1732.75    3820.0  \n",
       "total_bsmt_sf    1030.5    1348.00    3200.0  \n",
       "garage_area       480.0     576.00    1356.0  \n",
       "wood_deck_sf        0.0     168.00    1424.0  \n",
       "open_porch_sf      25.0      66.00     502.0  \n",
       "house_age          45.0      65.00     146.0  \n",
       "fireplace_qu        2.0       4.00       5.0  \n",
       "overall_qual        6.0       7.00      10.0  "
      ]
     },
     "execution_count": 78,
     "metadata": {},
     "output_type": "execute_result"
    }
   ],
   "source": [
    "# summary statistics\n",
    "train.describe().T.sort_values('std', ascending=False).head(10)"
   ]
  },
  {
   "cell_type": "markdown",
   "id": "b5eac849",
   "metadata": {},
   "source": [
    "There are several features worth exploring. Specifically, there are some continuous and discrete features with a very high standard deviation for their mean. These include lot_area, total_bsmt_sf, gr_liv_area, garage_area, wood_deck_sf, open_porch_sf, saleprice, house_age."
   ]
  },
  {
   "cell_type": "code",
   "execution_count": 79,
   "id": "8f8e632e",
   "metadata": {
    "scrolled": false
   },
   "outputs": [
    {
     "data": {
      "image/png": "[encoded data removed]",
      "text/plain": [
       "<Figure size 360x360 with 1 Axes>"
      ]
     },
     "metadata": {
      "needs_background": "light"
     },
     "output_type": "display_data"
    },
    {
     "data": {
      "image/png": "[encoded data removed]",
      "text/plain": [
       "<Figure size 360x360 with 1 Axes>"
      ]
     },
     "metadata": {
      "needs_background": "light"
     },
     "output_type": "display_data"
    },
    {
     "data": {
      "image/png": "[encoded data removed]",
      "text/plain": [
       "<Figure size 360x360 with 1 Axes>"
      ]
     },
     "metadata": {
      "needs_background": "light"
     },
     "output_type": "display_data"
    },
    {
     "data": {
      "image/png": "[encoded data removed]",
      "text/plain": [
       "<Figure size 360x360 with 1 Axes>"
      ]
     },
     "metadata": {
      "needs_background": "light"
     },
     "output_type": "display_data"
    },
    {
     "data": {
      "image/png": "[encoded data removed]",
      "text/plain": [
       "<Figure size 360x360 with 1 Axes>"
      ]
     },
     "metadata": {
      "needs_background": "light"
     },
     "output_type": "display_data"
    },
    {
     "data": {
      "image/png": "[encoded data removed]",
      "text/plain": [
       "<Figure size 360x360 with 1 Axes>"
      ]
     },
     "metadata": {
      "needs_background": "light"
     },
     "output_type": "display_data"
    },
    {
     "data": {
      "image/png": "[encoded data removed]",
      "text/plain": [
       "<Figure size 360x360 with 1 Axes>"
      ]
     },
     "metadata": {
      "needs_background": "light"
     },
     "output_type": "display_data"
    },
    {
     "data": {
      "image/png": "[encoded data removed]",
      "text/plain": [
       "<Figure size 360x360 with 1 Axes>"
      ]
     },
     "metadata": {
      "needs_background": "light"
     },
     "output_type": "display_data"
    }
   ],
   "source": [
    "# plot histograms for features with high std\n",
    "list_ = [\n",
    "    'lot_area',\n",
    "    'total_bsmt_sf',\n",
    "    'gr_liv_area',\n",
    "    'garage_area',\n",
    "    'wood_deck_sf',\n",
    "    'open_porch_sf',\n",
    "    'saleprice',\n",
    "    'house_age'\n",
    "        ]\n",
    "\n",
    "plot_list_hists(list_, train)"
   ]
  },
  {
   "cell_type": "markdown",
   "id": "89d4cd08",
   "metadata": {},
   "source": [
    "We see that many variables are skewed to the left, signalling outliers on the far right. This is inclusive of saleprice. However, the greatest offenders are lot_area, which has massive outliers, and wood_porch_sf and open_porch_sf, which have far too many 0 values.\n",
    "\n",
    "We could binarize wood_deck_sf and open_porch_sf as well as remove row with lot_area > 20000, especially since there are only 46 such houses."
   ]
  },
  {
   "cell_type": "code",
   "execution_count": 80,
   "id": "403e7445",
   "metadata": {},
   "outputs": [
    {
     "data": {
      "text/plain": [
       "46"
      ]
     },
     "execution_count": 80,
     "metadata": {},
     "output_type": "execute_result"
    }
   ],
   "source": [
    "train.loc[train['lot_area'] > 20000, 'lot_area'].value_counts().sum()"
   ]
  },
  {
   "cell_type": "code",
   "execution_count": 81,
   "id": "84e2f4a0",
   "metadata": {},
   "outputs": [],
   "source": [
    "# remove rows with lot_area > 20000\n",
    "train = train.loc[train['lot_area'] < 20001]"
   ]
  },
  {
   "cell_type": "code",
   "execution_count": 82,
   "id": "a8234418",
   "metadata": {},
   "outputs": [
    {
     "data": {
      "image/png": "[encoded data removed]",
      "text/plain": [
       "<Figure size 432x288 with 1 Axes>"
      ]
     },
     "metadata": {
      "needs_background": "light"
     },
     "output_type": "display_data"
    }
   ],
   "source": [
    "# visualize lot_area again\n",
    "sns.histplot(train['lot_area'], kde=True);"
   ]
  },
  {
   "cell_type": "code",
   "execution_count": 83,
   "id": "602d0de1",
   "metadata": {},
   "outputs": [],
   "source": [
    "# binarize wood_deck_sf and open_porch_sf\n",
    "train['has_wood_deck'] = (train['wood_deck_sf'] == 0) * 1\n",
    "train['has_open_porch'] = (train['open_porch_sf'] == 0) * 1\n",
    "train = train.drop(columns=['wood_deck_sf', 'open_porch_sf'])\n",
    "\n",
    "test['has_wood_deck'] = (test['wood_deck_sf'] == 0) * 1\n",
    "test['has_open_porch'] = (test['open_porch_sf'] == 0) * 1\n",
    "test = test.drop(columns=['wood_deck_sf', 'open_porch_sf'])"
   ]
  },
  {
   "cell_type": "markdown",
   "id": "d9051dc4",
   "metadata": {},
   "source": [
    "Now we try to remove a few outliers from saleprice to try to get it closer to a normal distribution."
   ]
  },
  {
   "cell_type": "code",
   "execution_count": 84,
   "id": "ab91a8c5",
   "metadata": {},
   "outputs": [
    {
     "data": {
      "image/png": "[encoded data removed]",
      "text/plain": [
       "<Figure size 432x288 with 1 Axes>"
      ]
     },
     "metadata": {
      "needs_background": "light"
     },
     "output_type": "display_data"
    }
   ],
   "source": [
    "# visualize target variable SalePrice\n",
    "sns.histplot(train['saleprice'], kde=True);"
   ]
  },
  {
   "cell_type": "code",
   "execution_count": 85,
   "id": "299d448a",
   "metadata": {},
   "outputs": [
    {
     "data": {
      "text/plain": [
       "42"
      ]
     },
     "execution_count": 85,
     "metadata": {},
     "output_type": "execute_result"
    }
   ],
   "source": [
    "# get count of houses with saleprice greater than 400000\n",
    "train.loc[train['saleprice'] > 400000, 'saleprice'].value_counts().sum()"
   ]
  },
  {
   "cell_type": "markdown",
   "id": "aa623314",
   "metadata": {},
   "source": [
    "There is a heavy left skew due to outliers on the right. In order to try to reduce the skew, we can drop rows with saleprice > 400000. Since there are only 42 such houses out of 1722, we can safely drop them."
   ]
  },
  {
   "cell_type": "code",
   "execution_count": 86,
   "id": "63a33432",
   "metadata": {},
   "outputs": [],
   "source": [
    "# remove rows with saleprice > 400000\n",
    "train = train.loc[train['saleprice'] < 400001]"
   ]
  },
  {
   "cell_type": "code",
   "execution_count": 87,
   "id": "917acddb",
   "metadata": {},
   "outputs": [
    {
     "data": {
      "image/png": "[encoded data removed]",
      "text/plain": [
       "<Figure size 432x288 with 1 Axes>"
      ]
     },
     "metadata": {
      "needs_background": "light"
     },
     "output_type": "display_data"
    }
   ],
   "source": [
    "# visualize saleprice again\n",
    "sns.histplot(train['saleprice'], kde=True);"
   ]
  },
  {
   "cell_type": "markdown",
   "id": "7de726ae",
   "metadata": {},
   "source": [
    "Now, we pull out the features that have a greater than 0.5 correlation to SalePrice as a sort of baseline comparison."
   ]
  },
  {
   "cell_type": "code",
   "execution_count": 88,
   "id": "57fa5f54",
   "metadata": {},
   "outputs": [
    {
     "data": {
      "text/plain": [
       "(1634, 80)"
      ]
     },
     "execution_count": 88,
     "metadata": {},
     "output_type": "execute_result"
    }
   ],
   "source": [
    "# checking number of rows left in train data\n",
    "train.shape"
   ]
  },
  {
   "cell_type": "code",
   "execution_count": 89,
   "id": "81ddf994",
   "metadata": {},
   "outputs": [
    {
     "data": {
      "text/plain": [
       "saleprice          1.000000\n",
       "overall_qual       0.810452\n",
       "gr_liv_area        0.718534\n",
       "kitchen_qual       0.690411\n",
       "garage_area        0.659729\n",
       "total_bsmt_sf      0.627745\n",
       "exter_qual_cond    0.594418\n",
       "full_bath          0.566175\n",
       "fireplace_qu       0.528705\n",
       "bsmt_qual_cond     0.511997\n",
       "house_age         -0.607994\n",
       "Name: saleprice, dtype: float64"
      ]
     },
     "execution_count": 89,
     "metadata": {},
     "output_type": "execute_result"
    }
   ],
   "source": [
    "# series of features correlating with SalePrice,\n",
    "# in which absolute correlation value is greater than 0.5\n",
    "corr_values = train.corr()['saleprice'].sort_values(ascending=False)\n",
    "corr_values[(corr_values > 0.5) | (corr_values < -0.5)]"
   ]
  },
  {
   "cell_type": "markdown",
   "id": "e35ec44f",
   "metadata": {},
   "source": [
    "The features with the highest correlation are overall quality, general living area, kitchen quality, garage area, total basement square footage, external quality and condition, full bath, fireplace quality, basement quality and condition, as well as house age."
   ]
  },
  {
   "cell_type": "code",
   "execution_count": 90,
   "id": "97ecb2bf",
   "metadata": {
    "scrolled": false
   },
   "outputs": [
    {
     "data": {
      "image/png": "[encoded data removed]",
      "text/plain": [
       "<Figure size 270x1800 with 10 Axes>"
      ]
     },
     "metadata": {
      "needs_background": "light"
     },
     "output_type": "display_data"
    }
   ],
   "source": [
    "list_good_features = [\n",
    "    'overall_qual',\n",
    "    'gr_liv_area',\n",
    "    'kitchen_qual',\n",
    "    'garage_area',\n",
    "    'total_bsmt_sf',\n",
    "    'exter_qual_cond',\n",
    "    'full_bath',\n",
    "    'fireplace_qu',\n",
    "    'bsmt_qual_cond',  \n",
    "    'house_age',\n",
    "]\n",
    "\n",
    "sns.pairplot(train,\n",
    "             y_vars=list_good_features,\n",
    "             x_vars=['saleprice'],\n",
    "            aspect=1.5);"
   ]
  },
  {
   "cell_type": "markdown",
   "id": "3f34237c",
   "metadata": {},
   "source": [
    "The scatterplots don't seem too interesting, with the exception of outliers in house_age. Generally, sale price decreases as house age increases, but there are 2 houses with a high sale price and are above 100 years old. "
   ]
  },
  {
   "cell_type": "code",
   "execution_count": 91,
   "id": "92cef450",
   "metadata": {},
   "outputs": [
    {
     "data": {
      "text/html": [
       "<div>\n",
       "<style scoped>\n",
       "    .dataframe tbody tr th:only-of-type {\n",
       "        vertical-align: middle;\n",
       "    }\n",
       "\n",
       "    .dataframe tbody tr th {\n",
       "        vertical-align: top;\n",
       "    }\n",
       "\n",
       "    .dataframe thead th {\n",
       "        text-align: right;\n",
       "    }\n",
       "</style>\n",
       "<table border=\"1\" class=\"dataframe\">\n",
       "  <thead>\n",
       "    <tr style=\"text-align: right;\">\n",
       "      <th></th>\n",
       "      <th>lot_area</th>\n",
       "      <th>overall_qual</th>\n",
       "      <th>total_bsmt_sf</th>\n",
       "      <th>heating_qc</th>\n",
       "      <th>electrical</th>\n",
       "      <th>gr_liv_area</th>\n",
       "      <th>full_bath</th>\n",
       "      <th>kitchen_qual</th>\n",
       "      <th>functional</th>\n",
       "      <th>fireplaces</th>\n",
       "      <th>...</th>\n",
       "      <th>roof_is_compshg_gable</th>\n",
       "      <th>exter_qual_cond</th>\n",
       "      <th>bsmt_qual_cond</th>\n",
       "      <th>garage_qual_cond</th>\n",
       "      <th>is_paved</th>\n",
       "      <th>has_ctrl_aircon</th>\n",
       "      <th>has_paved_drive</th>\n",
       "      <th>has_fence</th>\n",
       "      <th>has_wood_deck</th>\n",
       "      <th>has_open_porch</th>\n",
       "    </tr>\n",
       "  </thead>\n",
       "  <tbody>\n",
       "    <tr>\n",
       "      <th>1141</th>\n",
       "      <td>13500</td>\n",
       "      <td>10</td>\n",
       "      <td>1237.0</td>\n",
       "      <td>4</td>\n",
       "      <td>5</td>\n",
       "      <td>2775</td>\n",
       "      <td>3</td>\n",
       "      <td>4</td>\n",
       "      <td>8</td>\n",
       "      <td>1</td>\n",
       "      <td>...</td>\n",
       "      <td>1</td>\n",
       "      <td>5.0</td>\n",
       "      <td>3.0</td>\n",
       "      <td>3.5</td>\n",
       "      <td>1</td>\n",
       "      <td>1</td>\n",
       "      <td>1</td>\n",
       "      <td>0</td>\n",
       "      <td>0</td>\n",
       "      <td>0</td>\n",
       "    </tr>\n",
       "    <tr>\n",
       "      <th>1939</th>\n",
       "      <td>18386</td>\n",
       "      <td>7</td>\n",
       "      <td>1470.0</td>\n",
       "      <td>5</td>\n",
       "      <td>5</td>\n",
       "      <td>3493</td>\n",
       "      <td>3</td>\n",
       "      <td>4</td>\n",
       "      <td>8</td>\n",
       "      <td>1</td>\n",
       "      <td>...</td>\n",
       "      <td>1</td>\n",
       "      <td>3.0</td>\n",
       "      <td>3.0</td>\n",
       "      <td>3.0</td>\n",
       "      <td>1</td>\n",
       "      <td>1</td>\n",
       "      <td>1</td>\n",
       "      <td>0</td>\n",
       "      <td>0</td>\n",
       "      <td>1</td>\n",
       "    </tr>\n",
       "  </tbody>\n",
       "</table>\n",
       "<p>2 rows × 80 columns</p>\n",
       "</div>"
      ],
      "text/plain": [
       "      lot_area  overall_qual  total_bsmt_sf  heating_qc  electrical  \\\n",
       "1141     13500            10         1237.0           4           5   \n",
       "1939     18386             7         1470.0           5           5   \n",
       "\n",
       "      gr_liv_area  full_bath  kitchen_qual  functional  fireplaces  ...  \\\n",
       "1141         2775          3             4           8           1  ...   \n",
       "1939         3493          3             4           8           1  ...   \n",
       "\n",
       "      roof_is_compshg_gable  exter_qual_cond  bsmt_qual_cond  \\\n",
       "1141                      1              5.0             3.0   \n",
       "1939                      1              3.0             3.0   \n",
       "\n",
       "      garage_qual_cond  is_paved  has_ctrl_aircon  has_paved_drive  has_fence  \\\n",
       "1141               3.5         1                1                1          0   \n",
       "1939               3.0         1                1                1          0   \n",
       "\n",
       "      has_wood_deck  has_open_porch  \n",
       "1141              0               0  \n",
       "1939              0               1  \n",
       "\n",
       "[2 rows x 80 columns]"
      ]
     },
     "execution_count": 91,
     "metadata": {},
     "output_type": "execute_result"
    }
   ],
   "source": [
    "# isolating the two outliers\n",
    "train.loc[(train['house_age'] > 100) & (train['saleprice'] > 250000), :]"
   ]
  },
  {
   "cell_type": "code",
   "execution_count": 92,
   "id": "e6e3bd50",
   "metadata": {},
   "outputs": [],
   "source": [
    "# dropping the two outliers\n",
    "train = train.drop([1141, 1939])"
   ]
  },
  {
   "cell_type": "markdown",
   "id": "8e57fdf9",
   "metadata": {},
   "source": [
    "Now, let's take a look at boxplots."
   ]
  },
  {
   "cell_type": "code",
   "execution_count": 93,
   "id": "00f55e7d",
   "metadata": {},
   "outputs": [
    {
     "data": {
      "image/png": "[encoded data removed]",
      "text/plain": [
       "<Figure size 432x288 with 1 Axes>"
      ]
     },
     "metadata": {
      "needs_background": "light"
     },
     "output_type": "display_data"
    }
   ],
   "source": [
    "# boxplots for categorical features with absolute correlation > 0.5\n",
    "sns.boxplot(x='overall_qual', y='saleprice', data=train);"
   ]
  },
  {
   "cell_type": "code",
   "execution_count": 94,
   "id": "95e3896b",
   "metadata": {},
   "outputs": [
    {
     "data": {
      "image/png": "[encoded data removed]",
      "text/plain": [
       "<Figure size 432x288 with 1 Axes>"
      ]
     },
     "metadata": {
      "needs_background": "light"
     },
     "output_type": "display_data"
    }
   ],
   "source": [
    "sns.boxplot(x='kitchen_qual', y='saleprice', data=train);"
   ]
  },
  {
   "cell_type": "code",
   "execution_count": 95,
   "id": "35be2d5e",
   "metadata": {},
   "outputs": [
    {
     "data": {
      "image/png": "[encoded data removed]",
      "text/plain": [
       "<Figure size 432x288 with 1 Axes>"
      ]
     },
     "metadata": {
      "needs_background": "light"
     },
     "output_type": "display_data"
    }
   ],
   "source": [
    "sns.boxplot(x='exter_qual_cond', y='saleprice', data=train);"
   ]
  },
  {
   "cell_type": "code",
   "execution_count": 96,
   "id": "5257e057",
   "metadata": {},
   "outputs": [
    {
     "data": {
      "image/png": "[encoded data removed]",
      "text/plain": [
       "<Figure size 432x288 with 1 Axes>"
      ]
     },
     "metadata": {
      "needs_background": "light"
     },
     "output_type": "display_data"
    }
   ],
   "source": [
    "sns.boxplot(x='full_bath', y='saleprice', data=train);"
   ]
  },
  {
   "cell_type": "code",
   "execution_count": 97,
   "id": "e5d1ccff",
   "metadata": {},
   "outputs": [
    {
     "data": {
      "image/png": "[encoded data removed]",
      "text/plain": [
       "<Figure size 432x288 with 1 Axes>"
      ]
     },
     "metadata": {
      "needs_background": "light"
     },
     "output_type": "display_data"
    }
   ],
   "source": [
    "sns.boxplot(x='fireplace_qu', y='saleprice', data=train);"
   ]
  },
  {
   "cell_type": "code",
   "execution_count": 98,
   "id": "fe7d524a",
   "metadata": {},
   "outputs": [
    {
     "data": {
      "image/png": "[encoded data removed]",
      "text/plain": [
       "<Figure size 432x288 with 1 Axes>"
      ]
     },
     "metadata": {
      "needs_background": "light"
     },
     "output_type": "display_data"
    }
   ],
   "source": [
    "sns.boxplot(x='bsmt_qual_cond', y='saleprice', data=train);"
   ]
  },
  {
   "cell_type": "code",
   "execution_count": 99,
   "id": "f4e9a7c8",
   "metadata": {},
   "outputs": [
    {
     "data": {
      "image/png": "[encoded data removed]",
      "text/plain": [
       "<Figure size 432x288 with 1 Axes>"
      ]
     },
     "metadata": {
      "needs_background": "light"
     },
     "output_type": "display_data"
    }
   ],
   "source": [
    "sns.boxplot(x='house_age', y='saleprice', data=train);"
   ]
  },
  {
   "cell_type": "markdown",
   "id": "eb500493",
   "metadata": {},
   "source": [
    "The boxplots do not show any particular outliers of note. However, it does show that having a fireplace might not be that big of a factor on sale price."
   ]
  },
  {
   "cell_type": "markdown",
   "id": "c28752f0",
   "metadata": {},
   "source": [
    "### Clean Test Data and Export"
   ]
  },
  {
   "cell_type": "code",
   "execution_count": 100,
   "id": "68735d12",
   "metadata": {},
   "outputs": [
    {
     "name": "stdout",
     "output_type": "stream",
     "text": [
      "(1632, 80)\n",
      "(879, 80)\n"
     ]
    }
   ],
   "source": [
    "# check train and test data shapes\n",
    "print(train.shape)\n",
    "print(test.shape)"
   ]
  },
  {
   "cell_type": "code",
   "execution_count": 101,
   "id": "5e91d0f8",
   "metadata": {},
   "outputs": [
    {
     "data": {
      "text/html": [
       "<div>\n",
       "<style scoped>\n",
       "    .dataframe tbody tr th:only-of-type {\n",
       "        vertical-align: middle;\n",
       "    }\n",
       "\n",
       "    .dataframe tbody tr th {\n",
       "        vertical-align: top;\n",
       "    }\n",
       "\n",
       "    .dataframe thead th {\n",
       "        text-align: right;\n",
       "    }\n",
       "</style>\n",
       "<table border=\"1\" class=\"dataframe\">\n",
       "  <thead>\n",
       "    <tr style=\"text-align: right;\">\n",
       "      <th></th>\n",
       "      <th>lot_area</th>\n",
       "      <th>overall_qual</th>\n",
       "      <th>total_bsmt_sf</th>\n",
       "      <th>heating_qc</th>\n",
       "      <th>electrical</th>\n",
       "      <th>gr_liv_area</th>\n",
       "      <th>full_bath</th>\n",
       "      <th>kitchen_qual</th>\n",
       "      <th>functional</th>\n",
       "      <th>fireplaces</th>\n",
       "      <th>...</th>\n",
       "      <th>roof_is_compshg_gable</th>\n",
       "      <th>exter_qual_cond</th>\n",
       "      <th>bsmt_qual_cond</th>\n",
       "      <th>garage_qual_cond</th>\n",
       "      <th>is_paved</th>\n",
       "      <th>has_ctrl_aircon</th>\n",
       "      <th>has_paved_drive</th>\n",
       "      <th>has_fence</th>\n",
       "      <th>has_wood_deck</th>\n",
       "      <th>has_open_porch</th>\n",
       "    </tr>\n",
       "  </thead>\n",
       "  <tbody>\n",
       "    <tr>\n",
       "      <th>0</th>\n",
       "      <td>13517</td>\n",
       "      <td>6</td>\n",
       "      <td>725.0</td>\n",
       "      <td>5</td>\n",
       "      <td>5</td>\n",
       "      <td>1479</td>\n",
       "      <td>2</td>\n",
       "      <td>4</td>\n",
       "      <td>8</td>\n",
       "      <td>0</td>\n",
       "      <td>...</td>\n",
       "      <td>1</td>\n",
       "      <td>3.5</td>\n",
       "      <td>3.0</td>\n",
       "      <td>3.0</td>\n",
       "      <td>1</td>\n",
       "      <td>1</td>\n",
       "      <td>1</td>\n",
       "      <td>0</td>\n",
       "      <td>1</td>\n",
       "      <td>0</td>\n",
       "    </tr>\n",
       "  </tbody>\n",
       "</table>\n",
       "<p>1 rows × 80 columns</p>\n",
       "</div>"
      ],
      "text/plain": [
       "   lot_area  overall_qual  total_bsmt_sf  heating_qc  electrical  gr_liv_area  \\\n",
       "0     13517             6          725.0           5           5         1479   \n",
       "\n",
       "   full_bath  kitchen_qual  functional  fireplaces  ...  \\\n",
       "0          2             4           8           0  ...   \n",
       "\n",
       "   roof_is_compshg_gable  exter_qual_cond  bsmt_qual_cond  garage_qual_cond  \\\n",
       "0                      1              3.5             3.0               3.0   \n",
       "\n",
       "   is_paved  has_ctrl_aircon  has_paved_drive  has_fence  has_wood_deck  \\\n",
       "0         1                1                1          0              1   \n",
       "\n",
       "   has_open_porch  \n",
       "0               0  \n",
       "\n",
       "[1 rows x 80 columns]"
      ]
     },
     "execution_count": 101,
     "metadata": {},
     "output_type": "execute_result"
    }
   ],
   "source": [
    "train.head(1)"
   ]
  },
  {
   "cell_type": "code",
   "execution_count": 102,
   "id": "d175931b",
   "metadata": {},
   "outputs": [
    {
     "data": {
      "text/html": [
       "<div>\n",
       "<style scoped>\n",
       "    .dataframe tbody tr th:only-of-type {\n",
       "        vertical-align: middle;\n",
       "    }\n",
       "\n",
       "    .dataframe tbody tr th {\n",
       "        vertical-align: top;\n",
       "    }\n",
       "\n",
       "    .dataframe thead th {\n",
       "        text-align: right;\n",
       "    }\n",
       "</style>\n",
       "<table border=\"1\" class=\"dataframe\">\n",
       "  <thead>\n",
       "    <tr style=\"text-align: right;\">\n",
       "      <th></th>\n",
       "      <th>lot_area</th>\n",
       "      <th>overall_qual</th>\n",
       "      <th>total_bsmt_sf</th>\n",
       "      <th>heating_qc</th>\n",
       "      <th>electrical</th>\n",
       "      <th>gr_liv_area</th>\n",
       "      <th>full_bath</th>\n",
       "      <th>kitchen_qual</th>\n",
       "      <th>functional</th>\n",
       "      <th>fireplaces</th>\n",
       "      <th>...</th>\n",
       "      <th>roof_is_compshg_gable</th>\n",
       "      <th>exter_qual_cond</th>\n",
       "      <th>bsmt_qual_cond</th>\n",
       "      <th>garage_qual_cond</th>\n",
       "      <th>is_paved</th>\n",
       "      <th>has_ctrl_aircon</th>\n",
       "      <th>has_paved_drive</th>\n",
       "      <th>has_fence</th>\n",
       "      <th>has_wood_deck</th>\n",
       "      <th>has_open_porch</th>\n",
       "    </tr>\n",
       "  </thead>\n",
       "  <tbody>\n",
       "    <tr>\n",
       "      <th>0</th>\n",
       "      <td>9142</td>\n",
       "      <td>6</td>\n",
       "      <td>1020</td>\n",
       "      <td>4</td>\n",
       "      <td>2.0</td>\n",
       "      <td>1928</td>\n",
       "      <td>2</td>\n",
       "      <td>2</td>\n",
       "      <td>8</td>\n",
       "      <td>0</td>\n",
       "      <td>...</td>\n",
       "      <td>1</td>\n",
       "      <td>2.5</td>\n",
       "      <td>2.5</td>\n",
       "      <td>1.0</td>\n",
       "      <td>1</td>\n",
       "      <td>0</td>\n",
       "      <td>1</td>\n",
       "      <td>0</td>\n",
       "      <td>1</td>\n",
       "      <td>0</td>\n",
       "    </tr>\n",
       "  </tbody>\n",
       "</table>\n",
       "<p>1 rows × 80 columns</p>\n",
       "</div>"
      ],
      "text/plain": [
       "   lot_area  overall_qual  total_bsmt_sf  heating_qc  electrical  gr_liv_area  \\\n",
       "0      9142             6           1020           4         2.0         1928   \n",
       "\n",
       "   full_bath  kitchen_qual  functional  fireplaces  ...  \\\n",
       "0          2             2           8           0  ...   \n",
       "\n",
       "   roof_is_compshg_gable  exter_qual_cond  bsmt_qual_cond  garage_qual_cond  \\\n",
       "0                      1              2.5             2.5               1.0   \n",
       "\n",
       "   is_paved  has_ctrl_aircon  has_paved_drive  has_fence  has_wood_deck  \\\n",
       "0         1                0                1          0              1   \n",
       "\n",
       "   has_open_porch  \n",
       "0               0  \n",
       "\n",
       "[1 rows x 80 columns]"
      ]
     },
     "execution_count": 102,
     "metadata": {},
     "output_type": "execute_result"
    }
   ],
   "source": [
    "test.head(1)"
   ]
  },
  {
   "cell_type": "code",
   "execution_count": 103,
   "id": "cb016ca4",
   "metadata": {},
   "outputs": [],
   "source": [
    "# clean differences in train and test set\n",
    "test = test.drop(columns='saleprice')\n",
    "test = test.fillna(0)"
   ]
  },
  {
   "cell_type": "code",
   "execution_count": 104,
   "id": "62d2c8c1",
   "metadata": {},
   "outputs": [
    {
     "name": "stdout",
     "output_type": "stream",
     "text": [
      "(1632, 80)\n",
      "(879, 79)\n"
     ]
    }
   ],
   "source": [
    "# final check train and test data shapes\n",
    "print(train.shape)\n",
    "print(test.shape)"
   ]
  },
  {
   "cell_type": "code",
   "execution_count": 105,
   "id": "1a7bb323",
   "metadata": {},
   "outputs": [],
   "source": [
    "# export to csv\n",
    "train.to_csv('../datasets/train_clean.csv')\n",
    "test.to_csv('../datasets/test_clean.csv')"
   ]
  },
  {
   "cell_type": "markdown",
   "id": "6d789d36",
   "metadata": {},
   "source": [
    "## Data Modelling"
   ]
  },
  {
   "cell_type": "markdown",
   "id": "9575dd3c",
   "metadata": {},
   "source": [
    "### Train-Test Split and Scaling"
   ]
  },
  {
   "cell_type": "code",
   "execution_count": 106,
   "id": "e3379028",
   "metadata": {},
   "outputs": [],
   "source": [
    "# determination of x and y features\n",
    "X = train.drop(columns='saleprice')\n",
    "y = train['saleprice']"
   ]
  },
  {
   "cell_type": "code",
   "execution_count": 107,
   "id": "7827dd6d",
   "metadata": {},
   "outputs": [],
   "source": [
    "# train-test-split of train set to train and holdout sets\n",
    "\n",
    "X_train, X_holdout, y_train, y_holdout = train_test_split(\n",
    "    X,\n",
    "    y,\n",
    "    test_size=0.2,\n",
    "    random_state=42\n",
    ")"
   ]
  },
  {
   "cell_type": "code",
   "execution_count": 108,
   "id": "ca684b80",
   "metadata": {},
   "outputs": [],
   "source": [
    "# instantiate StandardScaler and transform\n",
    "ss = StandardScaler()\n",
    "Z_train = ss.fit_transform(X_train)\n",
    "Z_holdout = ss.transform(X_holdout)"
   ]
  },
  {
   "cell_type": "markdown",
   "id": "48fa623f",
   "metadata": {},
   "source": [
    "### Linear Regression"
   ]
  },
  {
   "cell_type": "code",
   "execution_count": 109,
   "id": "2220ab6b",
   "metadata": {},
   "outputs": [],
   "source": [
    "# instantiate LinearRegression\n",
    "lr = LinearRegression()"
   ]
  },
  {
   "cell_type": "code",
   "execution_count": 110,
   "id": "e2c9347f",
   "metadata": {},
   "outputs": [],
   "source": [
    "# fit model\n",
    "lr_basic = lr.fit(Z_train, y_train)"
   ]
  },
  {
   "cell_type": "code",
   "execution_count": 111,
   "id": "1a0b575b",
   "metadata": {},
   "outputs": [
    {
     "data": {
      "text/plain": [
       "0.9047661892538099"
      ]
     },
     "execution_count": 111,
     "metadata": {},
     "output_type": "execute_result"
    }
   ],
   "source": [
    "# baseline r2\n",
    "lr_basic.score(Z_train, y_train)"
   ]
  },
  {
   "cell_type": "code",
   "execution_count": 112,
   "id": "0bdeb247",
   "metadata": {},
   "outputs": [
    {
     "data": {
      "text/plain": [
       "0.8902364343761786"
      ]
     },
     "execution_count": 112,
     "metadata": {},
     "output_type": "execute_result"
    }
   ],
   "source": [
    "# holdout r2\n",
    "lr_basic.score(Z_holdout, y_holdout)"
   ]
  },
  {
   "cell_type": "code",
   "execution_count": 113,
   "id": "a142d02a",
   "metadata": {},
   "outputs": [
    {
     "data": {
      "text/plain": [
       "0.9417485937144146"
      ]
     },
     "execution_count": 113,
     "metadata": {},
     "output_type": "execute_result"
    }
   ],
   "source": [
    "# cross validation score\n",
    "np.sqrt(\n",
    "    np.abs(\n",
    "        cross_val_score(\n",
    "            lr,\n",
    "            X_train,\n",
    "            y_train,\n",
    "            cv=5,\n",
    "        ).mean(\n",
    "        )\n",
    "    )\n",
    ")"
   ]
  },
  {
   "cell_type": "code",
   "execution_count": 114,
   "id": "1730072a",
   "metadata": {},
   "outputs": [],
   "source": [
    "# predict y\n",
    "y_predict = lr_basic.predict(Z_holdout)"
   ]
  },
  {
   "cell_type": "code",
   "execution_count": 115,
   "id": "8b3b53f7",
   "metadata": {},
   "outputs": [
    {
     "data": {
      "text/plain": [
       "20793.593077898553"
      ]
     },
     "execution_count": 115,
     "metadata": {},
     "output_type": "execute_result"
    }
   ],
   "source": [
    "# RMSE\n",
    "np.sqrt(metrics.mean_squared_error(y_holdout, y_predict))"
   ]
  },
  {
   "cell_type": "markdown",
   "id": "23755339",
   "metadata": {},
   "source": [
    "### Ridge Regression"
   ]
  },
  {
   "cell_type": "code",
   "execution_count": 116,
   "id": "b64625b3",
   "metadata": {},
   "outputs": [],
   "source": [
    "# instantiate model\n",
    "ridge_a10 = Ridge(alpha=10)"
   ]
  },
  {
   "cell_type": "code",
   "execution_count": 117,
   "id": "4de5d536",
   "metadata": {},
   "outputs": [
    {
     "data": {
      "text/plain": [
       "Ridge(alpha=10)"
      ]
     },
     "execution_count": 117,
     "metadata": {},
     "output_type": "execute_result"
    }
   ],
   "source": [
    "# fit model\n",
    "ridge_a10.fit(Z_train, y_train)"
   ]
  },
  {
   "cell_type": "code",
   "execution_count": 118,
   "id": "e59878e2",
   "metadata": {},
   "outputs": [
    {
     "data": {
      "text/plain": [
       "0.9047099602153512"
      ]
     },
     "execution_count": 118,
     "metadata": {},
     "output_type": "execute_result"
    }
   ],
   "source": [
    "# baseline r2\n",
    "ridge_a10.score(Z_train, y_train)"
   ]
  },
  {
   "cell_type": "code",
   "execution_count": 119,
   "id": "a145d29e",
   "metadata": {},
   "outputs": [
    {
     "data": {
      "text/plain": [
       "0.8902821581520023"
      ]
     },
     "execution_count": 119,
     "metadata": {},
     "output_type": "execute_result"
    }
   ],
   "source": [
    "# holdout r2\n",
    "ridge_a10.score(Z_holdout, y_holdout)"
   ]
  },
  {
   "cell_type": "code",
   "execution_count": 120,
   "id": "8db2867a",
   "metadata": {},
   "outputs": [
    {
     "data": {
      "text/plain": [
       "0.9420784810213731"
      ]
     },
     "execution_count": 120,
     "metadata": {},
     "output_type": "execute_result"
    }
   ],
   "source": [
    "# cross validation score\n",
    "np.sqrt(\n",
    "    np.abs(\n",
    "        cross_val_score(\n",
    "            ridge_a10,\n",
    "            Z_train,\n",
    "            y_train,\n",
    "            cv=5,\n",
    "        ).mean(\n",
    "        )\n",
    "    )\n",
    ")"
   ]
  },
  {
   "cell_type": "code",
   "execution_count": 121,
   "id": "72d0ac61",
   "metadata": {},
   "outputs": [],
   "source": [
    "ridge_a10_pred = ridge_a10.predict(Z_holdout)"
   ]
  },
  {
   "cell_type": "code",
   "execution_count": 122,
   "id": "80cfe594",
   "metadata": {},
   "outputs": [
    {
     "data": {
      "text/plain": [
       "20789.261674224483"
      ]
     },
     "execution_count": 122,
     "metadata": {},
     "output_type": "execute_result"
    }
   ],
   "source": [
    "# RMSE for ridge alpha 10\n",
    "np.sqrt(metrics.mean_squared_error(y_holdout, ridge_a10_pred))"
   ]
  },
  {
   "cell_type": "code",
   "execution_count": 123,
   "id": "9a531bdf",
   "metadata": {},
   "outputs": [],
   "source": [
    "# list of ridge alphas to check\n",
    "r_alphas = np.logspace(0, 50, 100)\n",
    "\n",
    "# cross validate over list\n",
    "regr_cv = RidgeCV(alphas=r_alphas, scoring='r2', cv=5)\n",
    "\n",
    "# fit with best alpha\n",
    "ridge_cv = regr_cv.fit(Z_train, y_train)"
   ]
  },
  {
   "cell_type": "code",
   "execution_count": 124,
   "id": "6b5742bb",
   "metadata": {},
   "outputs": [
    {
     "data": {
      "text/plain": [
       "32.74549162877728"
      ]
     },
     "execution_count": 124,
     "metadata": {},
     "output_type": "execute_result"
    }
   ],
   "source": [
    "# optimal value of alpha\n",
    "ridge_cv.alpha_"
   ]
  },
  {
   "cell_type": "code",
   "execution_count": 125,
   "id": "2288e44f",
   "metadata": {},
   "outputs": [
    {
     "data": {
      "text/plain": [
       "0.9421942665994856"
      ]
     },
     "execution_count": 125,
     "metadata": {},
     "output_type": "execute_result"
    }
   ],
   "source": [
    "# repeat for optimal value of alpha\n",
    "ridge_aoptimal = Ridge(alpha=32.74549162877728)\n",
    "ridge_aoptimal.fit(Z_train, y_train)\n",
    "np.sqrt(\n",
    "    np.abs(\n",
    "        cross_val_score(\n",
    "            ridge_aoptimal,\n",
    "            Z_train,\n",
    "            y_train,\n",
    "            cv=5,\n",
    "        ).mean(\n",
    "        )\n",
    "    )\n",
    ")"
   ]
  },
  {
   "cell_type": "code",
   "execution_count": 126,
   "id": "9ac8431a",
   "metadata": {},
   "outputs": [],
   "source": [
    "ridge_aoptimal_pred = ridge_aoptimal.predict(Z_holdout)"
   ]
  },
  {
   "cell_type": "code",
   "execution_count": 127,
   "id": "03222c46",
   "metadata": {},
   "outputs": [
    {
     "data": {
      "text/plain": [
       "20796.163134621125"
      ]
     },
     "execution_count": 127,
     "metadata": {},
     "output_type": "execute_result"
    }
   ],
   "source": [
    "np.sqrt(metrics.mean_squared_error(y_holdout, ridge_aoptimal_pred))"
   ]
  },
  {
   "cell_type": "markdown",
   "id": "ce7ff8fc",
   "metadata": {},
   "source": [
    "### LASSO Regression"
   ]
  },
  {
   "cell_type": "code",
   "execution_count": 128,
   "id": "d87d62dd",
   "metadata": {},
   "outputs": [],
   "source": [
    "# instantiate model\n",
    "lasso_a200 = LassoCV(n_alphas=200)"
   ]
  },
  {
   "cell_type": "code",
   "execution_count": 129,
   "id": "3aaf2dbb",
   "metadata": {},
   "outputs": [
    {
     "data": {
      "text/plain": [
       "LassoCV(n_alphas=200)"
      ]
     },
     "execution_count": 129,
     "metadata": {},
     "output_type": "execute_result"
    }
   ],
   "source": [
    "# fit model\n",
    "lasso_a200.fit(Z_train, y_train)"
   ]
  },
  {
   "cell_type": "code",
   "execution_count": 130,
   "id": "cedd829e",
   "metadata": {},
   "outputs": [
    {
     "data": {
      "text/plain": [
       "0.9042350137784163"
      ]
     },
     "execution_count": 130,
     "metadata": {},
     "output_type": "execute_result"
    }
   ],
   "source": [
    "# baseline r2\n",
    "lasso_a200.score(Z_train, y_train)"
   ]
  },
  {
   "cell_type": "code",
   "execution_count": 131,
   "id": "02f2f9da",
   "metadata": {},
   "outputs": [
    {
     "data": {
      "text/plain": [
       "0.8911519333814975"
      ]
     },
     "execution_count": 131,
     "metadata": {},
     "output_type": "execute_result"
    }
   ],
   "source": [
    "# holdout r2\n",
    "lasso_a200.score(Z_holdout, y_holdout)"
   ]
  },
  {
   "cell_type": "code",
   "execution_count": 132,
   "id": "fd7af1bf",
   "metadata": {},
   "outputs": [
    {
     "data": {
      "text/plain": [
       "0.9419017113989967"
      ]
     },
     "execution_count": 132,
     "metadata": {},
     "output_type": "execute_result"
    }
   ],
   "source": [
    "# cross validation score\n",
    "np.sqrt(\n",
    "    np.abs(\n",
    "        cross_val_score(\n",
    "            lasso_a200,\n",
    "            Z_train,\n",
    "            y_train,\n",
    "            cv=5,\n",
    "        ).mean(\n",
    "        )\n",
    "    )\n",
    ")"
   ]
  },
  {
   "cell_type": "code",
   "execution_count": 133,
   "id": "a94bb166",
   "metadata": {},
   "outputs": [
    {
     "data": {
      "text/plain": [
       "20706.695507284032"
      ]
     },
     "execution_count": 133,
     "metadata": {},
     "output_type": "execute_result"
    }
   ],
   "source": [
    "lasso_a200_pred = lasso_a200.predict(Z_holdout)\n",
    "\n",
    "# RMSE for lasso alpha 200\n",
    "np.sqrt(metrics.mean_squared_error(y_holdout, lasso_a200_pred))"
   ]
  },
  {
   "cell_type": "code",
   "execution_count": 134,
   "id": "967ecb16",
   "metadata": {},
   "outputs": [],
   "source": [
    "# Set up a list of Lasso alphas to check.\n",
    "l_alphas = np.logspace(-3, 0, 100)\n",
    "\n",
    "# Cross-validate over our list of Lasso alphas.\n",
    "lasso_cv = LassoCV(alphas=l_alphas, cv=5, max_iter=50000)\n",
    "\n",
    "# Fit model using best ridge alpha!\n",
    "lasso_cv.fit(Z_train, y_train);"
   ]
  },
  {
   "cell_type": "code",
   "execution_count": 135,
   "id": "8d4d358c",
   "metadata": {},
   "outputs": [
    {
     "data": {
      "text/plain": [
       "1.0"
      ]
     },
     "execution_count": 135,
     "metadata": {},
     "output_type": "execute_result"
    }
   ],
   "source": [
    "# Here is the optimal value of alpha\n",
    "lasso_cv.alpha_"
   ]
  },
  {
   "cell_type": "code",
   "execution_count": 136,
   "id": "45f04b57",
   "metadata": {},
   "outputs": [
    {
     "data": {
      "text/plain": [
       "0.9421245758361945"
      ]
     },
     "execution_count": 136,
     "metadata": {},
     "output_type": "execute_result"
    }
   ],
   "source": [
    "# repeat for optimal value of alpha\n",
    "lasso_aoptimal = LassoCV(n_alphas=1)\n",
    "lasso_aoptimal.fit(Z_train, y_train)\n",
    "np.sqrt(\n",
    "    np.abs(\n",
    "        cross_val_score(\n",
    "            lasso_aoptimal,\n",
    "            Z_train,\n",
    "            y_train,\n",
    "            cv=5,\n",
    "        ).mean(\n",
    "        )\n",
    "    )\n",
    ")"
   ]
  },
  {
   "cell_type": "code",
   "execution_count": 137,
   "id": "864545d8",
   "metadata": {},
   "outputs": [
    {
     "data": {
      "text/plain": [
       "20746.671233003854"
      ]
     },
     "execution_count": 137,
     "metadata": {},
     "output_type": "execute_result"
    }
   ],
   "source": [
    "lasso_aoptimal_pred = lasso_aoptimal.predict(Z_holdout)\n",
    "\n",
    "# RMSE for lasso alpha optimal\n",
    "np.sqrt(metrics.mean_squared_error(y_holdout, lasso_aoptimal_pred))"
   ]
  },
  {
   "cell_type": "markdown",
   "id": "41544d0e",
   "metadata": {},
   "source": [
    "### ElasticNet Regularization"
   ]
  },
  {
   "cell_type": "code",
   "execution_count": 138,
   "id": "b9865b5b",
   "metadata": {},
   "outputs": [],
   "source": [
    "# Set up a list of alphas to check\n",
    "enet_alphas = np.linspace(0.5, 1.0, 100)\n",
    "\n",
    "# Instantiate model\n",
    "enet_model1 = ElasticNetCV(alphas=enet_alphas, l1_ratio=0.5, cv=5)\n",
    "\n",
    "# Fit model using optimal alpha\n",
    "enet_model1 = enet_model1.fit(Z_train, y_train)"
   ]
  },
  {
   "cell_type": "code",
   "execution_count": 139,
   "id": "b37c67d3",
   "metadata": {},
   "outputs": [
    {
     "data": {
      "text/plain": [
       "0.5"
      ]
     },
     "execution_count": 139,
     "metadata": {},
     "output_type": "execute_result"
    }
   ],
   "source": [
    "# optimal alpha\n",
    "enet_model1.alpha_"
   ]
  },
  {
   "cell_type": "code",
   "execution_count": 140,
   "id": "34d14713",
   "metadata": {},
   "outputs": [
    {
     "data": {
      "text/plain": [
       "0.9390232911134095"
      ]
     },
     "execution_count": 140,
     "metadata": {},
     "output_type": "execute_result"
    }
   ],
   "source": [
    "# cross val score\n",
    "np.sqrt(\n",
    "    np.abs(\n",
    "        cross_val_score(\n",
    "            enet_model1,\n",
    "            Z_train,\n",
    "            y_train,\n",
    "            cv=5,\n",
    "        ).mean(\n",
    "        )\n",
    "    )\n",
    ")"
   ]
  },
  {
   "cell_type": "code",
   "execution_count": 141,
   "id": "bc167e9e",
   "metadata": {},
   "outputs": [],
   "source": [
    "enet_pred1 = enet_model1.predict(Z_holdout)"
   ]
  },
  {
   "cell_type": "code",
   "execution_count": 142,
   "id": "32cddcbd",
   "metadata": {},
   "outputs": [
    {
     "data": {
      "text/plain": [
       "21216.874918794816"
      ]
     },
     "execution_count": 142,
     "metadata": {},
     "output_type": "execute_result"
    }
   ],
   "source": [
    "# RMSE for elasticnet model\n",
    "np.sqrt(metrics.mean_squared_error(y_holdout, enet_pred1))"
   ]
  },
  {
   "cell_type": "markdown",
   "id": "77cf690d",
   "metadata": {},
   "source": [
    "#### Repeat for l1 ratio = 0.9"
   ]
  },
  {
   "cell_type": "code",
   "execution_count": 143,
   "id": "31e6ca49",
   "metadata": {},
   "outputs": [],
   "source": [
    "# Set up a list of alphas to check\n",
    "enet_alphas = np.linspace(0.5, 1.0, 100)\n",
    "\n",
    "# Instantiate model\n",
    "enet_model2 = ElasticNetCV(alphas=enet_alphas, l1_ratio=0.9, cv=5)\n",
    "\n",
    "# Fit model using optimal alpha\n",
    "enet_model2 = enet_model2.fit(Z_train, y_train)"
   ]
  },
  {
   "cell_type": "code",
   "execution_count": 144,
   "id": "794e0048",
   "metadata": {},
   "outputs": [
    {
     "data": {
      "text/plain": [
       "0.5"
      ]
     },
     "execution_count": 144,
     "metadata": {},
     "output_type": "execute_result"
    }
   ],
   "source": [
    "# optimal alpha\n",
    "enet_model2.alpha_"
   ]
  },
  {
   "cell_type": "code",
   "execution_count": 145,
   "id": "95c952d8",
   "metadata": {},
   "outputs": [
    {
     "data": {
      "text/plain": [
       "0.9420365448965485"
      ]
     },
     "execution_count": 145,
     "metadata": {},
     "output_type": "execute_result"
    }
   ],
   "source": [
    "# cross val score\n",
    "np.sqrt(\n",
    "    np.abs(\n",
    "        cross_val_score(\n",
    "            enet_model2,\n",
    "            Z_train,\n",
    "            y_train,\n",
    "            cv=5,\n",
    "        ).mean(\n",
    "        )\n",
    "    )\n",
    ")"
   ]
  },
  {
   "cell_type": "code",
   "execution_count": 146,
   "id": "c0bc6a65",
   "metadata": {},
   "outputs": [],
   "source": [
    "enet_pred2 = enet_model2.predict(Z_holdout)"
   ]
  },
  {
   "cell_type": "code",
   "execution_count": 147,
   "id": "806a4e19",
   "metadata": {},
   "outputs": [
    {
     "data": {
      "text/plain": [
       "20823.03884079805"
      ]
     },
     "execution_count": 147,
     "metadata": {},
     "output_type": "execute_result"
    }
   ],
   "source": [
    "# RMSE for elasticnet model\n",
    "np.sqrt(metrics.mean_squared_error(y_holdout, enet_pred2))"
   ]
  },
  {
   "cell_type": "markdown",
   "id": "18851738",
   "metadata": {},
   "source": [
    "### Model Selection and Interpretation"
   ]
  },
  {
   "cell_type": "markdown",
   "id": "7624f0f4",
   "metadata": {},
   "source": [
    "The results for the models used are as follows.\n",
    "\n",
    "|Model|Hyperparamters|Features|CVS|Holdout RMSE|Kaggle RMSE|\n",
    "|-----|--------------|--------|-------|------------|-----------|\n",
    "|Linear Regression|None|79|0.941749|20793.59|NA|\n",
    "|Ridge Regression|alpha=10|79|0.942078|20789.26|NA|\n",
    "|Ridge Regression|alpha=32.75|79|0.942194|20796.16|NA|\n",
    "|LASSO Regression|alpha=200|79|0.941901|20706.70|31763.91|\n",
    "|LASSO Regression|alpha=1|79|0.942125|20746.67|NA|\n",
    "|ElasticNet Regression|alpha=0.5, l1 ratio=0.5|79|0.939023|21216.87|NA|\n",
    "|ElasticNet Regression|alpha=0.5, l1 ratio=0.9|79|0.942036|20823.04|NA|"
   ]
  },
  {
   "cell_type": "markdown",
   "id": "52a9d540",
   "metadata": {},
   "source": [
    "The model with the best performance currently is LASSO regression with alpha = 200."
   ]
  },
  {
   "cell_type": "code",
   "execution_count": 148,
   "id": "e4b6252c",
   "metadata": {},
   "outputs": [
    {
     "data": {
      "image/png": "[encoded data removed]",
      "text/plain": [
       "<Figure size 648x648 with 1 Axes>"
      ]
     },
     "metadata": {
      "needs_background": "light"
     },
     "output_type": "display_data"
    }
   ],
   "source": [
    "# plot scatter visualizing accuracy\n",
    "plt.figure(figsize=(9,9))\n",
    "plt.scatter(lasso_a200_pred, y_holdout)\n",
    "plt.plot([0, np.max(y)], [0, np.max(y)], color='red')\n",
    "plt.xlabel('Predicted Values by Model', fontsize=15)\n",
    "plt.ylabel('Holdout Values', fontsize=15)\n",
    "plt.title('Visualizing Accuracy', fontsize=20);"
   ]
  },
  {
   "cell_type": "markdown",
   "id": "d7e1b2bb",
   "metadata": {},
   "source": [
    "Accuracy is decent, with a few values off at the lowest and highest prices."
   ]
  },
  {
   "cell_type": "markdown",
   "id": "5a5c1110",
   "metadata": {},
   "source": [
    "### Train Chosen Model on Full Train Data"
   ]
  },
  {
   "cell_type": "code",
   "execution_count": 149,
   "id": "a959b769",
   "metadata": {},
   "outputs": [],
   "source": [
    "# instantiate StandardScaler and transform\n",
    "ss = StandardScaler()\n",
    "ss.fit(X)\n",
    "Z_full = ss.transform(X)\n",
    "Z_test = ss.transform(test)\n",
    "\n",
    "# train model on full train data\n",
    "final_lasso = LassoCV(n_alphas=200)\n",
    "final_lasso.fit(Z_full, y)\n",
    "\n",
    "# predict values\n",
    "final_lasso_pred = final_lasso.predict(Z_test)"
   ]
  },
  {
   "cell_type": "code",
   "execution_count": 150,
   "id": "9e9d0c4e",
   "metadata": {},
   "outputs": [],
   "source": [
    "# convert predictions to dataframe\n",
    "submission1 = pd.DataFrame()\n",
    "submission1['Id'] = test_id\n",
    "submission1['SalePrice'] = final_lasso_pred"
   ]
  },
  {
   "cell_type": "code",
   "execution_count": 151,
   "id": "4bd21248",
   "metadata": {},
   "outputs": [
    {
     "data": {
      "text/plain": [
       "(879, 2)"
      ]
     },
     "execution_count": 151,
     "metadata": {},
     "output_type": "execute_result"
    }
   ],
   "source": [
    "# check\n",
    "submission1.shape"
   ]
  },
  {
   "cell_type": "code",
   "execution_count": 152,
   "id": "7489d0b9",
   "metadata": {},
   "outputs": [
    {
     "data": {
      "text/html": [
       "<div>\n",
       "<style scoped>\n",
       "    .dataframe tbody tr th:only-of-type {\n",
       "        vertical-align: middle;\n",
       "    }\n",
       "\n",
       "    .dataframe tbody tr th {\n",
       "        vertical-align: top;\n",
       "    }\n",
       "\n",
       "    .dataframe thead th {\n",
       "        text-align: right;\n",
       "    }\n",
       "</style>\n",
       "<table border=\"1\" class=\"dataframe\">\n",
       "  <thead>\n",
       "    <tr style=\"text-align: right;\">\n",
       "      <th></th>\n",
       "      <th>Id</th>\n",
       "      <th>SalePrice</th>\n",
       "    </tr>\n",
       "  </thead>\n",
       "  <tbody>\n",
       "    <tr>\n",
       "      <th>0</th>\n",
       "      <td>2658</td>\n",
       "      <td>142761.268560</td>\n",
       "    </tr>\n",
       "    <tr>\n",
       "      <th>1</th>\n",
       "      <td>2718</td>\n",
       "      <td>181070.152788</td>\n",
       "    </tr>\n",
       "    <tr>\n",
       "      <th>2</th>\n",
       "      <td>2414</td>\n",
       "      <td>210565.481010</td>\n",
       "    </tr>\n",
       "    <tr>\n",
       "      <th>3</th>\n",
       "      <td>1989</td>\n",
       "      <td>112013.668117</td>\n",
       "    </tr>\n",
       "    <tr>\n",
       "      <th>4</th>\n",
       "      <td>625</td>\n",
       "      <td>177635.094890</td>\n",
       "    </tr>\n",
       "  </tbody>\n",
       "</table>\n",
       "</div>"
      ],
      "text/plain": [
       "     Id      SalePrice\n",
       "0  2658  142761.268560\n",
       "1  2718  181070.152788\n",
       "2  2414  210565.481010\n",
       "3  1989  112013.668117\n",
       "4   625  177635.094890"
      ]
     },
     "execution_count": 152,
     "metadata": {},
     "output_type": "execute_result"
    }
   ],
   "source": [
    "submission1.head()"
   ]
  },
  {
   "cell_type": "markdown",
   "id": "e6c4193a",
   "metadata": {},
   "source": [
    "### Export to Kaggle"
   ]
  },
  {
   "cell_type": "code",
   "execution_count": 153,
   "id": "be6b2948",
   "metadata": {},
   "outputs": [],
   "source": [
    "submission1.to_csv('../datasets/submission1.csv', index=False)"
   ]
  },
  {
   "cell_type": "markdown",
   "id": "21e73a86",
   "metadata": {},
   "source": [
    "This submission got a RMSE of 31763.90846 on Kaggle, which is within expectations."
   ]
  },
  {
   "cell_type": "markdown",
   "id": "74cb2e3b",
   "metadata": {},
   "source": [
    "## Conclusions and Recommendations"
   ]
  },
  {
   "cell_type": "code",
   "execution_count": 154,
   "id": "20852142",
   "metadata": {
    "scrolled": true
   },
   "outputs": [
    {
     "data": {
      "text/html": [
       "<div>\n",
       "<style scoped>\n",
       "    .dataframe tbody tr th:only-of-type {\n",
       "        vertical-align: middle;\n",
       "    }\n",
       "\n",
       "    .dataframe tbody tr th {\n",
       "        vertical-align: top;\n",
       "    }\n",
       "\n",
       "    .dataframe thead th {\n",
       "        text-align: right;\n",
       "    }\n",
       "</style>\n",
       "<table border=\"1\" class=\"dataframe\">\n",
       "  <thead>\n",
       "    <tr style=\"text-align: right;\">\n",
       "      <th></th>\n",
       "      <th>Feature</th>\n",
       "      <th>Coefficient</th>\n",
       "    </tr>\n",
       "  </thead>\n",
       "  <tbody>\n",
       "    <tr>\n",
       "      <th>70</th>\n",
       "      <td>house_age</td>\n",
       "      <td>-10262.931438</td>\n",
       "    </tr>\n",
       "    <tr>\n",
       "      <th>74</th>\n",
       "      <td>hse_style_type_2story_twnhse</td>\n",
       "      <td>-3382.168455</td>\n",
       "    </tr>\n",
       "    <tr>\n",
       "      <th>37</th>\n",
       "      <td>land_is_gtl_lvl</td>\n",
       "      <td>-2704.322495</td>\n",
       "    </tr>\n",
       "    <tr>\n",
       "      <th>39</th>\n",
       "      <td>hse_style_type_1story_twnhse</td>\n",
       "      <td>-2378.809296</td>\n",
       "    </tr>\n",
       "    <tr>\n",
       "      <th>10</th>\n",
       "      <td>garage_qual_cond</td>\n",
       "      <td>-2315.887071</td>\n",
       "    </tr>\n",
       "    <tr>\n",
       "      <th>61</th>\n",
       "      <td>neighborhood_zone_sawyerw_rl</td>\n",
       "      <td>-2015.856926</td>\n",
       "    </tr>\n",
       "    <tr>\n",
       "      <th>14</th>\n",
       "      <td>hse_style_type_2.5fin_sing_fam</td>\n",
       "      <td>-1802.786072</td>\n",
       "    </tr>\n",
       "    <tr>\n",
       "      <th>7</th>\n",
       "      <td>hse_style_type_1story_duplex</td>\n",
       "      <td>-1714.150491</td>\n",
       "    </tr>\n",
       "    <tr>\n",
       "      <th>38</th>\n",
       "      <td>neighborhood_zone_gilbert_rl</td>\n",
       "      <td>-1544.060242</td>\n",
       "    </tr>\n",
       "    <tr>\n",
       "      <th>19</th>\n",
       "      <td>neighborhood_zone_nwames_rl</td>\n",
       "      <td>-1537.683178</td>\n",
       "    </tr>\n",
       "  </tbody>\n",
       "</table>\n",
       "</div>"
      ],
      "text/plain": [
       "                           Feature   Coefficient\n",
       "70                       house_age -10262.931438\n",
       "74    hse_style_type_2story_twnhse  -3382.168455\n",
       "37                 land_is_gtl_lvl  -2704.322495\n",
       "39    hse_style_type_1story_twnhse  -2378.809296\n",
       "10                garage_qual_cond  -2315.887071\n",
       "61    neighborhood_zone_sawyerw_rl  -2015.856926\n",
       "14  hse_style_type_2.5fin_sing_fam  -1802.786072\n",
       "7     hse_style_type_1story_duplex  -1714.150491\n",
       "38    neighborhood_zone_gilbert_rl  -1544.060242\n",
       "19     neighborhood_zone_nwames_rl  -1537.683178"
      ]
     },
     "execution_count": 154,
     "metadata": {},
     "output_type": "execute_result"
    }
   ],
   "source": [
    "coeff_df = pd.DataFrame(\n",
    "    set(\n",
    "        zip(\n",
    "            X.columns,\n",
    "            lasso_a200.coef_\n",
    "        )\n",
    "    )\n",
    ").rename(\n",
    "    columns={\n",
    "        0: 'Feature',\n",
    "        1: 'Coefficient'\n",
    "    }\n",
    ").sort_values(\n",
    "    'Coefficient',\n",
    "    ascending=False\n",
    ")\n",
    "\n",
    "coeff_df.sort_values('Coefficient').head(10)"
   ]
  },
  {
   "cell_type": "markdown",
   "id": "37ec3a72",
   "metadata": {},
   "source": [
    "Interestingly, having land on gentle slope and level ground actually decreases the price. This effect is presumably due to this coefficient being a comparison with the dropped dummy variable while getting dummies, but it is hard to tell which variable was dropped."
   ]
  },
  {
   "cell_type": "code",
   "execution_count": 155,
   "id": "2bfb5cb5",
   "metadata": {},
   "outputs": [
    {
     "data": {
      "text/html": [
       "<div>\n",
       "<style scoped>\n",
       "    .dataframe tbody tr th:only-of-type {\n",
       "        vertical-align: middle;\n",
       "    }\n",
       "\n",
       "    .dataframe tbody tr th {\n",
       "        vertical-align: top;\n",
       "    }\n",
       "\n",
       "    .dataframe thead th {\n",
       "        text-align: right;\n",
       "    }\n",
       "</style>\n",
       "<table border=\"1\" class=\"dataframe\">\n",
       "  <thead>\n",
       "    <tr style=\"text-align: right;\">\n",
       "      <th></th>\n",
       "      <th>Feature</th>\n",
       "      <th>Coefficient</th>\n",
       "    </tr>\n",
       "  </thead>\n",
       "  <tbody>\n",
       "    <tr>\n",
       "      <th>33</th>\n",
       "      <td>gr_liv_area</td>\n",
       "      <td>19567.732739</td>\n",
       "    </tr>\n",
       "    <tr>\n",
       "      <th>17</th>\n",
       "      <td>overall_qual</td>\n",
       "      <td>13265.367032</td>\n",
       "    </tr>\n",
       "    <tr>\n",
       "      <th>20</th>\n",
       "      <td>garage_area</td>\n",
       "      <td>7667.611571</td>\n",
       "    </tr>\n",
       "    <tr>\n",
       "      <th>62</th>\n",
       "      <td>lot_area</td>\n",
       "      <td>7559.167036</td>\n",
       "    </tr>\n",
       "    <tr>\n",
       "      <th>60</th>\n",
       "      <td>total_bsmt_sf</td>\n",
       "      <td>7502.058711</td>\n",
       "    </tr>\n",
       "    <tr>\n",
       "      <th>...</th>\n",
       "      <td>...</td>\n",
       "      <td>...</td>\n",
       "    </tr>\n",
       "    <tr>\n",
       "      <th>10</th>\n",
       "      <td>garage_qual_cond</td>\n",
       "      <td>-2315.887071</td>\n",
       "    </tr>\n",
       "    <tr>\n",
       "      <th>39</th>\n",
       "      <td>hse_style_type_1story_twnhse</td>\n",
       "      <td>-2378.809296</td>\n",
       "    </tr>\n",
       "    <tr>\n",
       "      <th>37</th>\n",
       "      <td>land_is_gtl_lvl</td>\n",
       "      <td>-2704.322495</td>\n",
       "    </tr>\n",
       "    <tr>\n",
       "      <th>74</th>\n",
       "      <td>hse_style_type_2story_twnhse</td>\n",
       "      <td>-3382.168455</td>\n",
       "    </tr>\n",
       "    <tr>\n",
       "      <th>70</th>\n",
       "      <td>house_age</td>\n",
       "      <td>-10262.931438</td>\n",
       "    </tr>\n",
       "  </tbody>\n",
       "</table>\n",
       "<p>79 rows × 2 columns</p>\n",
       "</div>"
      ],
      "text/plain": [
       "                         Feature   Coefficient\n",
       "33                   gr_liv_area  19567.732739\n",
       "17                  overall_qual  13265.367032\n",
       "20                   garage_area   7667.611571\n",
       "62                      lot_area   7559.167036\n",
       "60                 total_bsmt_sf   7502.058711\n",
       "..                           ...           ...\n",
       "10              garage_qual_cond  -2315.887071\n",
       "39  hse_style_type_1story_twnhse  -2378.809296\n",
       "37               land_is_gtl_lvl  -2704.322495\n",
       "74  hse_style_type_2story_twnhse  -3382.168455\n",
       "70                     house_age -10262.931438\n",
       "\n",
       "[79 rows x 2 columns]"
      ]
     },
     "execution_count": 155,
     "metadata": {},
     "output_type": "execute_result"
    }
   ],
   "source": [
    "coeff_df"
   ]
  },
  {
   "cell_type": "markdown",
   "id": "19f474a9",
   "metadata": {},
   "source": [
    "The top features that affect price the most are square footage focused, which is to be expected. These are General Living Area, Garage Area, Lot Area and Basement Area.\n",
    "\n",
    "Also the overall quality of the house is extremely important, as well as the age of the house. These findings are within logical reason.\n",
    "\n",
    "The real estate firm should be encouraged to focus their price setting on these area figures, rather than categorical features like whether the house has an open porch."
   ]
  }
 ],
 "metadata": {
  "kernelspec": {
   "display_name": "Python 3",
   "language": "python",
   "name": "python3"
  },
  "language_info": {
   "codemirror_mode": {
    "name": "ipython",
    "version": 3
   },
   "file_extension": ".py",
   "mimetype": "text/x-python",
   "name": "python",
   "nbconvert_exporter": "python",
   "pygments_lexer": "ipython3",
   "version": "3.8.8"
  }
 },
 "nbformat": 4,
 "nbformat_minor": 5
}
