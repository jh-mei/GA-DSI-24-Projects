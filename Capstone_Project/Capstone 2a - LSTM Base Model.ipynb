{
 "cells": [
  {
   "cell_type": "markdown",
   "metadata": {},
   "source": [
    "# Capstone Part 2a: LSTM Base Model"
   ]
  },
  {
   "cell_type": "markdown",
   "metadata": {},
   "source": [
    "Preface: Modelling was done on Colab, so there are a few lines of code that are useful only on Colab.\n",
    "\n",
    "We will now create a character based LSTM model using the original uncleaned corpus as the database.\n",
    "\n",
    "Note: To use this notebook, run the import cells as well as the functions cells, then go straight to the 'Results' tab."
   ]
  },
  {
   "cell_type": "markdown",
   "metadata": {},
   "source": [
    "Abstract: The model uses the basic LSTM theory and applies it to a character-wise recurrent neural network in PyTorch. The unique characters are encoded into vectors using 1-of-k encoding (similar to one-hot), and returns an output vector of the probability of each character being the next character in the sequence given the previous few characters which is then decoded into a proper character.\n",
    "\n",
    "Reference: http://karpathy.github.io/2015/05/21/rnn-effectiveness/"
   ]
  },
  {
   "cell_type": "code",
   "execution_count": 2,
   "metadata": {
    "colab": {
     "base_uri": "https://localhost:8080/"
    },
    "id": "N-nC9xpI-QpO",
    "outputId": "99e70482-a7d7-4138-d1d2-a8816d916f53"
   },
   "outputs": [],
   "source": [
    "# system imports\n",
    "import os\n",
    "import re\n",
    "\n",
    "# basic imports\n",
    "import numpy as np\n",
    "import pandas as pd\n",
    "import matplotlib.pyplot as plt\n",
    "from datetime import datetime\n",
    "\n",
    "# pytorch imports\n",
    "import torch\n",
    "from torch import nn\n",
    "import torch.nn.functional as F\n",
    "\n",
    "# misc imports\n",
    "from tqdm import tqdm\n",
    "from IPython import display # for real time modelling progress update"
   ]
  },
  {
   "cell_type": "code",
   "execution_count": 79,
   "metadata": {},
   "outputs": [
    {
     "name": "stdout",
     "output_type": "stream",
     "text": [
      "1.7.1+cpu\n"
     ]
    }
   ],
   "source": [
    "print(torch.__version__)"
   ]
  },
  {
   "cell_type": "code",
   "execution_count": 2,
   "metadata": {
    "id": "RDgW-mH7TjNF"
   },
   "outputs": [
    {
     "data": {
      "text/plain": [
       "False"
      ]
     },
     "execution_count": 2,
     "metadata": {},
     "output_type": "execute_result"
    }
   ],
   "source": [
    "torch.cuda.is_available() # test if colab gpu is online"
   ]
  },
  {
   "cell_type": "code",
   "execution_count": 4,
   "metadata": {
    "id": "QYu1YwteIOfw"
   },
   "outputs": [],
   "source": [
    "df = pd.read_csv('dataset/enron6.csv')"
   ]
  },
  {
   "cell_type": "markdown",
   "metadata": {},
   "source": [
    "### Functions Used"
   ]
  },
  {
   "cell_type": "code",
   "execution_count": 3,
   "metadata": {
    "id": "X02mog_sJBf1"
   },
   "outputs": [],
   "source": [
    "def get_chars(path):\n",
    "    with open(path, 'r') as f: # open text file and read\n",
    "        data = f.read()\n",
    "\n",
    "    chars = list(set(data)) # return unique characters\n",
    "    return chars"
   ]
  },
  {
   "cell_type": "code",
   "execution_count": 4,
   "metadata": {
    "id": "UDo5HT26JEEO"
   },
   "outputs": [],
   "source": [
    "def load_data(path, chars=None):\n",
    "    with open(path, 'r') as f: \n",
    "        data = f.read()\n",
    "\n",
    "    if chars is None:\n",
    "        chars = tuple(set(data)) \n",
    "    \n",
    "    int2char = dict(enumerate(chars)) # create dict that num labels every unique character\n",
    "    char2int = {ch: ii for ii, ch in int2char.items()} # reverse key and value for int2char dict\n",
    "    \n",
    "    encoded = np.array([char2int[ch] for ch in data]) # encodes characters in data into num values\n",
    "\n",
    "    return chars, encoded"
   ]
  },
  {
   "cell_type": "code",
   "execution_count": 5,
   "metadata": {
    "id": "wLEv-dueJGGA"
   },
   "outputs": [],
   "source": [
    "def one_hot_encode(arr, n_labels):\n",
    "    # create matrices for each value in array with n_labels number of 0s\n",
    "    one_hot = np.zeros((np.multiply(*arr.shape), n_labels), dtype=np.float32)\n",
    "\n",
    "    # populate the matrix with ones at indices specified by values of array\n",
    "    one_hot[np.arange(one_hot.shape[0]), arr.flatten()] = 1.\n",
    "\n",
    "    # reshape it to get back to the size of original array\n",
    "    one_hot = one_hot.reshape((*arr.shape, n_labels))\n",
    "\n",
    "    return one_hot"
   ]
  },
  {
   "cell_type": "code",
   "execution_count": 6,
   "metadata": {
    "id": "9IplFMXWJH8A"
   },
   "outputs": [],
   "source": [
    "def get_batches(arr, n_seqs, n_steps):\n",
    "    batch_size = n_seqs * n_steps \n",
    "    n_batches = len(arr) // batch_size \n",
    "\n",
    "    # ensure that batches created are always full size \n",
    "    # as slices of original array might leave a \"remainder\"\n",
    "    arr = arr[:n_batches * batch_size] \n",
    "    \n",
    "    arr = arr.reshape((n_seqs, -1)) # reshape input array to fit max batch size\n",
    "    \n",
    "    for n in range(0, arr.shape[1], n_steps):\n",
    "        # features (sequence of characters) \n",
    "        x = arr[:, n:n + n_steps]\n",
    "        \n",
    "        # targets (the next character after the sequence)\n",
    "        y = np.zeros_like(x)\n",
    "        try:\n",
    "            y[:, :-1], y[:, -1] = x[:, 1:], arr[:, n + n_steps]\n",
    "        except IndexError:\n",
    "            y[:, :-1], y[:, -1] = x[:, 1:], arr[:, 0]\n",
    "        yield x, y"
   ]
  },
  {
   "cell_type": "code",
   "execution_count": 7,
   "metadata": {
    "id": "fOySpW6CJJTb"
   },
   "outputs": [],
   "source": [
    "# model definition\n",
    "class CharRNN(nn.Module):\n",
    "    def __init__(self, tokens, n_hidden=256, n_layers=2, drop_prob=0.5):\n",
    "        super().__init__() # access inheritance for superclass\n",
    "        self.drop_prob = drop_prob \n",
    "        self.n_layers = n_layers # recurrent layer number (number of layers)\n",
    "        self.n_hidden = n_hidden # hidden feature number (nodes)\n",
    "\n",
    "        # encode\n",
    "        self.chars = tokens \n",
    "        self.int2char = dict(enumerate(self.chars))\n",
    "        self.char2int = {ch: ii for ii, ch in self.int2char.items()}\n",
    "\n",
    "        self.dropout = nn.Dropout(drop_prob) # instantiate dropout layer\n",
    "        self.lstm = nn.LSTM(len(self.chars), n_hidden, n_layers,\n",
    "                            dropout=drop_prob, batch_first=True) # instantiate lstm hidden layers\n",
    "        # output layer with len(self.chars) as number of output nodes\n",
    "        self.fc = nn.Linear(n_hidden, len(self.chars))\n",
    " \n",
    "    # forward propagation\n",
    "    def forward(self, x, hidden):\n",
    "        x, hidden = self.lstm(x, hidden) \n",
    "        x = self.dropout(x)\n",
    "        x = self.fc(x)\n",
    "\n",
    "        return x, hidden\n",
    "\n",
    "    # make a class prediction\n",
    "    def predict(self, char, hidden=None, device=torch.device('cpu'), top_k=None):\n",
    "        with torch.no_grad():\n",
    "            self.to(device) # define cpu or gpu to use, in this case cpu\n",
    "            try:\n",
    "                x = np.array([[self.char2int[char]]]) # create array of matrices\n",
    "            except KeyError:\n",
    "                return '', hidden\n",
    "\n",
    "            x = one_hot_encode(x, len(self.chars)) # one hot encode array of matrices\n",
    "            inputs = torch.from_numpy(x).to(device) # convert numpy array to tensor for gpu usage\n",
    "\n",
    "            out, hidden = self.forward(inputs, hidden) # propogate input tensors\n",
    "\n",
    "            p = F.softmax(out, dim=2).data.to('cpu') # apply softmax output function and convert to cpu usage\n",
    "\n",
    "            if top_k is None:\n",
    "                top_ch = np.arange(len(self.chars))\n",
    "            else:\n",
    "                p, top_ch = p.topk(top_k)\n",
    "                top_ch = top_ch.numpy().squeeze()\n",
    "\n",
    "            if top_k == 1:\n",
    "                char = int(top_ch)\n",
    "            else:\n",
    "                p = p.numpy().squeeze()\n",
    "                char = np.random.choice(top_ch, p=p / p.sum())\n",
    "\n",
    "            return self.int2char[char], hidden"
   ]
  },
  {
   "cell_type": "code",
   "execution_count": 8,
   "metadata": {
    "id": "5PXOgEPIJQ_2"
   },
   "outputs": [],
   "source": [
    "def save_checkpoint(net, opt, filename, train_history={}):\n",
    "    checkpoint = {'n_hidden': net.n_hidden,  # required parameters to be saved\n",
    "                  'n_layers': net.n_layers,\n",
    "                  'state_dict': net.state_dict(),\n",
    "                  'optimizer': opt.state_dict(),\n",
    "                  'tokens': net.chars,\n",
    "                  'train_history': train_history}\n",
    "\n",
    "    with open(filename, 'wb') as f:\n",
    "        torch.save(checkpoint, f) # save model"
   ]
  },
  {
   "cell_type": "code",
   "execution_count": 9,
   "metadata": {
    "id": "DAKJE9AKJVta"
   },
   "outputs": [],
   "source": [
    "def load_checkpoint(filename):\n",
    "    with open(filename, 'rb') as f:\n",
    "        checkpoint = torch.load(f, map_location='cpu')\n",
    "\n",
    "    net = CharRNN(                      # load required parameters\n",
    "        checkpoint['tokens'], \n",
    "        n_hidden=checkpoint['n_hidden'], \n",
    "        n_layers=checkpoint['n_layers']\n",
    "    )\n",
    "    \n",
    "    net.load_state_dict(checkpoint['state_dict'])\n",
    "\n",
    "    return net, checkpoint"
   ]
  },
  {
   "cell_type": "code",
   "execution_count": 10,
   "metadata": {
    "id": "Y_dXkCfwPysP"
   },
   "outputs": [],
   "source": [
    "def load_completed(filename):\n",
    "    with open(filename, 'rb') as f:\n",
    "        checkpoint = torch.load(f, map_location='cpu')\n",
    "\n",
    "    net = CharRNN(\n",
    "        checkpoint['tokens'],\n",
    "        n_hidden=checkpoint['n_hidden'],\n",
    "        n_layers=checkpoint['n_layers']\n",
    "    )\n",
    "    \n",
    "    net.load_state_dict(checkpoint['state_dict'])\n",
    "\n",
    "    train_history = checkpoint['train_history']\n",
    "\n",
    "    return net, train_history"
   ]
  },
  {
   "cell_type": "code",
   "execution_count": 11,
   "metadata": {
    "id": "O4AtSg1bJXPd"
   },
   "outputs": [],
   "source": [
    "def train(\n",
    "    net,\n",
    "    data,\n",
    "    epochs=10,\n",
    "    n_seqs=10,\n",
    "    n_steps=50,\n",
    "    lr=0.001,\n",
    "    clip=5,\n",
    "    val_frac=0.1,\n",
    "    device=torch.device('cpu'),\n",
    "    name='checkpoint',\n",
    "    early_stop=True,\n",
    "    plot=True\n",
    "):\n",
    "\n",
    "    net.train() # switch into training mode\n",
    "    opt = torch.optim.Adam(net.parameters(), lr=lr) # initialize optimizer\n",
    "    criterion = nn.CrossEntropyLoss() # initialize loss function\n",
    "\n",
    "    # create training and validation data\n",
    "    val_idx = int(len(data) * (1 - val_frac))\n",
    "    data, val_data = data[:val_idx], data[val_idx:]\n",
    "    \n",
    "    net.to(device) # move neural net to GPU/CPU memory\n",
    "    \n",
    "    min_val_loss = 10.**10 # initialize minimal validation loss\n",
    "    train_history = {'epoch': [], 'step': [], 'loss': [], 'val_loss': []}\n",
    "\n",
    "    n_chars = len(net.chars) # get size of vocabulary\n",
    "    \n",
    "    # main loop over training epochs\n",
    "    for e in range(epochs):\n",
    "        hidden = None # rest hidden state after each epoch\n",
    "        \n",
    "        # loop over batches\n",
    "        for x, y in get_batches(data, n_seqs, n_steps):\n",
    "\n",
    "            # encode data and create torch-tensors\n",
    "            x = one_hot_encode(x, n_chars)\n",
    "            inputs, targets = torch.from_numpy(x).to(device), torch.tensor(y, dtype=torch.long).to(device)\n",
    "            \n",
    "            # reset gradient information\n",
    "            net.zero_grad()\n",
    "            \n",
    "            # generate network output\n",
    "            output, hidden = net.forward(inputs, hidden)\n",
    "            \n",
    "            # compute loss\n",
    "            loss = criterion(output.view(n_seqs * n_steps, n_chars), targets.view(n_seqs * n_steps))\n",
    "            \n",
    "            # compute gradients\n",
    "            loss.backward()\n",
    "\n",
    "            # gradient clipping to prevent exploding gradients\n",
    "            nn.utils.clip_grad_norm_(net.parameters(), clip)\n",
    "            \n",
    "            # optimize\n",
    "            opt.step()\n",
    "\n",
    "            # prevent backpropagating through the entire training history\n",
    "            # by detaching hidden state and cell state\n",
    "            hidden = (hidden[0].detach(), hidden[1].detach())\n",
    "        \n",
    "        # validation step is done without tracking gradients\n",
    "        with torch.no_grad():\n",
    "            val_h = None\n",
    "            val_losses = []\n",
    "            \n",
    "            for x, y in get_batches(val_data, n_seqs, n_steps):\n",
    "                x = one_hot_encode(x, n_chars)\n",
    "                inputs, targets = torch.from_numpy(x).to(device), torch.tensor(y, dtype=torch.long).to(device)\n",
    "\n",
    "                output, val_h = net.forward(inputs, val_h)\n",
    "                \n",
    "                val_loss = criterion(output.view(n_seqs * n_steps, n_chars), targets.view(n_seqs * n_steps))\n",
    "                val_losses.append(val_loss.item())\n",
    "            \n",
    "            # compute mean validation loss over batches\n",
    "            mean_val_loss = np.mean(val_losses)\n",
    "            \n",
    "            # track progress\n",
    "            train_history['epoch'].append(e+1)\n",
    "            train_history['loss'].append(loss.item())\n",
    "            train_history['val_loss'].append(mean_val_loss)\n",
    "        \n",
    "        if plot:\n",
    "            # create live plot of training loss and validation loss\n",
    "            plt.clf()\n",
    "            plt.plot(train_history['loss'], lw=2, c='C0')\n",
    "            plt.plot(train_history['val_loss'], lw=2, c='C1')\n",
    "            plt.xlabel('epoch')\n",
    "            plt.title(\"{}   Epoch: {:.0f}/{:.0f}   Loss: {:.4f}   Val Loss: {:.4f}\".format(\n",
    "                datetime.now().strftime('%H:%M:%S'),\n",
    "                e+1, epochs,\n",
    "                loss.item(),\n",
    "                mean_val_loss), color='k')\n",
    "            display.clear_output(wait=True)\n",
    "            display.display(plt.gcf())\n",
    "        else:\n",
    "            # print training progress\n",
    "            print(\"{}   Epoch: {:.0f}/{:.0f}   Loss: {:.4f}   Val Loss: {:.4f}\".format(\n",
    "                datetime.now().strftime('%H:%M:%S'),\n",
    "                e+1, epochs,\n",
    "                loss.item(),\n",
    "                mean_val_loss))\n",
    "        \n",
    "        # save model checkpoint if validation loss has decreased\n",
    "        if mean_val_loss < min_val_loss:\n",
    "            save_checkpoint(net, opt, name+'.net', train_history=train_history)\n",
    "            min_val_loss = mean_val_loss\n",
    "        \n",
    "        # if validation loss has not decreased for the last 10 epochs, stop training\n",
    "        if early_stop:\n",
    "            if e - np.argmin(train_history['val_loss']) > 10:\n",
    "                display.clear_output()\n",
    "                print('Validation loss does not decrease further, stopping training.')\n",
    "                break"
   ]
  },
  {
   "cell_type": "code",
   "execution_count": 12,
   "metadata": {
    "id": "0Da__qTWNSeI"
   },
   "outputs": [],
   "source": [
    "def sample_lines(net, n_lines=3, prime='import', top_k=None, device='cpu', max_len=100):\n",
    "    net.to(device)\n",
    "    net.eval()\n",
    "\n",
    "    # First off, run through the prime characters\n",
    "    chars = []\n",
    "    h = None\n",
    "    for ch in prime:\n",
    "        char, h = net.predict(ch, h, device=device, top_k=top_k)\n",
    "\n",
    "    chars.append(char)\n",
    "\n",
    "    # Now pass in the previous character and get a new one\n",
    "    l = 0\n",
    "    for ii in range(max_len):\n",
    "        char, h = net.predict(chars[-1], h, device=device, top_k=top_k)\n",
    "        chars.append(char)\n",
    "        if char == '\\n':\n",
    "            l += 1\n",
    "            if l == n_lines:\n",
    "                break\n",
    "\n",
    "    return ''.join(chars)"
   ]
  },
  {
   "cell_type": "code",
   "execution_count": 13,
   "metadata": {
    "id": "DQREeWS2P5c5"
   },
   "outputs": [],
   "source": [
    "def clean_string(x):\n",
    "    x = re.sub('#.*$', '', x, flags=re.MULTILINE)\n",
    "    x = re.sub(\"'''[\\s\\S]*?'''\", '', x, flags=re.MULTILINE)\n",
    "    x = re.sub('\"\"\"[\\s\\S]*?\"\"\"', '', x, flags=re.MULTILINE)\n",
    "    x = re.sub('^[\\t]+\\n', '', x, flags=re.MULTILINE)\n",
    "    x = re.sub('^[ ]+\\n', '', x, flags=re.MULTILINE)\n",
    "    x = re.sub('\\n[\\n]+', '\\n\\n', x, flags=re.MULTILINE)\n",
    "    return x"
   ]
  },
  {
   "cell_type": "markdown",
   "metadata": {},
   "source": [
    "## Modelling"
   ]
  },
  {
   "cell_type": "code",
   "execution_count": 14,
   "metadata": {
    "colab": {
     "base_uri": "https://localhost:8080/"
    },
    "id": "41yQuCSzJcNw",
    "outputId": "134194d9-bcee-4e08-f16e-f0f874298ed1",
    "scrolled": true
   },
   "outputs": [
    {
     "name": "stdout",
     "output_type": "stream",
     "text": [
      "cpu\n"
     ]
    }
   ],
   "source": [
    "# use GPU if available, else use CPU\n",
    "device = torch.device(\"cuda:0\" if torch.cuda.is_available() else \"cpu\")\n",
    "print(device)"
   ]
  },
  {
   "cell_type": "code",
   "execution_count": 15,
   "metadata": {
    "colab": {
     "base_uri": "https://localhost:8080/"
    },
    "id": "BboS8YQbLgjd",
    "outputId": "d95435a5-cf18-4eda-85d9-57c6139491c8"
   },
   "outputs": [
    {
     "data": {
      "text/plain": [
       "Index(['Unnamed: 0', 'Subject', 'content'], dtype='object')"
      ]
     },
     "execution_count": 15,
     "metadata": {},
     "output_type": "execute_result"
    }
   ],
   "source": [
    "df.columns"
   ]
  },
  {
   "cell_type": "code",
   "execution_count": 34,
   "metadata": {
    "id": "-piA-YdlJfM5"
   },
   "outputs": [],
   "source": [
    "df = df.loc[:, ['Subject', 'content']]"
   ]
  },
  {
   "cell_type": "code",
   "execution_count": 37,
   "metadata": {
    "id": "0DQ2tbplJsed"
   },
   "outputs": [],
   "source": [
    "# df.to_csv('enron6.csv')"
   ]
  },
  {
   "cell_type": "code",
   "execution_count": 39,
   "metadata": {
    "id": "6vyHqevkL01f"
   },
   "outputs": [],
   "source": [
    "# np.savetxt(r'enron6.txt', df.values, fmt='%s')\n",
    "# export as txt file"
   ]
  },
  {
   "cell_type": "markdown",
   "metadata": {
    "id": "xOQkHvu_X0G7"
   },
   "source": [
    "We want to work with txt files because there is no upside to having the file be in csv. Instead, we want all the text to be in a singular cellular file. This is a very basic model that does not predict based on context or sentiment.\n",
    "\n",
    "Let's open the file and look at some samples."
   ]
  },
  {
   "cell_type": "code",
   "execution_count": 1,
   "metadata": {
    "colab": {
     "base_uri": "https://localhost:8080/"
    },
    "id": "ycVEfaQXMgvT",
    "outputId": "6f4bd437-fd35-45a8-ce24-aec80cca2c64"
   },
   "outputs": [
    {
     "name": "stdout",
     "output_type": "stream",
     "text": [
      "RTO Orders - Grid South, SE Trans, SPP and Entergy The Southeast RTO orders are out and have followed through with what we exp= ected from the discussion at the FERC meeting. The SPP and Entergy RTO proposals have been rejected because they fail to s= atisfy the scope and configuration requirements \n",
      "\n",
      "--------------------------------------------------------------------------------\n",
      "\n",
      "traffic's boom, midst the glitter of one of the world's great cities, the islanders voted to return home -- though even getting there was tricky, as their landing dock was covered in lava. Today the colony is virtually self-sufficient in food and has a reasonably thriving economy based on crawfish a\n",
      "\n",
      "--------------------------------------------------------------------------------\n",
      "\n",
      "hether they= are excellent or superior or average and know that they have an opportunit= y to improve on that ranking through their own effort while also realizing = that we are continually trying to raise the bar with new hires. This parti= cular performance measurement is also a measure of the suc\n"
     ]
    }
   ],
   "source": [
    "with open('dataset/enron6.txt') as f:\n",
    "    data = ''.join(f.readlines())\n",
    "\n",
    "print(data[:300])\n",
    "print('\\n--------------------------------------------------------------------------------\\n')\n",
    "print(data[100000:100300])\n",
    "print('\\n--------------------------------------------------------------------------------\\n')\n",
    "print(data[200000:200300])"
   ]
  },
  {
   "cell_type": "code",
   "execution_count": 38,
   "metadata": {
    "id": "gf7MKS8LNDMr"
   },
   "outputs": [],
   "source": [
    "# load data\n",
    "chars, data = load_data('dataset/enron6.txt')"
   ]
  },
  {
   "cell_type": "code",
   "execution_count": 39,
   "metadata": {
    "id": "0VVCTT55NMU3"
   },
   "outputs": [],
   "source": [
    "# create RNN \n",
    "net = CharRNN(chars, n_hidden=256, n_layers=3)"
   ]
  },
  {
   "cell_type": "code",
   "execution_count": 46,
   "metadata": {
    "colab": {
     "base_uri": "https://localhost:8080/",
     "height": 312
    },
    "id": "mL54xXLENOqG",
    "outputId": "2500d6c0-427e-4a19-9b4d-93c1fe4eb333"
   },
   "outputs": [
    {
     "name": "stdout",
     "output_type": "stream",
     "text": [
      "Validation loss does not decrease further, stopping training.\n"
     ]
    },
    {
     "data": {
      "image/png": "[encoded data removed]",
      "text/plain": [
       "<Figure size 864x288 with 1 Axes>"
      ]
     },
     "metadata": {
      "needs_background": "light"
     },
     "output_type": "display_data"
    }
   ],
   "source": [
    "# train\n",
    "plt.figure(figsize=(12, 4))\n",
    "train(net, data, epochs=500, n_seqs=768, n_steps=512, lr=0.001, device=device, val_frac=0.1,\n",
    "      name='enron6', plot=True)"
   ]
  },
  {
   "cell_type": "markdown",
   "metadata": {},
   "source": [
    "## Results"
   ]
  },
  {
   "cell_type": "code",
   "execution_count": 14,
   "metadata": {},
   "outputs": [],
   "source": [
    "# load model\n",
    "net, _ = load_checkpoint('models/enron6.pt')"
   ]
  },
  {
   "cell_type": "code",
   "execution_count": 15,
   "metadata": {
    "colab": {
     "base_uri": "https://localhost:8080/"
    },
    "id": "bZs5o15qP80f",
    "outputId": "4ef960f8-c492-4a37-c2d7-89ab9f72455c"
   },
   "outputs": [
    {
     "name": "stdout",
     "output_type": "stream",
     "text": [
      " the contracts as a counterparties of these process of the strategic of the contract at the price on \n"
     ]
    }
   ],
   "source": [
    "prime = 'For instance,'\n",
    "\n",
    "clean_prime = clean_string(prime)\n",
    "print(sample_lines(net, 1, prime=clean_prime, top_k=3))"
   ]
  },
  {
   "cell_type": "code",
   "execution_count": 16,
   "metadata": {
    "id": "VH0EFr3HP-qB"
   },
   "outputs": [],
   "source": [
    "# create a new magic function to get samples with text in ipynb cell\n",
    "from IPython.core.magic import (register_line_magic, register_cell_magic,\n",
    "                                register_line_cell_magic)\n",
    "\n",
    "@register_cell_magic\n",
    "def sample(line, prime):\n",
    "    clean_prime = clean_string(prime)\n",
    "    print(sample_lines(net, 1, prime=clean_prime, top_k=3))"
   ]
  },
  {
   "cell_type": "markdown",
   "metadata": {},
   "source": [
    "### Seeded Text Generation Test"
   ]
  },
  {
   "cell_type": "code",
   "execution_count": 27,
   "metadata": {
    "colab": {
     "base_uri": "https://localhost:8080/"
    },
    "id": "IZhEkr5oQD8F",
    "outputId": "7309dc14-f766-4287-f7fd-acb3ed44dfef"
   },
   "outputs": [
    {
     "name": "stdout",
     "output_type": "stream",
     "text": [
      "seller an are and checking to a send of the payment as a server to the subject that there will be the\n"
     ]
    }
   ],
   "source": [
    "%%sample\n",
    "We have not been able to"
   ]
  },
  {
   "cell_type": "code",
   "execution_count": 25,
   "metadata": {},
   "outputs": [
    {
     "name": "stdout",
     "output_type": "stream",
     "text": [
      "and when the price are a case to the compary. We would be the price of the parties of the company wer\n"
     ]
    }
   ],
   "source": [
    "%%sample\n",
    "In other words,"
   ]
  },
  {
   "cell_type": "code",
   "execution_count": 30,
   "metadata": {},
   "outputs": [
    {
     "name": "stdout",
     "output_type": "stream",
     "text": [
      "and a project issue of the support to allow the company will contact the card are any of this project\n"
     ]
    }
   ],
   "source": [
    "%%sample\n",
    "Regarding the above, changes will be made to the structure of this company"
   ]
  },
  {
   "cell_type": "code",
   "execution_count": 63,
   "metadata": {},
   "outputs": [
    {
     "name": "stdout",
     "output_type": "stream",
     "text": [
      "of the products of the chaice. The contact and around that this performance and are not any the strat\n"
     ]
    }
   ],
   "source": [
    "%%sample\n",
    "We will not be able to process the following by tomorrow as"
   ]
  },
  {
   "cell_type": "markdown",
   "metadata": {},
   "source": [
    "As we can see, coherence is not too great. However, complete words are generated, and grammatically it makes sense. A promising start. Interestingly, it gives us slightly misspelled words every so often. These misspelled words usually only have a [Levenshtein distance](https://en.wikipedia.org/wiki/Levenshtein_distance) of 1 between them (eg. 'compary' vs 'company'). However, these misspelled words would then be spelled correctly when generated in other sentences."
   ]
  },
  {
   "cell_type": "markdown",
   "metadata": {},
   "source": [
    "### Topic-based Text Generation Test"
   ]
  },
  {
   "cell_type": "code",
   "execution_count": 49,
   "metadata": {},
   "outputs": [
    {
     "name": "stdout",
     "output_type": "stream",
     "text": [
      "Corporate Services Services. In the products the state of the changes of the power on the call of con\n"
     ]
    }
   ],
   "source": [
    "%%sample\n",
    "financial"
   ]
  },
  {
   "cell_type": "code",
   "execution_count": 34,
   "metadata": {},
   "outputs": [
    {
     "name": "stdout",
     "output_type": "stream",
     "text": [
      "Content Conformance T\n"
     ]
    }
   ],
   "source": [
    "%%sample\n",
    "meeting"
   ]
  },
  {
   "cell_type": "markdown",
   "metadata": {},
   "source": [
    "It doesn't pick up the topic at all.\n",
    "\n",
    "Let's see if it can complete partial words."
   ]
  },
  {
   "cell_type": "markdown",
   "metadata": {},
   "source": [
    "### Word Autocompletion Test"
   ]
  },
  {
   "cell_type": "code",
   "execution_count": 26,
   "metadata": {},
   "outputs": [
    {
     "name": "stdout",
     "output_type": "stream",
     "text": [
      "EnronOnline Project Contrict (Private Company (Capacity) (713-345-3798 Friday, May 11, 2001 Amans Com\n"
     ]
    }
   ],
   "source": [
    "%%sample\n",
    "Sincer"
   ]
  },
  {
   "cell_type": "code",
   "execution_count": null,
   "metadata": {},
   "outputs": [],
   "source": []
  },
  {
   "cell_type": "markdown",
   "metadata": {},
   "source": [
    "It does not see the input as an incomplete word, but a word that is a seed. This model, even though it is built character level, is unable to autocomplete partial words."
   ]
  },
  {
   "cell_type": "markdown",
   "metadata": {},
   "source": [
    "Next, we re-feed clean data into this model to see the differences."
   ]
  }
 ],
 "metadata": {
  "accelerator": "GPU",
  "colab": {
   "collapsed_sections": [],
   "name": "capstone.ipynb",
   "provenance": []
  },
  "kernelspec": {
   "display_name": "Python 3",
   "language": "python",
   "name": "python3"
  },
  "language_info": {
   "codemirror_mode": {
    "name": "ipython",
    "version": 3
   },
   "file_extension": ".py",
   "mimetype": "text/x-python",
   "name": "python",
   "nbconvert_exporter": "python",
   "pygments_lexer": "ipython3",
   "version": "3.8.8"
  }
 },
 "nbformat": 4,
 "nbformat_minor": 1
}
