{
 "cells": [
  {
   "cell_type": "markdown",
   "metadata": {},
   "source": [
    "# Capstone Part 2b: LSTM Model with Clean Data"
   ]
  },
  {
   "cell_type": "markdown",
   "metadata": {},
   "source": [
    "Preface: Modelling was done on Colab, so there are a few lines of code that are useful only on Colab.\n",
    "\n",
    "We will now retrain the LSTM but with the cleaned data.\n",
    "\n",
    "Note: To use this notebook, run the import cells as well as the functions cells, then go straight to the 'Results' tab."
   ]
  },
  {
   "cell_type": "code",
   "execution_count": 1,
   "metadata": {
    "id": "N-nC9xpI-QpO"
   },
   "outputs": [],
   "source": [
    "# system imports\n",
    "import os\n",
    "import re\n",
    "\n",
    "# basic imports\n",
    "import numpy as np\n",
    "import pandas as pd\n",
    "import matplotlib.pyplot as plt\n",
    "from datetime import datetime\n",
    "\n",
    "# pytorch imports\n",
    "import torch\n",
    "from torch import nn\n",
    "import torch.nn.functional as F\n",
    "\n",
    "# misc imports\n",
    "from tqdm import tqdm\n",
    "from IPython import display # for real time modelling progress update"
   ]
  },
  {
   "cell_type": "code",
   "execution_count": 2,
   "metadata": {
    "colab": {
     "base_uri": "https://localhost:8080/"
    },
    "id": "RDgW-mH7TjNF",
    "outputId": "92f6a7a8-892c-4ad0-9572-02fd7b4cc515"
   },
   "outputs": [
    {
     "data": {
      "text/plain": [
       "True"
      ]
     },
     "execution_count": 2,
     "metadata": {},
     "output_type": "execute_result"
    }
   ],
   "source": [
    "torch.cuda.is_available() # test if colab gpu is online"
   ]
  },
  {
   "cell_type": "code",
   "execution_count": 3,
   "metadata": {
    "id": "QYu1YwteIOfw"
   },
   "outputs": [],
   "source": [
    "df = pd.read_csv('enron6_clean.csv')"
   ]
  },
  {
   "cell_type": "markdown",
   "metadata": {},
   "source": [
    "### Functions Used"
   ]
  },
  {
   "cell_type": "code",
   "execution_count": 2,
   "metadata": {
    "id": "X02mog_sJBf1"
   },
   "outputs": [],
   "source": [
    "def get_chars(path):\n",
    "    with open(path, 'r') as f: # open text file and read\n",
    "        data = f.read()\n",
    "\n",
    "    chars = list(set(data)) # return unique characters\n",
    "    return chars"
   ]
  },
  {
   "cell_type": "code",
   "execution_count": 3,
   "metadata": {
    "id": "UDo5HT26JEEO"
   },
   "outputs": [],
   "source": [
    "def load_data(path, chars=None):\n",
    "    with open(path, 'r') as f: \n",
    "        data = f.read()\n",
    "\n",
    "    if chars is None:\n",
    "        chars = tuple(set(data)) \n",
    "    \n",
    "    int2char = dict(enumerate(chars)) # create dict that num labels every unique character\n",
    "    char2int = {ch: ii for ii, ch in int2char.items()} # reverse key and value for int2char dict\n",
    "    \n",
    "    encoded = np.array([char2int[ch] for ch in data]) # encodes characters in data into num values\n",
    "\n",
    "    return chars, encoded\n"
   ]
  },
  {
   "cell_type": "code",
   "execution_count": 4,
   "metadata": {
    "id": "wLEv-dueJGGA"
   },
   "outputs": [],
   "source": [
    "def one_hot_encode(arr, n_labels):\n",
    "    # create matrices for each value in array with n_labels number of 0s\n",
    "    one_hot = np.zeros((np.multiply(*arr.shape), n_labels), dtype=np.float32)\n",
    "\n",
    "    # populate the matrix with ones at indices specified by values of array\n",
    "    one_hot[np.arange(one_hot.shape[0]), arr.flatten()] = 1.\n",
    "\n",
    "    # reshape it to get back to the size of original array\n",
    "    one_hot = one_hot.reshape((*arr.shape, n_labels))\n",
    "\n",
    "    return one_hot"
   ]
  },
  {
   "cell_type": "code",
   "execution_count": 5,
   "metadata": {
    "id": "9IplFMXWJH8A"
   },
   "outputs": [],
   "source": [
    "def get_batches(arr, n_seqs, n_steps):\n",
    "    batch_size = n_seqs * n_steps \n",
    "    n_batches = len(arr) // batch_size \n",
    "\n",
    "    # ensure that batches created are always full size as slices of original array might leave a \"remainder\"\n",
    "    arr = arr[:n_batches * batch_size] \n",
    "    \n",
    "    arr = arr.reshape((n_seqs, -1)) # reshape input array to fit max batch size\n",
    "    \n",
    "    for n in range(0, arr.shape[1], n_steps):\n",
    "        # features (sequence of characters) \n",
    "        x = arr[:, n:n + n_steps]\n",
    "        \n",
    "        # targets (the next character after the sequence)\n",
    "        y = np.zeros_like(x)\n",
    "        try:\n",
    "            y[:, :-1], y[:, -1] = x[:, 1:], arr[:, n + n_steps]\n",
    "        except IndexError:\n",
    "            y[:, :-1], y[:, -1] = x[:, 1:], arr[:, 0]\n",
    "        yield x, y"
   ]
  },
  {
   "cell_type": "code",
   "execution_count": 6,
   "metadata": {
    "id": "fOySpW6CJJTb"
   },
   "outputs": [],
   "source": [
    "# model definition\n",
    "class CharRNN(nn.Module):\n",
    "    def __init__(self, tokens, n_hidden=256, n_layers=2, drop_prob=0.5):\n",
    "        super().__init__() # access inheritance for superclass\n",
    "        self.drop_prob = drop_prob \n",
    "        self.n_layers = n_layers # recurrent layer number (number of layers)\n",
    "        self.n_hidden = n_hidden # hidden feature number (nodes)\n",
    "\n",
    "        self.chars = tokens \n",
    "        self.int2char = dict(enumerate(self.chars))\n",
    "        self.char2int = {ch: ii for ii, ch in self.int2char.items()}\n",
    "\n",
    "        self.dropout = nn.Dropout(drop_prob) # instantiate dropout layer\n",
    "        self.lstm = nn.LSTM(len(self.chars), n_hidden, n_layers,\n",
    "                            dropout=drop_prob, batch_first=True) # instantiate lstm hidden layers\n",
    "        self.fc = nn.Linear(n_hidden, len(self.chars)) # output layer with len(self.chars) as number of output nodes\n",
    " \n",
    "    # forward propagation\n",
    "    def forward(self, x, hidden):\n",
    "        x, hidden = self.lstm(x, hidden) \n",
    "        x = self.dropout(x)\n",
    "        x = self.fc(x)\n",
    "\n",
    "        return x, hidden\n",
    "\n",
    "    # make a class prediction\n",
    "    def predict(self, char, hidden=None, device=torch.device('cpu'), top_k=None):\n",
    "        with torch.no_grad():\n",
    "            self.to(device)\n",
    "            try:\n",
    "                x = np.array([[self.char2int[char]]]) # create array of matrices\n",
    "            except KeyError:\n",
    "                return '', hidden\n",
    "\n",
    "            x = one_hot_encode(x, len(self.chars)) # one hot encode array of matrices\n",
    "            inputs = torch.from_numpy(x).to(device)\n",
    "\n",
    "            out, hidden = self.forward(inputs, hidden)\n",
    "\n",
    "            p = F.softmax(out, dim=2).data.to('cpu')\n",
    "\n",
    "            if top_k is None:\n",
    "                top_ch = np.arange(len(self.chars))\n",
    "            else:\n",
    "                p, top_ch = p.topk(top_k)\n",
    "                top_ch = top_ch.numpy().squeeze()\n",
    "\n",
    "            if top_k == 1:\n",
    "                char = int(top_ch)\n",
    "            else:\n",
    "                p = p.numpy().squeeze()\n",
    "                char = np.random.choice(top_ch, p=p / p.sum())\n",
    "\n",
    "            return self.int2char[char], hidden"
   ]
  },
  {
   "cell_type": "code",
   "execution_count": 7,
   "metadata": {
    "id": "5PXOgEPIJQ_2"
   },
   "outputs": [],
   "source": [
    "def save_checkpoint(net, opt, filename, train_history={}):\n",
    "    checkpoint = {'n_hidden': net.n_hidden,\n",
    "                  'n_layers': net.n_layers,\n",
    "                  'state_dict': net.state_dict(),\n",
    "                  'optimizer': opt.state_dict(),\n",
    "                  'tokens': net.chars,\n",
    "                  'train_history': train_history}\n",
    "\n",
    "    with open(filename, 'wb') as f:\n",
    "        torch.save(checkpoint, f) # save model"
   ]
  },
  {
   "cell_type": "code",
   "execution_count": 8,
   "metadata": {
    "id": "DAKJE9AKJVta"
   },
   "outputs": [],
   "source": [
    "def load_checkpoint(filename):\n",
    "    with open(filename, 'rb') as f:\n",
    "        checkpoint = torch.load(f, map_location='cpu')\n",
    "\n",
    "    net = CharRNN(checkpoint['tokens'], n_hidden=checkpoint['n_hidden'], n_layers=checkpoint['n_layers'])\n",
    "    net.load_state_dict(checkpoint['state_dict'])\n",
    "\n",
    "    return net, checkpoint"
   ]
  },
  {
   "cell_type": "code",
   "execution_count": 9,
   "metadata": {
    "id": "Y_dXkCfwPysP"
   },
   "outputs": [],
   "source": [
    "def load_completed(filename):\n",
    "    with open(filename, 'rb') as f:\n",
    "        checkpoint = torch.load(f, map_location='cpu')\n",
    "\n",
    "    net = CharRNN(checkpoint['tokens'], n_hidden=checkpoint['n_hidden'], n_layers=checkpoint['n_layers'])\n",
    "    net.load_state_dict(checkpoint['state_dict'])\n",
    "\n",
    "    train_history = checkpoint['train_history']\n",
    "\n",
    "    return net, train_history"
   ]
  },
  {
   "cell_type": "code",
   "execution_count": 10,
   "metadata": {
    "id": "O4AtSg1bJXPd"
   },
   "outputs": [],
   "source": [
    "def train(net, data, epochs=10, n_seqs=10, n_steps=50, lr=0.001, clip=5, val_frac=0.1, device=torch.device('cpu'),\n",
    "          name='checkpoint', early_stop=True, plot=True):\n",
    "\n",
    "    net.train() # switch into training mode\n",
    "    opt = torch.optim.Adam(net.parameters(), lr=lr) # initialize optimizer\n",
    "    criterion = nn.CrossEntropyLoss() # initialize loss function\n",
    "\n",
    "    # create training and validation data\n",
    "    val_idx = int(len(data) * (1 - val_frac))\n",
    "    data, val_data = data[:val_idx], data[val_idx:]\n",
    "    \n",
    "    net.to(device) # move neural net to GPU/CPU memory\n",
    "    \n",
    "    min_val_loss = 10.**10 # initialize minimal validation loss\n",
    "    train_history = {'epoch': [], 'step': [], 'loss': [], 'val_loss': []}\n",
    "\n",
    "    n_chars = len(net.chars) # get size of vocabulary\n",
    "    \n",
    "    # main loop over training epochs\n",
    "    for e in range(epochs):\n",
    "        hidden = None # rest hidden state after each epoch\n",
    "        \n",
    "        # loop over batches\n",
    "        for x, y in get_batches(data, n_seqs, n_steps):\n",
    "\n",
    "            # encode data and create torch-tensors\n",
    "            x = one_hot_encode(x, n_chars)\n",
    "            inputs, targets = torch.from_numpy(x).to(device), torch.tensor(y, dtype=torch.long).to(device)\n",
    "            \n",
    "            # reset gradient information\n",
    "            net.zero_grad()\n",
    "            \n",
    "            # generate network output\n",
    "            output, hidden = net.forward(inputs, hidden)\n",
    "            \n",
    "            # compute loss\n",
    "            loss = criterion(output.view(n_seqs * n_steps, n_chars), targets.view(n_seqs * n_steps))\n",
    "            \n",
    "            # compute gradients\n",
    "            loss.backward()\n",
    "\n",
    "            # gradient clipping to prevent exploding gradients\n",
    "            nn.utils.clip_grad_norm_(net.parameters(), clip)\n",
    "            \n",
    "            # optmize\n",
    "            opt.step()\n",
    "\n",
    "            # prevent backpropagating through the entire training history\n",
    "            # by detaching hidden state and cell state\n",
    "            hidden = (hidden[0].detach(), hidden[1].detach())\n",
    "        \n",
    "        # validation step is done without tracking gradients\n",
    "        with torch.no_grad():\n",
    "            val_h = None\n",
    "            val_losses = []\n",
    "            \n",
    "            for x, y in get_batches(val_data, n_seqs, n_steps):\n",
    "                x = one_hot_encode(x, n_chars)\n",
    "                inputs, targets = torch.from_numpy(x).to(device), torch.tensor(y, dtype=torch.long).to(device)\n",
    "\n",
    "                output, val_h = net.forward(inputs, val_h)\n",
    "                \n",
    "                val_loss = criterion(output.view(n_seqs * n_steps, n_chars), targets.view(n_seqs * n_steps))\n",
    "                val_losses.append(val_loss.item())\n",
    "            \n",
    "            # compute mean validation loss over batches\n",
    "            mean_val_loss = np.mean(val_losses)\n",
    "            \n",
    "            # track progress\n",
    "            train_history['epoch'].append(e+1)\n",
    "            train_history['loss'].append(loss.item())\n",
    "            train_history['val_loss'].append(mean_val_loss)\n",
    "        \n",
    "        if plot:\n",
    "            # create live plot of training loss and validation loss\n",
    "            plt.clf()\n",
    "            plt.plot(train_history['loss'], lw=2, c='C0')\n",
    "            plt.plot(train_history['val_loss'], lw=2, c='C1')\n",
    "            plt.xlabel('epoch')\n",
    "            plt.title(\"{}   Epoch: {:.0f}/{:.0f}   Loss: {:.4f}   Val Loss: {:.4f}\".format(\n",
    "                datetime.now().strftime('%H:%M:%S'),\n",
    "                e+1, epochs,\n",
    "                loss.item(),\n",
    "                mean_val_loss), color='k')\n",
    "            display.clear_output(wait=True)\n",
    "            display.display(plt.gcf())\n",
    "        else:\n",
    "            # print training progress\n",
    "            print(\"{}   Epoch: {:.0f}/{:.0f}   Loss: {:.4f}   Val Loss: {:.4f}\".format(\n",
    "                datetime.now().strftime('%H:%M:%S'),\n",
    "                e+1, epochs,\n",
    "                loss.item(),\n",
    "                mean_val_loss))\n",
    "        \n",
    "        # save model checkpoint if validation loss has decreased\n",
    "        if mean_val_loss < min_val_loss:\n",
    "            save_checkpoint(net, opt, name+'.net', train_history=train_history)\n",
    "            min_val_loss = mean_val_loss\n",
    "        \n",
    "        # if validation loss has not decreased for the last 10 epochs, stop training\n",
    "        if early_stop:\n",
    "            if e - np.argmin(train_history['val_loss']) > 10:\n",
    "                display.clear_output()\n",
    "                print('Validation loss does not decrease further, stopping training.')\n",
    "                break"
   ]
  },
  {
   "cell_type": "code",
   "execution_count": 74,
   "metadata": {
    "id": "0Da__qTWNSeI"
   },
   "outputs": [],
   "source": [
    "def sample_lines(net, n_lines=3, prime='import', top_k=None, device='cpu', max_len=100):\n",
    "    net.to(device)\n",
    "    net.eval()\n",
    "\n",
    "    # First off, run through the prime characters\n",
    "    chars = []\n",
    "    h = None\n",
    "    for ch in prime:\n",
    "        char, h = net.predict(ch, h, device=device, top_k=top_k)\n",
    "\n",
    "    chars.append(char)\n",
    "\n",
    "    # Now pass in the previous character and get a new one\n",
    "    l = 0\n",
    "    for ii in range(max_len):\n",
    "        char, h = net.predict(chars[-1], h, device=device, top_k=top_k)\n",
    "        chars.append(char)\n",
    "        if char == '\\n':\n",
    "            l += 1\n",
    "            if l == n_lines:\n",
    "                break\n",
    "\n",
    "    return ''.join(chars)"
   ]
  },
  {
   "cell_type": "code",
   "execution_count": 75,
   "metadata": {
    "id": "DQREeWS2P5c5"
   },
   "outputs": [],
   "source": [
    "def clean_string(x):\n",
    "    x = re.sub('#.*$', '', x, flags=re.MULTILINE)\n",
    "    x = re.sub(\"'''[\\s\\S]*?'''\", '', x, flags=re.MULTILINE)\n",
    "    x = re.sub('\"\"\"[\\s\\S]*?\"\"\"', '', x, flags=re.MULTILINE)\n",
    "    x = re.sub('^[\\t]+\\n', '', x, flags=re.MULTILINE)\n",
    "    x = re.sub('^[ ]+\\n', '', x, flags=re.MULTILINE)\n",
    "    x = re.sub('\\n[\\n]+', '\\n\\n', x, flags=re.MULTILINE)\n",
    "    return x"
   ]
  },
  {
   "cell_type": "markdown",
   "metadata": {},
   "source": [
    "## Modelling"
   ]
  },
  {
   "cell_type": "code",
   "execution_count": 11,
   "metadata": {
    "colab": {
     "base_uri": "https://localhost:8080/"
    },
    "id": "41yQuCSzJcNw",
    "outputId": "57678b9c-6554-4936-e855-4ebca834790b"
   },
   "outputs": [
    {
     "name": "stdout",
     "output_type": "stream",
     "text": [
      "cpu\n"
     ]
    }
   ],
   "source": [
    "# use GPU if available, else use CPU\n",
    "device = torch.device(\"cuda:0\" if torch.cuda.is_available() else \"cpu\")\n",
    "print(device)"
   ]
  },
  {
   "cell_type": "code",
   "execution_count": 15,
   "metadata": {
    "colab": {
     "base_uri": "https://localhost:8080/"
    },
    "id": "ycVEfaQXMgvT",
    "outputId": "6f4bd437-fd35-45a8-ce24-aec80cca2c64"
   },
   "outputs": [
    {
     "name": "stdout",
     "output_type": "stream",
     "text": [
      "RTO - Grid South, SE Trans, SPP and Entergy Southeast RTO orders are out and have followed through with what we expected from the discussion at the FERC meeting. SPP and Entergy RTO proposals have been rejected because they fail to satisfy the scope and configuration requirements of Order No. . Comm\n",
      "\n",
      "--------------------------------------------------------------------------------\n",
      "\n",
      "n contracts over the weekend. McDonald and met with the India Minister of Finance on Saturday in York. Minister reiterated India's position that they would not buy any power from Dabhol. We had a conference call with management of GE and last week. There is little evident disagreement amongst the sp\n",
      "\n",
      "--------------------------------------------------------------------------------\n",
      "\n",
      " Training, and the Performance Evaluation Process, will also add and Labor to his list of responsibilities. Olson, Vice President, will have responsibility for and Corporate Responsibility, which includes Social Responsibility, Community Relations, Diversity, Relations, Redeployment, Relations, and \n"
     ]
    }
   ],
   "source": [
    "with open('dataset/enron6_clean.txt') as f:\n",
    "    data = ''.join(f.readlines())\n",
    "\n",
    "print(data[:300])\n",
    "print('\\n--------------------------------------------------------------------------------\\n')\n",
    "print(data[100000:100300])\n",
    "print('\\n--------------------------------------------------------------------------------\\n')\n",
    "print(data[200000:200300])"
   ]
  },
  {
   "cell_type": "code",
   "execution_count": 17,
   "metadata": {
    "id": "gf7MKS8LNDMr"
   },
   "outputs": [],
   "source": [
    "# load data\n",
    "chars, data = load_data('dataset/enron6_clean.txt')"
   ]
  },
  {
   "cell_type": "code",
   "execution_count": null,
   "metadata": {},
   "outputs": [],
   "source": [
    "# create RNN \n",
    "net = CharRNN(chars, n_hidden=256, n_layers=3)"
   ]
  },
  {
   "cell_type": "code",
   "execution_count": 20,
   "metadata": {
    "colab": {
     "base_uri": "https://localhost:8080/",
     "height": 312
    },
    "id": "mL54xXLENOqG",
    "outputId": "4ee7819a-fa76-4d01-ee39-aed61c38742e"
   },
   "outputs": [
    {
     "name": "stdout",
     "output_type": "stream",
     "text": [
      "Validation loss does not decrease further, stopping training.\n"
     ]
    },
    {
     "data": {
      "image/png": "[encoded data removed]",
      "text/plain": [
       "<Figure size 864x288 with 1 Axes>"
      ]
     },
     "metadata": {
      "needs_background": "light"
     },
     "output_type": "display_data"
    }
   ],
   "source": [
    "# train\n",
    "plt.figure(figsize=(12, 4))\n",
    "train(net, data, epochs=500, n_seqs=768, n_steps=512, lr=0.001, device=device, val_frac=0.1,\n",
    "      name='enron6_clean', plot=True)"
   ]
  },
  {
   "cell_type": "markdown",
   "metadata": {},
   "source": [
    "## Results"
   ]
  },
  {
   "cell_type": "code",
   "execution_count": 76,
   "metadata": {
    "id": "hS7NjS_rKXHH"
   },
   "outputs": [],
   "source": [
    "# load model\n",
    "net, _ = load_checkpoint('models/lstm_model.pt')"
   ]
  },
  {
   "cell_type": "code",
   "execution_count": 77,
   "metadata": {
    "colab": {
     "base_uri": "https://localhost:8080/"
    },
    "id": "bZs5o15qP80f",
    "outputId": "8767b8c8-7bbb-4650-d053-035a4b9386d2"
   },
   "outputs": [
    {
     "name": "stdout",
     "output_type": "stream",
     "text": [
      " and all trade the subjict on the conference courtes of the possible and a call of the process. If yo\n"
     ]
    }
   ],
   "source": [
    "prime = 'For instance,'\n",
    "\n",
    "clean_prime = clean_string(prime)\n",
    "print(sample_lines(net, 1, prime=clean_prime, top_k=3))"
   ]
  },
  {
   "cell_type": "code",
   "execution_count": 78,
   "metadata": {
    "id": "VH0EFr3HP-qB"
   },
   "outputs": [],
   "source": [
    "# create a new magic function to get samples with text in ipynb cell\n",
    "from IPython.core.magic import (register_line_magic, register_cell_magic,\n",
    "                                register_line_cell_magic)\n",
    "\n",
    "@register_cell_magic\n",
    "def sample(line, prime):\n",
    "    clean_prime = clean_string(prime)\n",
    "    print(sample_lines(net, 1, prime=clean_prime, top_k=3))"
   ]
  },
  {
   "cell_type": "markdown",
   "metadata": {},
   "source": [
    "### Seeded Text Generation Test"
   ]
  },
  {
   "cell_type": "code",
   "execution_count": 79,
   "metadata": {
    "colab": {
     "base_uri": "https://localhost:8080/"
    },
    "id": "IZhEkr5oQD8F",
    "outputId": "bb27906e-a6a5-42ae-9c32-b95ca378183b"
   },
   "outputs": [
    {
     "name": "stdout",
     "output_type": "stream",
     "text": [
      "sell the comment of the company and start of the posted and the contribution of strategic and server \n"
     ]
    }
   ],
   "source": [
    "%%sample\n",
    "We have not been able to"
   ]
  },
  {
   "cell_type": "code",
   "execution_count": 81,
   "metadata": {},
   "outputs": [
    {
     "name": "stdout",
     "output_type": "stream",
     "text": [
      "and a subscription and any trouble of an any of the power and all of the section. If you have any que\n"
     ]
    }
   ],
   "source": [
    "%%sample\n",
    "In other words,"
   ]
  },
  {
   "cell_type": "code",
   "execution_count": 85,
   "metadata": {},
   "outputs": [
    {
     "name": "stdout",
     "output_type": "stream",
     "text": [
      "the counterparties will be an online account and an online subject form to the portfolio. I am the co\n"
     ]
    }
   ],
   "source": [
    "%%sample\n",
    "Regarding the above,"
   ]
  },
  {
   "cell_type": "markdown",
   "metadata": {},
   "source": [
    "Frankly, coherence isn't that much different than when unclean data was used. Word quality has increased, yes, but the sentences in question still do not make much sense. However, the grammatical structure quality has definitely seen improvement. The noun -> preposition -> article -> noun structure is there."
   ]
  },
  {
   "cell_type": "markdown",
   "metadata": {},
   "source": [
    "### Topic-based Text Generation Test"
   ]
  },
  {
   "cell_type": "code",
   "execution_count": 53,
   "metadata": {},
   "outputs": [
    {
     "name": "stdout",
     "output_type": "stream",
     "text": [
      "and the participation in a consultant to see to a p\n"
     ]
    }
   ],
   "source": [
    "%%sample\n",
    "financial"
   ]
  },
  {
   "cell_type": "code",
   "execution_count": 54,
   "metadata": {},
   "outputs": [
    {
     "name": "stdout",
     "output_type": "stream",
     "text": [
      "to the comments and the server as the company and a\n"
     ]
    }
   ],
   "source": [
    "%%sample\n",
    "meeting"
   ]
  },
  {
   "cell_type": "markdown",
   "metadata": {},
   "source": [
    "It still doesn't pick up the topic. This isn't an issue of clean or dirty data, rather the model itself."
   ]
  },
  {
   "cell_type": "markdown",
   "metadata": {},
   "source": [
    "### Conclusions\n",
    "\n",
    "Advantages of LSTM:\n",
    "\n",
    "1. It is able to give grammatically correct sentences that are perfectly punctuated.\n",
    "\n",
    "Disadvantages of LSTM:\n",
    "\n",
    "1. It takes rather long to train (5 hours 44 mins).\n",
    "\n",
    "2. It is incoherent.\n",
    "\n",
    "3. It cannot autocomplete on a word level.\n",
    "\n",
    "4. It is subsceptible to noise."
   ]
  }
 ],
 "metadata": {
  "accelerator": "GPU",
  "colab": {
   "collapsed_sections": [],
   "name": "capstone.ipynb",
   "provenance": []
  },
  "kernelspec": {
   "display_name": "Python 3",
   "language": "python",
   "name": "python3"
  },
  "language_info": {
   "codemirror_mode": {
    "name": "ipython",
    "version": 3
   },
   "file_extension": ".py",
   "mimetype": "text/x-python",
   "name": "python",
   "nbconvert_exporter": "python",
   "pygments_lexer": "ipython3",
   "version": "3.8.8"
  }
 },
 "nbformat": 4,
 "nbformat_minor": 1
}
