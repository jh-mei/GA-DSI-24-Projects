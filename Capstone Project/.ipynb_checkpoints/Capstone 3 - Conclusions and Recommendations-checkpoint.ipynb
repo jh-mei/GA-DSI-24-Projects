{
 "cells": [
  {
   "cell_type": "markdown",
   "id": "f75209f8",
   "metadata": {},
   "source": [
    "# Capstone Part 3: Conclusions and Recommendations"
   ]
  },
  {
   "cell_type": "code",
   "execution_count": null,
   "id": "cbede923",
   "metadata": {},
   "outputs": [],
   "source": []
  }
 ],
 "metadata": {
  "kernelspec": {
   "display_name": "Python 3",
   "language": "python",
   "name": "python3"
  },
  "language_info": {
   "codemirror_mode": {
    "name": "ipython",
    "version": 3
   },
   "file_extension": ".py",
   "mimetype": "text/x-python",
   "name": "python",
   "nbconvert_exporter": "python",
   "pygments_lexer": "ipython3",
   "version": "3.8.8"
  }
 },
 "nbformat": 4,
 "nbformat_minor": 5
}
