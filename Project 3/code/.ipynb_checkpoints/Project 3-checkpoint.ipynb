{
 "cells": [
  {
   "cell_type": "markdown",
   "id": "1b641732",
   "metadata": {},
   "source": [
    "<img src=\"http://imgur.com/1ZcRyrc.png\" style=\"float: left; margin: 20px; height: 55px\">\n",
    "\n",
    "# Project 3"
   ]
  },
  {
   "cell_type": "markdown",
   "id": "33f7524e",
   "metadata": {},
   "source": [
    "## Problem Statement"
   ]
  },
  {
   "cell_type": "markdown",
   "id": "c3bbe553",
   "metadata": {},
   "source": [
    "Reddit is a very diverse collection of forums, divided categorically into smaller forums called subreddits. The main purpose of the subreddit, however, tends to tread a very fine line. For example, /r/stocks and /r/wallstreetbets are both about stocks, but the direction the posts tend to head to are quite different.\n",
    "\n",
    "Imagine that Reddit would like to break into the news industry. They would want to take the headlines of certain articles and automatically broadcast it to any relevant subreddits. To do this, they would need a classifier to predict what kind of subreddit would be interested in certain topics, without using the subject of the article.\n",
    "\n",
    "This project aims to train a classifier that will do such a task."
   ]
  },
  {
   "cell_type": "markdown",
   "id": "819e8399",
   "metadata": {},
   "source": [
    "### Contents:\n",
    "- [Background](#Background)\n",
    "- [Web Scraping](#Web-Scraping)\n",
    "- [Preprocessing](#Preprocessing)\n",
    "- [Exploratory Data Analysis](#Exploratory-Data-Analysis)\n",
    "- [Data Modelling - Logistic Regression](#Data-Modelling-\\--Logistic-Regression)\n",
    "- [Data Modelling - Others](#Data-Modelling-\\--Others)\n",
    "- [Conclusions](#Conclusions)"
   ]
  },
  {
   "cell_type": "markdown",
   "id": "c4b10535",
   "metadata": {},
   "source": [
    "## Background"
   ]
  },
  {
   "cell_type": "markdown",
   "id": "a043eb9e",
   "metadata": {},
   "source": [
    "The two subreddits chosen are **/r/magicTCG** and **/r/mtgfinance**. While both are related, the latter discusses the cards' financial prices while the former discusses gameplay and the metagame (with the occasional leakage of financial discussion to which will be met with an unproportional amount of ire)."
   ]
  },
  {
   "cell_type": "markdown",
   "id": "87b7bd6b",
   "metadata": {},
   "source": [
    "### A short intro to /r/magicTCG"
   ]
  },
  {
   "cell_type": "markdown",
   "id": "5eb2fa7e",
   "metadata": {},
   "source": [
    "Magic: the Gathering is a Trading Card Game (TCG) introduced in 1993. It was THE original TCG, in fact, and thus naturally has a large collectible value to it. Boasting a global playerbase of 35 million, it is also the most widely played TCG in the world. For more details, refer to the Wikipedia page.\n",
    "(https://en.wikipedia.org/wiki/Magic:_The_Gathering)\n",
    "\n",
    "The subreddit dedicated to this game is /r/magicTCG. The main forms of textual posts in this subreddit are usually questions about the gameplay, like whether the 252 page rulebook is comprehensive enough, and discussions regarding the lore. Most other posts are pictorial, like fanarts and card alters.\n",
    "\n",
    "However, every quarter or so, the company behind this game, Wizards of the Coast (abbrev. Wotc), releases an expansion (aka 'set' to the playerbase). These expansions are major events in the subreddit and will take over the majority of the posts as spoilers of the new cards are released."
   ]
  },
  {
   "cell_type": "markdown",
   "id": "22bd54f5",
   "metadata": {},
   "source": [
    "### A short intro to /r/mtgfinance"
   ]
  },
  {
   "cell_type": "markdown",
   "id": "7c0d8149",
   "metadata": {},
   "source": [
    "And then we have /r/mtgfinance, the self-proclaimed /r/wallstreetbets of Magic: the Gathering with all of the same sass and attitude.\n",
    "\n",
    "The posts on that subreddit are mostly dedicated to asking whether it is wise to hold onto old sets as investments, asking whether buying a suspicious Black Lotus for $500,000 is wise (https://www.polygon.com/2021/1/27/22253079/magic-the-gathering-black-lotus-auction-price-2021) and flipping cards like they were cryptocurrencies.\n",
    "\n",
    "Two main topics that frequently turn up are 'Secret Lairs' and 'Reserved List'. \n",
    "\n",
    "'Secret Lairs' are a fairly new initiative by Wotc (who was recently acquired by Hasbro). Basically, they are a collection of reprinted old cards with new art that are then purchasable online. This initiative has garnered a lot of flak from the main subreddit with people calling the move 'greedy' as Wotc had always stayed out of manipulating the secondary market until recently. /r/mtgfinance people, however, see each Secret Lair release as a potential investment, buying them so that time will appreciate their value.\n",
    "\n",
    "'Reserved List' is a list of old cards that Wotc has declared that they will never reprint, else they suffer the legal consequences. Clearly, this causes scarcity, and scarcity leads to demand, and demand leads to high prices. This is the basis of the subreddit, and many people who use this subreddit are very interested in collecting these Reserved List cards."
   ]
  },
  {
   "cell_type": "markdown",
   "id": "0d729af1",
   "metadata": {},
   "source": [
    "### Workflow"
   ]
  },
  {
   "cell_type": "markdown",
   "id": "2c954392",
   "metadata": {},
   "source": [
    "The following steps will be taken to complete this project.\n",
    "\n",
    "   1. Collection of data through web scraping\n",
    "   \n",
    "   2. Preprocessing to remove common words, define stop words etc.\n",
    "   \n",
    "   3. Performing of EDA to take a look at preliminary effects of lemmatization and stemming to see what kind of effect it should have on modelling\n",
    "   \n",
    "   4. Modelling and inferences\n",
    "   \n",
    "   5. Draw final conclusions"
   ]
  },
  {
   "cell_type": "markdown",
   "id": "90c728bb",
   "metadata": {},
   "source": [
    "### Datasets Used"
   ]
  },
  {
   "cell_type": "markdown",
   "id": "a3faac49",
   "metadata": {},
   "source": [
    "* [`test.csv`](../datasets/test.csv): Kaggle dataset\n",
    "* [`train.csv`](../datasets/train.csv): Training dataset"
   ]
  },
  {
   "cell_type": "markdown",
   "id": "9d01d08b",
   "metadata": {},
   "source": [
    "### Library Imports"
   ]
  },
  {
   "cell_type": "code",
   "execution_count": 1,
   "id": "acc2deea",
   "metadata": {},
   "outputs": [],
   "source": [
    "# basic libraries\n",
    "import numpy as np\n",
    "import pandas as pd\n",
    "\n",
    "# scraping libraries\n",
    "import requests\n",
    "\n",
    "# nlp libraries\n",
    "from nltk.tokenize import sent_tokenize, word_tokenize, RegexpTokenizer\n",
    "from nltk.stem import WordNetLemmatizer\n",
    "from nltk.stem.porter import PorterStemmer\n",
    "from nltk.corpus import stopwords\n",
    "import re\n",
    "\n",
    "# visualization libraries\n",
    "import matplotlib.pyplot as plt\n",
    "import seaborn as sns\n",
    "\n",
    "# sklearn libraries\n",
    "from sklearn.feature_extraction import text\n",
    "from sklearn.feature_extraction.text import CountVectorizer, TfidfVectorizer\n",
    "from sklearn.model_selection import train_test_split, GridSearchCV\n",
    "from sklearn.pipeline import Pipeline\n",
    "from sklearn.naive_bayes import MultinomialNB\n",
    "from sklearn.linear_model import LogisticRegression\n",
    "from sklearn.tree import DecisionTreeClassifier\n",
    "from sklearn.ensemble import (\n",
    "    BaggingClassifier,\n",
    "    RandomForestClassifier,\n",
    "    GradientBoostingClassifier,\n",
    "    AdaBoostClassifier,\n",
    "    VotingClassifier\n",
    ")\n",
    "    \n",
    "from sklearn.metrics import (\n",
    "    confusion_matrix, \n",
    "    plot_confusion_matrix,\n",
    "    accuracy_score,\n",
    "    plot_roc_curve,\n",
    "    roc_auc_score,\n",
    "    recall_score,\n",
    "    precision_score,\n",
    "    f1_score\n",
    ")\n",
    "\n",
    "%matplotlib inline"
   ]
  },
  {
   "cell_type": "markdown",
   "id": "ef0e7e6f",
   "metadata": {},
   "source": [
    "### Functions Used"
   ]
  },
  {
   "cell_type": "code",
   "execution_count": 2,
   "id": "3f1dac56",
   "metadata": {},
   "outputs": [],
   "source": [
    "def get_posts(subreddit, n):\n",
    "    full_df = pd.DataFrame() # instantiating empty dataframe\n",
    "    last_post = None # setting last epoch to None\n",
    "    for _ in range(n): # setting up for loop\n",
    "        data = requests.get(\n",
    "            'https://api.pushshift.io/reddit/search/submission',\n",
    "            {\n",
    "                'subreddit': subreddit,\n",
    "                'size': 100,\n",
    "                'before': last_post\n",
    "            } # applying api to pull latest 100 posts\n",
    "        ).json()\n",
    "        \n",
    "        df = pd.DataFrame(data['data']) # convert 100 posts to dataframe\n",
    "        last_post = df.iloc[-1]['created_utc'] # update last epoch\n",
    "        full_df = pd.concat([full_df, df]).reset_index(drop=True) # concat each dataframe\n",
    "    return full_df"
   ]
  },
  {
   "cell_type": "code",
   "execution_count": 3,
   "id": "cfa3c51a",
   "metadata": {},
   "outputs": [],
   "source": [
    "def get_relevant_columns(df):\n",
    "    df = df.loc[\n",
    "        :,\n",
    "        [\n",
    "            'selftext',\n",
    "            'title'\n",
    "        ]\n",
    "    ]\n",
    "    \n",
    "    return df    "
   ]
  },
  {
   "cell_type": "code",
   "execution_count": 4,
   "id": "602d7e8f",
   "metadata": {},
   "outputs": [],
   "source": [
    "def drop_na(df):\n",
    "    df = df.replace( # replacing removed and deleted posts with NaN\n",
    "        [\n",
    "            '',\n",
    "            '[removed]',\n",
    "            '[deleted]'],\n",
    "        np.nan\n",
    "    ).dropna( # dropping NaNs\n",
    "    ).drop_duplicates( # dropping duplicates\n",
    "    ).reset_index( # resetting index\n",
    "        drop=True\n",
    "    )\n",
    "    \n",
    "    return df"
   ]
  },
  {
   "cell_type": "code",
   "execution_count": 5,
   "id": "5422b11c",
   "metadata": {},
   "outputs": [],
   "source": [
    "def merge_text(df):\n",
    "    df['alltext'] = df['selftext'] + ' ' + df['title']\n",
    "    df = df.drop(columns=['selftext', 'title'])\n",
    "    return df"
   ]
  },
  {
   "cell_type": "code",
   "execution_count": 6,
   "id": "87f5b527",
   "metadata": {},
   "outputs": [],
   "source": [
    "def remove_duplicate(row):\n",
    "    if row['selftext'] == row['title']:\n",
    "        row['title'] = ' '  \n",
    "    return row"
   ]
  },
  {
   "cell_type": "code",
   "execution_count": 7,
   "id": "c9d15648",
   "metadata": {},
   "outputs": [],
   "source": [
    "def remove_url(df):\n",
    "    df['alltext'] = df['alltext'].apply(lambda row: re.sub(r'http\\S+', '', row))\n",
    "    return df"
   ]
  },
  {
   "cell_type": "code",
   "execution_count": 8,
   "id": "429167ec",
   "metadata": {},
   "outputs": [],
   "source": [
    "def plot_ngram(df, col, stoplist, n1, n2):\n",
    "    cvec = CountVectorizer(stop_words=stoplist, ngram_range=(n1, n2)) # instantiate\n",
    "    vec_ = cvec.fit_transform(df[col]) # fit transform\n",
    "    vec_df = pd.DataFrame(vec_.todense(),\n",
    "                          columns=cvec.get_feature_names()) # convert to df\n",
    "    x = vec_df.sum().sort_values(ascending=False).head(10).plot(kind='barh') # plot\n",
    "    return x"
   ]
  },
  {
   "cell_type": "code",
   "execution_count": 9,
   "id": "0b20da3a",
   "metadata": {},
   "outputs": [],
   "source": [
    "def lemmatize_text(row):\n",
    "    lemmatizer = WordNetLemmatizer()\n",
    "    return [lemmatizer.lemmatize(x) for x in row]"
   ]
  },
  {
   "cell_type": "code",
   "execution_count": 10,
   "id": "335f4b8b",
   "metadata": {},
   "outputs": [],
   "source": [
    "def stem_text(row):\n",
    "    p_stemmer = PorterStemmer()\n",
    "    return [p_stemmer.stem(x) for x in row]"
   ]
  },
  {
   "cell_type": "code",
   "execution_count": 11,
   "id": "b5d19734",
   "metadata": {},
   "outputs": [],
   "source": [
    "def tokenize_1(df, newcol, target):\n",
    "    tokenizer = RegexpTokenizer(r'\\w+') \n",
    "    df[newcol] = df[target].apply(lambda row: tokenizer.tokenize(row.lower()))\n",
    "    return df"
   ]
  },
  {
   "cell_type": "code",
   "execution_count": 12,
   "id": "f981dd05",
   "metadata": {},
   "outputs": [],
   "source": [
    "def unique_token(df, col):\n",
    "    x = list( # convert to list to... ^\n",
    "            set( # convert to set to get unique values, then... ^\n",
    "                sum( # join into single list, then... ^\n",
    "                    df[col].ravel().tolist(), [] # Convert from column to list of lists, then ^\n",
    "                    )\n",
    "                )\n",
    "            )\n",
    "            \n",
    "    return x"
   ]
  },
  {
   "cell_type": "code",
   "execution_count": 13,
   "id": "ee9b90e6",
   "metadata": {},
   "outputs": [],
   "source": [
    "def valuecounts_token(df, col):\n",
    "    return pd.Series(sum(df[col].ravel().tolist(), [])).value_counts()"
   ]
  },
  {
   "cell_type": "code",
   "execution_count": 14,
   "id": "a8ef7aa1",
   "metadata": {},
   "outputs": [],
   "source": [
    "def modelmetric(model, x_test, y_test):\n",
    "    y_pred = model.predict(x_test) # get predictions\n",
    "    tn, fp, fn, tp = confusion_matrix(y_test, y_pred).ravel() # instantiate con matrix\n",
    "    accuracy = accuracy_score(y_test, y_pred) # setting up metrics\n",
    "    specificity = tn/(tn+fp)\n",
    "    recall = recall_score(y_test, y_pred)\n",
    "    precision = precision_score(y_test, y_pred)\n",
    "    f1score = f1_score(y_test, y_pred)\n",
    "    print(f'Accuracy = {accuracy}') # printing metrics\n",
    "    print(f'Specificity = {specificity}')\n",
    "    print(f'Sensitivity/Recall = {recall}')\n",
    "    print(f'Precision = {precision}')\n",
    "    print(f'F1 score = {f1score}')\n",
    "    plot_confusion_matrix(model, x_test, y_test, cmap='Blues',  # plot con matrix\n",
    "                      values_format='d')"
   ]
  },
  {
   "cell_type": "code",
   "execution_count": 15,
   "id": "7d628d33",
   "metadata": {},
   "outputs": [],
   "source": [
    "def misclassified(model, x_test, y_test):\n",
    "    results = pd.DataFrame(model.predict(x_test), columns=['predicted'])\n",
    "    results['actual'] = y_test.to_frame().reset_index(drop=True)\n",
    "    results['text'] = x_test.to_frame().reset_index(drop=True)\n",
    "    return results.loc[(results['predicted'] != results['actual']), :]"
   ]
  },
  {
   "cell_type": "code",
   "execution_count": 16,
   "id": "ae964068",
   "metadata": {},
   "outputs": [],
   "source": [
    "def plot_misclassified(df, col, stoplist, n1, n2):\n",
    "    cvec = CountVectorizer(stop_words=stoplist, ngram_range=(n1, n2)) # instantiate\n",
    "    vec_ = cvec.fit_transform(df[col]) # fit transform\n",
    "    vec_df = pd.DataFrame(vec_.todense(),\n",
    "                          columns=cvec.get_feature_names()) # convert to df\n",
    "    x = vec_df.sum().sort_values(ascending=False).head(20).plot(kind='barh') # plot\n",
    "    return x"
   ]
  },
  {
   "cell_type": "markdown",
   "id": "9c25d70e",
   "metadata": {},
   "source": [
    "## Web Scraping"
   ]
  },
  {
   "cell_type": "code",
   "execution_count": null,
   "id": "ea866a45",
   "metadata": {
    "scrolled": true
   },
   "outputs": [],
   "source": [
    "# scrape posts and convert to df\n",
    "tcg_df = get_posts('magicTCG', 22)"
   ]
  },
  {
   "cell_type": "code",
   "execution_count": null,
   "id": "fdbcbb2f",
   "metadata": {
    "scrolled": true
   },
   "outputs": [],
   "source": [
    "mtgfin_df = get_posts('mtgfinance', 14)"
   ]
  },
  {
   "cell_type": "code",
   "execution_count": null,
   "id": "90b2622b",
   "metadata": {},
   "outputs": [],
   "source": [
    "# checking if scrape was successful\n",
    "tcg_df.shape"
   ]
  },
  {
   "cell_type": "code",
   "execution_count": null,
   "id": "b6d9ddae",
   "metadata": {},
   "outputs": [],
   "source": [
    "mtgfin_df.shape"
   ]
  },
  {
   "cell_type": "code",
   "execution_count": null,
   "id": "3735da46",
   "metadata": {},
   "outputs": [],
   "source": [
    "# isolating the columns with text that we actually want to analyze\n",
    "# removing [removed] posts and [deleted] posts and blanks posts\n",
    "tcg_df = get_relevant_columns(tcg_df)\n",
    "tcg_df = drop_na(tcg_df)"
   ]
  },
  {
   "cell_type": "code",
   "execution_count": null,
   "id": "982c9967",
   "metadata": {},
   "outputs": [],
   "source": [
    "mtgfin_df = get_relevant_columns(mtgfin_df)\n",
    "mtgfin_df = drop_na(mtgfin_df)"
   ]
  },
  {
   "cell_type": "code",
   "execution_count": null,
   "id": "fcb6eb90",
   "metadata": {},
   "outputs": [],
   "source": [
    "# checking if there are enough posts leftover\n",
    "tcg_df.shape"
   ]
  },
  {
   "cell_type": "code",
   "execution_count": null,
   "id": "968adaaf",
   "metadata": {},
   "outputs": [],
   "source": [
    "mtgfin_df.shape"
   ]
  },
  {
   "cell_type": "markdown",
   "id": "c1b97213",
   "metadata": {},
   "source": [
    "## Preprocessing"
   ]
  },
  {
   "cell_type": "code",
   "execution_count": null,
   "id": "f88cabca",
   "metadata": {},
   "outputs": [],
   "source": [
    "# check for duplicates in selftext and title\n",
    "tcg_df.loc[(tcg_df['selftext'] == tcg_df['title']), :]"
   ]
  },
  {
   "cell_type": "code",
   "execution_count": null,
   "id": "d42b5678",
   "metadata": {},
   "outputs": [],
   "source": [
    "# check for duplicates in selftext and title\n",
    "mtgfin_df.loc[(mtgfin_df['selftext'] == mtgfin_df['title']), :]"
   ]
  },
  {
   "cell_type": "code",
   "execution_count": null,
   "id": "1e13a9fd",
   "metadata": {},
   "outputs": [],
   "source": [
    "# removing duplicate text\n",
    "mtgfin_df = mtgfin_df.apply(remove_duplicate, axis=1)"
   ]
  },
  {
   "cell_type": "code",
   "execution_count": null,
   "id": "cfb51cd3",
   "metadata": {},
   "outputs": [],
   "source": [
    "# merging selftext and title columns\n",
    "tcg_df = merge_text(tcg_df)\n",
    "mtgfin_df = merge_text(mtgfin_df)"
   ]
  },
  {
   "cell_type": "code",
   "execution_count": null,
   "id": "475875b2",
   "metadata": {},
   "outputs": [],
   "source": [
    "# remove urls\n",
    "remove_url(mtgfin_df)\n",
    "remove_url(tcg_df);"
   ]
  },
  {
   "cell_type": "markdown",
   "id": "cc7caa3c",
   "metadata": {},
   "source": [
    "The word 'finance' is intuitively only in the financial subreddit of the TCG, so we should remove it and any stemmed version of the word as it will make differentiating the subreddits too straightforward."
   ]
  },
  {
   "cell_type": "code",
   "execution_count": null,
   "id": "6373b0c8",
   "metadata": {},
   "outputs": [],
   "source": [
    "# instantiate porterstemmer\n",
    "p_stemmer = PorterStemmer()\n",
    "\n",
    "# stem the word 'finance'\n",
    "p_stemmer.stem('finance')"
   ]
  },
  {
   "cell_type": "code",
   "execution_count": null,
   "id": "81129759",
   "metadata": {},
   "outputs": [],
   "source": [
    "# instantiate lemmatizer\n",
    "lemmatizer = WordNetLemmatizer()\n",
    "\n",
    "# lemmatize the word 'finance'\n",
    "lemmatizer.lemmatize('finance')"
   ]
  },
  {
   "cell_type": "code",
   "execution_count": null,
   "id": "0ac1388d",
   "metadata": {},
   "outputs": [],
   "source": [
    "# remove all instances of the words 'finance' and 'financ'\n",
    "tcg_df['alltext'] = tcg_df['alltext'].map(lambda x: x.replace('finance', '').replace('financ', ''))\n",
    "mtgfin_df['alltext'] = mtgfin_df['alltext'].map(lambda x: x.replace('finance', '').replace('financ', ''))"
   ]
  },
  {
   "cell_type": "code",
   "execution_count": null,
   "id": "0b201c7f",
   "metadata": {},
   "outputs": [],
   "source": [
    "mtgfin_df['alltext'].str.contains('finance').sort_values()"
   ]
  },
  {
   "cell_type": "code",
   "execution_count": null,
   "id": "5203c87d",
   "metadata": {},
   "outputs": [],
   "source": [
    "# export to csv\n",
    "tcg_df.to_csv('../datasets/tcg_df_clean.csv', index=False)\n",
    "mtgfin_df.to_csv('../datasets/mtgfin_df_clean.csv', index=False)"
   ]
  },
  {
   "cell_type": "markdown",
   "id": "e54233da",
   "metadata": {},
   "source": [
    "## Exploratory Data Analysis"
   ]
  },
  {
   "cell_type": "code",
   "execution_count": 17,
   "id": "26419e53",
   "metadata": {},
   "outputs": [],
   "source": [
    "# import clean csv\n",
    "tcg_df = pd.read_csv('../datasets/tcg_df_clean.csv')\n",
    "mtgfin_df = pd.read_csv('../datasets/mtgfin_df_clean.csv')"
   ]
  },
  {
   "cell_type": "markdown",
   "id": "05a71901",
   "metadata": {},
   "source": [
    "### Lemmatization"
   ]
  },
  {
   "cell_type": "markdown",
   "id": "fde95a46",
   "metadata": {},
   "source": [
    "First, we try to visualize the effect and impact of lemmatization on the texts. To do this, we find the difference in tokens after lemmatization. "
   ]
  },
  {
   "cell_type": "code",
   "execution_count": 18,
   "id": "bb61ff35",
   "metadata": {},
   "outputs": [],
   "source": [
    "# tokenize both dfs\n",
    "tcg_df = tokenize_1(tcg_df, 'tokens', 'alltext')"
   ]
  },
  {
   "cell_type": "code",
   "execution_count": 19,
   "id": "c9f6ad83",
   "metadata": {},
   "outputs": [],
   "source": [
    "mtgfin_df = tokenize_1(mtgfin_df, 'tokens', 'alltext')"
   ]
  },
  {
   "cell_type": "code",
   "execution_count": 20,
   "id": "cb04695f",
   "metadata": {},
   "outputs": [
    {
     "data": {
      "text/plain": [
       "8257"
      ]
     },
     "execution_count": 20,
     "metadata": {},
     "output_type": "execute_result"
    }
   ],
   "source": [
    "# count unique tokens\n",
    "len(unique_token(tcg_df, 'tokens'))"
   ]
  },
  {
   "cell_type": "code",
   "execution_count": 21,
   "id": "8375e5b2",
   "metadata": {},
   "outputs": [
    {
     "data": {
      "text/plain": [
       "8662"
      ]
     },
     "execution_count": 21,
     "metadata": {},
     "output_type": "execute_result"
    }
   ],
   "source": [
    "len(unique_token(mtgfin_df, 'tokens'))"
   ]
  },
  {
   "cell_type": "markdown",
   "id": "e73cbd65",
   "metadata": {},
   "source": [
    "Before lemmatization, there are 8257 unique words in /r/magicTCG posts and 8662 unique words in /r/mtgfinance."
   ]
  },
  {
   "cell_type": "code",
   "execution_count": 22,
   "id": "9399073a",
   "metadata": {},
   "outputs": [],
   "source": [
    "tcg_df['lemmatized'] = tcg_df['tokens'].apply(lemmatize_text)\n",
    "mtgfin_df['lemmatized'] = mtgfin_df['tokens'].apply(lemmatize_text)"
   ]
  },
  {
   "cell_type": "code",
   "execution_count": 23,
   "id": "a036cc21",
   "metadata": {},
   "outputs": [
    {
     "data": {
      "text/plain": [
       "7519"
      ]
     },
     "execution_count": 23,
     "metadata": {},
     "output_type": "execute_result"
    }
   ],
   "source": [
    "len(unique_token(tcg_df, 'lemmatized'))"
   ]
  },
  {
   "cell_type": "code",
   "execution_count": 24,
   "id": "fd0639cf",
   "metadata": {},
   "outputs": [
    {
     "data": {
      "text/plain": [
       "7830"
      ]
     },
     "execution_count": 24,
     "metadata": {},
     "output_type": "execute_result"
    }
   ],
   "source": [
    "len(unique_token(mtgfin_df, 'lemmatized'))"
   ]
  },
  {
   "cell_type": "code",
   "execution_count": 25,
   "id": "065e6566",
   "metadata": {},
   "outputs": [
    {
     "data": {
      "image/png": "[encoded data removed]",
      "text/plain": [
       "<Figure size 432x288 with 1 Axes>"
      ]
     },
     "metadata": {
      "needs_background": "light"
     },
     "output_type": "display_data"
    }
   ],
   "source": [
    "labels = ['magicTCG', 'mtgfinance']\n",
    "original = [8257, 8662]\n",
    "lemmatized = [7519, 7830]\n",
    "\n",
    "x = np.arange(len(labels)) \n",
    "width = 0.15\n",
    "\n",
    "fig, ax = plt.subplots()\n",
    "rects1 = ax.bar(x - width/2, original, width, label='Original')\n",
    "rects2 = ax.bar(x + width/2, lemmatized, width, label='Lemmatized')\n",
    "\n",
    "ax.set_ylabel('Unique words')\n",
    "ax.set_title('Effect of lemmatization on subreddits')\n",
    "ax.set_xticks(x)\n",
    "ax.set_xticklabels(labels)\n",
    "ax.legend();"
   ]
  },
  {
   "cell_type": "markdown",
   "id": "77a49dba",
   "metadata": {},
   "source": [
    "Lemmatization has decreased the number of unique words for both subreddits. \n",
    "\n",
    "Let's take a look at the differences in the words lemmatized for both subreddits."
   ]
  },
  {
   "cell_type": "code",
   "execution_count": 26,
   "id": "a0f86016",
   "metadata": {},
   "outputs": [
    {
     "data": {
      "text/plain": [
       "['buys',\n",
       " 'storys',\n",
       " 'fixes',\n",
       " 'setups',\n",
       " 'protocols',\n",
       " 'deals',\n",
       " 'offerings',\n",
       " 'tactics',\n",
       " 'doubles',\n",
       " 'euros',\n",
       " 'locals',\n",
       " 'gains',\n",
       " 'sharpies',\n",
       " 'ghosts',\n",
       " 'rites',\n",
       " 'lines',\n",
       " 'estates',\n",
       " 'pages',\n",
       " 'consumers',\n",
       " 'greetings',\n",
       " 'coins',\n",
       " 'solutions',\n",
       " 'domiciles',\n",
       " 'methods',\n",
       " 'investigators',\n",
       " 'bills',\n",
       " 'ss',\n",
       " 'wolves',\n",
       " 'roles',\n",
       " 'discounts',\n",
       " 'pilots',\n",
       " 'ds',\n",
       " 'boosters',\n",
       " 'media',\n",
       " 'regards',\n",
       " 'commanders',\n",
       " 'managers',\n",
       " 'cobbles',\n",
       " 'dies',\n",
       " 'printings',\n",
       " 'beings',\n",
       " 'piles',\n",
       " 'tramplers',\n",
       " 'ways',\n",
       " 'tuners',\n",
       " 'mutations',\n",
       " 'materials',\n",
       " 'builds',\n",
       " 'doors',\n",
       " 'counters',\n",
       " 'frogs',\n",
       " 'shows',\n",
       " 'werewolfs',\n",
       " 'clues',\n",
       " 'apologies',\n",
       " 'airships',\n",
       " 'swamps',\n",
       " 'takes',\n",
       " 'reviewers',\n",
       " 'giants',\n",
       " 'crags',\n",
       " 'reprints',\n",
       " 'means',\n",
       " 'edges',\n",
       " 'bards',\n",
       " 'enchantments',\n",
       " 'entities',\n",
       " 'deaths',\n",
       " 'worlds',\n",
       " 'helps',\n",
       " 'raises',\n",
       " 'forms',\n",
       " 'pools',\n",
       " 'essentials',\n",
       " 'markets',\n",
       " 'places',\n",
       " 'uses',\n",
       " 'vapors',\n",
       " 'keeps',\n",
       " 'cares',\n",
       " 'paints',\n",
       " 'replacements',\n",
       " 'ass',\n",
       " 'breakdowns',\n",
       " 'ins',\n",
       " 'details',\n",
       " 'settings',\n",
       " 'successes',\n",
       " 'tokens',\n",
       " 'organizers',\n",
       " 'scoops',\n",
       " 'enchantresses',\n",
       " 'areas',\n",
       " 'copies',\n",
       " 'corporations',\n",
       " 'hits',\n",
       " 'actions',\n",
       " 'tries',\n",
       " 'sales',\n",
       " 'letters',\n",
       " 'nerds',\n",
       " 'replies',\n",
       " 'trailers',\n",
       " 'collectibles',\n",
       " 'opinions',\n",
       " 'designs',\n",
       " 'dinosaurs',\n",
       " 'permanents',\n",
       " 'stances',\n",
       " 'pals',\n",
       " 'inputs',\n",
       " 'werewolves',\n",
       " 'leagues',\n",
       " 'mattes',\n",
       " 'canvases',\n",
       " 'purchases',\n",
       " 'kings',\n",
       " 'curses',\n",
       " 'checks',\n",
       " 'celestas',\n",
       " 'charges',\n",
       " 'thoughts',\n",
       " 'commons',\n",
       " 'packets',\n",
       " 'hundreds',\n",
       " 'miles',\n",
       " 'kits',\n",
       " 'teams',\n",
       " 'resolves',\n",
       " 'roubles',\n",
       " 'labels',\n",
       " 'catches',\n",
       " 'rumors',\n",
       " 'rarities',\n",
       " 'units',\n",
       " 'abilities',\n",
       " 'contents',\n",
       " 'borders',\n",
       " 'safes',\n",
       " 'rewards',\n",
       " 'fundamentals',\n",
       " 'kicks',\n",
       " 'souls',\n",
       " 'choices',\n",
       " 'os',\n",
       " 'skills',\n",
       " 'leaves',\n",
       " 'passives',\n",
       " 'codes',\n",
       " 'exiles',\n",
       " 'stars',\n",
       " 'sections',\n",
       " '3s',\n",
       " 'users',\n",
       " 'wards',\n",
       " 'openings',\n",
       " 'taps',\n",
       " 'generators',\n",
       " 'shuffles',\n",
       " 'universes',\n",
       " 'fits',\n",
       " 'fogs',\n",
       " 'brands',\n",
       " 'heels',\n",
       " 'elders',\n",
       " 'concepts',\n",
       " 'runes',\n",
       " 'loves',\n",
       " 'wizards',\n",
       " 'casts',\n",
       " 'searches',\n",
       " 'terms',\n",
       " 'fears',\n",
       " 'channels',\n",
       " 'discussions',\n",
       " 'artists',\n",
       " 'tickets',\n",
       " 'whiffs',\n",
       " 'rejects',\n",
       " 'creators',\n",
       " 'decks',\n",
       " 'colours',\n",
       " 'techs',\n",
       " 'chefs',\n",
       " 'offers',\n",
       " 'zones',\n",
       " 'subscribers',\n",
       " 'expectations',\n",
       " 'quests',\n",
       " 'pirates',\n",
       " 'haymakers',\n",
       " 'comers',\n",
       " 'ruins',\n",
       " 'alliterations',\n",
       " 'makes',\n",
       " 'tropes',\n",
       " 'likes',\n",
       " 'archetypes',\n",
       " 'needless',\n",
       " 'splices',\n",
       " 'rulings',\n",
       " 'inspirations',\n",
       " 'manifests',\n",
       " 'themes',\n",
       " 'ideas',\n",
       " 'modifications',\n",
       " 'bolas',\n",
       " 'participants',\n",
       " 'binders',\n",
       " 'drops',\n",
       " 'matches',\n",
       " 'drawbacks',\n",
       " 'events',\n",
       " 'matters',\n",
       " 'stitchers',\n",
       " 'graves',\n",
       " 'moderators',\n",
       " 'sells',\n",
       " 'ratios',\n",
       " 'wishes',\n",
       " 'rivers',\n",
       " 'triggers',\n",
       " 'circumstances',\n",
       " 'tilts',\n",
       " 'removes',\n",
       " 'instants',\n",
       " 'resources',\n",
       " 'loads',\n",
       " 'boulders',\n",
       " 'hooves',\n",
       " 'collections',\n",
       " 'crinkles',\n",
       " 'smells',\n",
       " 'wills',\n",
       " 'advantages',\n",
       " 'thinks',\n",
       " 'vampires',\n",
       " 'identifiers',\n",
       " 'bricks',\n",
       " 'duds',\n",
       " 'planes',\n",
       " 'machines',\n",
       " 'sources',\n",
       " 'lasts',\n",
       " 'countries',\n",
       " 'mysteries',\n",
       " 'flips',\n",
       " 'pingers',\n",
       " 'sacrifices',\n",
       " 'staples',\n",
       " 'scans',\n",
       " 'premises',\n",
       " 'objects',\n",
       " 'realms',\n",
       " 'supports',\n",
       " 'statements',\n",
       " 'monsters',\n",
       " 'claims',\n",
       " 'does',\n",
       " 'physics',\n",
       " 'boxes',\n",
       " 'gentlemen',\n",
       " 'types',\n",
       " 'theories',\n",
       " 'gets',\n",
       " 'errata',\n",
       " 'views',\n",
       " 'toppers',\n",
       " 'controversies',\n",
       " 'steroids',\n",
       " 'mercenaries',\n",
       " 'locations',\n",
       " 'angels',\n",
       " 'adds',\n",
       " 'seas',\n",
       " 'saturdays',\n",
       " 'lives',\n",
       " 'origins',\n",
       " 'expansions',\n",
       " 'spiders',\n",
       " 'webs',\n",
       " 'sets',\n",
       " 'dailies',\n",
       " 'feet',\n",
       " 'comments',\n",
       " 'companies',\n",
       " 'bucks',\n",
       " 'languages',\n",
       " 'investigations',\n",
       " 'controls',\n",
       " 'monstrosities',\n",
       " 'weenies',\n",
       " 'drawers',\n",
       " 'developments',\n",
       " 'spirits',\n",
       " 'tutors',\n",
       " 'rounds',\n",
       " 'ranks',\n",
       " 'policies',\n",
       " 'merchants',\n",
       " 'graveyards',\n",
       " 'states',\n",
       " 'inserts',\n",
       " 'wars',\n",
       " 'caps',\n",
       " 'nightmares',\n",
       " 'beliefs',\n",
       " 'less',\n",
       " 'soldiers',\n",
       " 'kids',\n",
       " 'walkers',\n",
       " 'nicknames',\n",
       " 'fingers',\n",
       " 'attendees',\n",
       " 'partners',\n",
       " 'vultures',\n",
       " 'customs',\n",
       " 'moves',\n",
       " 'captures',\n",
       " 'splashes',\n",
       " 'stops',\n",
       " 'achievements',\n",
       " 'nagas',\n",
       " 'experiences',\n",
       " 'totals',\n",
       " 'archives',\n",
       " 'returns',\n",
       " 'flowers',\n",
       " 'auctions',\n",
       " 'associations',\n",
       " 'errors',\n",
       " 'holes',\n",
       " 'prayers',\n",
       " 'brews',\n",
       " 'images',\n",
       " 'trades',\n",
       " 'runs',\n",
       " 'crates',\n",
       " 'recommendations',\n",
       " 'interactions',\n",
       " 'humans',\n",
       " 'falls',\n",
       " 'fliers',\n",
       " 'activities',\n",
       " 'collectors',\n",
       " 'favourites',\n",
       " 'rings',\n",
       " 'mats',\n",
       " 'strangers',\n",
       " 'trends',\n",
       " 'scrolls',\n",
       " 'eyes',\n",
       " 'examples',\n",
       " 'ios',\n",
       " 'lights',\n",
       " 'spoilers',\n",
       " 'matchs',\n",
       " 'cons',\n",
       " 'features',\n",
       " 'plastics',\n",
       " 'streets',\n",
       " 'springs',\n",
       " 'predictions',\n",
       " 'sweepers',\n",
       " 'heads',\n",
       " 'masters',\n",
       " 'changes',\n",
       " 'questions',\n",
       " 'cascades',\n",
       " 'options',\n",
       " 'designers',\n",
       " 'accounts',\n",
       " 'treasures',\n",
       " 'covers',\n",
       " 'breaths',\n",
       " 'conditions',\n",
       " 'releases',\n",
       " 'levels',\n",
       " 'hs',\n",
       " 'emblems',\n",
       " 'advices',\n",
       " 'grounds',\n",
       " 'breeds',\n",
       " 'commands',\n",
       " 'threats',\n",
       " 'transformations',\n",
       " 'fizzles',\n",
       " 'stands',\n",
       " 'infinites',\n",
       " 'basics',\n",
       " 'whispers',\n",
       " 'wants',\n",
       " 'beginners',\n",
       " 'foils',\n",
       " 'wrappers',\n",
       " 'informations',\n",
       " 'spikes',\n",
       " 'wings',\n",
       " 'stories',\n",
       " 'losses',\n",
       " '2s',\n",
       " 'sucks',\n",
       " 'feats',\n",
       " 'generations',\n",
       " 'prices',\n",
       " 'cliffs',\n",
       " 'cows',\n",
       " 'necromancers',\n",
       " 'whos',\n",
       " 'challenges',\n",
       " 'foundations',\n",
       " 'warlocks',\n",
       " 'spares',\n",
       " 'improvements',\n",
       " 'libraries',\n",
       " 'chances',\n",
       " 'remarks',\n",
       " 'sizes',\n",
       " 'guides',\n",
       " 'votes',\n",
       " 'mechanics',\n",
       " 'cracks',\n",
       " 'accessories',\n",
       " 'slimes',\n",
       " 'words',\n",
       " 'misplays',\n",
       " 'scientists',\n",
       " 'products',\n",
       " 'funds',\n",
       " 'assumptions',\n",
       " 'sorceries',\n",
       " 'situations',\n",
       " 'struggles',\n",
       " 'variants',\n",
       " 'weeks',\n",
       " 'points',\n",
       " 'ones',\n",
       " 'blockers',\n",
       " 'matchups',\n",
       " 'leads',\n",
       " 'liquids',\n",
       " 'drafts',\n",
       " 'counterparts',\n",
       " 'parts',\n",
       " 'centers',\n",
       " 'specials',\n",
       " 'attackers',\n",
       " 'tools',\n",
       " 'rights',\n",
       " 'strategies',\n",
       " 'profs',\n",
       " 'birds',\n",
       " 'standards',\n",
       " 'items',\n",
       " 'dealers',\n",
       " 'clarifications',\n",
       " 'risks',\n",
       " 'festivities',\n",
       " 'guesses',\n",
       " 'footfalls',\n",
       " 'parentheses',\n",
       " 'escapes',\n",
       " 'adventures',\n",
       " 'knows',\n",
       " 'stacks',\n",
       " '12s',\n",
       " 'its',\n",
       " 'variations',\n",
       " 'lairs',\n",
       " 'instances',\n",
       " 'hours',\n",
       " 'powers',\n",
       " 'percentages',\n",
       " 'millions',\n",
       " 'differences',\n",
       " 'removals',\n",
       " 'masks',\n",
       " 'corners',\n",
       " 'suggestions',\n",
       " 'presents',\n",
       " 'upsides',\n",
       " 'provinces',\n",
       " 'singles',\n",
       " 'justifications',\n",
       " 'techniques',\n",
       " 'things',\n",
       " 'lies',\n",
       " 'numbers',\n",
       " 'races',\n",
       " 'answers',\n",
       " 'masses',\n",
       " 'requests',\n",
       " 'demons',\n",
       " 'cards',\n",
       " 'theres',\n",
       " 'jumps',\n",
       " 'buildings',\n",
       " 'las',\n",
       " 'servers',\n",
       " 'valuations',\n",
       " 'callbacks',\n",
       " 'ears',\n",
       " 'skins',\n",
       " 'pumps',\n",
       " 'vehicles',\n",
       " 'plains',\n",
       " 'previews',\n",
       " 'issues',\n",
       " 'loops',\n",
       " 'similarities',\n",
       " 'kills',\n",
       " 'stretches',\n",
       " 'irregulars',\n",
       " 'packs',\n",
       " 'blows',\n",
       " 'identities',\n",
       " 'pics',\n",
       " 'spokes',\n",
       " 'mounts',\n",
       " 'redundancies',\n",
       " 'caveats',\n",
       " 'seals',\n",
       " 'extras',\n",
       " 'scales',\n",
       " 'paladins',\n",
       " 'rebels',\n",
       " 'khans',\n",
       " 'stakes',\n",
       " 'calls',\n",
       " 'baffles',\n",
       " 'prints',\n",
       " 'rackets',\n",
       " 'starts',\n",
       " 'steps',\n",
       " 'systems',\n",
       " 'papers',\n",
       " 'stores',\n",
       " 'forces',\n",
       " 'cases',\n",
       " 'qualities',\n",
       " 'outliers',\n",
       " 'friends',\n",
       " 'focuses',\n",
       " 'threads',\n",
       " 'rates',\n",
       " 'analyses',\n",
       " 'breeches',\n",
       " 'pounds',\n",
       " 'varieties',\n",
       " 'steals',\n",
       " 'settlements',\n",
       " 'blessings',\n",
       " 'loots',\n",
       " 'mills',\n",
       " 'shades',\n",
       " 'links',\n",
       " 'websites',\n",
       " 'gems',\n",
       " 'dates',\n",
       " 'opponents',\n",
       " 'sagas',\n",
       " 'ramps',\n",
       " 'weapons',\n",
       " 'months',\n",
       " 'printers',\n",
       " 'results',\n",
       " 'brothers',\n",
       " 'forests',\n",
       " 'goosebumps',\n",
       " 'eclipses',\n",
       " 'lockdowns',\n",
       " 'times',\n",
       " 'looks',\n",
       " 'joins',\n",
       " 'noises',\n",
       " 'negatives',\n",
       " 'specifics',\n",
       " 'experts',\n",
       " 'tournaments',\n",
       " 'reports',\n",
       " 'upkeeps',\n",
       " 'characters',\n",
       " 'limits',\n",
       " 'comes',\n",
       " 'functions',\n",
       " 'horrors',\n",
       " 'reductions',\n",
       " 'boyfriends',\n",
       " 'crossovers',\n",
       " 'wits',\n",
       " 'rests',\n",
       " 'misogynists',\n",
       " 'tips',\n",
       " 'monkeys',\n",
       " 'sessions',\n",
       " 'submissions',\n",
       " 'bases',\n",
       " 'pass',\n",
       " 'outlets',\n",
       " 'ages',\n",
       " 'slivers',\n",
       " 'pairs',\n",
       " 'shareholders',\n",
       " 'sides',\n",
       " 'blacks',\n",
       " 'poses',\n",
       " 'snakes',\n",
       " 'scores',\n",
       " '4s',\n",
       " 'bombs',\n",
       " 'veils',\n",
       " 'moments',\n",
       " 'nights',\n",
       " 'cubes',\n",
       " 'dupes',\n",
       " 'orphans',\n",
       " 'customers',\n",
       " 'cheers',\n",
       " 'chats',\n",
       " 'arms',\n",
       " 'parameters',\n",
       " 'goods',\n",
       " 'guilds',\n",
       " 'caverns',\n",
       " 'articles',\n",
       " 'constraints',\n",
       " 'discuss',\n",
       " 'infos',\n",
       " 'problems',\n",
       " 'reviews',\n",
       " 'parents',\n",
       " 'attacks',\n",
       " 'defeats',\n",
       " 'talks',\n",
       " 'wolfs',\n",
       " 'rubs',\n",
       " 'orders',\n",
       " 'defenders',\n",
       " 'apes',\n",
       " 'tricks',\n",
       " 'judges',\n",
       " 'sponsors',\n",
       " 'minutes',\n",
       " 'families',\n",
       " 'vamps',\n",
       " 'groups',\n",
       " 'needs',\n",
       " 'bans',\n",
       " 'cycles',\n",
       " 'listings',\n",
       " 'supplies',\n",
       " 'bags',\n",
       " 'communities',\n",
       " 'interests',\n",
       " 'downsides',\n",
       " 'books',\n",
       " 'swords',\n",
       " 'musings',\n",
       " 'shadows',\n",
       " 'attempts',\n",
       " 'prizes',\n",
       " 'entries',\n",
       " 'aspects',\n",
       " 'boss',\n",
       " 'slingers',\n",
       " 'slots',\n",
       " 'creatures',\n",
       " 'industries',\n",
       " 'pieces',\n",
       " 'gals',\n",
       " 'deeds',\n",
       " 'arts',\n",
       " 'buyers',\n",
       " 'reads',\n",
       " 'explanations',\n",
       " 'kinds',\n",
       " 'vs',\n",
       " 'fetches',\n",
       " 'breaks',\n",
       " 'saps',\n",
       " 'shelters',\n",
       " 'zombies',\n",
       " 'combinations',\n",
       " 'players',\n",
       " 'years',\n",
       " 'tears',\n",
       " 'fights',\n",
       " 'elves',\n",
       " 'causes',\n",
       " 'guidelines',\n",
       " 'crimes',\n",
       " 'discards',\n",
       " 'was',\n",
       " 'haves',\n",
       " 'folds',\n",
       " 'laws',\n",
       " 'corpses',\n",
       " 'topics',\n",
       " 'completions',\n",
       " 'multitudes',\n",
       " 'combines',\n",
       " 'combos',\n",
       " 'degrees',\n",
       " 'winds',\n",
       " 'ratings',\n",
       " 'finishers',\n",
       " 'additions',\n",
       " 'folks',\n",
       " 'consequences',\n",
       " 'foragers',\n",
       " 'ninjas',\n",
       " 'pennies',\n",
       " 'wilds',\n",
       " 'critiques',\n",
       " 'flames',\n",
       " 'counts',\n",
       " 'trials',\n",
       " 'vanillas',\n",
       " 'starters',\n",
       " 'blocks',\n",
       " 'bits',\n",
       " 'measures',\n",
       " 'swings',\n",
       " 'decisions',\n",
       " 'boils',\n",
       " 'lets',\n",
       " 'pockets',\n",
       " 'lessons',\n",
       " 'misses',\n",
       " 'locks',\n",
       " 'styles',\n",
       " 'wins',\n",
       " 'benefits',\n",
       " 'pointers',\n",
       " 'conversations',\n",
       " 'assaults',\n",
       " 'pictures',\n",
       " 'fees',\n",
       " 'ladies',\n",
       " 'tons',\n",
       " 'mistakes',\n",
       " 'plays',\n",
       " 'overrides',\n",
       " 'vibes',\n",
       " 'territories',\n",
       " 'cultures',\n",
       " 'russians',\n",
       " 'combats',\n",
       " 'bears',\n",
       " 'goblins',\n",
       " 'ps',\n",
       " 'roommates',\n",
       " 'duplicates',\n",
       " 'weaknesses',\n",
       " 'effects',\n",
       " 'shines',\n",
       " 'attaches',\n",
       " 'minotaurs',\n",
       " 'wipes',\n",
       " 'shops',\n",
       " 'lots',\n",
       " 'knights',\n",
       " 'balls',\n",
       " 'colors',\n",
       " 'visions',\n",
       " 'peoples',\n",
       " 'shenanigans',\n",
       " 'sideboards',\n",
       " 'moms',\n",
       " 'singers',\n",
       " 'gods',\n",
       " 'sparks',\n",
       " 'streamers',\n",
       " 'fans',\n",
       " 'references',\n",
       " 'dollars',\n",
       " 'centuries',\n",
       " 'services',\n",
       " 'debtors',\n",
       " 'eggs',\n",
       " 'plans',\n",
       " 'protectors',\n",
       " 'updates',\n",
       " 'bangers',\n",
       " 'wedges',\n",
       " 'squirrels',\n",
       " 'concerns',\n",
       " 'violations',\n",
       " 'rogues',\n",
       " 'happenings',\n",
       " 'guests',\n",
       " 'bundles',\n",
       " 'heroes',\n",
       " 'signals',\n",
       " 'conclusions',\n",
       " 'layers',\n",
       " 'manipulators',\n",
       " 'responses',\n",
       " 'loci',\n",
       " 'sheets',\n",
       " 'hurts',\n",
       " 'cuts',\n",
       " 'behemoths',\n",
       " 'makers',\n",
       " 'values',\n",
       " 'natives',\n",
       " 'feelings',\n",
       " 'names',\n",
       " 'retailers',\n",
       " 'finds',\n",
       " 'mins',\n",
       " 'witches',\n",
       " 'reasons',\n",
       " 'feels',\n",
       " 'dogs',\n",
       " 'artworks',\n",
       " 'ends',\n",
       " 'loaders',\n",
       " 'bluffs',\n",
       " 'displays',\n",
       " 'spells',\n",
       " 'messes',\n",
       " 'students',\n",
       " 'mods',\n",
       " 'symptoms',\n",
       " 'cents',\n",
       " 'inks',\n",
       " 'lands',\n",
       " 'elements',\n",
       " 'duels',\n",
       " 'versions',\n",
       " 'rules',\n",
       " 'purposes',\n",
       " 'statistics',\n",
       " 'has',\n",
       " 'targets',\n",
       " 'formats',\n",
       " 'interrupts',\n",
       " 'artifacts',\n",
       " 'snarls',\n",
       " 'leeches',\n",
       " 'cos',\n",
       " 'scars',\n",
       " 'rivals',\n",
       " 'boys',\n",
       " 'criteria',\n",
       " 'repeats',\n",
       " 'texts',\n",
       " 'games',\n",
       " 'marks',\n",
       " 'attractions',\n",
       " 'requirements',\n",
       " 'flyers',\n",
       " 'treats',\n",
       " 'complaints',\n",
       " 'institutions',\n",
       " 'draws',\n",
       " 'phases',\n",
       " 'puts',\n",
       " 'increases',\n",
       " 'gives',\n",
       " 'adversaries',\n",
       " 'shots',\n",
       " 'sellers',\n",
       " 'dooms',\n",
       " 'lists',\n",
       " 'boots',\n",
       " 'posts',\n",
       " 'holds',\n",
       " '90s',\n",
       " 'evolutions',\n",
       " 'wounds',\n",
       " 'faqs',\n",
       " 'berserkers',\n",
       " 'thousands',\n",
       " 'costs',\n",
       " 'mentions',\n",
       " 'planners',\n",
       " 'comparisons',\n",
       " 'guys',\n",
       " 'horizons',\n",
       " 'pulls',\n",
       " 'videos',\n",
       " 'angles',\n",
       " 'eternities',\n",
       " 'dorks',\n",
       " 'containers',\n",
       " 'envelopes',\n",
       " 'notes',\n",
       " 'lords',\n",
       " 'woodworks',\n",
       " 'praetors',\n",
       " 'dragons',\n",
       " 'roads',\n",
       " 'goals',\n",
       " 'comrades',\n",
       " 'maniacs',\n",
       " 'masques',\n",
       " 'equivalents',\n",
       " 'witchs',\n",
       " 'sleeves',\n",
       " 'misfortunes',\n",
       " 'legends',\n",
       " 'vegas',\n",
       " 'synergies',\n",
       " 'ips',\n",
       " 'clones',\n",
       " 'turns',\n",
       " 'rhymes',\n",
       " 'weekends',\n",
       " 'beats',\n",
       " 'houses',\n",
       " 'compartments',\n",
       " 'dimensions',\n",
       " 'alternatives',\n",
       " 'members',\n",
       " 'days',\n",
       " 'goes',\n",
       " 'auras',\n",
       " 'restrictions',\n",
       " 'sites',\n",
       " 'shards',\n",
       " 'regulars',\n",
       " 'chariots',\n",
       " 'stays',\n",
       " 'flies',\n",
       " 'crabs',\n",
       " 'tells',\n",
       " 'opportunities',\n",
       " 'rocks',\n",
       " 'hands',\n",
       " 'cities',\n",
       " 'works',\n",
       " 'wrinkles',\n",
       " 'averages',\n",
       " 'equipments',\n",
       " 'hopes',\n",
       " 'children',\n",
       " 'says',\n",
       " '0s',\n",
       " 'upgrades',\n",
       " 'dungeons',\n",
       " 'secrets',\n",
       " 'filters',\n",
       " 'tribes',\n",
       " 'hitmen',\n",
       " 'scenarios',\n",
       " 'sounds',\n",
       " 'creeps']"
      ]
     },
     "execution_count": 26,
     "metadata": {},
     "output_type": "execute_result"
    }
   ],
   "source": [
    "list(set(unique_token(tcg_df, 'tokens')) \n",
    "     - set(unique_token(tcg_df, 'lemmatized')))"
   ]
  },
  {
   "cell_type": "code",
   "execution_count": 27,
   "id": "bbb090f8",
   "metadata": {},
   "outputs": [
    {
     "data": {
      "text/plain": [
       "['bonds',\n",
       " 'crossroads',\n",
       " 'messages',\n",
       " 'buys',\n",
       " 'scammers',\n",
       " 'holidays',\n",
       " 'sees',\n",
       " 'slabs',\n",
       " 'blueprints',\n",
       " 'deals',\n",
       " 'takeaways',\n",
       " 'ultimatums',\n",
       " 'temperatures',\n",
       " 'tares',\n",
       " 'euros',\n",
       " 'tactics',\n",
       " 'visitors',\n",
       " 'gains',\n",
       " 'leaks',\n",
       " 'rites',\n",
       " 'lines',\n",
       " 'aeons',\n",
       " 'cans',\n",
       " 'consumers',\n",
       " 'greetings',\n",
       " 'skeptics',\n",
       " 'pages',\n",
       " 'solutions',\n",
       " 'bills',\n",
       " 'modes',\n",
       " 'ss',\n",
       " 'wolves',\n",
       " 'discounts',\n",
       " 'employees',\n",
       " 'provisions',\n",
       " 'sinkholes',\n",
       " 'gaeas',\n",
       " 'boosters',\n",
       " 'media',\n",
       " 'flashes',\n",
       " 'commanders',\n",
       " 'regards',\n",
       " 'sagas',\n",
       " 'dies',\n",
       " 'printings',\n",
       " 'materials',\n",
       " 'leans',\n",
       " 'ways',\n",
       " 'conspiracies',\n",
       " 'highs',\n",
       " 'evs',\n",
       " 'passes',\n",
       " 'builds',\n",
       " 'counters',\n",
       " 'calculations',\n",
       " 'shows',\n",
       " 'conventions',\n",
       " 'clues',\n",
       " 'apologies',\n",
       " 'homes',\n",
       " 'swamps',\n",
       " 'takes',\n",
       " 'dudes',\n",
       " 'duties',\n",
       " 'discusses',\n",
       " 'hrs',\n",
       " 'reprints',\n",
       " 'means',\n",
       " 'edges',\n",
       " 'implications',\n",
       " 'enchantments',\n",
       " 'operations',\n",
       " 'affects',\n",
       " 'deaths',\n",
       " 'compares',\n",
       " 'worlds',\n",
       " 'helps',\n",
       " 'raises',\n",
       " 'forms',\n",
       " 'aids',\n",
       " 'pools',\n",
       " 'markets',\n",
       " 'patches',\n",
       " 'places',\n",
       " 'uses',\n",
       " 'blogs',\n",
       " 'keeps',\n",
       " '100s',\n",
       " 'cares',\n",
       " 'boons',\n",
       " 'jars',\n",
       " 'seasons',\n",
       " 'foothills',\n",
       " 'weiss',\n",
       " 'gents',\n",
       " 'scuffs',\n",
       " 'ass',\n",
       " 'breakdowns',\n",
       " '1000s',\n",
       " 'details',\n",
       " 'settings',\n",
       " 'discoveries',\n",
       " 'tokens',\n",
       " 'areas',\n",
       " 'copies',\n",
       " 'philippines',\n",
       " 'habitats',\n",
       " 'hits',\n",
       " 'coattails',\n",
       " 'banks',\n",
       " 'shelves',\n",
       " 'sales',\n",
       " 'nerds',\n",
       " 'cheeks',\n",
       " 'savings',\n",
       " 'opinions',\n",
       " 'collectibles',\n",
       " 'designs',\n",
       " 'miracles',\n",
       " 'opens',\n",
       " 'chains',\n",
       " 'lads',\n",
       " 'vows',\n",
       " 'marts',\n",
       " 'indicators',\n",
       " 'werewolves',\n",
       " 'trips',\n",
       " 'pickups',\n",
       " 'purchases',\n",
       " 'todays',\n",
       " 'checks',\n",
       " 'commons',\n",
       " 'shrines',\n",
       " 'charges',\n",
       " 'thoughts',\n",
       " 'hundreds',\n",
       " 'monitors',\n",
       " 'carts',\n",
       " 'sacs',\n",
       " 'painters',\n",
       " 'categories',\n",
       " 'valuables',\n",
       " 'kits',\n",
       " 'teams',\n",
       " 'resolves',\n",
       " 'labels',\n",
       " 'catches',\n",
       " 'colleges',\n",
       " 'hes',\n",
       " 'rumors',\n",
       " 'cools',\n",
       " 'incidents',\n",
       " 'regulations',\n",
       " 'bests',\n",
       " 'cookbooks',\n",
       " 'rarities',\n",
       " 'units',\n",
       " 'abilities',\n",
       " 'thrills',\n",
       " 'borders',\n",
       " 'contents',\n",
       " 'rewards',\n",
       " 'safes',\n",
       " 'fundamentals',\n",
       " 'souls',\n",
       " 'choices',\n",
       " 'donations',\n",
       " 'os',\n",
       " 'hobbyists',\n",
       " 'leaves',\n",
       " 'exiles',\n",
       " 'codes',\n",
       " 'stars',\n",
       " 'fanatics',\n",
       " 'islands',\n",
       " 'users',\n",
       " 'tens',\n",
       " 'holdings',\n",
       " 'followers',\n",
       " 'alliances',\n",
       " 'openings',\n",
       " 'universes',\n",
       " 'downfalls',\n",
       " 'picks',\n",
       " 'jobs',\n",
       " 'ethics',\n",
       " 'fits',\n",
       " 'inquiries',\n",
       " 'brands',\n",
       " 'concepts',\n",
       " 'heres',\n",
       " 'runes',\n",
       " 'estimates',\n",
       " 'wizards',\n",
       " 'loves',\n",
       " 'legs',\n",
       " 'searches',\n",
       " 'terms',\n",
       " 'channels',\n",
       " 'artists',\n",
       " 'timers',\n",
       " 'tickets',\n",
       " 'moorings',\n",
       " 'artificers',\n",
       " 'mariachis',\n",
       " 'explosions',\n",
       " 'creators',\n",
       " 'decks',\n",
       " 'colours',\n",
       " 'wallets',\n",
       " 'branches',\n",
       " '40s',\n",
       " 'offers',\n",
       " 'mailers',\n",
       " 'patrons',\n",
       " 'expectations',\n",
       " 'pirates',\n",
       " 'toys',\n",
       " 'comers',\n",
       " 'ruins',\n",
       " 'purists',\n",
       " 'makes',\n",
       " 'likes',\n",
       " 'archetypes',\n",
       " 'needless',\n",
       " 'frs',\n",
       " 'themes',\n",
       " 'ideas',\n",
       " 'events',\n",
       " 'bolas',\n",
       " 'binders',\n",
       " 'drops',\n",
       " 'matches',\n",
       " 'franchises',\n",
       " 'matters',\n",
       " 'platforms',\n",
       " 'stitchers',\n",
       " 'payoffs',\n",
       " 'wisps',\n",
       " 'signatures',\n",
       " 'payments',\n",
       " 'files',\n",
       " 'candidates',\n",
       " 'sells',\n",
       " 'rivers',\n",
       " 'abandons',\n",
       " 'offenders',\n",
       " 'triggers',\n",
       " 'circumstances',\n",
       " 'structures',\n",
       " 'collectables',\n",
       " 'symbols',\n",
       " 'resources',\n",
       " 'boulders',\n",
       " 'pressures',\n",
       " 'collections',\n",
       " 'crews',\n",
       " 'pastels',\n",
       " 'wills',\n",
       " 'spreadsheets',\n",
       " 'flippers',\n",
       " 'advantages',\n",
       " 'nuts',\n",
       " 'specs',\n",
       " 'dodges',\n",
       " 'thinks',\n",
       " 'sprits',\n",
       " 'irregularities',\n",
       " 'saves',\n",
       " 'vampires',\n",
       " 'bricks',\n",
       " 'tides',\n",
       " 'duds',\n",
       " 'planes',\n",
       " 'fells',\n",
       " 'sources',\n",
       " 'speculations',\n",
       " 'tombs',\n",
       " 'countries',\n",
       " 'plateaus',\n",
       " 'catacombs',\n",
       " 'flips',\n",
       " 'newspapers',\n",
       " 'staples',\n",
       " 'nicks',\n",
       " 'premises',\n",
       " 'veins',\n",
       " 'supports',\n",
       " 'realms',\n",
       " 'incarnations',\n",
       " 'routes',\n",
       " 'digs',\n",
       " 'claims',\n",
       " 'statements',\n",
       " 'does',\n",
       " 'bloods',\n",
       " 'slips',\n",
       " 'boxes',\n",
       " 'types',\n",
       " 'lawsuits',\n",
       " 'theories',\n",
       " 'gets',\n",
       " 'errata',\n",
       " 'views',\n",
       " 'tendrils',\n",
       " 'pathways',\n",
       " 'toppers',\n",
       " 'inventions',\n",
       " 'corrections',\n",
       " 'programs',\n",
       " 'locations',\n",
       " 'colonies',\n",
       " 'zeros',\n",
       " 'traitors',\n",
       " 'profits',\n",
       " 'adds',\n",
       " 'seas',\n",
       " 'dumps',\n",
       " 'lives',\n",
       " 'preferences',\n",
       " 'businesses',\n",
       " 'expansions',\n",
       " 'sets',\n",
       " 'exclusives',\n",
       " 'converts',\n",
       " 'feet',\n",
       " 'comments',\n",
       " 'companies',\n",
       " 'bucks',\n",
       " 'languages',\n",
       " 'snippets',\n",
       " 'racks',\n",
       " 'animals',\n",
       " 'multiples',\n",
       " 'invocations',\n",
       " 'spirits',\n",
       " 'tutors',\n",
       " 'developments',\n",
       " 'ranks',\n",
       " 'policies',\n",
       " 'merchants',\n",
       " 'cataracts',\n",
       " 'states',\n",
       " 'nms',\n",
       " 'assets',\n",
       " 'nightmares',\n",
       " 'explosives',\n",
       " 'less',\n",
       " 'voids',\n",
       " 'competitions',\n",
       " 'kids',\n",
       " 'walkers',\n",
       " 'females',\n",
       " 'negations',\n",
       " 'flares',\n",
       " 'attendees',\n",
       " 'priorities',\n",
       " 'truths',\n",
       " 'canadians',\n",
       " 'customs',\n",
       " 'moves',\n",
       " 'economists',\n",
       " 'engines',\n",
       " 'stops',\n",
       " 'settles',\n",
       " 'surprises',\n",
       " 'bs',\n",
       " 'experiences',\n",
       " 'cornerstones',\n",
       " 'cars',\n",
       " 'avenues',\n",
       " 'incentives',\n",
       " 'totals',\n",
       " 'archives',\n",
       " 'returns',\n",
       " 'masterpieces',\n",
       " 'auctions',\n",
       " 'errors',\n",
       " 'holes',\n",
       " 'gloves',\n",
       " 'difficulties',\n",
       " 'films',\n",
       " 'images',\n",
       " 'somebodies',\n",
       " 'gifts',\n",
       " 'trades',\n",
       " 'newbies',\n",
       " 'crates',\n",
       " 'runs',\n",
       " 'recommendations',\n",
       " 'begins',\n",
       " 'humans',\n",
       " 'falls',\n",
       " 'interactions',\n",
       " 'ranges',\n",
       " 'champions',\n",
       " 'collectors',\n",
       " 'margins',\n",
       " 'americans',\n",
       " 'exceptions',\n",
       " 'rings',\n",
       " 'trends',\n",
       " 'eyes',\n",
       " 'examples',\n",
       " 'buddies',\n",
       " 'emails',\n",
       " 'leds',\n",
       " 'replicas',\n",
       " 'ios',\n",
       " 'lights',\n",
       " 'vents',\n",
       " 'spoilers',\n",
       " 'scams',\n",
       " 'features',\n",
       " 'cons',\n",
       " 'suites',\n",
       " 'potentials',\n",
       " 'rotations',\n",
       " 'ventures',\n",
       " 'predictions',\n",
       " 'expeditions',\n",
       " 'heads',\n",
       " 'flights',\n",
       " 'changes',\n",
       " 'questions',\n",
       " 'masters',\n",
       " 'shifts',\n",
       " 'horsemen',\n",
       " 'mrs',\n",
       " 'options',\n",
       " 'goodies',\n",
       " 'addresses',\n",
       " 'magazines',\n",
       " 'designers',\n",
       " 'waters',\n",
       " 'accounts',\n",
       " 'treasures',\n",
       " 'contenders',\n",
       " 'covers',\n",
       " 'chronicles',\n",
       " 'hobbies',\n",
       " 'arguments',\n",
       " '30s',\n",
       " 'chunks',\n",
       " 'conditions',\n",
       " 'releases',\n",
       " 'practices',\n",
       " 'levels',\n",
       " 'pays',\n",
       " 'expenses',\n",
       " 'aughts',\n",
       " 'findings',\n",
       " 'faeries',\n",
       " 'tanks',\n",
       " 'flats',\n",
       " 'flaws',\n",
       " 'markers',\n",
       " 'roots',\n",
       " 'amounts',\n",
       " 'stands',\n",
       " 'basics',\n",
       " 'wants',\n",
       " 'beginners',\n",
       " 'foils',\n",
       " 'waves',\n",
       " 'hounds',\n",
       " 'spikes',\n",
       " 'seconds',\n",
       " 'wings',\n",
       " 'stories',\n",
       " 'losses',\n",
       " 'applications',\n",
       " 'sucks',\n",
       " 'gainers',\n",
       " 'prices',\n",
       " 'cliffs',\n",
       " 'dries',\n",
       " 'datas',\n",
       " 'criticisms',\n",
       " 'pickers',\n",
       " 'treatments',\n",
       " 'databases',\n",
       " 'backs',\n",
       " 'natures',\n",
       " 'chances',\n",
       " 'sizes',\n",
       " 'forums',\n",
       " 'guides',\n",
       " 'votes',\n",
       " 'strands',\n",
       " 'recourses',\n",
       " 'mechanics',\n",
       " 'glitters',\n",
       " 'bids',\n",
       " 'words',\n",
       " 'glues',\n",
       " 'components',\n",
       " 'products',\n",
       " 'funds',\n",
       " 'watchers',\n",
       " 'facts',\n",
       " 'charters',\n",
       " 'situations',\n",
       " 'dots',\n",
       " 'variants',\n",
       " 'weeks',\n",
       " 'dividends',\n",
       " 'points',\n",
       " 'ones',\n",
       " 'catamarans',\n",
       " 'mountains',\n",
       " 'quantities',\n",
       " 'failures',\n",
       " 'leads',\n",
       " 'yrs',\n",
       " 'drafts',\n",
       " 'resets',\n",
       " 'counterparts',\n",
       " 'faces',\n",
       " 'sombreros',\n",
       " 'rolls',\n",
       " 'parts',\n",
       " 'empires',\n",
       " 'centers',\n",
       " 'critics',\n",
       " 'mortgages',\n",
       " 'raids',\n",
       " 'specials',\n",
       " 'tools',\n",
       " 'armadillos',\n",
       " 'ancients',\n",
       " 'photos',\n",
       " 'strategies',\n",
       " 'djinns',\n",
       " 'grabs',\n",
       " 'hotspots',\n",
       " 'tags',\n",
       " 'spectators',\n",
       " 'gears',\n",
       " 'standards',\n",
       " 'offices',\n",
       " 'items',\n",
       " 'dealers',\n",
       " 'risks',\n",
       " 'guesses',\n",
       " 'footfalls',\n",
       " 'meets',\n",
       " 'bolts',\n",
       " 'bottoms',\n",
       " 'adventures',\n",
       " 'knows',\n",
       " 'coffers',\n",
       " 'stacks',\n",
       " 'aristocrats',\n",
       " 'mines',\n",
       " 'its',\n",
       " 'dips',\n",
       " 'rails',\n",
       " 'novels',\n",
       " 'lairs',\n",
       " 'instances',\n",
       " 'hours',\n",
       " 'dreams',\n",
       " 'percentages',\n",
       " 'memes',\n",
       " 'certificates',\n",
       " 'omens',\n",
       " 'processors',\n",
       " 'millions',\n",
       " 'differences',\n",
       " 'talismans',\n",
       " 'patterns',\n",
       " 'corners',\n",
       " 'suggestions',\n",
       " 'frames',\n",
       " 'upsides',\n",
       " 'presents',\n",
       " 'mariners',\n",
       " 'singles',\n",
       " 'mails',\n",
       " 'things',\n",
       " 'lies',\n",
       " 'numbers',\n",
       " 'tabernacles',\n",
       " 'answers',\n",
       " 'peps',\n",
       " 'demons',\n",
       " 'pops',\n",
       " 'cards',\n",
       " 'theres',\n",
       " 'jumps',\n",
       " 'las',\n",
       " 'anecdotes',\n",
       " 'movies',\n",
       " 'craters',\n",
       " 'boarders',\n",
       " 'boards',\n",
       " 'halls',\n",
       " 'hats',\n",
       " 'speculators',\n",
       " 'plains',\n",
       " 'issues',\n",
       " 'hypes',\n",
       " 'kills',\n",
       " 'intentions',\n",
       " 'weirdos',\n",
       " 'packs',\n",
       " 'lacks',\n",
       " 'blows',\n",
       " 'pants',\n",
       " 'pics',\n",
       " 'packages',\n",
       " 'seals',\n",
       " 'scales',\n",
       " 'khans',\n",
       " 'baffles',\n",
       " 'calls',\n",
       " 'allocations',\n",
       " 'prints',\n",
       " 'reasonings',\n",
       " 'gaps',\n",
       " 'starts',\n",
       " 'buyouts',\n",
       " 'steps',\n",
       " 'reminders',\n",
       " 'systems',\n",
       " 'hassles',\n",
       " 'hollows',\n",
       " 'drives',\n",
       " 'stores',\n",
       " 'forces',\n",
       " 'cases',\n",
       " 'avatars',\n",
       " '60s',\n",
       " 'friends',\n",
       " 'focuses',\n",
       " 'aspirations',\n",
       " 'dummies',\n",
       " 'threads',\n",
       " 'incidentals',\n",
       " 'rates',\n",
       " 'analyses',\n",
       " 'pounds',\n",
       " 'tests',\n",
       " 'pros',\n",
       " 'shoeboxes',\n",
       " 'coupons',\n",
       " 'misprints',\n",
       " 'episodes',\n",
       " 'links',\n",
       " 'insights',\n",
       " 'websites',\n",
       " 'suppliers',\n",
       " 'gems',\n",
       " 'dates',\n",
       " 'opponents',\n",
       " 'boosts',\n",
       " 'guarantees',\n",
       " 'fakes',\n",
       " 'ramps',\n",
       " 'brewers',\n",
       " 'weapons',\n",
       " 'months',\n",
       " 'printers',\n",
       " 'results',\n",
       " 'killers',\n",
       " 'stipulations',\n",
       " 'grades',\n",
       " 'brothers',\n",
       " 'betrayers',\n",
       " 'forests',\n",
       " 'volumes',\n",
       " 'times',\n",
       " 'uncertainties',\n",
       " 'acquisitions',\n",
       " 'looks',\n",
       " 'experts',\n",
       " 'specifics',\n",
       " 'peaks',\n",
       " 'tournaments',\n",
       " 'reports',\n",
       " 'limits',\n",
       " 'characters',\n",
       " 'whales',\n",
       " 'motives',\n",
       " 'comes',\n",
       " 'signets',\n",
       " 'reductions',\n",
       " 'parties',\n",
       " 'crossovers',\n",
       " 'pyramids',\n",
       " 'submissions',\n",
       " 'tips',\n",
       " 'bases',\n",
       " 'proles',\n",
       " 'hangs',\n",
       " 'outlets',\n",
       " 'workers',\n",
       " 'instructions',\n",
       " 'bats',\n",
       " 'ages',\n",
       " 'produces',\n",
       " 'slivers',\n",
       " 'pairs',\n",
       " 'spouses',\n",
       " 'sides',\n",
       " 'scores',\n",
       " 'plexiglass',\n",
       " 'investments',\n",
       " 'bombs',\n",
       " 'spoils',\n",
       " 'nights',\n",
       " 'dividers',\n",
       " 'cubes',\n",
       " 'dupes',\n",
       " 'dozens',\n",
       " 'towns',\n",
       " 'customers',\n",
       " 'cheers',\n",
       " 'prospects',\n",
       " 'persons',\n",
       " 'parameters',\n",
       " 'stamps',\n",
       " 'charts',\n",
       " 'goods',\n",
       " 'guilds',\n",
       " 'discuss',\n",
       " 'articles',\n",
       " 'constraints',\n",
       " 'shipments',\n",
       " 'taxes',\n",
       " 'problems',\n",
       " 'reviews',\n",
       " 'feelers',\n",
       " 'infos',\n",
       " 'parents',\n",
       " 'discrepancies',\n",
       " 'tabs',\n",
       " 'tatters',\n",
       " 'collaborations',\n",
       " 'logos',\n",
       " 'emotions',\n",
       " 'orders',\n",
       " 'shells',\n",
       " 'antiquities',\n",
       " 'tricks',\n",
       " 'worries',\n",
       " 'acts',\n",
       " 'sponsors',\n",
       " 'limitations',\n",
       " 'minutes',\n",
       " 'socials',\n",
       " 'families',\n",
       " 'needs',\n",
       " 'yachts',\n",
       " 'cycles',\n",
       " 'notices',\n",
       " 'groups',\n",
       " 'listings',\n",
       " 'bans',\n",
       " 'bags',\n",
       " 'fades',\n",
       " 'interests',\n",
       " 'graders',\n",
       " 'downsides',\n",
       " 'books',\n",
       " 'swords',\n",
       " 'bothers',\n",
       " 'relics',\n",
       " 'attempts',\n",
       " 'aspects',\n",
       " 'boss',\n",
       " 'slots',\n",
       " 'issuss',\n",
       " 'reflections',\n",
       " 'creatures',\n",
       " 'brokers',\n",
       " 'pieces',\n",
       " 'gals',\n",
       " 'scratches',\n",
       " 'indices',\n",
       " 'sandwiches',\n",
       " 'arts',\n",
       " 'buyers',\n",
       " 'accommodations',\n",
       " 'powerhouses',\n",
       " 'reads',\n",
       " 'deeds',\n",
       " 'clowns',\n",
       " 'explanations',\n",
       " 'shocks',\n",
       " 'portfolios',\n",
       " 'kinds',\n",
       " 'lows',\n",
       " 'vs',\n",
       " 'fetches',\n",
       " 'breaks',\n",
       " 'sandals',\n",
       " 'stirrings',\n",
       " 'wonders',\n",
       " 'signs',\n",
       " 'mas',\n",
       " 'zombies',\n",
       " 'combinations',\n",
       " 'players',\n",
       " 'years',\n",
       " 'defenses',\n",
       " 'jewelers',\n",
       " 'tears',\n",
       " 'guidelines',\n",
       " 'elves',\n",
       " 'causes',\n",
       " 'insults',\n",
       " 'was',\n",
       " 'tubs',\n",
       " 'periods',\n",
       " 'topics',\n",
       " 'brains',\n",
       " 'combos',\n",
       " 'degrees',\n",
       " 'finishers',\n",
       " 'excavations',\n",
       " 'editions',\n",
       " 'folks',\n",
       " 'feathers',\n",
       " 'props',\n",
       " 'pennies',\n",
       " 'salves',\n",
       " 'folders',\n",
       " 'blisters',\n",
       " 'wilds',\n",
       " 'commonalities',\n",
       " 'pitfalls',\n",
       " 'transactions',\n",
       " 'dents',\n",
       " 'generals',\n",
       " 'starters',\n",
       " 'influences',\n",
       " 'bits',\n",
       " 'blocks',\n",
       " 'measures',\n",
       " 'swings',\n",
       " 'decisions',\n",
       " 'lets',\n",
       " 'fairies',\n",
       " 'pockets',\n",
       " 'lessons',\n",
       " 'styles',\n",
       " 'wins',\n",
       " 'benefits',\n",
       " 'pictures',\n",
       " 'fees',\n",
       " 'ladies',\n",
       " 'tons',\n",
       " 'mistakes',\n",
       " 'plays',\n",
       " 'fires',\n",
       " 'combats',\n",
       " 'stocks',\n",
       " 'ps',\n",
       " 'goblins',\n",
       " 'effects',\n",
       " 'duplicates',\n",
       " 'shines',\n",
       " 'wipes',\n",
       " 'shops',\n",
       " 'crowns',\n",
       " 'lots',\n",
       " 'knights',\n",
       " 'balls',\n",
       " 'colors',\n",
       " 'visions',\n",
       " 'assholes',\n",
       " 'peoples',\n",
       " 'nomads',\n",
       " 'shenanigans',\n",
       " 'records',\n",
       " 'revenues',\n",
       " 'asins',\n",
       " 'overs',\n",
       " 'gods',\n",
       " 'sparks',\n",
       " 'streamers',\n",
       " 'schematics',\n",
       " 'closets',\n",
       " 'fans',\n",
       " 'references',\n",
       " 'dollars',\n",
       " 'homelands',\n",
       " 'services',\n",
       " 'facilities',\n",
       " 'eggs',\n",
       " 'vendors',\n",
       " 'plans',\n",
       " 'refunds',\n",
       " 'protectors',\n",
       " 'updates',\n",
       " 'concerns',\n",
       " 'securities',\n",
       " 'rogues',\n",
       " 'bets',\n",
       " 'devices',\n",
       " 'bundles',\n",
       " 'heroes',\n",
       " 'signals',\n",
       " 'conclusions',\n",
       " 'responses',\n",
       " 'sheets',\n",
       " 'hurts',\n",
       " 'counterfeits',\n",
       " 'cuts',\n",
       " 'behemoths',\n",
       " 'makers',\n",
       " 'whoops',\n",
       " 'developers',\n",
       " 'values',\n",
       " 'feelings',\n",
       " 'buttons',\n",
       " 'names',\n",
       " 'retailers',\n",
       " 'sleepers',\n",
       " 'manufacturers',\n",
       " 'finds',\n",
       " 'witches',\n",
       " 'metrics',\n",
       " 'reasons',\n",
       " 'feels',\n",
       " 'artworks',\n",
       " 'ends',\n",
       " 'loaders',\n",
       " 'wraps',\n",
       " 'displays',\n",
       " 'rises',\n",
       " 'spells',\n",
       " 'kingdoms',\n",
       " 'mods',\n",
       " 'prisoners',\n",
       " 'cents',\n",
       " 'lands',\n",
       " 'elements',\n",
       " 'duels',\n",
       " 'samaritans',\n",
       " 'versions',\n",
       " 'rules',\n",
       " 'mirrors',\n",
       " 'statistics',\n",
       " 'purposes',\n",
       " 'factors',\n",
       " 'has',\n",
       " 'observations',\n",
       " 'minds',\n",
       " 'precautions',\n",
       " 'plummets',\n",
       " 'targets',\n",
       " 'formats',\n",
       " 'artifacts',\n",
       " 'streaks',\n",
       " 'naysayers',\n",
       " 'figures',\n",
       " 'creases',\n",
       " 'chases',\n",
       " 'winners',\n",
       " 'scars',\n",
       " 'losers',\n",
       " 'lions',\n",
       " 'declines',\n",
       " 'positions',\n",
       " 'criteria',\n",
       " 'investors',\n",
       " 'games',\n",
       " 'jowls',\n",
       " 'originals',\n",
       " 'individuals',\n",
       " 'marks',\n",
       " 'requirements',\n",
       " 'sports',\n",
       " 'truckers',\n",
       " 'complaints',\n",
       " 'proxies',\n",
       " 'institutions',\n",
       " 'marketplaces',\n",
       " 'draws',\n",
       " 'phases',\n",
       " 'puts',\n",
       " 'increases',\n",
       " 'bumps',\n",
       " 'gives',\n",
       " 'possibilities',\n",
       " 'fronts',\n",
       " 'sellers',\n",
       " 'lists',\n",
       " 'boots',\n",
       " '90s',\n",
       " 'posts',\n",
       " 'holds',\n",
       " 'heights',\n",
       " 'evolutions',\n",
       " 'extents',\n",
       " 'allegiances',\n",
       " 'regions',\n",
       " ...]"
      ]
     },
     "execution_count": 27,
     "metadata": {},
     "output_type": "execute_result"
    }
   ],
   "source": [
    "list(set(unique_token(mtgfin_df, 'tokens')) \n",
    "       - set(unique_token(mtgfin_df, 'lemmatized')))"
   ]
  },
  {
   "cell_type": "markdown",
   "id": "b8df7d0b",
   "metadata": {},
   "source": [
    "The lemmatization seems to be effective. The words that are lemmatized are words that look like they belong in specific subreddits, so lemmatizing should have an impact on the modeling to be done later on."
   ]
  },
  {
   "cell_type": "markdown",
   "id": "66efccf7",
   "metadata": {},
   "source": [
    "### Stemming"
   ]
  },
  {
   "cell_type": "markdown",
   "id": "583d3d2f",
   "metadata": {},
   "source": [
    "Next, we do the same for stemming. The above processes for lemmatization will be repeated for stemming."
   ]
  },
  {
   "cell_type": "code",
   "execution_count": 28,
   "id": "3aa2bf37",
   "metadata": {},
   "outputs": [],
   "source": [
    "tcg_df['stemmed'] = tcg_df['tokens'].apply(stem_text)\n",
    "mtgfin_df['stemmed'] = mtgfin_df['tokens'].apply(stem_text)"
   ]
  },
  {
   "cell_type": "code",
   "execution_count": 29,
   "id": "2b36670e",
   "metadata": {},
   "outputs": [
    {
     "data": {
      "text/plain": [
       "6117"
      ]
     },
     "execution_count": 29,
     "metadata": {},
     "output_type": "execute_result"
    }
   ],
   "source": [
    "len(unique_token(tcg_df, 'stemmed'))"
   ]
  },
  {
   "cell_type": "code",
   "execution_count": 30,
   "id": "953dcb43",
   "metadata": {},
   "outputs": [
    {
     "data": {
      "text/plain": [
       "6229"
      ]
     },
     "execution_count": 30,
     "metadata": {},
     "output_type": "execute_result"
    }
   ],
   "source": [
    "len(unique_token(mtgfin_df, 'stemmed'))"
   ]
  },
  {
   "cell_type": "code",
   "execution_count": 31,
   "id": "1c9687fe",
   "metadata": {},
   "outputs": [
    {
     "data": {
      "image/png": "[encoded data removed]",
      "text/plain": [
       "<Figure size 432x288 with 1 Axes>"
      ]
     },
     "metadata": {
      "needs_background": "light"
     },
     "output_type": "display_data"
    }
   ],
   "source": [
    "labels = ['magicTCG', 'mtgfinance']\n",
    "original = [8257, 8662]\n",
    "stemmed = [6117, 6229]\n",
    "\n",
    "x = np.arange(len(labels)) \n",
    "width = 0.15\n",
    "\n",
    "fig, ax = plt.subplots()\n",
    "rects1 = ax.bar(x - width/2, original, width, label='Original')\n",
    "rects2 = ax.bar(x + width/2, stemmed, width, label='Stemmed')\n",
    "\n",
    "ax.set_ylabel('Unique words')\n",
    "ax.set_title('Effect of stemming on subreddits')\n",
    "ax.set_xticks(x)\n",
    "ax.set_xticklabels(labels)\n",
    "ax.legend();"
   ]
  },
  {
   "cell_type": "markdown",
   "id": "05a25b23",
   "metadata": {},
   "source": [
    "As the process of stemming is much cruder, it is only expected that many more words will be removed as compared to lemmatizer. After stemming, the number of tokens in /r/magicTCG has dropped by 2140 and the number of tokens in /r/mtgfinance has dropped by 2433.\n",
    "\n",
    "Let's take a look at some words removed by the stemming process for each subreddit."
   ]
  },
  {
   "cell_type": "code",
   "execution_count": 32,
   "id": "ef6754e2",
   "metadata": {},
   "outputs": [
    {
     "data": {
      "text/plain": [
       "['spellslinging',\n",
       " 'expertise',\n",
       " 'acquired',\n",
       " 'esque',\n",
       " 'deckstats',\n",
       " 'compatible',\n",
       " 'wrapped',\n",
       " 'compromise',\n",
       " 'reveals',\n",
       " 'alive',\n",
       " 'switching',\n",
       " 'gilded',\n",
       " 'spellbinder',\n",
       " 'rightly',\n",
       " 'appreciative',\n",
       " 'preordered',\n",
       " 'epiphany',\n",
       " 'rites',\n",
       " 'illustrate',\n",
       " 'meanwhile',\n",
       " 'estates',\n",
       " 'immensely',\n",
       " 'agonizing',\n",
       " 'exile',\n",
       " 'bushwhacker',\n",
       " 'staying',\n",
       " 'successful',\n",
       " 'ettiquette',\n",
       " 'maaaybe',\n",
       " 'investigators',\n",
       " 'bills',\n",
       " 'abolisher',\n",
       " 'sharpie',\n",
       " 'replicate',\n",
       " 'discounts',\n",
       " 'pilots',\n",
       " 'returned',\n",
       " 'sparingly',\n",
       " 'requirement',\n",
       " 'objectively',\n",
       " 'description',\n",
       " 'commanders',\n",
       " 'cobbles',\n",
       " 'procession',\n",
       " 'unplayable',\n",
       " 'dies',\n",
       " 'printings',\n",
       " 'materials',\n",
       " 'tuners',\n",
       " 'understandable',\n",
       " 'mutations',\n",
       " 'enforce',\n",
       " 'wildly',\n",
       " 'massacre',\n",
       " 'posting',\n",
       " 'disruptive',\n",
       " 'responds',\n",
       " 'enchanter',\n",
       " 'animated',\n",
       " 'wording',\n",
       " 'angering',\n",
       " 'immortal',\n",
       " 'formation',\n",
       " 'hypergeometric',\n",
       " 'compartment',\n",
       " 'cried',\n",
       " 'nivmagus',\n",
       " 'passage',\n",
       " 'swamps',\n",
       " 'takes',\n",
       " 'waxing',\n",
       " 'reprinted',\n",
       " 'bundle',\n",
       " 'quoted',\n",
       " 'bards',\n",
       " 'youtubers',\n",
       " 'frequently',\n",
       " 'entities',\n",
       " 'refreshed',\n",
       " 'mercenary',\n",
       " 'versus',\n",
       " 'exciting',\n",
       " 'congregate',\n",
       " 'taxing',\n",
       " 'ascension',\n",
       " 'accentuated',\n",
       " 'forms',\n",
       " 'infinite',\n",
       " 'harmonic',\n",
       " 'restricted',\n",
       " 'ruined',\n",
       " 'managed',\n",
       " 'places',\n",
       " 'benevolence',\n",
       " 'vapors',\n",
       " 'upwards',\n",
       " 'alexander',\n",
       " 'paints',\n",
       " 'encouraging',\n",
       " 'replacements',\n",
       " 'considered',\n",
       " 'lastly',\n",
       " 'awakening',\n",
       " 'ins',\n",
       " 'quality',\n",
       " 'archmage',\n",
       " 'mighty',\n",
       " 'tokens',\n",
       " 'nsurance',\n",
       " 'boardwipes',\n",
       " 'implemented',\n",
       " 'staring',\n",
       " 'obviously',\n",
       " 'maintenance',\n",
       " 'remphasize',\n",
       " 'areas',\n",
       " 'remotely',\n",
       " 'rewarded',\n",
       " 'hits',\n",
       " 'tries',\n",
       " 'ludevic',\n",
       " 'unique',\n",
       " 'overslime',\n",
       " 'screaming',\n",
       " 'corrupted',\n",
       " 'favorite',\n",
       " 'deceased',\n",
       " 'individual',\n",
       " 'sapling',\n",
       " 'backpacking',\n",
       " 'specifying',\n",
       " 'bassicly',\n",
       " 'bounty',\n",
       " 'doubling',\n",
       " 'ravage',\n",
       " 'waiting',\n",
       " 'pals',\n",
       " 'leagues',\n",
       " 'mattes',\n",
       " 'simultaneous',\n",
       " 'completed',\n",
       " 'purchases',\n",
       " 'family',\n",
       " 'abusable',\n",
       " 'leyline',\n",
       " 'thoughts',\n",
       " 'thrilled',\n",
       " 'forge',\n",
       " 'handsize',\n",
       " 'ramos',\n",
       " 'builded',\n",
       " 'fatigued',\n",
       " 'struggled',\n",
       " 'sealable',\n",
       " 'shutting',\n",
       " 'trouble',\n",
       " 'surprisingly',\n",
       " 'pestilence',\n",
       " 'binary',\n",
       " 'mysterious',\n",
       " 'headache',\n",
       " 'cheating',\n",
       " 'catches',\n",
       " 'labels',\n",
       " 'athreos',\n",
       " 'twenty',\n",
       " 'charge',\n",
       " 'constructed',\n",
       " 'unsure',\n",
       " 'bouncing',\n",
       " 'hierarchy',\n",
       " 'odds',\n",
       " 'hording',\n",
       " 'dodge',\n",
       " 'rewards',\n",
       " 'nykthos',\n",
       " 'shoutouts',\n",
       " 'seemingly',\n",
       " 'unbeatable',\n",
       " 'passives',\n",
       " 'listening',\n",
       " 'swamped',\n",
       " 'moaning',\n",
       " 'village',\n",
       " 'clicking',\n",
       " 'proliferate',\n",
       " 'paste',\n",
       " 'disconnected',\n",
       " 'company',\n",
       " 'pretty',\n",
       " 'assure',\n",
       " 'artificer',\n",
       " 'universes',\n",
       " 'organization',\n",
       " 'fits',\n",
       " 'consistently',\n",
       " 'googled',\n",
       " 'concepts',\n",
       " 'marked',\n",
       " 'committee',\n",
       " 'series',\n",
       " 'leave',\n",
       " 'satisfaction',\n",
       " 'destroys',\n",
       " 'gurgling',\n",
       " 'horribly',\n",
       " 'contextual',\n",
       " 'tickets',\n",
       " 'whiffs',\n",
       " 'exclusive',\n",
       " 'practiced',\n",
       " 'following',\n",
       " 'cumbersome',\n",
       " 'desired',\n",
       " 'considers',\n",
       " 'receiving',\n",
       " 'subscribers',\n",
       " 'zones',\n",
       " 'pirates',\n",
       " 'argus',\n",
       " 'developmental',\n",
       " 'worked',\n",
       " 'ganged',\n",
       " 'resolving',\n",
       " 'comers',\n",
       " 'legitmally',\n",
       " 'ruins',\n",
       " 'whopping',\n",
       " 'purchased',\n",
       " 'abundant',\n",
       " 'newbie',\n",
       " 'checking',\n",
       " 'trickery',\n",
       " 'werwolves',\n",
       " 'likes',\n",
       " 'original',\n",
       " 'pushed',\n",
       " 'died',\n",
       " 'intended',\n",
       " 'observe',\n",
       " 'raffled',\n",
       " 'inspirations',\n",
       " 'seriously',\n",
       " 'containing',\n",
       " 'trafficking',\n",
       " 'agains',\n",
       " 'realizes',\n",
       " 'struggling',\n",
       " 'matches',\n",
       " 'matters',\n",
       " 'graves',\n",
       " 'emergency',\n",
       " 'lined',\n",
       " 'everquill',\n",
       " 'lavender',\n",
       " 'cleared',\n",
       " 'wishes',\n",
       " 'always',\n",
       " 'regeneration',\n",
       " 'army',\n",
       " 'costed',\n",
       " 'decline',\n",
       " 'tilts',\n",
       " 'removes',\n",
       " 'minus',\n",
       " 'withholding',\n",
       " 'lithomancer',\n",
       " 'leaned',\n",
       " 'merchandising',\n",
       " 'wriggle',\n",
       " 'stumble',\n",
       " 'irvine',\n",
       " 'separated',\n",
       " 'overpowered',\n",
       " 'important',\n",
       " 'discontinuation',\n",
       " 'electronics',\n",
       " 'deny',\n",
       " 'efficiently',\n",
       " 'identifiers',\n",
       " 'refresher',\n",
       " 'planes',\n",
       " 'confirmation',\n",
       " 'reserve',\n",
       " 'collecting',\n",
       " 'lynde',\n",
       " 'clarity',\n",
       " 'obedience',\n",
       " 'ghostly',\n",
       " 'exactly',\n",
       " 'flips',\n",
       " 'reply',\n",
       " 'adaptation',\n",
       " 'brigading',\n",
       " 'textured',\n",
       " 'wholesome',\n",
       " 'volunteer',\n",
       " 'helping',\n",
       " 'fairy',\n",
       " 'disputed',\n",
       " 'tackled',\n",
       " 'arguing',\n",
       " 'nature',\n",
       " 'hesitant',\n",
       " 'probably',\n",
       " 'upside',\n",
       " 'sterling',\n",
       " 'supports',\n",
       " 'realms',\n",
       " 'environment',\n",
       " 'september',\n",
       " 'viking',\n",
       " 'production',\n",
       " 'potential',\n",
       " 'expanded',\n",
       " 'boxes',\n",
       " 'calculator',\n",
       " 'ferocious',\n",
       " 'cosplayer',\n",
       " 'theories',\n",
       " 'gobble',\n",
       " 'relocating',\n",
       " 'types',\n",
       " 'gets',\n",
       " 'controversies',\n",
       " 'addition',\n",
       " 'locations',\n",
       " 'stating',\n",
       " 'angels',\n",
       " 'parody',\n",
       " 'evolving',\n",
       " 'tactically',\n",
       " 'sponsoring',\n",
       " 'enemy',\n",
       " 'saturdays',\n",
       " 'valued',\n",
       " 'divination',\n",
       " 'monowhite',\n",
       " 'ranting',\n",
       " 'controls',\n",
       " 'basically',\n",
       " 'delve',\n",
       " 'mages',\n",
       " 'merchants',\n",
       " 'portrayed',\n",
       " 'bully',\n",
       " 'states',\n",
       " 'saved',\n",
       " 'backside',\n",
       " 'cancellation',\n",
       " 'inserts',\n",
       " 'wars',\n",
       " 'wedge',\n",
       " 'intresting',\n",
       " 'globaly',\n",
       " 'guessing',\n",
       " 'automagically',\n",
       " 'upgrade',\n",
       " 'disposable',\n",
       " 'vampire',\n",
       " 'potency',\n",
       " 'kids',\n",
       " 'walkers',\n",
       " 'welcome',\n",
       " 'gavins',\n",
       " 'congrats',\n",
       " 'inventory',\n",
       " 'edition',\n",
       " 'dissapeared',\n",
       " 'issued',\n",
       " 'participate',\n",
       " 'majority',\n",
       " 'curbstomping',\n",
       " 'imbalance',\n",
       " 'tempe',\n",
       " 'heavily',\n",
       " 'vultures',\n",
       " 'rakdos',\n",
       " 'banned',\n",
       " 'customs',\n",
       " 'renewal',\n",
       " 'beloved',\n",
       " 'moves',\n",
       " 'crammed',\n",
       " 'concrete',\n",
       " 'idly',\n",
       " 'facing',\n",
       " 'haunted',\n",
       " 'occasional',\n",
       " 'impasse',\n",
       " 'warewolves',\n",
       " 'tautology',\n",
       " 'monetise',\n",
       " 'experiences',\n",
       " 'enraptured',\n",
       " 'intentional',\n",
       " 'interactive',\n",
       " 'altogether',\n",
       " 'reversed',\n",
       " 'homogenized',\n",
       " 'abundance',\n",
       " 'arbitrary',\n",
       " 'raise',\n",
       " 'towards',\n",
       " 'summons',\n",
       " 'position',\n",
       " 'welcoming',\n",
       " 'overwhelming',\n",
       " 'twisted',\n",
       " 'discovering',\n",
       " 'copyable',\n",
       " 'runs',\n",
       " 'infinitely',\n",
       " 'locator',\n",
       " 'vague',\n",
       " 'despite',\n",
       " 'exclusively',\n",
       " 'rings',\n",
       " 'value',\n",
       " 'strangers',\n",
       " 'whereas',\n",
       " 'examples',\n",
       " 'multicolored',\n",
       " 'worse',\n",
       " 'automatically',\n",
       " 'compete',\n",
       " 'loved',\n",
       " 'bringing',\n",
       " 'devastated',\n",
       " 'spoilers',\n",
       " 'divine',\n",
       " 'conversation',\n",
       " 'ressources',\n",
       " 'declare',\n",
       " 'folded',\n",
       " 'shapeshifter',\n",
       " 'release',\n",
       " 'matchmaking',\n",
       " 'springs',\n",
       " 'native',\n",
       " 'guarded',\n",
       " 'foiling',\n",
       " 'upping',\n",
       " 'contains',\n",
       " 'injustice',\n",
       " 'inevitably',\n",
       " 'silence',\n",
       " 'itresulted',\n",
       " 'keeping',\n",
       " 'covers',\n",
       " 'example',\n",
       " 'saying',\n",
       " 'breaths',\n",
       " 'accursed',\n",
       " 'conditions',\n",
       " 'investable',\n",
       " 'flavored',\n",
       " 'genius',\n",
       " 'menges',\n",
       " 'emblems',\n",
       " 'oversleeving',\n",
       " 'wizzards',\n",
       " 'quckly',\n",
       " 'cry',\n",
       " 'incursion',\n",
       " 'specific',\n",
       " 'slowing',\n",
       " 'hypnotic',\n",
       " 'glaring',\n",
       " 'direction',\n",
       " 'finisher',\n",
       " 'anotherone',\n",
       " 'diverse',\n",
       " 'turning',\n",
       " 'fortnite',\n",
       " 'faced',\n",
       " 'reading',\n",
       " 'threats',\n",
       " 'tangle',\n",
       " 'conspiracy',\n",
       " 'transformations',\n",
       " 'conceding',\n",
       " 'infinites',\n",
       " 'taped',\n",
       " 'instantly',\n",
       " 'wrappers',\n",
       " 'hopefully',\n",
       " 'rounded',\n",
       " 'vulnerable',\n",
       " 'cardhoarder',\n",
       " 'stories',\n",
       " 'steady',\n",
       " 'sucks',\n",
       " 'feats',\n",
       " 'tormenter',\n",
       " 'designing',\n",
       " 'permitted',\n",
       " 'anybody',\n",
       " 'watching',\n",
       " 'trying',\n",
       " 'anarchomancer',\n",
       " 'necromancers',\n",
       " 'whos',\n",
       " 'warlocks',\n",
       " 'spares',\n",
       " 'annoying',\n",
       " 'improvements',\n",
       " 'practical',\n",
       " 'untouchable',\n",
       " 'percentage',\n",
       " 'chances',\n",
       " 'bashing',\n",
       " 'remarks',\n",
       " 'elite',\n",
       " 'becoming',\n",
       " 'however',\n",
       " 'temporarily',\n",
       " 'attendant',\n",
       " 'gatekeeper',\n",
       " 'scientists',\n",
       " 'extremely',\n",
       " 'hers',\n",
       " 'luxury',\n",
       " 'forty',\n",
       " 'sunny',\n",
       " 'various',\n",
       " 'pragmatic',\n",
       " 'finallancer',\n",
       " 'struggles',\n",
       " 'required',\n",
       " 'variants',\n",
       " 'points',\n",
       " 'celebrating',\n",
       " 'faithful',\n",
       " 'matchups',\n",
       " 'fairly',\n",
       " 'heretical',\n",
       " 'drafts',\n",
       " 'tinkerer',\n",
       " 'enjoying',\n",
       " 'approaching',\n",
       " 'regenerate',\n",
       " 'especialy',\n",
       " 'murktide',\n",
       " 'headed',\n",
       " 'specials',\n",
       " 'implying',\n",
       " 'obviusly',\n",
       " 'suiting',\n",
       " 'cavalcade',\n",
       " 'redacted',\n",
       " 'prereleases',\n",
       " 'watched',\n",
       " 'being',\n",
       " 'sythis',\n",
       " 'rebuilding',\n",
       " 'aware',\n",
       " 'clarifications',\n",
       " 'galvanizer',\n",
       " 'operate',\n",
       " 'countering',\n",
       " 'etched',\n",
       " 'considerate',\n",
       " 'festivities',\n",
       " 'researching',\n",
       " 'footfalls',\n",
       " 'risks',\n",
       " 'refers',\n",
       " 'definitely',\n",
       " 'negate',\n",
       " 'nightmare',\n",
       " 'please',\n",
       " 'disinterested',\n",
       " 'clearance',\n",
       " 'usually',\n",
       " 'arcanis',\n",
       " 'gansters',\n",
       " 'eliminates',\n",
       " 'gingerbrute',\n",
       " 'tuned',\n",
       " 'syndicate',\n",
       " 'painful',\n",
       " 'millions',\n",
       " 'fastidious',\n",
       " 'smouldering',\n",
       " 'removals',\n",
       " 'obliterated',\n",
       " 'boring',\n",
       " 'upsides',\n",
       " 'mastery',\n",
       " 'singles',\n",
       " 'procs',\n",
       " 'recommended',\n",
       " 'inspiration',\n",
       " 'techniques',\n",
       " 'things',\n",
       " 'answers',\n",
       " 'corruption',\n",
       " 'numbers',\n",
       " 'imposter',\n",
       " 'brushed',\n",
       " 'collapse',\n",
       " 'courage',\n",
       " 'ashnods',\n",
       " 'cards',\n",
       " 'theres',\n",
       " 'knowing',\n",
       " 'buildings',\n",
       " 'transformation',\n",
       " 'incoming',\n",
       " 'engage',\n",
       " 'fiancée',\n",
       " 'giving',\n",
       " 'online',\n",
       " 'cloning',\n",
       " 'resulted',\n",
       " 'presume',\n",
       " 'medical',\n",
       " 'kills',\n",
       " 'consistent',\n",
       " 'irregulars',\n",
       " 'plainswalkers',\n",
       " 'anyone',\n",
       " 'teaching',\n",
       " 'shoddy',\n",
       " 'sincerely',\n",
       " 'colored',\n",
       " 'scales',\n",
       " 'holding',\n",
       " 'vintage',\n",
       " 'khans',\n",
       " 'consumption',\n",
       " 'senate',\n",
       " 'famine',\n",
       " 'episode',\n",
       " 'wolfy',\n",
       " 'starts',\n",
       " 'beating',\n",
       " 'fury',\n",
       " 'rolled',\n",
       " 'sludge',\n",
       " 'norse',\n",
       " 'theelry',\n",
       " 'secretkeeper',\n",
       " 'qualities',\n",
       " 'friends',\n",
       " 'hyperfixation',\n",
       " 'biased',\n",
       " 'perished',\n",
       " 'promise',\n",
       " 'threads',\n",
       " 'marking',\n",
       " 'rates',\n",
       " 'magical',\n",
       " 'analyses',\n",
       " 'retrieving',\n",
       " 'restore',\n",
       " 'steals',\n",
       " 'certainly',\n",
       " 'trample',\n",
       " 'marketed',\n",
       " 'married',\n",
       " 'transforming',\n",
       " 'contribute',\n",
       " 'requires',\n",
       " 'noise',\n",
       " 'employing',\n",
       " 'opponents',\n",
       " 'evening',\n",
       " 'settled',\n",
       " 'results',\n",
       " 'defective',\n",
       " 'blocked',\n",
       " 'brothers',\n",
       " 'exploited',\n",
       " 'eclipses',\n",
       " 'abysmal',\n",
       " 'noises',\n",
       " 'anguished',\n",
       " 'plastered',\n",
       " 'functions',\n",
       " 'include',\n",
       " 'barely',\n",
       " 'addressed',\n",
       " 'subscribe',\n",
       " 'oversell',\n",
       " 'misogynists',\n",
       " 'unleashed',\n",
       " 'stable',\n",
       " 'initially',\n",
       " 'sessions',\n",
       " 'outlets',\n",
       " 'bounced',\n",
       " 'recently',\n",
       " 'physically',\n",
       " 'influenced',\n",
       " 'kianne',\n",
       " 'ages',\n",
       " 'spiderwebs',\n",
       " 'chameleonically',\n",
       " 'shareholders',\n",
       " 'repeatable',\n",
       " 'negative',\n",
       " 'scores',\n",
       " 'chance',\n",
       " 'flooding',\n",
       " 'bombs',\n",
       " 'absolute',\n",
       " 'aberration',\n",
       " 'moments',\n",
       " 'hated',\n",
       " 'damaging',\n",
       " 'venture',\n",
       " 'apply',\n",
       " 'dupes',\n",
       " 'disaster',\n",
       " 'pasting',\n",
       " 'orphans',\n",
       " 'response',\n",
       " 'foiled',\n",
       " 'chats',\n",
       " 'decking',\n",
       " 'managing',\n",
       " 'anytime',\n",
       " 'hellkite',\n",
       " 'closing',\n",
       " 'assume',\n",
       " 'directly',\n",
       " 'critique',\n",
       " 'affecting',\n",
       " 'evolved',\n",
       " 'goods',\n",
       " 'guilds',\n",
       " 'choosing',\n",
       " 'podcasts',\n",
       " 'bored',\n",
       " 'infos',\n",
       " 'parents',\n",
       " 'noncreature',\n",
       " 'trading',\n",
       " 'wanderer',\n",
       " 'nightcrawler',\n",
       " 'attacks',\n",
       " 'exhausted',\n",
       " 'roilmage',\n",
       " 'perilous',\n",
       " 'wolfs',\n",
       " 'talked',\n",
       " 'concede',\n",
       " 'additional',\n",
       " 'vids',\n",
       " 'raiding',\n",
       " 'relying',\n",
       " 'taping',\n",
       " 'defenders',\n",
       " 'greatly',\n",
       " 'willing',\n",
       " 'whipped',\n",
       " 'vary',\n",
       " 'needs',\n",
       " 'retailer',\n",
       " 'vengeful',\n",
       " 'dumped',\n",
       " 'waildrifter',\n",
       " 'supplies',\n",
       " 'communities',\n",
       " 'concerning',\n",
       " 'counterspelled',\n",
       " 'interests',\n",
       " 'emphasize',\n",
       " 'snappy',\n",
       " 'needle',\n",
       " 'surviving',\n",
       " 'swords',\n",
       " 'shadows',\n",
       " 'encounter',\n",
       " 'justify',\n",
       " 'directed',\n",
       " 'violates',\n",
       " 'slingers',\n",
       " 'geists',\n",
       " 'breaking',\n",
       " 'costing',\n",
       " 'investigating',\n",
       " 'pieces',\n",
       " 'displeasure',\n",
       " 'overlooked',\n",
       " 'picture',\n",
       " 'named',\n",
       " 'planning',\n",
       " 'lucky',\n",
       " 'logging',\n",
       " 'manas',\n",
       " 'released',\n",
       " 'silly',\n",
       " 'breaks',\n",
       " 'preconstruced',\n",
       " 'discussed',\n",
       " 'improves',\n",
       " 'fence',\n",
       " 'herefore',\n",
       " 'enters',\n",
       " 'announced',\n",
       " 'remaining',\n",
       " 'acceptable',\n",
       " 'wilderness',\n",
       " 'packaging',\n",
       " 'players',\n",
       " 'imagine',\n",
       " 'years',\n",
       " 'uncommons',\n",
       " 'poorly',\n",
       " 'traded',\n",
       " 'reposted',\n",
       " 'fights',\n",
       " 'elves',\n",
       " 'crimes',\n",
       " 'discards',\n",
       " 'responsibility',\n",
       " 'completions',\n",
       " 'grafkeeper',\n",
       " 'activity',\n",
       " 'combos',\n",
       " 'rotates',\n",
       " 'terminology',\n",
       " 'explorer',\n",
       " 'ascendant',\n",
       " 'ninjas',\n",
       " 'annihilate',\n",
       " 'expanse',\n",
       " 'generally',\n",
       " 'flames',\n",
       " 'locate',\n",
       " 'counts',\n",
       " 'literally',\n",
       " 'pumped',\n",
       " 'nonsense',\n",
       " 'drafting',\n",
       " 'novice',\n",
       " 'appearance',\n",
       " 'legitimate',\n",
       " 'implication',\n",
       " 'container',\n",
       " 'terrible',\n",
       " 'primeval',\n",
       " 'substitute',\n",
       " 'investigates',\n",
       " 'removing',\n",
       " 'subreddits',\n",
       " 'pockets',\n",
       " 'benefits',\n",
       " 'minute',\n",
       " 'videogame',\n",
       " 'plunderer',\n",
       " 'splitting',\n",
       " 'firemage',\n",
       " 'channeled',\n",
       " 'repaying',\n",
       " 'unlimited',\n",
       " 'fees',\n",
       " 'truly',\n",
       " 'skyclave',\n",
       " 'searchable',\n",
       " 'plays',\n",
       " 'added',\n",
       " 'separate',\n",
       " 'walking',\n",
       " 'lodge',\n",
       " 'customer',\n",
       " 'roommates',\n",
       " 'duplicates',\n",
       " 'codie',\n",
       " 'minotaurs',\n",
       " 'wipes',\n",
       " 'shops',\n",
       " 'lots',\n",
       " 'awakener',\n",
       " 'reconstructing',\n",
       " 'science',\n",
       " 'cowardly',\n",
       " 'uncontrollable',\n",
       " 'peoples',\n",
       " 'letting',\n",
       " 'allowed',\n",
       " 'purple',\n",
       " 'figured',\n",
       " 'gods',\n",
       " 'surrounding',\n",
       " 'replicating',\n",
       " 'references',\n",
       " 'begginners',\n",
       " 'pickle',\n",
       " 'applying',\n",
       " 'jumping',\n",
       " 'quintorius',\n",
       " 'improve',\n",
       " 'curated',\n",
       " 'services',\n",
       " 'calculate',\n",
       " 'fading',\n",
       " 'eggs',\n",
       " 'deems',\n",
       " 'peaked',\n",
       " 'resplendent',\n",
       " 'combination',\n",
       " 'glitching',\n",
       " 'protectors',\n",
       " 'monke',\n",
       " 'violations',\n",
       " 'notice',\n",
       " 'wasteful',\n",
       " 'library',\n",
       " 'akros',\n",
       " 'optimal',\n",
       " 'conclusions',\n",
       " 'layers',\n",
       " 'henge',\n",
       " 'noted',\n",
       " 'bonus',\n",
       " 'climate',\n",
       " 'shapeshifters',\n",
       " 'billing',\n",
       " 'victory',\n",
       " 'scathe',\n",
       " 'competitive',\n",
       " 'perspective',\n",
       " 'archtypes',\n",
       " 'disappointed',\n",
       " 'feelings',\n",
       " 'ended',\n",
       " 'prismatic',\n",
       " 'intense',\n",
       " 'tangibile',\n",
       " 'structure',\n",
       " 'stormwing',\n",
       " 'tragedy',\n",
       " 'shilling',\n",
       " 'personally',\n",
       " 'reasons',\n",
       " 'cathartic',\n",
       " 'raised',\n",
       " 'coloured',\n",
       " 'increasing',\n",
       " 'private',\n",
       " 'whisperer',\n",
       " 'students',\n",
       " 'looming',\n",
       " 'exoecting',\n",
       " 'witching',\n",
       " 'organizing',\n",
       " 'competent',\n",
       " 'universally',\n",
       " 'vehicle',\n",
       " 'editing',\n",
       " 'picturing',\n",
       " 'quitting',\n",
       " 'advanced',\n",
       " 'purposes',\n",
       " 'texas',\n",
       " 'siege',\n",
       " 'bois',\n",
       " 'parse',\n",
       " 'targets',\n",
       " 'precons',\n",
       " 'formats',\n",
       " 'interrupts',\n",
       " 'beginner',\n",
       " 'angeles',\n",
       " 'channeler',\n",
       " 'reanimation',\n",
       " 'swordmaster',\n",
       " 'petty',\n",
       " 'evasion',\n",
       " 'loose',\n",
       " 'firing',\n",
       " 'consolidated',\n",
       " 'cursecatcher',\n",
       " 'infernal',\n",
       " 'texts',\n",
       " 'stupides',\n",
       " 'grandiloquent',\n",
       " 'easy',\n",
       " 'entered',\n",
       " 'alleviate',\n",
       " 'encountered',\n",
       " 'attractions',\n",
       " 'flyers',\n",
       " 'wasted',\n",
       " 'remember',\n",
       " 'removal',\n",
       " 'nonbasic',\n",
       " 'alcove',\n",
       " 'phases',\n",
       " 'salvation',\n",
       " 'battle',\n",
       " 'pierce',\n",
       " 'confusion',\n",
       " 'gives',\n",
       " 'summoning',\n",
       " 'adversaries',\n",
       " ...]"
      ]
     },
     "execution_count": 32,
     "metadata": {},
     "output_type": "execute_result"
    }
   ],
   "source": [
    "list(set(unique_token(tcg_df, 'tokens')) \n",
    "     - set(unique_token(tcg_df, 'stemmed')))"
   ]
  },
  {
   "cell_type": "code",
   "execution_count": 33,
   "id": "77a27881",
   "metadata": {},
   "outputs": [
    {
     "data": {
      "text/plain": [
       "['centering',\n",
       " 'producing',\n",
       " 'emotional',\n",
       " 'foolishly',\n",
       " 'expertise',\n",
       " 'office',\n",
       " 'acquired',\n",
       " 'evident',\n",
       " 'budge',\n",
       " 'etching',\n",
       " 'unfinity',\n",
       " 'wrapped',\n",
       " 'clumping',\n",
       " 'overdone',\n",
       " 'alive',\n",
       " 'gilded',\n",
       " 'spellbinder',\n",
       " 'appreciative',\n",
       " 'carpeting',\n",
       " 'massively',\n",
       " 'immensely',\n",
       " 'rites',\n",
       " 'illustrate',\n",
       " 'meanwhile',\n",
       " 'chasing',\n",
       " 'cans',\n",
       " 'skeptics',\n",
       " 'exile',\n",
       " 'partially',\n",
       " 'staying',\n",
       " 'successful',\n",
       " 'separately',\n",
       " 'degradation',\n",
       " 'bills',\n",
       " 'brainstormed',\n",
       " 'sharpie',\n",
       " 'replicate',\n",
       " 'discounts',\n",
       " 'provisions',\n",
       " 'vanishing',\n",
       " 'employees',\n",
       " 'returned',\n",
       " 'requirement',\n",
       " 'description',\n",
       " 'objectively',\n",
       " 'commanders',\n",
       " 'masticore',\n",
       " 'unplayable',\n",
       " 'eventide',\n",
       " 'dies',\n",
       " 'printings',\n",
       " 'materials',\n",
       " 'leans',\n",
       " 'enforce',\n",
       " 'uniqueness',\n",
       " 'wildly',\n",
       " 'massacre',\n",
       " 'posting',\n",
       " 'disappeared',\n",
       " 'passes',\n",
       " 'unbanings',\n",
       " 'underlying',\n",
       " 'wording',\n",
       " 'irs',\n",
       " 'passage',\n",
       " 'swamps',\n",
       " 'takes',\n",
       " 'duties',\n",
       " 'discusses',\n",
       " 'ifs',\n",
       " 'intuition',\n",
       " 'reprinted',\n",
       " 'implications',\n",
       " 'bundle',\n",
       " 'quoted',\n",
       " 'taxed',\n",
       " 'scrolle',\n",
       " 'frequently',\n",
       " 'mercenary',\n",
       " 'versus',\n",
       " 'exciting',\n",
       " 'forcing',\n",
       " 'ascension',\n",
       " 'sits',\n",
       " 'forms',\n",
       " 'infinite',\n",
       " 'revisiting',\n",
       " 'harmonic',\n",
       " 'ruined',\n",
       " 'managed',\n",
       " 'places',\n",
       " 'meantime',\n",
       " 'upwards',\n",
       " 'subtlety',\n",
       " 'jars',\n",
       " 'considered',\n",
       " 'lastly',\n",
       " 'microscratches',\n",
       " 'quality',\n",
       " 'archmage',\n",
       " 'discoveries',\n",
       " 'tokens',\n",
       " 'vibrating',\n",
       " 'refreshing',\n",
       " 'implemented',\n",
       " 'obviously',\n",
       " 'trending',\n",
       " 'areas',\n",
       " 'philippines',\n",
       " 'remotely',\n",
       " 'hits',\n",
       " 'coattails',\n",
       " 'rewarded',\n",
       " 'shelves',\n",
       " 'deranged',\n",
       " 'boxtopper',\n",
       " 'ludevic',\n",
       " 'unique',\n",
       " 'overslime',\n",
       " 'screaming',\n",
       " 'thriving',\n",
       " 'automated',\n",
       " 'corrupted',\n",
       " 'elminster',\n",
       " 'favorite',\n",
       " 'economically',\n",
       " 'deceased',\n",
       " 'individual',\n",
       " 'occassionally',\n",
       " 'miracles',\n",
       " 'wishful',\n",
       " 'posible',\n",
       " 'unremarkable',\n",
       " 'colony',\n",
       " 'doubling',\n",
       " 'unglued',\n",
       " 'maneuver',\n",
       " 'repurchase',\n",
       " 'waiting',\n",
       " 'engineered',\n",
       " 'spiritual',\n",
       " 'indicators',\n",
       " 'adiacent',\n",
       " 'trips',\n",
       " 'completed',\n",
       " 'pickups',\n",
       " 'application',\n",
       " 'purchases',\n",
       " 'family',\n",
       " 'stored',\n",
       " 'equally',\n",
       " 'thoughts',\n",
       " 'fueling',\n",
       " 'thrilled',\n",
       " 'shorted',\n",
       " 'spellseeker',\n",
       " 'sacs',\n",
       " 'guilded',\n",
       " 'primed',\n",
       " 'categories',\n",
       " 'shutting',\n",
       " 'trouble',\n",
       " 'surprisingly',\n",
       " 'headache',\n",
       " 'cheating',\n",
       " 'labels',\n",
       " 'reflipping',\n",
       " 'catches',\n",
       " 'photographing',\n",
       " 'colleges',\n",
       " 'charge',\n",
       " 'constructed',\n",
       " 'unsure',\n",
       " 'regulations',\n",
       " 'bests',\n",
       " 'deflationary',\n",
       " 'bouncing',\n",
       " 'odds',\n",
       " 'dodge',\n",
       " 'industrial',\n",
       " 'shooting',\n",
       " 'rewards',\n",
       " 'pointing',\n",
       " 'greeted',\n",
       " 'cancelled',\n",
       " 'poole',\n",
       " 'seemingly',\n",
       " 'spotting',\n",
       " 'tcgs',\n",
       " 'kpis',\n",
       " 'sapphire',\n",
       " 'listening',\n",
       " 'clicking',\n",
       " 'dreamed',\n",
       " 'disconnected',\n",
       " 'company',\n",
       " 'resistance',\n",
       " 'pretty',\n",
       " 'universes',\n",
       " 'escalates',\n",
       " 'wholesale',\n",
       " 'organization',\n",
       " 'jobs',\n",
       " 'ethics',\n",
       " 'aristocratic',\n",
       " 'fits',\n",
       " 'inquiries',\n",
       " '2010s',\n",
       " 'consistently',\n",
       " 'googled',\n",
       " 'concepts',\n",
       " 'boundary',\n",
       " 'marked',\n",
       " 'estimates',\n",
       " 'declined',\n",
       " 'correctly',\n",
       " 'series',\n",
       " 'leave',\n",
       " 'warping',\n",
       " 'cactus',\n",
       " 'satisfaction',\n",
       " 'horribly',\n",
       " 'tickets',\n",
       " 'reseller',\n",
       " 'exclusive',\n",
       " 'moorings',\n",
       " 'mariachis',\n",
       " 'adventure',\n",
       " 'following',\n",
       " 'cumbersome',\n",
       " 'desired',\n",
       " 'unsorted',\n",
       " 'branches',\n",
       " '40s',\n",
       " 'receiving',\n",
       " 'pirates',\n",
       " 'coloring',\n",
       " 'shrinking',\n",
       " 'worked',\n",
       " 'netting',\n",
       " 'comers',\n",
       " 'machine',\n",
       " 'ruins',\n",
       " 'whopping',\n",
       " 'nighttime',\n",
       " 'linked',\n",
       " 'purchased',\n",
       " 'abundant',\n",
       " 'checking',\n",
       " 'measuring',\n",
       " 'newbie',\n",
       " 'trickery',\n",
       " 'likes',\n",
       " 'original',\n",
       " 'pushed',\n",
       " 'warhammer',\n",
       " 'intended',\n",
       " 'observe',\n",
       " 'consignment',\n",
       " 'seriously',\n",
       " 'historical',\n",
       " 'containing',\n",
       " 'matches',\n",
       " 'matters',\n",
       " 'struggling',\n",
       " 'unfathomable',\n",
       " 'downhill',\n",
       " 'discarding',\n",
       " 'candidates',\n",
       " 'always',\n",
       " 'army',\n",
       " 'costed',\n",
       " 'exceeds',\n",
       " 'structures',\n",
       " 'decline',\n",
       " 'sauce',\n",
       " 'revised',\n",
       " 'minus',\n",
       " 'leaned',\n",
       " 'pressures',\n",
       " 'separated',\n",
       " 'overpowered',\n",
       " 'flippers',\n",
       " 'redone',\n",
       " 'important',\n",
       " 'noting',\n",
       " 'electronics',\n",
       " 'retracement',\n",
       " 'saves',\n",
       " 'efficiently',\n",
       " 'planes',\n",
       " 'confirmation',\n",
       " 'reserve',\n",
       " 'collecting',\n",
       " 'catacombs',\n",
       " 'obedience',\n",
       " 'reply',\n",
       " 'exactly',\n",
       " 'flips',\n",
       " 'newspapers',\n",
       " 'follower',\n",
       " 'textured',\n",
       " 'inflation',\n",
       " 'helping',\n",
       " 'fairy',\n",
       " 'starcitygames',\n",
       " 'penalize',\n",
       " 'probably',\n",
       " 'crashed',\n",
       " 'nature',\n",
       " 'hesitant',\n",
       " 'cripple',\n",
       " 'sterling',\n",
       " 'upside',\n",
       " 'realms',\n",
       " 'accessibility',\n",
       " 'september',\n",
       " 'incarnations',\n",
       " 'routes',\n",
       " 'supports',\n",
       " 'digs',\n",
       " 'shorting',\n",
       " 'production',\n",
       " 'potential',\n",
       " 'boxes',\n",
       " 'kidnapped',\n",
       " 'calculator',\n",
       " 'types',\n",
       " 'theories',\n",
       " 'gets',\n",
       " 'gobble',\n",
       " 'pathways',\n",
       " 'addition',\n",
       " 'scammed',\n",
       " 'locations',\n",
       " 'colonies',\n",
       " 'allfather',\n",
       " 'stating',\n",
       " 'zeros',\n",
       " 'evolving',\n",
       " 'charged',\n",
       " 'enemy',\n",
       " 'valued',\n",
       " 'assembling',\n",
       " 'stomping',\n",
       " 'technique',\n",
       " 'basically',\n",
       " 'aforementioned',\n",
       " 'snippets',\n",
       " 'mages',\n",
       " 'animals',\n",
       " 'multiples',\n",
       " 'strategic',\n",
       " 'overflowing',\n",
       " 'merchants',\n",
       " 'exspoure',\n",
       " 'saved',\n",
       " 'states',\n",
       " 'cataracts',\n",
       " 'unwitting',\n",
       " 'luckily',\n",
       " 'assets',\n",
       " 'guessing',\n",
       " 'explosives',\n",
       " 'unhinged',\n",
       " 'upgrade',\n",
       " 'voids',\n",
       " 'nightblade',\n",
       " 'vampire',\n",
       " 'kids',\n",
       " 'walkers',\n",
       " 'welcome',\n",
       " 'females',\n",
       " 'domiciled',\n",
       " 'congrats',\n",
       " 'negations',\n",
       " 'edition',\n",
       " 'collapsed',\n",
       " 'inventory',\n",
       " 'issued',\n",
       " 'flares',\n",
       " 'participate',\n",
       " 'majority',\n",
       " 'imbalance',\n",
       " 'sanctioned',\n",
       " 'truths',\n",
       " 'heavily',\n",
       " 'rakdos',\n",
       " 'banned',\n",
       " 'customs',\n",
       " 'mapping',\n",
       " 'moves',\n",
       " 'eloise',\n",
       " 'abuse',\n",
       " 'globally',\n",
       " 'settles',\n",
       " 'facing',\n",
       " 'occasional',\n",
       " 'climactic',\n",
       " 'casuals',\n",
       " 'expedited',\n",
       " 'experiences',\n",
       " 'speaks',\n",
       " 'altogether',\n",
       " 'surface',\n",
       " 'naturally',\n",
       " 'snagging',\n",
       " 'raise',\n",
       " 'towards',\n",
       " 'outpaces',\n",
       " 'masterpieces',\n",
       " 'position',\n",
       " 'overwhelming',\n",
       " 'twisted',\n",
       " 'pairing',\n",
       " 'gifts',\n",
       " 'runs',\n",
       " 'infinitely',\n",
       " 'edited',\n",
       " 'compiling',\n",
       " 'employment',\n",
       " 'vague',\n",
       " 'despite',\n",
       " 'wisely',\n",
       " 'exclusively',\n",
       " 'americans',\n",
       " 'value',\n",
       " 'receives',\n",
       " 'whereas',\n",
       " 'examples',\n",
       " 'rings',\n",
       " 'psychology',\n",
       " 'volume',\n",
       " 'worse',\n",
       " 'wandering',\n",
       " 'automatically',\n",
       " 'positioning',\n",
       " 'injection',\n",
       " 'replicas',\n",
       " 'compete',\n",
       " 'loved',\n",
       " 'bringing',\n",
       " 'applicable',\n",
       " 'conversation',\n",
       " 'spoilers',\n",
       " 'release',\n",
       " 'potentials',\n",
       " 'ventures',\n",
       " 'stairwell',\n",
       " 'native',\n",
       " 'consequential',\n",
       " 'storewide',\n",
       " 'integrity',\n",
       " 'foiling',\n",
       " 'contains',\n",
       " 'goodies',\n",
       " 'apparent',\n",
       " 'wealthy',\n",
       " 'inevitably',\n",
       " 'recycle',\n",
       " 'reminded',\n",
       " 'fused',\n",
       " 'silence',\n",
       " 'waited',\n",
       " 'consensus',\n",
       " 'keeping',\n",
       " 'covers',\n",
       " 'eldrane',\n",
       " 'whirring',\n",
       " 'preliminary',\n",
       " 'polluted',\n",
       " 'example',\n",
       " 'saying',\n",
       " 'investable',\n",
       " 'conditions',\n",
       " 'ancestral',\n",
       " 'pays',\n",
       " 'flavored',\n",
       " 'outclassed',\n",
       " 'incomprehensible',\n",
       " 'poised',\n",
       " 'avoided',\n",
       " 'elementary',\n",
       " 'slowing',\n",
       " 'specific',\n",
       " 'direction',\n",
       " 'flats',\n",
       " 'soulamtes',\n",
       " 'finisher',\n",
       " 'ghostbusters',\n",
       " 'fortnite',\n",
       " 'turning',\n",
       " 'incomplete',\n",
       " 'incurred',\n",
       " 'surfacing',\n",
       " 'faced',\n",
       " 'reading',\n",
       " 'opinionated',\n",
       " 'conspiracy',\n",
       " 'markers',\n",
       " 'coverting',\n",
       " 'monstrosity',\n",
       " 'roots',\n",
       " 'amounts',\n",
       " 'obligated',\n",
       " 'anticipates',\n",
       " 'instantly',\n",
       " 'rally',\n",
       " 'waves',\n",
       " 'hopefully',\n",
       " 'rounded',\n",
       " 'minimally',\n",
       " 'mtgsalavation',\n",
       " 'cardhoarder',\n",
       " 'comparable',\n",
       " 'stories',\n",
       " 'efficiency',\n",
       " 'steady',\n",
       " 'sucks',\n",
       " 'designing',\n",
       " 'permitted',\n",
       " 'scaled',\n",
       " 'anybody',\n",
       " 'backburner',\n",
       " 'watching',\n",
       " 'dries',\n",
       " 'trying',\n",
       " 'negotiating',\n",
       " 'annoying',\n",
       " 'percentage',\n",
       " 'unappealing',\n",
       " 'chances',\n",
       " 'temporal',\n",
       " 'elite',\n",
       " 'untampered',\n",
       " 'becoming',\n",
       " 'however',\n",
       " 'temporarily',\n",
       " 'glitters',\n",
       " 'rapidly',\n",
       " 'extremely',\n",
       " 'purpose',\n",
       " 'components',\n",
       " 'watchers',\n",
       " 'luxury',\n",
       " 'creativity',\n",
       " 'arguably',\n",
       " 'insecticide',\n",
       " 'revelation',\n",
       " 'various',\n",
       " 'suspiciously',\n",
       " 'required',\n",
       " 'variants',\n",
       " 'points',\n",
       " 'demonic',\n",
       " 'charmed',\n",
       " 'brevity',\n",
       " 'fairly',\n",
       " 'drafts',\n",
       " 'enjoying',\n",
       " 'volatile',\n",
       " 'resets',\n",
       " 'approaching',\n",
       " 'rolls',\n",
       " 'remained',\n",
       " 'spawning',\n",
       " 'hypocritical',\n",
       " 'murktide',\n",
       " 'headed',\n",
       " 'specials',\n",
       " 'cartage',\n",
       " 'armadillos',\n",
       " 'ancients',\n",
       " 'staking',\n",
       " 'divisive',\n",
       " 'watched',\n",
       " 'being',\n",
       " 'denote',\n",
       " 'grabs',\n",
       " 'oponents',\n",
       " 'sythis',\n",
       " 'detection',\n",
       " 'chinese',\n",
       " 'aware',\n",
       " 'risks',\n",
       " 'operate',\n",
       " 'countering',\n",
       " 'etched',\n",
       " 'researching',\n",
       " 'footfalls',\n",
       " 'definitely',\n",
       " 'please',\n",
       " 'ridiculously',\n",
       " 'negate',\n",
       " 'chumpy',\n",
       " 'aristocrats',\n",
       " 'dried',\n",
       " 'clearance',\n",
       " 'usually',\n",
       " 'tuned',\n",
       " 'millions',\n",
       " 'talismans',\n",
       " 'credible',\n",
       " 'grinded',\n",
       " 'patterns',\n",
       " 'destined',\n",
       " 'upsides',\n",
       " 'boring',\n",
       " 'mails',\n",
       " 'singles',\n",
       " 'recommended',\n",
       " 'professional',\n",
       " 'dabbled',\n",
       " 'entertaining',\n",
       " 'things',\n",
       " 'answers',\n",
       " 'retirement',\n",
       " 'numbers',\n",
       " 'brushed',\n",
       " 'peps',\n",
       " 'collapse',\n",
       " 'courage',\n",
       " 'forwarder',\n",
       " 'castable',\n",
       " 'cards',\n",
       " 'restocked',\n",
       " 'theres',\n",
       " 'deckbuilders',\n",
       " 'knowing',\n",
       " 'movies',\n",
       " 'recruiter',\n",
       " 'scalping',\n",
       " 'incoming',\n",
       " 'pissing',\n",
       " 'pegged',\n",
       " 'engage',\n",
       " 'downsize',\n",
       " 'giving',\n",
       " 'acting',\n",
       " 'online',\n",
       " 'retraction',\n",
       " 'presume',\n",
       " 'medical',\n",
       " 'resilient',\n",
       " 'consistent',\n",
       " 'kills',\n",
       " 'lacks',\n",
       " 'toying',\n",
       " 'anyone',\n",
       " 'pants',\n",
       " 'shoddy',\n",
       " 'packages',\n",
       " 'colored',\n",
       " 'scales',\n",
       " 'holding',\n",
       " 'vintage',\n",
       " 'khans',\n",
       " 'consumer',\n",
       " 'famine',\n",
       " 'blackcleave',\n",
       " 'borne',\n",
       " 'idiocy',\n",
       " 'starts',\n",
       " 'buyouts',\n",
       " 'beating',\n",
       " 'fury',\n",
       " 'hassles',\n",
       " 'reprinting',\n",
       " 'rolled',\n",
       " 'sludge',\n",
       " 'disabled',\n",
       " 'unloading',\n",
       " 'cyclical',\n",
       " 'friends',\n",
       " 'biased',\n",
       " 'threads',\n",
       " 'marking',\n",
       " 'rates',\n",
       " 'magical',\n",
       " 'analyses',\n",
       " 'intensive',\n",
       " 'manufacturer',\n",
       " 'realiable',\n",
       " 'shoeboxes',\n",
       " 'certainly',\n",
       " 'marketed',\n",
       " 'publically',\n",
       " 'married',\n",
       " 'laughing',\n",
       " 'fatty',\n",
       " 'episodes',\n",
       " 'parting',\n",
       " 'requires',\n",
       " 'opener',\n",
       " 'absorbed',\n",
       " 'watery',\n",
       " 'bagged',\n",
       " 'suppliers',\n",
       " 'opponents',\n",
       " 'engineer',\n",
       " 'evening',\n",
       " 'brewers',\n",
       " 'degrades',\n",
       " 'aggressively',\n",
       " 'settled',\n",
       " 'results',\n",
       " 'killers',\n",
       " 'defective',\n",
       " 'brothers',\n",
       " 'transfered',\n",
       " 'volumes',\n",
       " 'urzas',\n",
       " 'predicting',\n",
       " 'tempory',\n",
       " 'enfranchised',\n",
       " 'pleeeeeenty',\n",
       " 'spocklands',\n",
       " 'elementals',\n",
       " 'stabilizing',\n",
       " 'signets',\n",
       " 'include',\n",
       " 'barely',\n",
       " 'suply',\n",
       " 'pyrite',\n",
       " 'specialize',\n",
       " 'impuse',\n",
       " 'impressive',\n",
       " 'unleashed',\n",
       " 'stable',\n",
       " 'initially',\n",
       " 'xmas',\n",
       " 'outlets',\n",
       " 'workers',\n",
       " 'etsy',\n",
       " 'recently',\n",
       " 'physically',\n",
       " 'ages',\n",
       " 'evaluated',\n",
       " 'counterfeiting',\n",
       " 'survival',\n",
       " 'resale',\n",
       " 'repeatable',\n",
       " 'negative',\n",
       " 'illustration',\n",
       " 'carefully',\n",
       " 'scores',\n",
       " 'unrecognized',\n",
       " 'chance',\n",
       " 'flooding',\n",
       " 'bombs',\n",
       " 'absolute',\n",
       " 'damaging',\n",
       " 'hated',\n",
       " 'spoils',\n",
       " 'venture',\n",
       " 'dividers',\n",
       " 'apply',\n",
       " 'dupes',\n",
       " 'desirability',\n",
       " 'response',\n",
       " 'boxed',\n",
       " 'foiled',\n",
       " 'deflanation',\n",
       " 'anytime',\n",
       " 'nuisance',\n",
       " 'foundation',\n",
       " 'closing',\n",
       " 'assume',\n",
       " 'directly',\n",
       " 'affecting',\n",
       " 'choosing',\n",
       " 'goods',\n",
       " 'guilds',\n",
       " 'infos',\n",
       " 'shipments',\n",
       " 'parents',\n",
       " 'taxes',\n",
       " 'decipher',\n",
       " 'trading',\n",
       " 'commmander',\n",
       " 'lieutenant',\n",
       " 'qualified',\n",
       " 'impulsive',\n",
       " 'lottery',\n",
       " 'sounding',\n",
       " 'additional',\n",
       " 'talked',\n",
       " 'vids',\n",
       " 'raiding',\n",
       " 'shells',\n",
       " 'antiquities',\n",
       " 'greatly',\n",
       " 'remastered',\n",
       " 'notices',\n",
       " 'blastoise',\n",
       " 'implementing',\n",
       " 'vary',\n",
       " 'needs',\n",
       " 'retailer',\n",
       " 'vengeful',\n",
       " 'dumped',\n",
       " 'define',\n",
       " 'accessoires',\n",
       " 'goodwill',\n",
       " 'redemption',\n",
       " 'fades',\n",
       " 'addiction',\n",
       " 'allrdy',\n",
       " 'accumulated',\n",
       " 'interests',\n",
       " 'varies',\n",
       " 'decreasing',\n",
       " 'swords',\n",
       " 'needle',\n",
       " 'introductory',\n",
       " 'perferably',\n",
       " 'bothers',\n",
       " 'encounter',\n",
       " 'justify',\n",
       " 'tragically',\n",
       " 'breaking',\n",
       " 'costing',\n",
       " 'reflections',\n",
       " 'pieces',\n",
       " 'gouging',\n",
       " 'notorious',\n",
       " 'unemployment',\n",
       " 'heading',\n",
       " 'challenging',\n",
       " 'picture',\n",
       " 'named',\n",
       " 'overlooked',\n",
       " 'accommodations',\n",
       " 'geyadrone',\n",
       " 'planning',\n",
       " 'logging',\n",
       " 'lucky',\n",
       " 'uneccesary',\n",
       " 'president',\n",
       " 'forgive',\n",
       " 'released',\n",
       " 'silly',\n",
       " 'breaks',\n",
       " 'generator',\n",
       " 'discussed',\n",
       " 'improves',\n",
       " 'fence',\n",
       " 'satisficing',\n",
       " 'eliminate',\n",
       " 'darkness',\n",
       " 'enters',\n",
       " 'acceptable',\n",
       " 'remaining',\n",
       " 'ubiquitous',\n",
       " 'announced',\n",
       " 'packaging',\n",
       " 'powertools',\n",
       " 'players',\n",
       " 'imagine',\n",
       " 'years',\n",
       " 'uncommons',\n",
       " 'entitlement',\n",
       " 'puncturing',\n",
       " 'poorly',\n",
       " 'elves',\n",
       " 'netherlands',\n",
       " 'sanctuary',\n",
       " 'tubs',\n",
       " 'periods',\n",
       " 'brains',\n",
       " 'visualize',\n",
       " 'troubled',\n",
       " 'activity',\n",
       " 'answere',\n",
       " 'combos',\n",
       " 'dragonfly',\n",
       " 'usage',\n",
       " 'workforce',\n",
       " 'rotates',\n",
       " 'sufficient',\n",
       " 'glossiness',\n",
       " 'feathers',\n",
       " 'stapled',\n",
       " 'realistic',\n",
       " 'searing',\n",
       " 'expesive',\n",
       " 'accusing',\n",
       " 'emphasized',\n",
       " 'tradfoils',\n",
       " 'unpublished',\n",
       " 'cautionary',\n",
       " 'expanse',\n",
       " 'strangeness',\n",
       " 'generally',\n",
       " 'pokemons',\n",
       " 'locate',\n",
       " 'literally',\n",
       " 'concordant',\n",
       " 'genesis',\n",
       " 'laying',\n",
       " 'mtgfinace',\n",
       " 'allocated',\n",
       " 'pillage',\n",
       " 'influences',\n",
       " 'drafting',\n",
       " 'appearance',\n",
       " 'legitimate',\n",
       " 'upswing',\n",
       " 'container',\n",
       " 'terrible',\n",
       " 'divining',\n",
       " 'subreddits',\n",
       " 'removing',\n",
       " 'proprietary',\n",
       " 'fairies',\n",
       " 'pockets',\n",
       " 'availability',\n",
       " 'benefits',\n",
       " 'minute',\n",
       " 'plunderer',\n",
       " 'intellectual',\n",
       " 'fees',\n",
       " 'unlimited',\n",
       " 'truly',\n",
       " 'searchable',\n",
       " 'plays',\n",
       " 'added',\n",
       " 'separate',\n",
       " 'walking',\n",
       " 'stance',\n",
       " 'profane',\n",
       " 'admits',\n",
       " 'customer',\n",
       " 'gobbled',\n",
       " 'duplicates',\n",
       " 'adhere',\n",
       " 'wipes',\n",
       " 'shops',\n",
       " 'lots',\n",
       " 'timeframe',\n",
       " 'grossly',\n",
       " 'science',\n",
       " 'peoples',\n",
       " 'misplaced',\n",
       " 'letting',\n",
       " 'allowed',\n",
       " 'revenues',\n",
       " 'asins',\n",
       " 'figured',\n",
       " 'gods',\n",
       " 'teasing',\n",
       " 'schematics',\n",
       " 'closets',\n",
       " 'references',\n",
       " 'applying',\n",
       " 'jumping',\n",
       " 'homelands',\n",
       " 'services',\n",
       " 'improve',\n",
       " 'hesitating',\n",
       " 'calculate',\n",
       " 'fading',\n",
       " 'eggs',\n",
       " 'peaked',\n",
       " 'vendors',\n",
       " 'combination',\n",
       " 'refunds',\n",
       " 'protectors',\n",
       " 'recalled',\n",
       " 'notice',\n",
       " 'authenticate',\n",
       " 'library',\n",
       " 'untouched',\n",
       " 'vancouver',\n",
       " 'transaction',\n",
       " 'optimal',\n",
       " 'conclusions',\n",
       " 'henge',\n",
       " 'counterfeits',\n",
       " 'appreciating',\n",
       " 'bonus',\n",
       " 'disclose',\n",
       " 'meteoric',\n",
       " 'victory',\n",
       " 'competitive',\n",
       " 'perspective',\n",
       " 'ended',\n",
       " 'feelings',\n",
       " 'buttons',\n",
       " 'intense',\n",
       " 'structure',\n",
       " 'severe',\n",
       " 'survives',\n",
       " 'personally',\n",
       " 'metrics',\n",
       " 'reasons',\n",
       " 'cathartic',\n",
       " 'raised',\n",
       " 'dipping',\n",
       " 'increasing',\n",
       " ...]"
      ]
     },
     "execution_count": 33,
     "metadata": {},
     "output_type": "execute_result"
    }
   ],
   "source": [
    "list(set(unique_token(mtgfin_df, 'tokens')) \n",
    "     - set(unique_token(mtgfin_df, 'stemmed')))"
   ]
  },
  {
   "cell_type": "markdown",
   "id": "f3930aa2",
   "metadata": {},
   "source": [
    "As can be seen, there are many removed words that are root words that might help differentiate between the two subreddits. Intuitively, this should worsen the performance of our modelling done later."
   ]
  },
  {
   "cell_type": "markdown",
   "id": "1910352d",
   "metadata": {},
   "source": [
    "### N-grams Analysis"
   ]
  },
  {
   "cell_type": "code",
   "execution_count": 34,
   "id": "70f18029",
   "metadata": {},
   "outputs": [
    {
     "data": {
      "image/png": "[encoded data removed]",
      "text/plain": [
       "<Figure size 432x288 with 1 Axes>"
      ]
     },
     "metadata": {
      "needs_background": "light"
     },
     "output_type": "display_data"
    }
   ],
   "source": [
    "# getting unigram, bigram and trigrams\n",
    "plot_ngram(\n",
    "    tcg_df,\n",
    "    'alltext',\n",
    "    'english',\n",
    "    1,\n",
    "    1\n",
    ");"
   ]
  },
  {
   "cell_type": "code",
   "execution_count": 35,
   "id": "13d092d5",
   "metadata": {},
   "outputs": [
    {
     "data": {
      "image/png": "[encoded data removed]",
      "text/plain": [
       "<Figure size 432x288 with 1 Axes>"
      ]
     },
     "metadata": {
      "needs_background": "light"
     },
     "output_type": "display_data"
    }
   ],
   "source": [
    "plot_ngram(\n",
    "    tcg_df,\n",
    "    'alltext',\n",
    "    'english',\n",
    "    2,\n",
    "    2\n",
    ");"
   ]
  },
  {
   "cell_type": "code",
   "execution_count": 36,
   "id": "dba5989a",
   "metadata": {},
   "outputs": [
    {
     "data": {
      "image/png": "[encoded data removed]",
      "text/plain": [
       "<Figure size 432x288 with 1 Axes>"
      ]
     },
     "metadata": {
      "needs_background": "light"
     },
     "output_type": "display_data"
    }
   ],
   "source": [
    "plot_ngram(\n",
    "    tcg_df,\n",
    "    'alltext',\n",
    "    'english',\n",
    "    3,\n",
    "    3\n",
    ");"
   ]
  },
  {
   "cell_type": "markdown",
   "id": "b30c7473",
   "metadata": {},
   "source": [
    "For /r/magicTCG, the top 10 unigrams are very generic words that we would expect to find in both subreddits. The top 10 bigrams consists of a couple of seeming gibberish like \"gt lt\", which makes me suspect that they are post tags of sorts. However, the top bigram is \"Midnight Hunt\", the name of the new set releasing around this period. The top 10 trigrams also consist of tag-like words. Perhaps adding tag-like words to the list of stop words will give us a clearer picture."
   ]
  },
  {
   "cell_type": "code",
   "execution_count": 37,
   "id": "42013eff",
   "metadata": {},
   "outputs": [],
   "source": [
    "stoplist = text.ENGLISH_STOP_WORDS.union(\n",
    "    [\n",
    "        'lt',\n",
    "        'gt',\n",
    "        'tt',\n",
    "        'annotation',\n",
    "        'amp',\n",
    "        '000',\n",
    "        'catid'\n",
    "    ]\n",
    ")"
   ]
  },
  {
   "cell_type": "code",
   "execution_count": 38,
   "id": "c7f350e0",
   "metadata": {},
   "outputs": [
    {
     "data": {
      "image/png": "[encoded data removed]",
      "text/plain": [
       "<Figure size 432x288 with 1 Axes>"
      ]
     },
     "metadata": {
      "needs_background": "light"
     },
     "output_type": "display_data"
    }
   ],
   "source": [
    "plot_ngram(\n",
    "    tcg_df,\n",
    "    'alltext',\n",
    "    stoplist,\n",
    "    2,\n",
    "    2\n",
    ");"
   ]
  },
  {
   "cell_type": "code",
   "execution_count": 39,
   "id": "e4575cfd",
   "metadata": {},
   "outputs": [
    {
     "data": {
      "image/png": "[encoded data removed]",
      "text/plain": [
       "<Figure size 432x288 with 1 Axes>"
      ]
     },
     "metadata": {
      "needs_background": "light"
     },
     "output_type": "display_data"
    }
   ],
   "source": [
    "plot_ngram(\n",
    "    tcg_df,\n",
    "    'alltext',\n",
    "    stoplist,\n",
    "    3,\n",
    "    3\n",
    ");"
   ]
  },
  {
   "cell_type": "markdown",
   "id": "04518a92",
   "metadata": {},
   "source": [
    "Looks much better. Now the bigrams and trigrams are mostly coherent. Now let's do the same for the other subreddit, /r/mtgfinance and see if there are any more stopwords to be added."
   ]
  },
  {
   "cell_type": "code",
   "execution_count": 40,
   "id": "8aa7edc2",
   "metadata": {},
   "outputs": [
    {
     "data": {
      "image/png": "[encoded data removed]",
      "text/plain": [
       "<Figure size 432x288 with 1 Axes>"
      ]
     },
     "metadata": {
      "needs_background": "light"
     },
     "output_type": "display_data"
    }
   ],
   "source": [
    "# getting unigrams, bigrams and trigrams\n",
    "plot_ngram(\n",
    "    mtgfin_df,\n",
    "    'alltext',\n",
    "    stoplist,\n",
    "    1,\n",
    "    1\n",
    ");"
   ]
  },
  {
   "cell_type": "code",
   "execution_count": 41,
   "id": "32076938",
   "metadata": {},
   "outputs": [
    {
     "data": {
      "image/png": "[encoded data removed]",
      "text/plain": [
       "<Figure size 432x288 with 1 Axes>"
      ]
     },
     "metadata": {
      "needs_background": "light"
     },
     "output_type": "display_data"
    }
   ],
   "source": [
    "plot_ngram(\n",
    "    mtgfin_df,\n",
    "    'alltext',\n",
    "    stoplist,\n",
    "    2,\n",
    "    2\n",
    ");"
   ]
  },
  {
   "cell_type": "code",
   "execution_count": 42,
   "id": "d6b0e5d5",
   "metadata": {},
   "outputs": [
    {
     "data": {
      "image/png": "[encoded data removed]",
      "text/plain": [
       "<Figure size 432x288 with 1 Axes>"
      ]
     },
     "metadata": {
      "needs_background": "light"
     },
     "output_type": "display_data"
    }
   ],
   "source": [
    "plot_ngram(\n",
    "    mtgfin_df,\n",
    "    'alltext',\n",
    "    stoplist,\n",
    "    3,\n",
    "    3\n",
    ");"
   ]
  },
  {
   "cell_type": "markdown",
   "id": "572a0560",
   "metadata": {},
   "source": [
    "There are a lot of date based text in /r/mtgfinance, as well as online shops that are related specifically to this subreddit like 'cardkingdom' and 'tcgplayer'. Perhaps adding these into the stop words list will show a clearer picture."
   ]
  },
  {
   "cell_type": "code",
   "execution_count": 43,
   "id": "9be1cef0",
   "metadata": {},
   "outputs": [],
   "source": [
    "stoplist = text.ENGLISH_STOP_WORDS.union(\n",
    "    [\n",
    "        'lt',\n",
    "        'gt',\n",
    "        'tt',\n",
    "        'annotation',\n",
    "        'amp',\n",
    "        '000',\n",
    "        'catid',\n",
    "        '2021',\n",
    "        '21',\n",
    "        'tcgplayer',\n",
    "        'cardkingdom',\n",
    "        '99',\n",
    "        'dollar',\n",
    "        'today',\n",
    "        'copies',\n",
    "        'available',\n",
    "        'ck',\n",
    "        'kingdom',\n",
    "        'cards',\n",
    "        'card',\n",
    "        'magic'\n",
    "    ]\n",
    ")"
   ]
  },
  {
   "cell_type": "code",
   "execution_count": 44,
   "id": "42991f0c",
   "metadata": {},
   "outputs": [
    {
     "data": {
      "image/png": "[encoded data removed]",
      "text/plain": [
       "<Figure size 432x288 with 1 Axes>"
      ]
     },
     "metadata": {
      "needs_background": "light"
     },
     "output_type": "display_data"
    }
   ],
   "source": [
    "plot_ngram(\n",
    "    mtgfin_df,\n",
    "    'alltext',\n",
    "    stoplist,\n",
    "    2,\n",
    "    2\n",
    ");"
   ]
  },
  {
   "cell_type": "code",
   "execution_count": 45,
   "id": "36daa9ad",
   "metadata": {},
   "outputs": [
    {
     "data": {
      "image/png": "[encoded data removed]",
      "text/plain": [
       "<Figure size 432x288 with 1 Axes>"
      ]
     },
     "metadata": {
      "needs_background": "light"
     },
     "output_type": "display_data"
    }
   ],
   "source": [
    "plot_ngram(\n",
    "    mtgfin_df,\n",
    "    'alltext',\n",
    "    stoplist,\n",
    "    3,\n",
    "    3\n",
    ");"
   ]
  },
  {
   "cell_type": "markdown",
   "id": "c0d01a1b",
   "metadata": {},
   "source": [
    "Everything looks quite coherent now. \n",
    "\n",
    "Comparing the two subreddits, it seems that there are overlaps only in the unigrams. For example, unigrams commonly found in both subreddits are words like 'card' and 'cards'. Thus, I added these words to the stop list.\n",
    "\n",
    "Bigrams and trigrams, however, are quite different. \n",
    "\n",
    "Clearly, the /r/magicTCG subreddit is more interested in the new card set expansion 'Innistrad: Midnight Hunt', as well as the expansion's mechanics like 'day night' and deck building. The /r/mtgfinance subreddit however appears to be uninterested in the new set, and is much more interested in older sets that hold a higher value."
   ]
  },
  {
   "cell_type": "markdown",
   "id": "3622f608",
   "metadata": {},
   "source": [
    "## Data Modelling - Logistic Regression"
   ]
  },
  {
   "cell_type": "markdown",
   "id": "8b0dad46",
   "metadata": {},
   "source": [
    "We will label a post 1 if it originated in magicTCG, and 0 otherwise."
   ]
  },
  {
   "cell_type": "code",
   "execution_count": 46,
   "id": "a394a300",
   "metadata": {},
   "outputs": [],
   "source": [
    "# create label column\n",
    "tcg_df['label'] = 1\n",
    "mtgfin_df['label'] = 0"
   ]
  },
  {
   "cell_type": "code",
   "execution_count": 47,
   "id": "70acf725",
   "metadata": {},
   "outputs": [
    {
     "data": {
      "text/plain": [
       "(922, 5)"
      ]
     },
     "execution_count": 47,
     "metadata": {},
     "output_type": "execute_result"
    }
   ],
   "source": [
    "tcg_df.shape"
   ]
  },
  {
   "cell_type": "code",
   "execution_count": 48,
   "id": "a7151be7",
   "metadata": {},
   "outputs": [
    {
     "data": {
      "text/plain": [
       "(957, 5)"
      ]
     },
     "execution_count": 48,
     "metadata": {},
     "output_type": "execute_result"
    }
   ],
   "source": [
    "mtgfin_df.shape"
   ]
  },
  {
   "cell_type": "code",
   "execution_count": 49,
   "id": "8ba58dd8",
   "metadata": {},
   "outputs": [],
   "source": [
    "# merge dataframes\n",
    "final_df = pd.concat([tcg_df, mtgfin_df], axis=0).reset_index(drop=True)"
   ]
  },
  {
   "cell_type": "markdown",
   "id": "c582f9fc",
   "metadata": {},
   "source": [
    "### No Lemmatizing or Stemming - CVec Logistic Regression"
   ]
  },
  {
   "cell_type": "code",
   "execution_count": 50,
   "id": "a04203d1",
   "metadata": {},
   "outputs": [],
   "source": [
    "# using alltext first\n",
    "x = final_df['alltext'] # series because going to cvec\n",
    "y = final_df['label']\n",
    "\n",
    "# train test split\n",
    "x_train, x_test, y_train, y_test = train_test_split(\n",
    "    x,\n",
    "    y,\n",
    "    stratify=y,\n",
    "    random_state=42)"
   ]
  },
  {
   "cell_type": "code",
   "execution_count": 178,
   "id": "c5d8cce7",
   "metadata": {},
   "outputs": [
    {
     "data": {
      "text/plain": [
       "0    0.509581\n",
       "1    0.490419\n",
       "Name: label, dtype: float64"
      ]
     },
     "execution_count": 178,
     "metadata": {},
     "output_type": "execute_result"
    }
   ],
   "source": [
    "# baseline\n",
    "y_train.value_counts(normalize=True)"
   ]
  },
  {
   "cell_type": "code",
   "execution_count": 52,
   "id": "a94c9378",
   "metadata": {
    "scrolled": true
   },
   "outputs": [
    {
     "name": "stdout",
     "output_type": "stream",
     "text": [
      "Fitting 5 folds for each of 6 candidates, totalling 30 fits\n"
     ]
    }
   ],
   "source": [
    "logreg_cvec_pipe = Pipeline([\n",
    "    ('cvec', CountVectorizer(stop_words=stoplist)),\n",
    "    ('logreg', LogisticRegression(solver='lbfgs'))\n",
    "])\n",
    "\n",
    "logreg_cvec_pipe_params = {\n",
    "    'cvec__max_features': [None, 5000, 10000],\n",
    "    'cvec__ngram_range': [(1, 2), (1, 3)] # also tried (1, 1)\n",
    "}\n",
    "\n",
    "logreg_cvec_gs = GridSearchCV(\n",
    "    logreg_cvec_pipe,\n",
    "    logreg_cvec_pipe_params,\n",
    "    cv=5,\n",
    "    verbose=1\n",
    ")\n",
    "\n",
    "logreg_cvec_gs.fit(x_train, y_train);"
   ]
  },
  {
   "cell_type": "code",
   "execution_count": 53,
   "id": "fb177659",
   "metadata": {},
   "outputs": [
    {
     "data": {
      "text/plain": [
       "{'cvec__max_features': None, 'cvec__ngram_range': (1, 2)}"
      ]
     },
     "execution_count": 53,
     "metadata": {},
     "output_type": "execute_result"
    }
   ],
   "source": [
    "logreg_cvec_gs.best_params_"
   ]
  },
  {
   "cell_type": "code",
   "execution_count": 54,
   "id": "d78085d3",
   "metadata": {},
   "outputs": [
    {
     "data": {
      "text/plain": [
       "0.86230534312612"
      ]
     },
     "execution_count": 54,
     "metadata": {},
     "output_type": "execute_result"
    }
   ],
   "source": [
    "logreg_cvec_gs.best_score_"
   ]
  },
  {
   "cell_type": "code",
   "execution_count": 55,
   "id": "5af220dd",
   "metadata": {},
   "outputs": [
    {
     "name": "stdout",
     "output_type": "stream",
     "text": [
      "Accuracy = 0.8851063829787233\n",
      "Specificity = 0.8702928870292888\n",
      "Sensitivity/Recall = 0.9004329004329005\n",
      "Precision = 0.8702928870292888\n",
      "F1 score = 0.8851063829787235\n"
     ]
    },
    {
     "data": {
      "image/png": "[encoded data removed]",
      "text/plain": [
       "<Figure size 432x288 with 2 Axes>"
      ]
     },
     "metadata": {
      "needs_background": "light"
     },
     "output_type": "display_data"
    }
   ],
   "source": [
    "# get metrics and plot confusion matrix\n",
    "modelmetric(logreg_cvec_gs, x_test, y_test)"
   ]
  },
  {
   "cell_type": "code",
   "execution_count": 56,
   "id": "15083a06",
   "metadata": {},
   "outputs": [
    {
     "data": {
      "text/plain": [
       "(54, 3)"
      ]
     },
     "execution_count": 56,
     "metadata": {},
     "output_type": "execute_result"
    }
   ],
   "source": [
    "# get misclassified\n",
    "logreg_cvec_misclass = misclassified(logreg_cvec_gs, x_test, y_test)\n",
    "\n",
    "# check if is sum of fp and fn\n",
    "logreg_cvec_misclass.shape"
   ]
  },
  {
   "cell_type": "code",
   "execution_count": 57,
   "id": "dcb2b4e1",
   "metadata": {
    "scrolled": true
   },
   "outputs": [
    {
     "data": {
      "text/html": [
       "<div>\n",
       "<style scoped>\n",
       "    .dataframe tbody tr th:only-of-type {\n",
       "        vertical-align: middle;\n",
       "    }\n",
       "\n",
       "    .dataframe tbody tr th {\n",
       "        vertical-align: top;\n",
       "    }\n",
       "\n",
       "    .dataframe thead th {\n",
       "        text-align: right;\n",
       "    }\n",
       "</style>\n",
       "<table border=\"1\" class=\"dataframe\">\n",
       "  <thead>\n",
       "    <tr style=\"text-align: right;\">\n",
       "      <th></th>\n",
       "      <th>predicted</th>\n",
       "      <th>actual</th>\n",
       "      <th>text</th>\n",
       "    </tr>\n",
       "  </thead>\n",
       "  <tbody>\n",
       "    <tr>\n",
       "      <th>23</th>\n",
       "      <td>0</td>\n",
       "      <td>1</td>\n",
       "      <td>Following my previous analyses (my latest was ...</td>\n",
       "    </tr>\n",
       "    <tr>\n",
       "      <th>32</th>\n",
       "      <td>1</td>\n",
       "      <td>0</td>\n",
       "      <td>Hello to MTGFinance people everywhere!\\n\\nSome...</td>\n",
       "    </tr>\n",
       "    <tr>\n",
       "      <th>46</th>\n",
       "      <td>0</td>\n",
       "      <td>1</td>\n",
       "      <td>Hello,\\n\\nI've been playing for about 2-3 mont...</td>\n",
       "    </tr>\n",
       "    <tr>\n",
       "      <th>52</th>\n",
       "      <td>1</td>\n",
       "      <td>0</td>\n",
       "      <td>I have a gilded drake that is a close call bet...</td>\n",
       "    </tr>\n",
       "    <tr>\n",
       "      <th>54</th>\n",
       "      <td>1</td>\n",
       "      <td>0</td>\n",
       "      <td>I've been getting a  500-Internal server error...</td>\n",
       "    </tr>\n",
       "  </tbody>\n",
       "</table>\n",
       "</div>"
      ],
      "text/plain": [
       "    predicted  actual                                               text\n",
       "23          0       1  Following my previous analyses (my latest was ...\n",
       "32          1       0  Hello to MTGFinance people everywhere!\\n\\nSome...\n",
       "46          0       1  Hello,\\n\\nI've been playing for about 2-3 mont...\n",
       "52          1       0  I have a gilded drake that is a close call bet...\n",
       "54          1       0  I've been getting a  500-Internal server error..."
      ]
     },
     "execution_count": 57,
     "metadata": {},
     "output_type": "execute_result"
    }
   ],
   "source": [
    "logreg_cvec_misclass.head()"
   ]
  },
  {
   "cell_type": "code",
   "execution_count": 58,
   "id": "7c134e79",
   "metadata": {},
   "outputs": [
    {
     "data": {
      "image/png": "[encoded data removed]",
      "text/plain": [
       "<Figure size 432x288 with 1 Axes>"
      ]
     },
     "metadata": {
      "needs_background": "light"
     },
     "output_type": "display_data"
    }
   ],
   "source": [
    "# most commonly misclassified tokens\n",
    "plot_misclassified(logreg_cvec_misclass, 'text', stoplist, 1, 2);"
   ]
  },
  {
   "cell_type": "markdown",
   "id": "503996c9",
   "metadata": {},
   "source": [
    "The most commonly misclassified tokens make sense, as they are very generic words. The top 3 non-stopword-ish misclassified tokens, 'digital', 'new' and 'set' are also words that would fit very well into either subreddit.\n",
    "\n",
    "However, based on experience, the word 'box' should be more commonly associated with /r/mtgfinance and the word 'commander' should be more commonly associated with /r/magicTCG, and thus shouldn't be misclassified so often."
   ]
  },
  {
   "cell_type": "markdown",
   "id": "cd3ef18c",
   "metadata": {},
   "source": [
    "### No Lemmatizing or Stemming - TF-IDF Logistic Regression"
   ]
  },
  {
   "cell_type": "code",
   "execution_count": 59,
   "id": "f3850671",
   "metadata": {},
   "outputs": [
    {
     "name": "stdout",
     "output_type": "stream",
     "text": [
      "Fitting 5 folds for each of 6 candidates, totalling 30 fits\n"
     ]
    }
   ],
   "source": [
    "logreg_tfidf_pipe = Pipeline([\n",
    "    ('tvec', TfidfVectorizer(stop_words=stoplist)),\n",
    "    ('logreg', LogisticRegression(solver='lbfgs'))\n",
    "])\n",
    "\n",
    "logreg_tfidf_pipe_params = {\n",
    "    'tvec__max_features': [None, 10000, 15000], # also tried 5000\n",
    "    'tvec__ngram_range': [(1, 2), (1, 3)] # also tried (1, 1)\n",
    "}\n",
    "\n",
    "logreg_tfidf_gs = GridSearchCV(\n",
    "    logreg_tfidf_pipe,\n",
    "    logreg_tfidf_pipe_params,\n",
    "    cv=5,\n",
    "    verbose=1\n",
    ")\n",
    "\n",
    "logreg_tfidf_gs.fit(x_train, y_train);"
   ]
  },
  {
   "cell_type": "code",
   "execution_count": 60,
   "id": "4fae3982",
   "metadata": {},
   "outputs": [
    {
     "data": {
      "text/plain": [
       "{'tvec__max_features': 10000, 'tvec__ngram_range': (1, 2)}"
      ]
     },
     "execution_count": 60,
     "metadata": {},
     "output_type": "execute_result"
    }
   ],
   "source": [
    "logreg_tfidf_gs.best_params_"
   ]
  },
  {
   "cell_type": "code",
   "execution_count": 61,
   "id": "a8d98bc1",
   "metadata": {},
   "outputs": [
    {
     "data": {
      "text/plain": [
       "0.8750940157997021"
      ]
     },
     "execution_count": 61,
     "metadata": {},
     "output_type": "execute_result"
    }
   ],
   "source": [
    "logreg_tfidf_gs.best_score_"
   ]
  },
  {
   "cell_type": "code",
   "execution_count": 62,
   "id": "2330478a",
   "metadata": {},
   "outputs": [
    {
     "name": "stdout",
     "output_type": "stream",
     "text": [
      "Accuracy = 0.8978723404255319\n",
      "Specificity = 0.9037656903765691\n",
      "Sensitivity/Recall = 0.8917748917748918\n",
      "Precision = 0.8995633187772926\n",
      "F1 score = 0.8956521739130435\n"
     ]
    },
    {
     "data": {
      "image/png": "[encoded data removed]",
      "text/plain": [
       "<Figure size 432x288 with 2 Axes>"
      ]
     },
     "metadata": {
      "needs_background": "light"
     },
     "output_type": "display_data"
    }
   ],
   "source": [
    "# get metrics and plot confusion matrix\n",
    "modelmetric(logreg_tfidf_gs, x_test, y_test)"
   ]
  },
  {
   "cell_type": "code",
   "execution_count": 63,
   "id": "68044181",
   "metadata": {},
   "outputs": [],
   "source": [
    "# get misclassified\n",
    "logreg_tfidf_misclass = misclassified(logreg_tfidf_gs, x_test, y_test)"
   ]
  },
  {
   "cell_type": "code",
   "execution_count": 64,
   "id": "a947ea93",
   "metadata": {},
   "outputs": [
    {
     "data": {
      "text/plain": [
       "(48, 3)"
      ]
     },
     "execution_count": 64,
     "metadata": {},
     "output_type": "execute_result"
    }
   ],
   "source": [
    "# check if is sum of fp and fn\n",
    "logreg_tfidf_misclass.shape"
   ]
  },
  {
   "cell_type": "code",
   "execution_count": 65,
   "id": "0a69c3c8",
   "metadata": {},
   "outputs": [
    {
     "data": {
      "text/html": [
       "<div>\n",
       "<style scoped>\n",
       "    .dataframe tbody tr th:only-of-type {\n",
       "        vertical-align: middle;\n",
       "    }\n",
       "\n",
       "    .dataframe tbody tr th {\n",
       "        vertical-align: top;\n",
       "    }\n",
       "\n",
       "    .dataframe thead th {\n",
       "        text-align: right;\n",
       "    }\n",
       "</style>\n",
       "<table border=\"1\" class=\"dataframe\">\n",
       "  <thead>\n",
       "    <tr style=\"text-align: right;\">\n",
       "      <th></th>\n",
       "      <th>predicted</th>\n",
       "      <th>actual</th>\n",
       "      <th>text</th>\n",
       "    </tr>\n",
       "  </thead>\n",
       "  <tbody>\n",
       "    <tr>\n",
       "      <th>23</th>\n",
       "      <td>0</td>\n",
       "      <td>1</td>\n",
       "      <td>Following my previous analyses (my latest was ...</td>\n",
       "    </tr>\n",
       "    <tr>\n",
       "      <th>32</th>\n",
       "      <td>1</td>\n",
       "      <td>0</td>\n",
       "      <td>Hello to MTGFinance people everywhere!\\n\\nSome...</td>\n",
       "    </tr>\n",
       "    <tr>\n",
       "      <th>46</th>\n",
       "      <td>0</td>\n",
       "      <td>1</td>\n",
       "      <td>Hello,\\n\\nI've been playing for about 2-3 mont...</td>\n",
       "    </tr>\n",
       "    <tr>\n",
       "      <th>52</th>\n",
       "      <td>1</td>\n",
       "      <td>0</td>\n",
       "      <td>I have a gilded drake that is a close call bet...</td>\n",
       "    </tr>\n",
       "    <tr>\n",
       "      <th>54</th>\n",
       "      <td>1</td>\n",
       "      <td>0</td>\n",
       "      <td>I've been getting a  500-Internal server error...</td>\n",
       "    </tr>\n",
       "  </tbody>\n",
       "</table>\n",
       "</div>"
      ],
      "text/plain": [
       "    predicted  actual                                               text\n",
       "23          0       1  Following my previous analyses (my latest was ...\n",
       "32          1       0  Hello to MTGFinance people everywhere!\\n\\nSome...\n",
       "46          0       1  Hello,\\n\\nI've been playing for about 2-3 mont...\n",
       "52          1       0  I have a gilded drake that is a close call bet...\n",
       "54          1       0  I've been getting a  500-Internal server error..."
      ]
     },
     "execution_count": 65,
     "metadata": {},
     "output_type": "execute_result"
    }
   ],
   "source": [
    "logreg_tfidf_misclass.head()"
   ]
  },
  {
   "cell_type": "code",
   "execution_count": 66,
   "id": "edeff855",
   "metadata": {
    "scrolled": false
   },
   "outputs": [
    {
     "data": {
      "image/png": "[encoded data removed]",
      "text/plain": [
       "<Figure size 432x288 with 1 Axes>"
      ]
     },
     "metadata": {
      "needs_background": "light"
     },
     "output_type": "display_data"
    }
   ],
   "source": [
    "# most commonly misclassified tokens\n",
    "plot_misclassified(logreg_tfidf_misclass, 'text', stoplist, 1, 2);"
   ]
  },
  {
   "cell_type": "markdown",
   "id": "51b9abab",
   "metadata": {},
   "source": [
    "Again, the most commonly misclassified tokens, 'digital' and 'wotc' are generic words that can fit into either subreddit. Interestingly, 'new' and 'set' are much more likely to be misclassified now."
   ]
  },
  {
   "cell_type": "markdown",
   "id": "c38b3646",
   "metadata": {},
   "source": [
    "### Lemmatized - Cvec Logistic Regression"
   ]
  },
  {
   "cell_type": "code",
   "execution_count": 67,
   "id": "22c86d20",
   "metadata": {},
   "outputs": [],
   "source": [
    "# joining into single string\n",
    "final_df['lemmatized'] = final_df['lemmatized'].apply(lambda x: ' '.join(x))"
   ]
  },
  {
   "cell_type": "code",
   "execution_count": 68,
   "id": "6d3bbfb1",
   "metadata": {},
   "outputs": [],
   "source": [
    "# using lemmatized now\n",
    "x_lemm = final_df['lemmatized'] # series because going to cvec\n",
    "y = final_df['label']\n",
    "\n",
    "# train test split\n",
    "x_lemm_train, x_lemm_test, y_train, y_test = train_test_split(\n",
    "    x_lemm,\n",
    "    y,\n",
    "    stratify=y,\n",
    "    random_state=42)"
   ]
  },
  {
   "cell_type": "code",
   "execution_count": 69,
   "id": "bdc77f38",
   "metadata": {},
   "outputs": [
    {
     "name": "stdout",
     "output_type": "stream",
     "text": [
      "Fitting 5 folds for each of 6 candidates, totalling 30 fits\n"
     ]
    }
   ],
   "source": [
    "logreg_lemmatized_pipe = Pipeline([\n",
    "    ('cvec', CountVectorizer(stop_words=stoplist)),\n",
    "    ('logreg', LogisticRegression(solver='lbfgs'))\n",
    "])\n",
    "\n",
    "logreg_lemmatized_pipe_params = {\n",
    "    'cvec__max_features': [None, 5000, 10000],\n",
    "    'cvec__ngram_range': [(1, 2), (1, 3)] # also tried (1, 1)\n",
    "}\n",
    "\n",
    "logreg_lemmatized_gs = GridSearchCV(\n",
    "    logreg_lemmatized_pipe,\n",
    "    logreg_lemmatized_pipe_params,\n",
    "    cv=5,\n",
    "    verbose=1\n",
    ")\n",
    "\n",
    "logreg_lemmatized_gs.fit(x_lemm_train, y_train);"
   ]
  },
  {
   "cell_type": "code",
   "execution_count": 70,
   "id": "f1b6d174",
   "metadata": {},
   "outputs": [
    {
     "data": {
      "text/plain": [
       "{'cvec__max_features': None, 'cvec__ngram_range': (1, 2)}"
      ]
     },
     "execution_count": 70,
     "metadata": {},
     "output_type": "execute_result"
    }
   ],
   "source": [
    "logreg_lemmatized_gs.best_params_"
   ]
  },
  {
   "cell_type": "code",
   "execution_count": 71,
   "id": "f39a45b3",
   "metadata": {},
   "outputs": [
    {
     "data": {
      "text/plain": [
       "0.8630196108124479"
      ]
     },
     "execution_count": 71,
     "metadata": {},
     "output_type": "execute_result"
    }
   ],
   "source": [
    "logreg_lemmatized_gs.best_score_"
   ]
  },
  {
   "cell_type": "code",
   "execution_count": 72,
   "id": "dd2500f7",
   "metadata": {
    "scrolled": false
   },
   "outputs": [
    {
     "name": "stdout",
     "output_type": "stream",
     "text": [
      "Accuracy = 0.9085106382978724\n",
      "Specificity = 0.8828451882845189\n",
      "Sensitivity/Recall = 0.935064935064935\n",
      "Precision = 0.8852459016393442\n",
      "F1 score = 0.9094736842105262\n"
     ]
    },
    {
     "data": {
      "image/png": "[encoded data removed]",
      "text/plain": [
       "<Figure size 432x288 with 2 Axes>"
      ]
     },
     "metadata": {
      "needs_background": "light"
     },
     "output_type": "display_data"
    }
   ],
   "source": [
    "# get metrics and plot confusion matrix\n",
    "modelmetric(logreg_lemmatized_gs, x_lemm_test, y_test)"
   ]
  },
  {
   "cell_type": "code",
   "execution_count": 73,
   "id": "b2a0efdc",
   "metadata": {},
   "outputs": [],
   "source": [
    "# get misclassified\n",
    "logreg_lemmatized_misclass = misclassified(logreg_lemmatized_gs, x_lemm_test, y_test)"
   ]
  },
  {
   "cell_type": "code",
   "execution_count": 74,
   "id": "b14e185d",
   "metadata": {},
   "outputs": [
    {
     "data": {
      "text/plain": [
       "(43, 3)"
      ]
     },
     "execution_count": 74,
     "metadata": {},
     "output_type": "execute_result"
    }
   ],
   "source": [
    "# check if is sum of fp and fn\n",
    "logreg_lemmatized_misclass.shape"
   ]
  },
  {
   "cell_type": "code",
   "execution_count": 75,
   "id": "b628e25d",
   "metadata": {},
   "outputs": [
    {
     "data": {
      "text/html": [
       "<div>\n",
       "<style scoped>\n",
       "    .dataframe tbody tr th:only-of-type {\n",
       "        vertical-align: middle;\n",
       "    }\n",
       "\n",
       "    .dataframe tbody tr th {\n",
       "        vertical-align: top;\n",
       "    }\n",
       "\n",
       "    .dataframe thead th {\n",
       "        text-align: right;\n",
       "    }\n",
       "</style>\n",
       "<table border=\"1\" class=\"dataframe\">\n",
       "  <thead>\n",
       "    <tr style=\"text-align: right;\">\n",
       "      <th></th>\n",
       "      <th>predicted</th>\n",
       "      <th>actual</th>\n",
       "      <th>text</th>\n",
       "    </tr>\n",
       "  </thead>\n",
       "  <tbody>\n",
       "    <tr>\n",
       "      <th>23</th>\n",
       "      <td>0</td>\n",
       "      <td>1</td>\n",
       "      <td>following my previous analysis my latest wa st...</td>\n",
       "    </tr>\n",
       "    <tr>\n",
       "      <th>32</th>\n",
       "      <td>1</td>\n",
       "      <td>0</td>\n",
       "      <td>hello to mtgfinance people everywhere some of ...</td>\n",
       "    </tr>\n",
       "    <tr>\n",
       "      <th>46</th>\n",
       "      <td>0</td>\n",
       "      <td>1</td>\n",
       "      <td>hello i ve been playing for about 2 3 month an...</td>\n",
       "    </tr>\n",
       "    <tr>\n",
       "      <th>52</th>\n",
       "      <td>1</td>\n",
       "      <td>0</td>\n",
       "      <td>i have a gilded drake that is a close call bet...</td>\n",
       "    </tr>\n",
       "    <tr>\n",
       "      <th>54</th>\n",
       "      <td>1</td>\n",
       "      <td>0</td>\n",
       "      <td>i ve been getting a 500 internal server error ...</td>\n",
       "    </tr>\n",
       "  </tbody>\n",
       "</table>\n",
       "</div>"
      ],
      "text/plain": [
       "    predicted  actual                                               text\n",
       "23          0       1  following my previous analysis my latest wa st...\n",
       "32          1       0  hello to mtgfinance people everywhere some of ...\n",
       "46          0       1  hello i ve been playing for about 2 3 month an...\n",
       "52          1       0  i have a gilded drake that is a close call bet...\n",
       "54          1       0  i ve been getting a 500 internal server error ..."
      ]
     },
     "execution_count": 75,
     "metadata": {},
     "output_type": "execute_result"
    }
   ],
   "source": [
    "logreg_lemmatized_misclass.head()"
   ]
  },
  {
   "cell_type": "code",
   "execution_count": 76,
   "id": "d48dac27",
   "metadata": {
    "scrolled": true
   },
   "outputs": [
    {
     "data": {
      "image/png": "[encoded data removed]",
      "text/plain": [
       "<Figure size 432x288 with 1 Axes>"
      ]
     },
     "metadata": {
      "needs_background": "light"
     },
     "output_type": "display_data"
    }
   ],
   "source": [
    "# most commonly misclassified tokens\n",
    "plot_misclassified(logreg_lemmatized_misclass, 'text', stoplist, 1, 2);"
   ]
  },
  {
   "cell_type": "markdown",
   "id": "afbf0446",
   "metadata": {},
   "source": [
    "Because of the lemmatization, there are now nonsensical words like 'wa' and 'ha' in the top misclassified tokens. The words 'set' and 'digital' are still leading the misclassification charts. Perhaps adding these 2 to the list of stop words will change something. We will explore this later."
   ]
  },
  {
   "cell_type": "markdown",
   "id": "6d4a18e4",
   "metadata": {},
   "source": [
    "### Lemmatized - TF-IDF Logistic Regression"
   ]
  },
  {
   "cell_type": "code",
   "execution_count": 77,
   "id": "5e056e1e",
   "metadata": {},
   "outputs": [
    {
     "name": "stdout",
     "output_type": "stream",
     "text": [
      "Fitting 5 folds for each of 6 candidates, totalling 30 fits\n"
     ]
    }
   ],
   "source": [
    "logreg_lemmatized_tfidf_pipe = Pipeline([\n",
    "    ('tvec', TfidfVectorizer(stop_words=stoplist)),\n",
    "    ('logreg', LogisticRegression(solver='lbfgs'))\n",
    "])\n",
    "\n",
    "logreg_lemmatized_tfidf_pipe_params = {\n",
    "    'tvec__max_features': [None, 5000, 10000],\n",
    "    'tvec__ngram_range': [(1, 2), (1, 3)] # also tried (1, 1)\n",
    "}\n",
    "\n",
    "logreg_lemmatized_tfidf_gs = GridSearchCV(\n",
    "    logreg_lemmatized_tfidf_pipe,\n",
    "    logreg_lemmatized_tfidf_pipe_params,\n",
    "    cv=5,\n",
    "    verbose=1\n",
    ")\n",
    "\n",
    "logreg_lemmatized_tfidf_gs.fit(x_lemm_train, y_train);"
   ]
  },
  {
   "cell_type": "code",
   "execution_count": 78,
   "id": "956e91f5",
   "metadata": {},
   "outputs": [
    {
     "data": {
      "text/plain": [
       "{'tvec__max_features': 5000, 'tvec__ngram_range': (1, 2)}"
      ]
     },
     "execution_count": 78,
     "metadata": {},
     "output_type": "execute_result"
    }
   ],
   "source": [
    "logreg_lemmatized_tfidf_gs.best_params_"
   ]
  },
  {
   "cell_type": "code",
   "execution_count": 79,
   "id": "02c9191d",
   "metadata": {},
   "outputs": [
    {
     "data": {
      "text/plain": [
       "0.8758007117437723"
      ]
     },
     "execution_count": 79,
     "metadata": {},
     "output_type": "execute_result"
    }
   ],
   "source": [
    "logreg_lemmatized_tfidf_gs.best_score_"
   ]
  },
  {
   "cell_type": "code",
   "execution_count": 80,
   "id": "a88435a1",
   "metadata": {},
   "outputs": [
    {
     "name": "stdout",
     "output_type": "stream",
     "text": [
      "Accuracy = 0.9042553191489362\n",
      "Specificity = 0.9037656903765691\n",
      "Sensitivity/Recall = 0.9047619047619048\n",
      "Precision = 0.9008620689655172\n",
      "F1 score = 0.9028077753779697\n"
     ]
    },
    {
     "data": {
      "image/png": "[encoded data removed]",
      "text/plain": [
       "<Figure size 432x288 with 2 Axes>"
      ]
     },
     "metadata": {
      "needs_background": "light"
     },
     "output_type": "display_data"
    }
   ],
   "source": [
    "# get metrics and plot confusion matrix\n",
    "modelmetric(logreg_lemmatized_tfidf_gs, x_lemm_test, y_test)"
   ]
  },
  {
   "cell_type": "code",
   "execution_count": 81,
   "id": "ecdc3dd3",
   "metadata": {},
   "outputs": [],
   "source": [
    "# get misclassified\n",
    "logreg_lemmatized_tfidf_misclass = misclassified(logreg_lemmatized_tfidf_gs, x_lemm_test, y_test)"
   ]
  },
  {
   "cell_type": "code",
   "execution_count": 82,
   "id": "0c8f21a0",
   "metadata": {},
   "outputs": [
    {
     "data": {
      "text/plain": [
       "(45, 3)"
      ]
     },
     "execution_count": 82,
     "metadata": {},
     "output_type": "execute_result"
    }
   ],
   "source": [
    "# check if is sum of fp and fn\n",
    "logreg_lemmatized_tfidf_misclass.shape"
   ]
  },
  {
   "cell_type": "code",
   "execution_count": 83,
   "id": "ed21bb6b",
   "metadata": {},
   "outputs": [
    {
     "data": {
      "text/html": [
       "<div>\n",
       "<style scoped>\n",
       "    .dataframe tbody tr th:only-of-type {\n",
       "        vertical-align: middle;\n",
       "    }\n",
       "\n",
       "    .dataframe tbody tr th {\n",
       "        vertical-align: top;\n",
       "    }\n",
       "\n",
       "    .dataframe thead th {\n",
       "        text-align: right;\n",
       "    }\n",
       "</style>\n",
       "<table border=\"1\" class=\"dataframe\">\n",
       "  <thead>\n",
       "    <tr style=\"text-align: right;\">\n",
       "      <th></th>\n",
       "      <th>predicted</th>\n",
       "      <th>actual</th>\n",
       "      <th>text</th>\n",
       "    </tr>\n",
       "  </thead>\n",
       "  <tbody>\n",
       "    <tr>\n",
       "      <th>23</th>\n",
       "      <td>0</td>\n",
       "      <td>1</td>\n",
       "      <td>following my previous analysis my latest wa st...</td>\n",
       "    </tr>\n",
       "    <tr>\n",
       "      <th>32</th>\n",
       "      <td>1</td>\n",
       "      <td>0</td>\n",
       "      <td>hello to mtgfinance people everywhere some of ...</td>\n",
       "    </tr>\n",
       "    <tr>\n",
       "      <th>46</th>\n",
       "      <td>0</td>\n",
       "      <td>1</td>\n",
       "      <td>hello i ve been playing for about 2 3 month an...</td>\n",
       "    </tr>\n",
       "    <tr>\n",
       "      <th>52</th>\n",
       "      <td>1</td>\n",
       "      <td>0</td>\n",
       "      <td>i have a gilded drake that is a close call bet...</td>\n",
       "    </tr>\n",
       "    <tr>\n",
       "      <th>54</th>\n",
       "      <td>1</td>\n",
       "      <td>0</td>\n",
       "      <td>i ve been getting a 500 internal server error ...</td>\n",
       "    </tr>\n",
       "  </tbody>\n",
       "</table>\n",
       "</div>"
      ],
      "text/plain": [
       "    predicted  actual                                               text\n",
       "23          0       1  following my previous analysis my latest wa st...\n",
       "32          1       0  hello to mtgfinance people everywhere some of ...\n",
       "46          0       1  hello i ve been playing for about 2 3 month an...\n",
       "52          1       0  i have a gilded drake that is a close call bet...\n",
       "54          1       0  i ve been getting a 500 internal server error ..."
      ]
     },
     "execution_count": 83,
     "metadata": {},
     "output_type": "execute_result"
    }
   ],
   "source": [
    "logreg_lemmatized_tfidf_misclass.head()"
   ]
  },
  {
   "cell_type": "code",
   "execution_count": 84,
   "id": "693d71d9",
   "metadata": {
    "scrolled": false
   },
   "outputs": [
    {
     "data": {
      "image/png": "[encoded data removed]",
      "text/plain": [
       "<Figure size 432x288 with 1 Axes>"
      ]
     },
     "metadata": {
      "needs_background": "light"
     },
     "output_type": "display_data"
    }
   ],
   "source": [
    "# most commonly misclassified tokens\n",
    "plot_misclassified(logreg_lemmatized_tfidf_misclass, 'text', stoplist, 1, 2);"
   ]
  },
  {
   "cell_type": "markdown",
   "id": "ac8598bb",
   "metadata": {},
   "source": [
    "Interestingly, TFIDF had had way more subreddit specific words misclassified than Cvec. Besides 'like', 'just', 'wa' and 'ha', the top 16 misclassified tokens are all subreddit specific."
   ]
  },
  {
   "cell_type": "markdown",
   "id": "a53d4dc5",
   "metadata": {},
   "source": [
    "### Stemmed - Cvec Logistic Regression"
   ]
  },
  {
   "cell_type": "code",
   "execution_count": 85,
   "id": "ab5a7691",
   "metadata": {},
   "outputs": [],
   "source": [
    "# joining into single string\n",
    "final_df['stemmed'] = final_df['stemmed'].apply(lambda x: ' '.join(x))"
   ]
  },
  {
   "cell_type": "code",
   "execution_count": 86,
   "id": "c2a3c271",
   "metadata": {},
   "outputs": [],
   "source": [
    "# using stemmed now\n",
    "x_stem = final_df['stemmed'] # series because going to cvec\n",
    "y = final_df['label']\n",
    "\n",
    "# train test split\n",
    "x_stem_train, x_stem_test, y_train, y_test = train_test_split(\n",
    "    x_stem,\n",
    "    y,\n",
    "    stratify=y,\n",
    "    random_state=42)"
   ]
  },
  {
   "cell_type": "code",
   "execution_count": 87,
   "id": "c1713b8c",
   "metadata": {},
   "outputs": [
    {
     "name": "stdout",
     "output_type": "stream",
     "text": [
      "Fitting 5 folds for each of 6 candidates, totalling 30 fits\n"
     ]
    }
   ],
   "source": [
    "logreg_stemmed_pipe = Pipeline([\n",
    "    ('cvec', CountVectorizer(stop_words=stoplist)),\n",
    "    ('logreg', LogisticRegression(solver='lbfgs'))\n",
    "])\n",
    "\n",
    "logreg_stemmed_pipe_params = {\n",
    "    'cvec__max_features': [None, 5000, 10000], # also tried 15000\n",
    "    'cvec__ngram_range': [(1, 2), (1, 3)] # also tried (1, 1)\n",
    "}\n",
    "\n",
    "logreg_stemmed_gs = GridSearchCV(\n",
    "    logreg_stemmed_pipe,\n",
    "    logreg_stemmed_pipe_params,\n",
    "    cv=5,\n",
    "    verbose=1\n",
    ")\n",
    "\n",
    "logreg_stemmed_gs.fit(x_stem_train, y_train);"
   ]
  },
  {
   "cell_type": "code",
   "execution_count": 88,
   "id": "3bd699ce",
   "metadata": {},
   "outputs": [
    {
     "data": {
      "text/plain": [
       "{'cvec__max_features': None, 'cvec__ngram_range': (1, 3)}"
      ]
     },
     "execution_count": 88,
     "metadata": {},
     "output_type": "execute_result"
    }
   ],
   "source": [
    "logreg_stemmed_gs.best_params_"
   ]
  },
  {
   "cell_type": "code",
   "execution_count": 89,
   "id": "dad4716a",
   "metadata": {},
   "outputs": [
    {
     "data": {
      "text/plain": [
       "0.8630297064687917"
      ]
     },
     "execution_count": 89,
     "metadata": {},
     "output_type": "execute_result"
    }
   ],
   "source": [
    "logreg_stemmed_gs.best_score_"
   ]
  },
  {
   "cell_type": "code",
   "execution_count": 90,
   "id": "d7cb21f6",
   "metadata": {},
   "outputs": [
    {
     "name": "stdout",
     "output_type": "stream",
     "text": [
      "Accuracy = 0.9063829787234042\n",
      "Specificity = 0.8870292887029289\n",
      "Sensitivity/Recall = 0.9264069264069265\n",
      "Precision = 0.8879668049792531\n",
      "F1 score = 0.9067796610169492\n"
     ]
    },
    {
     "data": {
      "image/png": "[encoded data removed]",
      "text/plain": [
       "<Figure size 432x288 with 2 Axes>"
      ]
     },
     "metadata": {
      "needs_background": "light"
     },
     "output_type": "display_data"
    }
   ],
   "source": [
    "# get metrics and plot confusion matrix\n",
    "modelmetric(logreg_stemmed_gs, x_stem_test, y_test)"
   ]
  },
  {
   "cell_type": "code",
   "execution_count": 91,
   "id": "81ca4ed6",
   "metadata": {},
   "outputs": [],
   "source": [
    "# get misclassified\n",
    "logreg_stemmed_misclass = misclassified(logreg_stemmed_gs, x_stem_test, y_test)"
   ]
  },
  {
   "cell_type": "code",
   "execution_count": 92,
   "id": "5882d415",
   "metadata": {},
   "outputs": [
    {
     "data": {
      "text/plain": [
       "(44, 3)"
      ]
     },
     "execution_count": 92,
     "metadata": {},
     "output_type": "execute_result"
    }
   ],
   "source": [
    "# check if is sum of fp and fn\n",
    "logreg_stemmed_misclass.shape"
   ]
  },
  {
   "cell_type": "code",
   "execution_count": 93,
   "id": "676507e3",
   "metadata": {},
   "outputs": [
    {
     "data": {
      "text/html": [
       "<div>\n",
       "<style scoped>\n",
       "    .dataframe tbody tr th:only-of-type {\n",
       "        vertical-align: middle;\n",
       "    }\n",
       "\n",
       "    .dataframe tbody tr th {\n",
       "        vertical-align: top;\n",
       "    }\n",
       "\n",
       "    .dataframe thead th {\n",
       "        text-align: right;\n",
       "    }\n",
       "</style>\n",
       "<table border=\"1\" class=\"dataframe\">\n",
       "  <thead>\n",
       "    <tr style=\"text-align: right;\">\n",
       "      <th></th>\n",
       "      <th>predicted</th>\n",
       "      <th>actual</th>\n",
       "      <th>text</th>\n",
       "    </tr>\n",
       "  </thead>\n",
       "  <tbody>\n",
       "    <tr>\n",
       "      <th>23</th>\n",
       "      <td>0</td>\n",
       "      <td>1</td>\n",
       "      <td>follow my previou analys my latest wa strixhav...</td>\n",
       "    </tr>\n",
       "    <tr>\n",
       "      <th>32</th>\n",
       "      <td>1</td>\n",
       "      <td>0</td>\n",
       "      <td>hello to mtgfinanc peopl everywher some of you...</td>\n",
       "    </tr>\n",
       "    <tr>\n",
       "      <th>46</th>\n",
       "      <td>0</td>\n",
       "      <td>1</td>\n",
       "      <td>hello i ve been play for about 2 3 month and s...</td>\n",
       "    </tr>\n",
       "    <tr>\n",
       "      <th>52</th>\n",
       "      <td>1</td>\n",
       "      <td>0</td>\n",
       "      <td>i have a gild drake that is a close call betwe...</td>\n",
       "    </tr>\n",
       "    <tr>\n",
       "      <th>54</th>\n",
       "      <td>1</td>\n",
       "      <td>0</td>\n",
       "      <td>i ve been get a 500 intern server error all da...</td>\n",
       "    </tr>\n",
       "  </tbody>\n",
       "</table>\n",
       "</div>"
      ],
      "text/plain": [
       "    predicted  actual                                               text\n",
       "23          0       1  follow my previou analys my latest wa strixhav...\n",
       "32          1       0  hello to mtgfinanc peopl everywher some of you...\n",
       "46          0       1  hello i ve been play for about 2 3 month and s...\n",
       "52          1       0  i have a gild drake that is a close call betwe...\n",
       "54          1       0  i ve been get a 500 intern server error all da..."
      ]
     },
     "execution_count": 93,
     "metadata": {},
     "output_type": "execute_result"
    }
   ],
   "source": [
    "logreg_stemmed_misclass.head()"
   ]
  },
  {
   "cell_type": "code",
   "execution_count": 94,
   "id": "9276fb3a",
   "metadata": {
    "scrolled": true
   },
   "outputs": [
    {
     "data": {
      "image/png": "[encoded data removed]",
      "text/plain": [
       "<Figure size 432x288 with 1 Axes>"
      ]
     },
     "metadata": {
      "needs_background": "light"
     },
     "output_type": "display_data"
    }
   ],
   "source": [
    "# most commonly misclassified tokens\n",
    "plot_misclassified(logreg_stemmed_misclass, 'text', stoplist, 1, 3);"
   ]
  },
  {
   "cell_type": "markdown",
   "id": "c11b0344",
   "metadata": {},
   "source": [
    "As stemming is a cruder form of lemmatization, the list of misclassified tokens make even less sense. For some reason, this doesn't change the misclassification of the words 'digital' (now stemmed to 'digit') and 'set', but introduces the word 'play' and 'thi' to be the most misclassified instead.\n",
    "\n",
    "Having said that, the number of misclassified posts is actually LESS than the lemmatized model."
   ]
  },
  {
   "cell_type": "markdown",
   "id": "ae582ddb",
   "metadata": {},
   "source": [
    "### Stemmed - TF-IDF Logistic Regression"
   ]
  },
  {
   "cell_type": "code",
   "execution_count": 95,
   "id": "87e7ca8a",
   "metadata": {},
   "outputs": [
    {
     "name": "stdout",
     "output_type": "stream",
     "text": [
      "Fitting 5 folds for each of 12 candidates, totalling 60 fits\n"
     ]
    }
   ],
   "source": [
    "logreg_stemmed_tfidf_pipe = Pipeline([\n",
    "    ('tvec', TfidfVectorizer(stop_words=stoplist)),\n",
    "    ('logreg', LogisticRegression(solver='lbfgs'))\n",
    "])\n",
    "\n",
    "logreg_stemmed_tfidf_pipe_params = {\n",
    "    'tvec__max_features': [None, 5000, 10000, 15000], \n",
    "    'tvec__ngram_range': [(1, 1), (1, 2), (1, 3)]\n",
    "}\n",
    "\n",
    "logreg_stemmed_tfidf_gs = GridSearchCV(\n",
    "    logreg_stemmed_tfidf_pipe,\n",
    "    logreg_stemmed_tfidf_pipe_params,\n",
    "    cv=5,\n",
    "    verbose=1\n",
    ")\n",
    "\n",
    "logreg_stemmed_tfidf_gs.fit(x_stem_train, y_train);"
   ]
  },
  {
   "cell_type": "code",
   "execution_count": 96,
   "id": "4244b84e",
   "metadata": {},
   "outputs": [
    {
     "data": {
      "text/plain": [
       "{'tvec__max_features': 5000, 'tvec__ngram_range': (1, 1)}"
      ]
     },
     "execution_count": 96,
     "metadata": {},
     "output_type": "execute_result"
    }
   ],
   "source": [
    "logreg_stemmed_tfidf_gs.best_params_"
   ]
  },
  {
   "cell_type": "code",
   "execution_count": 97,
   "id": "a0d0a702",
   "metadata": {},
   "outputs": [
    {
     "data": {
      "text/plain": [
       "0.8807677746649503"
      ]
     },
     "execution_count": 97,
     "metadata": {},
     "output_type": "execute_result"
    }
   ],
   "source": [
    "logreg_stemmed_tfidf_gs.best_score_"
   ]
  },
  {
   "cell_type": "code",
   "execution_count": 98,
   "id": "ed97eb81",
   "metadata": {
    "scrolled": false
   },
   "outputs": [
    {
     "name": "stdout",
     "output_type": "stream",
     "text": [
      "Accuracy = 0.9106382978723404\n",
      "Specificity = 0.9121338912133892\n",
      "Sensitivity/Recall = 0.9090909090909091\n",
      "Precision = 0.9090909090909091\n",
      "F1 score = 0.9090909090909091\n"
     ]
    },
    {
     "data": {
      "image/png": "[encoded data removed]",
      "text/plain": [
       "<Figure size 432x288 with 2 Axes>"
      ]
     },
     "metadata": {
      "needs_background": "light"
     },
     "output_type": "display_data"
    }
   ],
   "source": [
    "# get metrics and plot confusion matrix\n",
    "modelmetric(logreg_stemmed_tfidf_gs, x_stem_test, y_test)"
   ]
  },
  {
   "cell_type": "code",
   "execution_count": 99,
   "id": "cb67d3d6",
   "metadata": {},
   "outputs": [],
   "source": [
    "# get misclassified\n",
    "logreg_stemmed_tfidf_misclass = misclassified(logreg_stemmed_tfidf_gs, x_stem_test, y_test)"
   ]
  },
  {
   "cell_type": "code",
   "execution_count": 100,
   "id": "a2d6a9e5",
   "metadata": {},
   "outputs": [
    {
     "data": {
      "text/plain": [
       "(42, 3)"
      ]
     },
     "execution_count": 100,
     "metadata": {},
     "output_type": "execute_result"
    }
   ],
   "source": [
    "# check if is sum of fp and fn\n",
    "logreg_stemmed_tfidf_misclass.shape"
   ]
  },
  {
   "cell_type": "code",
   "execution_count": 101,
   "id": "1858c759",
   "metadata": {},
   "outputs": [
    {
     "data": {
      "text/html": [
       "<div>\n",
       "<style scoped>\n",
       "    .dataframe tbody tr th:only-of-type {\n",
       "        vertical-align: middle;\n",
       "    }\n",
       "\n",
       "    .dataframe tbody tr th {\n",
       "        vertical-align: top;\n",
       "    }\n",
       "\n",
       "    .dataframe thead th {\n",
       "        text-align: right;\n",
       "    }\n",
       "</style>\n",
       "<table border=\"1\" class=\"dataframe\">\n",
       "  <thead>\n",
       "    <tr style=\"text-align: right;\">\n",
       "      <th></th>\n",
       "      <th>predicted</th>\n",
       "      <th>actual</th>\n",
       "      <th>text</th>\n",
       "    </tr>\n",
       "  </thead>\n",
       "  <tbody>\n",
       "    <tr>\n",
       "      <th>23</th>\n",
       "      <td>0</td>\n",
       "      <td>1</td>\n",
       "      <td>follow my previou analys my latest wa strixhav...</td>\n",
       "    </tr>\n",
       "    <tr>\n",
       "      <th>32</th>\n",
       "      <td>1</td>\n",
       "      <td>0</td>\n",
       "      <td>hello to mtgfinanc peopl everywher some of you...</td>\n",
       "    </tr>\n",
       "    <tr>\n",
       "      <th>42</th>\n",
       "      <td>1</td>\n",
       "      <td>0</td>\n",
       "      <td>i just got my first arabian night card and i w...</td>\n",
       "    </tr>\n",
       "    <tr>\n",
       "      <th>46</th>\n",
       "      <td>0</td>\n",
       "      <td>1</td>\n",
       "      <td>hello i ve been play for about 2 3 month and s...</td>\n",
       "    </tr>\n",
       "    <tr>\n",
       "      <th>52</th>\n",
       "      <td>1</td>\n",
       "      <td>0</td>\n",
       "      <td>i have a gild drake that is a close call betwe...</td>\n",
       "    </tr>\n",
       "  </tbody>\n",
       "</table>\n",
       "</div>"
      ],
      "text/plain": [
       "    predicted  actual                                               text\n",
       "23          0       1  follow my previou analys my latest wa strixhav...\n",
       "32          1       0  hello to mtgfinanc peopl everywher some of you...\n",
       "42          1       0  i just got my first arabian night card and i w...\n",
       "46          0       1  hello i ve been play for about 2 3 month and s...\n",
       "52          1       0  i have a gild drake that is a close call betwe..."
      ]
     },
     "execution_count": 101,
     "metadata": {},
     "output_type": "execute_result"
    }
   ],
   "source": [
    "logreg_stemmed_tfidf_misclass.head()"
   ]
  },
  {
   "cell_type": "code",
   "execution_count": 102,
   "id": "718a80b1",
   "metadata": {
    "scrolled": false
   },
   "outputs": [
    {
     "data": {
      "image/png": "[encoded data removed]",
      "text/plain": [
       "<Figure size 432x288 with 1 Axes>"
      ]
     },
     "metadata": {
      "needs_background": "light"
     },
     "output_type": "display_data"
    }
   ],
   "source": [
    "# most commonly misclassified tokens\n",
    "plot_misclassified(logreg_stemmed_tfidf_misclass, 'text', stoplist, 1, 1);"
   ]
  },
  {
   "cell_type": "markdown",
   "id": "e08f9afd",
   "metadata": {},
   "source": [
    "The word 'thi' was misclassified 70 times, the highest any token has been misclassified out of any model so far. Not sure what kind of inference can be made about this. In other news, 'digit' and 'set' are still topping the boards."
   ]
  },
  {
   "cell_type": "code",
   "execution_count": 103,
   "id": "f875e1eb",
   "metadata": {
    "scrolled": false
   },
   "outputs": [
    {
     "data": {
      "image/png": "[encoded data removed]",
      "text/plain": [
       "<Figure size 432x288 with 1 Axes>"
      ]
     },
     "metadata": {
      "needs_background": "light"
     },
     "output_type": "display_data"
    }
   ],
   "source": [
    "# plot overall ROC AUC\n",
    "disp = plot_roc_curve(logreg_cvec_gs, x_test, y_test, label='CVec')\n",
    "plot_roc_curve(logreg_tfidf_gs, x_test, y_test, ax=disp.ax_, label='TFIDF');\n",
    "plot_roc_curve(logreg_lemmatized_gs, x_lemm_test, y_test, ax=disp.ax_, label='CVec Lemm');\n",
    "plot_roc_curve(logreg_stemmed_gs, x_stem_test, y_test, ax=disp.ax_, label='Cvec Stem');\n",
    "plot_roc_curve(logreg_lemmatized_tfidf_gs, x_lemm_test, y_test, ax=disp.ax_, label='TFIDF Lemm');\n",
    "plot_roc_curve(logreg_stemmed_tfidf_gs, x_stem_test, y_test, ax=disp.ax_, label='TFIDF Stem');\n",
    "plt.plot([0, 1], [0, 1], label='baseline', linestyle='--');"
   ]
  },
  {
   "cell_type": "markdown",
   "id": "a3d630eb",
   "metadata": {},
   "source": [
    "TF-IDF (yellow, purple and brown) gives much better results than CVec (blue, green, red).\n",
    "\n",
    "In particular, TF-IDF with stemming (brown) stands out as having the best AUC, followed closely behind by TF-IDF with lemmatizing (purple). Considering that the suspicion above was that lemmatizing only underperformed due to insufficient stop words, we will adjust the stop words list and compare TF-IDF stemming and TF-IDF lemmatizing again."
   ]
  },
  {
   "cell_type": "markdown",
   "id": "92deeae2",
   "metadata": {},
   "source": [
    "### Comparing lemmatizing and stemming after stop word adjustment"
   ]
  },
  {
   "cell_type": "code",
   "execution_count": 104,
   "id": "b0c19267",
   "metadata": {},
   "outputs": [],
   "source": [
    "stoplist2 = text.ENGLISH_STOP_WORDS.union(\n",
    "    [\n",
    "        'lt',\n",
    "        'gt',\n",
    "        'tt',\n",
    "        'annotation',\n",
    "        'amp',\n",
    "        '000',\n",
    "        'catid',\n",
    "        '2021',\n",
    "        '21',\n",
    "        'tcgplayer',\n",
    "        'cardkingdom',\n",
    "        '99',\n",
    "        'dollar',\n",
    "        'today',\n",
    "        'copies',\n",
    "        'available',\n",
    "        'ck',\n",
    "        'kingdom',\n",
    "        'cards',\n",
    "        'card',\n",
    "        'magic',\n",
    "        'digital', # new word\n",
    "        'set' # new word\n",
    "    ]\n",
    ")"
   ]
  },
  {
   "cell_type": "code",
   "execution_count": 105,
   "id": "efd734b8",
   "metadata": {},
   "outputs": [
    {
     "name": "stdout",
     "output_type": "stream",
     "text": [
      "Fitting 5 folds for each of 6 candidates, totalling 30 fits\n"
     ]
    }
   ],
   "source": [
    "logreg_lemmatized_tfidf2_pipe = Pipeline([\n",
    "    ('tvec', TfidfVectorizer(stop_words=stoplist2)),\n",
    "    ('logreg', LogisticRegression(solver='lbfgs'))\n",
    "])\n",
    "\n",
    "logreg_lemmatized_tfidf2_pipe_params = {\n",
    "    'tvec__max_features': [None, 5000, 10000],\n",
    "    'tvec__ngram_range': [(1, 3), (1, 2)] # also tried (1, 1)\n",
    "}\n",
    "\n",
    "logreg_lemmatized_tfidf2_gs = GridSearchCV(\n",
    "    logreg_lemmatized_tfidf2_pipe,\n",
    "    logreg_lemmatized_tfidf2_pipe_params,\n",
    "    cv=5,\n",
    "    verbose=1\n",
    ")\n",
    "\n",
    "logreg_lemmatized_tfidf2_gs.fit(x_lemm_train, y_train);"
   ]
  },
  {
   "cell_type": "code",
   "execution_count": 106,
   "id": "6f18d19d",
   "metadata": {},
   "outputs": [
    {
     "data": {
      "text/plain": [
       "{'tvec__max_features': 5000, 'tvec__ngram_range': (1, 2)}"
      ]
     },
     "execution_count": 106,
     "metadata": {},
     "output_type": "execute_result"
    }
   ],
   "source": [
    "logreg_lemmatized_tfidf2_gs.best_params_"
   ]
  },
  {
   "cell_type": "code",
   "execution_count": 107,
   "id": "f0992d96",
   "metadata": {},
   "outputs": [
    {
     "data": {
      "text/plain": [
       "0.8772292471164281"
      ]
     },
     "execution_count": 107,
     "metadata": {},
     "output_type": "execute_result"
    }
   ],
   "source": [
    "logreg_lemmatized_tfidf2_gs.best_score_"
   ]
  },
  {
   "cell_type": "code",
   "execution_count": 108,
   "id": "2c26d31f",
   "metadata": {},
   "outputs": [
    {
     "name": "stdout",
     "output_type": "stream",
     "text": [
      "Accuracy = 0.902127659574468\n",
      "Specificity = 0.899581589958159\n",
      "Sensitivity/Recall = 0.9047619047619048\n",
      "Precision = 0.8969957081545065\n",
      "F1 score = 0.9008620689655172\n"
     ]
    },
    {
     "data": {
      "image/png": "[encoded data removed]",
      "text/plain": [
       "<Figure size 432x288 with 2 Axes>"
      ]
     },
     "metadata": {
      "needs_background": "light"
     },
     "output_type": "display_data"
    }
   ],
   "source": [
    "# get metrics and plot confusion matrix\n",
    "modelmetric(logreg_lemmatized_tfidf2_gs, x_lemm_test, y_test)"
   ]
  },
  {
   "cell_type": "code",
   "execution_count": 109,
   "id": "b7b593fa",
   "metadata": {},
   "outputs": [],
   "source": [
    "# get misclassified\n",
    "logreg_lemmatized_tfidf2_misclass = misclassified(logreg_lemmatized_tfidf2_gs, x_lemm_test, y_test)"
   ]
  },
  {
   "cell_type": "code",
   "execution_count": 110,
   "id": "f60616d1",
   "metadata": {},
   "outputs": [
    {
     "data": {
      "text/plain": [
       "(46, 3)"
      ]
     },
     "execution_count": 110,
     "metadata": {},
     "output_type": "execute_result"
    }
   ],
   "source": [
    "# check if is sum of fp and fn\n",
    "logreg_lemmatized_tfidf2_misclass.shape"
   ]
  },
  {
   "cell_type": "code",
   "execution_count": 111,
   "id": "38963b9d",
   "metadata": {},
   "outputs": [
    {
     "data": {
      "text/html": [
       "<div>\n",
       "<style scoped>\n",
       "    .dataframe tbody tr th:only-of-type {\n",
       "        vertical-align: middle;\n",
       "    }\n",
       "\n",
       "    .dataframe tbody tr th {\n",
       "        vertical-align: top;\n",
       "    }\n",
       "\n",
       "    .dataframe thead th {\n",
       "        text-align: right;\n",
       "    }\n",
       "</style>\n",
       "<table border=\"1\" class=\"dataframe\">\n",
       "  <thead>\n",
       "    <tr style=\"text-align: right;\">\n",
       "      <th></th>\n",
       "      <th>predicted</th>\n",
       "      <th>actual</th>\n",
       "      <th>text</th>\n",
       "    </tr>\n",
       "  </thead>\n",
       "  <tbody>\n",
       "    <tr>\n",
       "      <th>23</th>\n",
       "      <td>0</td>\n",
       "      <td>1</td>\n",
       "      <td>following my previous analysis my latest wa st...</td>\n",
       "    </tr>\n",
       "    <tr>\n",
       "      <th>32</th>\n",
       "      <td>1</td>\n",
       "      <td>0</td>\n",
       "      <td>hello to mtgfinance people everywhere some of ...</td>\n",
       "    </tr>\n",
       "    <tr>\n",
       "      <th>46</th>\n",
       "      <td>0</td>\n",
       "      <td>1</td>\n",
       "      <td>hello i ve been playing for about 2 3 month an...</td>\n",
       "    </tr>\n",
       "    <tr>\n",
       "      <th>52</th>\n",
       "      <td>1</td>\n",
       "      <td>0</td>\n",
       "      <td>i have a gilded drake that is a close call bet...</td>\n",
       "    </tr>\n",
       "    <tr>\n",
       "      <th>54</th>\n",
       "      <td>1</td>\n",
       "      <td>0</td>\n",
       "      <td>i ve been getting a 500 internal server error ...</td>\n",
       "    </tr>\n",
       "  </tbody>\n",
       "</table>\n",
       "</div>"
      ],
      "text/plain": [
       "    predicted  actual                                               text\n",
       "23          0       1  following my previous analysis my latest wa st...\n",
       "32          1       0  hello to mtgfinance people everywhere some of ...\n",
       "46          0       1  hello i ve been playing for about 2 3 month an...\n",
       "52          1       0  i have a gilded drake that is a close call bet...\n",
       "54          1       0  i ve been getting a 500 internal server error ..."
      ]
     },
     "execution_count": 111,
     "metadata": {},
     "output_type": "execute_result"
    }
   ],
   "source": [
    "logreg_lemmatized_tfidf2_misclass.head()"
   ]
  },
  {
   "cell_type": "code",
   "execution_count": 112,
   "id": "811c7140",
   "metadata": {
    "scrolled": false
   },
   "outputs": [
    {
     "data": {
      "image/png": "[encoded data removed]",
      "text/plain": [
       "<Figure size 432x288 with 1 Axes>"
      ]
     },
     "metadata": {
      "needs_background": "light"
     },
     "output_type": "display_data"
    }
   ],
   "source": [
    "# most commonly misclassified tokens\n",
    "plot_misclassified(logreg_lemmatized_tfidf2_misclass, 'text', stoplist2, 1, 2);"
   ]
  },
  {
   "cell_type": "markdown",
   "id": "06d6d251",
   "metadata": {},
   "source": [
    "Train score went up from 0.876 to 0.877 and number of misclassifications did not change."
   ]
  },
  {
   "cell_type": "code",
   "execution_count": 113,
   "id": "a8f92767",
   "metadata": {},
   "outputs": [
    {
     "name": "stdout",
     "output_type": "stream",
     "text": [
      "Fitting 5 folds for each of 6 candidates, totalling 30 fits\n"
     ]
    }
   ],
   "source": [
    "logreg_stemmed_tfidf2_pipe = Pipeline([\n",
    "    ('tvec', TfidfVectorizer(stop_words=stoplist2)),\n",
    "    ('logreg', LogisticRegression(solver='lbfgs'))\n",
    "])\n",
    "\n",
    "logreg_stemmed_tfidf2_pipe_params = {\n",
    "    'tvec__max_features': [None, 5000, 10000],\n",
    "    'tvec__ngram_range': [(1, 2), (1, 3)] # also tried (1, 1)\n",
    "}\n",
    "\n",
    "logreg_stemmed_tfidf2_gs = GridSearchCV(\n",
    "    logreg_stemmed_tfidf2_pipe,\n",
    "    logreg_stemmed_tfidf2_pipe_params,\n",
    "    cv=5,\n",
    "    verbose=1\n",
    ")\n",
    "\n",
    "logreg_stemmed_tfidf2_gs.fit(x_stem_train, y_train);"
   ]
  },
  {
   "cell_type": "code",
   "execution_count": 114,
   "id": "208311f5",
   "metadata": {},
   "outputs": [
    {
     "data": {
      "text/plain": [
       "{'tvec__max_features': None, 'tvec__ngram_range': (1, 3)}"
      ]
     },
     "execution_count": 114,
     "metadata": {},
     "output_type": "execute_result"
    }
   ],
   "source": [
    "logreg_stemmed_tfidf2_gs.best_params_"
   ]
  },
  {
   "cell_type": "code",
   "execution_count": 115,
   "id": "e30bd28b",
   "metadata": {},
   "outputs": [
    {
     "data": {
      "text/plain": [
       "0.8800560308927083"
      ]
     },
     "execution_count": 115,
     "metadata": {},
     "output_type": "execute_result"
    }
   ],
   "source": [
    "logreg_stemmed_tfidf2_gs.best_score_"
   ]
  },
  {
   "cell_type": "code",
   "execution_count": 116,
   "id": "1151613a",
   "metadata": {
    "scrolled": false
   },
   "outputs": [
    {
     "name": "stdout",
     "output_type": "stream",
     "text": [
      "Accuracy = 0.8978723404255319\n",
      "Specificity = 0.9288702928870293\n",
      "Sensitivity/Recall = 0.8658008658008658\n",
      "Precision = 0.9216589861751152\n",
      "F1 score = 0.8928571428571428\n"
     ]
    },
    {
     "data": {
      "image/png": "[encoded data removed]",
      "text/plain": [
       "<Figure size 432x288 with 2 Axes>"
      ]
     },
     "metadata": {
      "needs_background": "light"
     },
     "output_type": "display_data"
    }
   ],
   "source": [
    "# get metrics and plot confusion matrix\n",
    "modelmetric(logreg_stemmed_tfidf2_gs, x_stem_test, y_test)"
   ]
  },
  {
   "cell_type": "code",
   "execution_count": 117,
   "id": "75c26a83",
   "metadata": {},
   "outputs": [],
   "source": [
    "# get misclassified\n",
    "logreg_stemmed_tfidf2_misclass = misclassified(logreg_stemmed_tfidf2_gs, x_stem_test, y_test)"
   ]
  },
  {
   "cell_type": "code",
   "execution_count": 118,
   "id": "6f73b7a4",
   "metadata": {},
   "outputs": [
    {
     "data": {
      "text/plain": [
       "(48, 3)"
      ]
     },
     "execution_count": 118,
     "metadata": {},
     "output_type": "execute_result"
    }
   ],
   "source": [
    "# check if is sum of fp and fn\n",
    "logreg_stemmed_tfidf2_misclass.shape"
   ]
  },
  {
   "cell_type": "code",
   "execution_count": 119,
   "id": "f4ac7b92",
   "metadata": {},
   "outputs": [
    {
     "data": {
      "text/html": [
       "<div>\n",
       "<style scoped>\n",
       "    .dataframe tbody tr th:only-of-type {\n",
       "        vertical-align: middle;\n",
       "    }\n",
       "\n",
       "    .dataframe tbody tr th {\n",
       "        vertical-align: top;\n",
       "    }\n",
       "\n",
       "    .dataframe thead th {\n",
       "        text-align: right;\n",
       "    }\n",
       "</style>\n",
       "<table border=\"1\" class=\"dataframe\">\n",
       "  <thead>\n",
       "    <tr style=\"text-align: right;\">\n",
       "      <th></th>\n",
       "      <th>predicted</th>\n",
       "      <th>actual</th>\n",
       "      <th>text</th>\n",
       "    </tr>\n",
       "  </thead>\n",
       "  <tbody>\n",
       "    <tr>\n",
       "      <th>23</th>\n",
       "      <td>0</td>\n",
       "      <td>1</td>\n",
       "      <td>follow my previou analys my latest wa strixhav...</td>\n",
       "    </tr>\n",
       "    <tr>\n",
       "      <th>26</th>\n",
       "      <td>1</td>\n",
       "      <td>0</td>\n",
       "      <td>titan nest is a veri power card as low as 20 c...</td>\n",
       "    </tr>\n",
       "    <tr>\n",
       "      <th>32</th>\n",
       "      <td>1</td>\n",
       "      <td>0</td>\n",
       "      <td>hello to mtgfinanc peopl everywher some of you...</td>\n",
       "    </tr>\n",
       "    <tr>\n",
       "      <th>46</th>\n",
       "      <td>0</td>\n",
       "      <td>1</td>\n",
       "      <td>hello i ve been play for about 2 3 month and s...</td>\n",
       "    </tr>\n",
       "    <tr>\n",
       "      <th>52</th>\n",
       "      <td>1</td>\n",
       "      <td>0</td>\n",
       "      <td>i have a gild drake that is a close call betwe...</td>\n",
       "    </tr>\n",
       "  </tbody>\n",
       "</table>\n",
       "</div>"
      ],
      "text/plain": [
       "    predicted  actual                                               text\n",
       "23          0       1  follow my previou analys my latest wa strixhav...\n",
       "26          1       0  titan nest is a veri power card as low as 20 c...\n",
       "32          1       0  hello to mtgfinanc peopl everywher some of you...\n",
       "46          0       1  hello i ve been play for about 2 3 month and s...\n",
       "52          1       0  i have a gild drake that is a close call betwe..."
      ]
     },
     "execution_count": 119,
     "metadata": {},
     "output_type": "execute_result"
    }
   ],
   "source": [
    "logreg_stemmed_tfidf2_misclass.head()"
   ]
  },
  {
   "cell_type": "code",
   "execution_count": 120,
   "id": "a600e452",
   "metadata": {
    "scrolled": true
   },
   "outputs": [
    {
     "data": {
      "image/png": "[encoded data removed]",
      "text/plain": [
       "<Figure size 432x288 with 1 Axes>"
      ]
     },
     "metadata": {
      "needs_background": "light"
     },
     "output_type": "display_data"
    }
   ],
   "source": [
    "# most commonly misclassified tokens\n",
    "plot_misclassified(logreg_stemmed_tfidf2_misclass, 'text', stoplist2, 1, 2);"
   ]
  },
  {
   "cell_type": "markdown",
   "id": "12f6f099",
   "metadata": {},
   "source": [
    "Stemmed model simply got worse. It seems that adding stop words has an effect of overfitting. This makes sense because common words like 'digital' or 'set' can fit in either subreddits."
   ]
  },
  {
   "cell_type": "markdown",
   "id": "86e8e4e8",
   "metadata": {},
   "source": [
    "## Data Modelling - Others"
   ]
  },
  {
   "cell_type": "markdown",
   "id": "d1d8de81",
   "metadata": {},
   "source": [
    "For all models going forward, the original text and TFIDF will be used."
   ]
  },
  {
   "cell_type": "markdown",
   "id": "f1eee623",
   "metadata": {},
   "source": [
    "### Naive Bayes"
   ]
  },
  {
   "cell_type": "code",
   "execution_count": 157,
   "id": "48fa0bef",
   "metadata": {},
   "outputs": [
    {
     "name": "stdout",
     "output_type": "stream",
     "text": [
      "Fitting 5 folds for each of 9 candidates, totalling 45 fits\n"
     ]
    }
   ],
   "source": [
    "nb_tvec_pipe = Pipeline([\n",
    "    ('tvec', TfidfVectorizer(stop_words=stoplist)),\n",
    "    ('nb', MultinomialNB())\n",
    "])\n",
    "\n",
    "nb_tvec_pipe_params = {\n",
    "    'tvec__max_features': [None, 5000, 10000], # also tried 15000\n",
    "    'tvec__ngram_range': [(1, 1), (1, 2), (1, 3)]\n",
    "}\n",
    "\n",
    "nb_tvec_gs = GridSearchCV(\n",
    "    nb_tvec_pipe,\n",
    "    nb_tvec_pipe_params,\n",
    "    cv=5,\n",
    "    verbose=1\n",
    ")\n",
    "\n",
    "nb_tvec_gs.fit(x_train, y_train);"
   ]
  },
  {
   "cell_type": "code",
   "execution_count": 158,
   "id": "3efae3b6",
   "metadata": {},
   "outputs": [
    {
     "data": {
      "text/plain": [
       "{'tvec__max_features': 10000, 'tvec__ngram_range': (1, 3)}"
      ]
     },
     "execution_count": 158,
     "metadata": {},
     "output_type": "execute_result"
    }
   ],
   "source": [
    "nb_tvec_gs.best_params_"
   ]
  },
  {
   "cell_type": "code",
   "execution_count": 159,
   "id": "d1006cf1",
   "metadata": {},
   "outputs": [
    {
     "data": {
      "text/plain": [
       "0.8722470407107343"
      ]
     },
     "execution_count": 159,
     "metadata": {},
     "output_type": "execute_result"
    }
   ],
   "source": [
    "nb_tvec_gs.best_score_"
   ]
  },
  {
   "cell_type": "code",
   "execution_count": 160,
   "id": "47c6a8b4",
   "metadata": {
    "scrolled": false
   },
   "outputs": [
    {
     "name": "stdout",
     "output_type": "stream",
     "text": [
      "Accuracy = 0.902127659574468\n",
      "Specificity = 0.9497907949790795\n",
      "Sensitivity/Recall = 0.8528138528138528\n",
      "Precision = 0.9425837320574163\n",
      "F1 score = 0.8954545454545454\n"
     ]
    },
    {
     "data": {
      "image/png": "[encoded data removed]",
      "text/plain": [
       "<Figure size 432x288 with 2 Axes>"
      ]
     },
     "metadata": {
      "needs_background": "light"
     },
     "output_type": "display_data"
    }
   ],
   "source": [
    "# get metrics and plot confusion matrix\n",
    "modelmetric(nb_tvec_gs, x_test, y_test)"
   ]
  },
  {
   "cell_type": "code",
   "execution_count": 161,
   "id": "6fb0b840",
   "metadata": {},
   "outputs": [],
   "source": [
    "# get misclassified\n",
    "nb_tvec_misclass = misclassified(nb_tvec_gs, x_test, y_test)"
   ]
  },
  {
   "cell_type": "code",
   "execution_count": 162,
   "id": "8030a8f4",
   "metadata": {},
   "outputs": [
    {
     "data": {
      "text/plain": [
       "(46, 3)"
      ]
     },
     "execution_count": 162,
     "metadata": {},
     "output_type": "execute_result"
    }
   ],
   "source": [
    "# check if is sum of fp and fn\n",
    "nb_tvec_misclass.shape"
   ]
  },
  {
   "cell_type": "code",
   "execution_count": 163,
   "id": "6c5f6e0b",
   "metadata": {},
   "outputs": [
    {
     "data": {
      "text/html": [
       "<div>\n",
       "<style scoped>\n",
       "    .dataframe tbody tr th:only-of-type {\n",
       "        vertical-align: middle;\n",
       "    }\n",
       "\n",
       "    .dataframe tbody tr th {\n",
       "        vertical-align: top;\n",
       "    }\n",
       "\n",
       "    .dataframe thead th {\n",
       "        text-align: right;\n",
       "    }\n",
       "</style>\n",
       "<table border=\"1\" class=\"dataframe\">\n",
       "  <thead>\n",
       "    <tr style=\"text-align: right;\">\n",
       "      <th></th>\n",
       "      <th>predicted</th>\n",
       "      <th>actual</th>\n",
       "      <th>text</th>\n",
       "    </tr>\n",
       "  </thead>\n",
       "  <tbody>\n",
       "    <tr>\n",
       "      <th>23</th>\n",
       "      <td>0</td>\n",
       "      <td>1</td>\n",
       "      <td>Following my previous analyses (my latest was Strixhaven [ I went through WotC's \"explanations\" of what is in Midnight Hunt's Draft &amp;amp; Set boos...</td>\n",
       "    </tr>\n",
       "    <tr>\n",
       "      <th>46</th>\n",
       "      <td>0</td>\n",
       "      <td>1</td>\n",
       "      <td>Hello,\\n\\nI've been playing for about 2-3 months and so far have been exclusively buying the bundles for sets I got interested in (D&amp;amp;D and Kal...</td>\n",
       "    </tr>\n",
       "    <tr>\n",
       "      <th>57</th>\n",
       "      <td>0</td>\n",
       "      <td>1</td>\n",
       "      <td>I'm looking for singles, and some of the cards I want are the cheapest from \"The List\" like this card:  \\n\\n\\nAnyone know what that is? Is it a le...</td>\n",
       "    </tr>\n",
       "    <tr>\n",
       "      <th>66</th>\n",
       "      <td>0</td>\n",
       "      <td>1</td>\n",
       "      <td>Hello, \\n\\nAs we head into the Holiday season in the next few months, I want to get a few items off of my shopping list and wanted to get some ins...</td>\n",
       "    </tr>\n",
       "    <tr>\n",
       "      <th>81</th>\n",
       "      <td>1</td>\n",
       "      <td>0</td>\n",
       "      <td>I wonder what's the reasoning why there isn't a daily or even weekly money tournament on MTGA? Those have been the only interesting content to me ...</td>\n",
       "    </tr>\n",
       "  </tbody>\n",
       "</table>\n",
       "</div>"
      ],
      "text/plain": [
       "    predicted  actual  \\\n",
       "23          0       1   \n",
       "46          0       1   \n",
       "57          0       1   \n",
       "66          0       1   \n",
       "81          1       0   \n",
       "\n",
       "                                                                                                                                                     text  \n",
       "23  Following my previous analyses (my latest was Strixhaven [ I went through WotC's \"explanations\" of what is in Midnight Hunt's Draft &amp; Set boos...  \n",
       "46  Hello,\\n\\nI've been playing for about 2-3 months and so far have been exclusively buying the bundles for sets I got interested in (D&amp;D and Kal...  \n",
       "57  I'm looking for singles, and some of the cards I want are the cheapest from \"The List\" like this card:  \\n\\n\\nAnyone know what that is? Is it a le...  \n",
       "66  Hello, \\n\\nAs we head into the Holiday season in the next few months, I want to get a few items off of my shopping list and wanted to get some ins...  \n",
       "81  I wonder what's the reasoning why there isn't a daily or even weekly money tournament on MTGA? Those have been the only interesting content to me ...  "
      ]
     },
     "execution_count": 163,
     "metadata": {},
     "output_type": "execute_result"
    }
   ],
   "source": [
    "nb_tvec_misclass.head()"
   ]
  },
  {
   "cell_type": "code",
   "execution_count": 164,
   "id": "7046005b",
   "metadata": {
    "scrolled": true
   },
   "outputs": [
    {
     "data": {
      "image/png": "[encoded data removed]",
      "text/plain": [
       "<Figure size 432x288 with 1 Axes>"
      ]
     },
     "metadata": {
      "needs_background": "light"
     },
     "output_type": "display_data"
    }
   ],
   "source": [
    "# most commonly misclassified tokens\n",
    "plot_misclassified(nb_tvec_misclass, 'text', stoplist, 1, 3);"
   ]
  },
  {
   "cell_type": "markdown",
   "id": "1af8a488",
   "metadata": {},
   "source": [
    "The Naive Bayes model gives us fewer false positives and more false negatives, which means it classifies posts as belonging in the mtgfinance subreddit more often. Since the Naive Bayes algorithm assumes all features (in this case tokens) are independent of each other, the top misclassified words kind of make sense. The separate words 'boosters' and 'boxes' are usually attributed towards the tcg subreddit but 'booster boxes' is usually attributed to mtgfinance."
   ]
  },
  {
   "cell_type": "markdown",
   "id": "1dc428cf",
   "metadata": {},
   "source": [
    "### Bootstrap Aggregation"
   ]
  },
  {
   "cell_type": "code",
   "execution_count": 170,
   "id": "e377f967",
   "metadata": {},
   "outputs": [
    {
     "name": "stdout",
     "output_type": "stream",
     "text": [
      "Fitting 5 folds for each of 9 candidates, totalling 45 fits\n"
     ]
    }
   ],
   "source": [
    "bag_tvec_pipe = Pipeline([\n",
    "    ('tvec', TfidfVectorizer(stop_words=stoplist)),\n",
    "    ('bag', BaggingClassifier(random_state=42))\n",
    "])\n",
    "\n",
    "bag_tvec_pipe_params = {\n",
    "    'tvec__max_features': [5000], # also tried None, 10000\n",
    "    'tvec__ngram_range': [(1, 3)], # also tried (1, 1), (1,2)\n",
    "    'bag__max_samples': [0.6 , 0.8, 1.0],\n",
    "    'bag__n_estimators': [100, 200, 300]\n",
    "}\n",
    "\n",
    "bag_tvec_gs = GridSearchCV(\n",
    "    bag_tvec_pipe,\n",
    "    bag_tvec_pipe_params,\n",
    "    cv=5,\n",
    "    verbose=1\n",
    ")\n",
    "\n",
    "bag_tvec_gs.fit(x_train, y_train);"
   ]
  },
  {
   "cell_type": "code",
   "execution_count": 171,
   "id": "c7d8cc96",
   "metadata": {},
   "outputs": [
    {
     "data": {
      "text/plain": [
       "{'bag__max_samples': 1.0,\n",
       " 'bag__n_estimators': 300,\n",
       " 'tvec__max_features': 5000,\n",
       " 'tvec__ngram_range': (1, 3)}"
      ]
     },
     "execution_count": 171,
     "metadata": {},
     "output_type": "execute_result"
    }
   ],
   "source": [
    "bag_tvec_gs.best_params_"
   ]
  },
  {
   "cell_type": "code",
   "execution_count": 172,
   "id": "bba77e4b",
   "metadata": {},
   "outputs": [
    {
     "data": {
      "text/plain": [
       "0.8331995658867772"
      ]
     },
     "execution_count": 172,
     "metadata": {},
     "output_type": "execute_result"
    }
   ],
   "source": [
    "bag_tvec_gs.best_score_"
   ]
  },
  {
   "cell_type": "code",
   "execution_count": 173,
   "id": "ee96af96",
   "metadata": {
    "scrolled": false
   },
   "outputs": [
    {
     "name": "stdout",
     "output_type": "stream",
     "text": [
      "Accuracy = 0.8446808510638298\n",
      "Specificity = 0.8326359832635983\n",
      "Sensitivity/Recall = 0.8571428571428571\n",
      "Precision = 0.8319327731092437\n",
      "F1 score = 0.8443496801705757\n"
     ]
    },
    {
     "data": {
      "image/png": "[encoded data removed]",
      "text/plain": [
       "<Figure size 432x288 with 2 Axes>"
      ]
     },
     "metadata": {
      "needs_background": "light"
     },
     "output_type": "display_data"
    }
   ],
   "source": [
    "# get metrics and plot confusion matrix\n",
    "modelmetric(bag_tvec_gs, x_test, y_test)"
   ]
  },
  {
   "cell_type": "code",
   "execution_count": 174,
   "id": "b05e5ee2",
   "metadata": {},
   "outputs": [],
   "source": [
    "# get misclassified\n",
    "bag_tvec_misclass = misclassified(bag_tvec_gs, x_test, y_test)"
   ]
  },
  {
   "cell_type": "code",
   "execution_count": 175,
   "id": "99c7fe6f",
   "metadata": {},
   "outputs": [
    {
     "data": {
      "text/plain": [
       "(73, 3)"
      ]
     },
     "execution_count": 175,
     "metadata": {},
     "output_type": "execute_result"
    }
   ],
   "source": [
    "# check if is sum of fp and fn\n",
    "bag_tvec_misclass.shape"
   ]
  },
  {
   "cell_type": "code",
   "execution_count": 176,
   "id": "ba6c1166",
   "metadata": {},
   "outputs": [
    {
     "data": {
      "text/html": [
       "<div>\n",
       "<style scoped>\n",
       "    .dataframe tbody tr th:only-of-type {\n",
       "        vertical-align: middle;\n",
       "    }\n",
       "\n",
       "    .dataframe tbody tr th {\n",
       "        vertical-align: top;\n",
       "    }\n",
       "\n",
       "    .dataframe thead th {\n",
       "        text-align: right;\n",
       "    }\n",
       "</style>\n",
       "<table border=\"1\" class=\"dataframe\">\n",
       "  <thead>\n",
       "    <tr style=\"text-align: right;\">\n",
       "      <th></th>\n",
       "      <th>predicted</th>\n",
       "      <th>actual</th>\n",
       "      <th>text</th>\n",
       "    </tr>\n",
       "  </thead>\n",
       "  <tbody>\n",
       "    <tr>\n",
       "      <th>4</th>\n",
       "      <td>1</td>\n",
       "      <td>0</td>\n",
       "      <td>I received an email from TCGPlayer asking me if I wanted to opt into their SYP program, and I can't really find any reviews or posts from people w...</td>\n",
       "    </tr>\n",
       "    <tr>\n",
       "      <th>5</th>\n",
       "      <td>1</td>\n",
       "      <td>0</td>\n",
       "      <td>I wanted to know what the community would have done in this case - I contacted a seller on the local FB group that wanted to sell his Boros Burn d...</td>\n",
       "    </tr>\n",
       "    <tr>\n",
       "      <th>11</th>\n",
       "      <td>1</td>\n",
       "      <td>0</td>\n",
       "      <td>Foils didn't become a thing until 1998, but many cards from before then have been reprinted in the old frame with foil treatments.  Can this group...</td>\n",
       "    </tr>\n",
       "    <tr>\n",
       "      <th>12</th>\n",
       "      <td>0</td>\n",
       "      <td>1</td>\n",
       "      <td>Super vague but here's the situation: I bought a kit which had a themed card box and these jumbo cards which either player would start a game with...</td>\n",
       "    </tr>\n",
       "    <tr>\n",
       "      <th>21</th>\n",
       "      <td>0</td>\n",
       "      <td>1</td>\n",
       "      <td>Hey Reddit! Check out the details on our preview card (which has an extended art version), including images on Imgur.  \\nThanks again to Wizards f...</td>\n",
       "    </tr>\n",
       "  </tbody>\n",
       "</table>\n",
       "</div>"
      ],
      "text/plain": [
       "    predicted  actual  \\\n",
       "4           1       0   \n",
       "5           1       0   \n",
       "11          1       0   \n",
       "12          0       1   \n",
       "21          0       1   \n",
       "\n",
       "                                                                                                                                                     text  \n",
       "4   I received an email from TCGPlayer asking me if I wanted to opt into their SYP program, and I can't really find any reviews or posts from people w...  \n",
       "5   I wanted to know what the community would have done in this case - I contacted a seller on the local FB group that wanted to sell his Boros Burn d...  \n",
       "11  Foils didn't become a thing until 1998, but many cards from before then have been reprinted in the old frame with foil treatments.  Can this group...  \n",
       "12  Super vague but here's the situation: I bought a kit which had a themed card box and these jumbo cards which either player would start a game with...  \n",
       "21  Hey Reddit! Check out the details on our preview card (which has an extended art version), including images on Imgur.  \\nThanks again to Wizards f...  "
      ]
     },
     "execution_count": 176,
     "metadata": {},
     "output_type": "execute_result"
    }
   ],
   "source": [
    "bag_tvec_misclass.head()"
   ]
  },
  {
   "cell_type": "code",
   "execution_count": 177,
   "id": "d0cde416",
   "metadata": {
    "scrolled": true
   },
   "outputs": [
    {
     "data": {
      "image/png": "[encoded data removed]",
      "text/plain": [
       "<Figure size 432x288 with 1 Axes>"
      ]
     },
     "metadata": {
      "needs_background": "light"
     },
     "output_type": "display_data"
    }
   ],
   "source": [
    "# most commonly misclassified tokens\n",
    "plot_misclassified(bag_tvec_misclass, 'text', stoplist, 1, 3);"
   ]
  },
  {
   "cell_type": "markdown",
   "id": "e6cbecca",
   "metadata": {},
   "source": [
    "Bootstrap aggregation model does not seem to give good results, despite being the first ensemble model we tried."
   ]
  },
  {
   "cell_type": "markdown",
   "id": "20f6cb34",
   "metadata": {},
   "source": [
    "### Random Forest"
   ]
  },
  {
   "cell_type": "code",
   "execution_count": 137,
   "id": "c24a5431",
   "metadata": {},
   "outputs": [
    {
     "name": "stdout",
     "output_type": "stream",
     "text": [
      "Fitting 5 folds for each of 18 candidates, totalling 90 fits\n"
     ]
    }
   ],
   "source": [
    "rf_tvec_pipe = Pipeline([\n",
    "    ('tvec', TfidfVectorizer(stop_words=stoplist)),\n",
    "    ('rf', RandomForestClassifier())\n",
    "])\n",
    "\n",
    "rf_tvec_pipe_params = {\n",
    "    'tvec__max_features': [None, 5000, 10000],\n",
    "    'tvec__ngram_range': [(1, 2), (1, 3)], # tried (1, 1)\n",
    "    'rf__n_estimators': [50, 100, 150]\n",
    "}\n",
    "\n",
    "rf_tvec_gs = GridSearchCV(\n",
    "    rf_tvec_pipe,\n",
    "    rf_tvec_pipe_params,\n",
    "    cv=5,\n",
    "    verbose=1\n",
    ")\n",
    "\n",
    "rf_tvec_gs.fit(x_train, y_train);"
   ]
  },
  {
   "cell_type": "code",
   "execution_count": 212,
   "id": "4ed37513",
   "metadata": {},
   "outputs": [
    {
     "data": {
      "image/png": "[encoded data removed]",
      "text/plain": [
       "<Figure size 720x576 with 1 Axes>"
      ]
     },
     "metadata": {
      "needs_background": "light"
     },
     "output_type": "display_data"
    }
   ],
   "source": [
    "# get feature importances\n",
    "rf_feat = rf_tvec_gs.best_estimator_.named_steps['rf'].feature_importances_\n",
    "\n",
    "# revectorize to get list of words used (probably not best practice)\n",
    "tvec = TfidfVectorizer(stop_words=stoplist)\n",
    "word_df = pd.DataFrame(tvec.fit_transform(x_train).todense(), \n",
    "                          columns=tvec.get_feature_names())\n",
    "\n",
    "# a dict to hold feature_name: feature_importance\n",
    "feats = {} \n",
    "for feature, importance in zip(word_df.columns, rf_feat):\n",
    "    feats[feature] = importance \n",
    "\n",
    "# creating dataframe and limiting to 10 words descending\n",
    "importances = pd.DataFrame.from_dict(\n",
    "    feats,\n",
    "    orient='index'\n",
    ").rename(\n",
    "    columns={0: 'feature-importance'}\n",
    ").sort_values(\n",
    "    'feature-importance',\n",
    "    ascending=False\n",
    ").head(10)\n",
    "\n",
    "# define size of bar plot\n",
    "plt.figure(figsize=(10,8))\n",
    "\n",
    "# plot Seaborn bar chart\n",
    "sns.barplot(x=importances['feature-importance'], y=importances.index)\n",
    "\n",
    "# add chart labels\n",
    "plt.title('Random Forest Feature Importance')\n",
    "plt.xlabel('Importance')\n",
    "plt.ylabel('Word');"
   ]
  },
  {
   "cell_type": "markdown",
   "id": "624a2b54",
   "metadata": {},
   "source": [
    "The most important words used to classify subreddits are actually quite unexpected. In fact, the top 10 words are not words that I would consider useful in classification at all. They are all rather meaningless words, with the exception of 'advise' which could frankly go in either subreddit (magicTCG: advise on deck creation, mtgfinance: advise on investment targets)."
   ]
  },
  {
   "cell_type": "code",
   "execution_count": 139,
   "id": "cb147f2f",
   "metadata": {},
   "outputs": [
    {
     "data": {
      "text/plain": [
       "{'rf__n_estimators': 50,\n",
       " 'tvec__max_features': 5000,\n",
       " 'tvec__ngram_range': (1, 2)}"
      ]
     },
     "execution_count": 139,
     "metadata": {},
     "output_type": "execute_result"
    }
   ],
   "source": [
    "rf_tvec_gs.best_params_"
   ]
  },
  {
   "cell_type": "code",
   "execution_count": 140,
   "id": "72d37797",
   "metadata": {},
   "outputs": [
    {
     "data": {
      "text/plain": [
       "0.865152318215088"
      ]
     },
     "execution_count": 140,
     "metadata": {},
     "output_type": "execute_result"
    }
   ],
   "source": [
    "rf_tvec_gs.best_score_"
   ]
  },
  {
   "cell_type": "code",
   "execution_count": 141,
   "id": "bf4c53ff",
   "metadata": {
    "scrolled": false
   },
   "outputs": [
    {
     "name": "stdout",
     "output_type": "stream",
     "text": [
      "Accuracy = 0.8851063829787233\n",
      "Specificity = 0.895397489539749\n",
      "Sensitivity/Recall = 0.8744588744588745\n",
      "Precision = 0.8898678414096917\n",
      "F1 score = 0.8820960698689956\n"
     ]
    },
    {
     "data": {
      "image/png": "[encoded data removed]",
      "text/plain": [
       "<Figure size 432x288 with 2 Axes>"
      ]
     },
     "metadata": {
      "needs_background": "light"
     },
     "output_type": "display_data"
    }
   ],
   "source": [
    "# get metrics and plot confusion matrix\n",
    "modelmetric(rf_tvec_gs, x_test, y_test)"
   ]
  },
  {
   "cell_type": "code",
   "execution_count": 142,
   "id": "9640dda0",
   "metadata": {},
   "outputs": [],
   "source": [
    "# get misclassified\n",
    "rf_tvec_misclass = misclassified(rf_tvec_gs, x_test, y_test)"
   ]
  },
  {
   "cell_type": "code",
   "execution_count": 143,
   "id": "1b08a647",
   "metadata": {},
   "outputs": [
    {
     "data": {
      "text/plain": [
       "(54, 3)"
      ]
     },
     "execution_count": 143,
     "metadata": {},
     "output_type": "execute_result"
    }
   ],
   "source": [
    "# check if is sum of fp and fn\n",
    "rf_tvec_misclass.shape"
   ]
  },
  {
   "cell_type": "code",
   "execution_count": 144,
   "id": "4081723b",
   "metadata": {},
   "outputs": [
    {
     "data": {
      "text/html": [
       "<div>\n",
       "<style scoped>\n",
       "    .dataframe tbody tr th:only-of-type {\n",
       "        vertical-align: middle;\n",
       "    }\n",
       "\n",
       "    .dataframe tbody tr th {\n",
       "        vertical-align: top;\n",
       "    }\n",
       "\n",
       "    .dataframe thead th {\n",
       "        text-align: right;\n",
       "    }\n",
       "</style>\n",
       "<table border=\"1\" class=\"dataframe\">\n",
       "  <thead>\n",
       "    <tr style=\"text-align: right;\">\n",
       "      <th></th>\n",
       "      <th>predicted</th>\n",
       "      <th>actual</th>\n",
       "      <th>text</th>\n",
       "    </tr>\n",
       "  </thead>\n",
       "  <tbody>\n",
       "    <tr>\n",
       "      <th>23</th>\n",
       "      <td>0</td>\n",
       "      <td>1</td>\n",
       "      <td>Following my previous analyses (my latest was ...</td>\n",
       "    </tr>\n",
       "    <tr>\n",
       "      <th>34</th>\n",
       "      <td>0</td>\n",
       "      <td>1</td>\n",
       "      <td>Hello! I've been wanting to do a \"box opening\"...</td>\n",
       "    </tr>\n",
       "    <tr>\n",
       "      <th>46</th>\n",
       "      <td>0</td>\n",
       "      <td>1</td>\n",
       "      <td>Hello,\\n\\nI've been playing for about 2-3 mont...</td>\n",
       "    </tr>\n",
       "    <tr>\n",
       "      <th>52</th>\n",
       "      <td>1</td>\n",
       "      <td>0</td>\n",
       "      <td>I have a gilded drake that is a close call bet...</td>\n",
       "    </tr>\n",
       "    <tr>\n",
       "      <th>54</th>\n",
       "      <td>1</td>\n",
       "      <td>0</td>\n",
       "      <td>I've been getting a  500-Internal server error...</td>\n",
       "    </tr>\n",
       "  </tbody>\n",
       "</table>\n",
       "</div>"
      ],
      "text/plain": [
       "    predicted  actual                                               text\n",
       "23          0       1  Following my previous analyses (my latest was ...\n",
       "34          0       1  Hello! I've been wanting to do a \"box opening\"...\n",
       "46          0       1  Hello,\\n\\nI've been playing for about 2-3 mont...\n",
       "52          1       0  I have a gilded drake that is a close call bet...\n",
       "54          1       0  I've been getting a  500-Internal server error..."
      ]
     },
     "execution_count": 144,
     "metadata": {},
     "output_type": "execute_result"
    }
   ],
   "source": [
    "rf_tvec_misclass.head()"
   ]
  },
  {
   "cell_type": "code",
   "execution_count": 145,
   "id": "c1598068",
   "metadata": {
    "scrolled": true
   },
   "outputs": [
    {
     "data": {
      "image/png": "[encoded data removed]",
      "text/plain": [
       "<Figure size 432x288 with 1 Axes>"
      ]
     },
     "metadata": {
      "needs_background": "light"
     },
     "output_type": "display_data"
    }
   ],
   "source": [
    "# most commonly misclassified tokens\n",
    "plot_misclassified(rf_tvec_misclass, 'text', stoplist, 1, 3);"
   ]
  },
  {
   "cell_type": "markdown",
   "id": "3ad4525f",
   "metadata": {},
   "source": [
    "The list of misclassified words also seem rather unremarkable, sporting a lot of commonalities with the lists in the logistic regression permutations."
   ]
  },
  {
   "cell_type": "markdown",
   "id": "a6888dbf",
   "metadata": {},
   "source": [
    "### AdaBoostClassifier"
   ]
  },
  {
   "cell_type": "code",
   "execution_count": 146,
   "id": "bd97acea",
   "metadata": {},
   "outputs": [
    {
     "name": "stdout",
     "output_type": "stream",
     "text": [
      "Fitting 5 folds for each of 4 candidates, totalling 20 fits\n"
     ]
    }
   ],
   "source": [
    "ada_tvec_pipe = Pipeline([\n",
    "    ('tvec', TfidfVectorizer(stop_words=stoplist)),\n",
    "    ('ada', AdaBoostClassifier(base_estimator=DecisionTreeClassifier()))\n",
    "])\n",
    "\n",
    "ada_tvec_pipe_params = {\n",
    "    'tvec__max_features': [None], # tried 10000 as well\n",
    "    'tvec__ngram_range': [(1, 1)], # tried (2, 3) as well\n",
    "    'ada__n_estimators': [50, 100], # tried 150 as well\n",
    "    'ada__base_estimator__max_depth': [1], # tried 2 as well\n",
    "    'ada__learning_rate': [.8, .9] # tried 1.0 as well\n",
    "}\n",
    "\n",
    "ada_tvec_gs = GridSearchCV(\n",
    "    ada_tvec_pipe,\n",
    "    ada_tvec_pipe_params,\n",
    "    cv=5,\n",
    "    verbose=1\n",
    ")\n",
    "\n",
    "ada_tvec_gs.fit(x_train, y_train);"
   ]
  },
  {
   "cell_type": "code",
   "execution_count": 211,
   "id": "bb72aca5",
   "metadata": {},
   "outputs": [
    {
     "data": {
      "image/png": "[encoded data removed]",
      "text/plain": [
       "<Figure size 720x576 with 1 Axes>"
      ]
     },
     "metadata": {
      "needs_background": "light"
     },
     "output_type": "display_data"
    }
   ],
   "source": [
    "# get feature importances\n",
    "ada_feat = ada_tvec_gs.best_estimator_.named_steps['ada'].feature_importances_\n",
    "\n",
    "# revectorize to get list of words used (probably not best practice)\n",
    "tvec = TfidfVectorizer(stop_words=stoplist)\n",
    "word_df = pd.DataFrame(tvec.fit_transform(x_train).todense(), \n",
    "                          columns=tvec.get_feature_names())\n",
    "\n",
    "# a dict to hold feature_name: feature_importance\n",
    "feats = {} \n",
    "for feature, importance in zip(word_df.columns, ada_feat):\n",
    "    feats[feature] = importance \n",
    "\n",
    "# creating dataframe and limiting to 10 words descending\n",
    "importances = pd.DataFrame.from_dict(\n",
    "    feats,\n",
    "    orient='index'\n",
    ").rename(\n",
    "    columns={0: 'feature-importance'}\n",
    ").sort_values(\n",
    "    'feature-importance',\n",
    "    ascending=False\n",
    ").head(10)\n",
    "\n",
    "# define size of bar plot\n",
    "plt.figure(figsize=(10,8))\n",
    "\n",
    "# plot Seaborn bar chart\n",
    "sns.barplot(x=importances['feature-importance'], y=importances.index)\n",
    "\n",
    "# add chart labels\n",
    "plt.title('AdaBoost Feature Importance')\n",
    "plt.xlabel('Importance')\n",
    "plt.ylabel('Word');"
   ]
  },
  {
   "cell_type": "markdown",
   "id": "4085df62",
   "metadata": {},
   "source": [
    "Now the important features list makes much more sense. All these words, with the exception of 'play' can be classified as more predominantly in either subreddit. For example, 'value', 'valuable', 'price', 'foil', 'boxes' are all words that I would find more in the mtgfinance subreddit."
   ]
  },
  {
   "cell_type": "code",
   "execution_count": 148,
   "id": "f1b8eb25",
   "metadata": {},
   "outputs": [
    {
     "data": {
      "text/plain": [
       "{'ada__base_estimator__max_depth': 1,\n",
       " 'ada__learning_rate': 0.9,\n",
       " 'ada__n_estimators': 100,\n",
       " 'tvec__max_features': None,\n",
       " 'tvec__ngram_range': (1, 1)}"
      ]
     },
     "execution_count": 148,
     "metadata": {},
     "output_type": "execute_result"
    }
   ],
   "source": [
    "ada_tvec_gs.best_params_"
   ]
  },
  {
   "cell_type": "code",
   "execution_count": 149,
   "id": "7ebbcf89",
   "metadata": {},
   "outputs": [
    {
     "data": {
      "text/plain": [
       "0.8161732414628606"
      ]
     },
     "execution_count": 149,
     "metadata": {},
     "output_type": "execute_result"
    }
   ],
   "source": [
    "ada_tvec_gs.best_score_"
   ]
  },
  {
   "cell_type": "code",
   "execution_count": 150,
   "id": "abe67a0b",
   "metadata": {
    "scrolled": false
   },
   "outputs": [
    {
     "name": "stdout",
     "output_type": "stream",
     "text": [
      "Accuracy = 0.8489361702127659\n",
      "Specificity = 0.803347280334728\n",
      "Sensitivity/Recall = 0.8961038961038961\n",
      "Precision = 0.8149606299212598\n",
      "F1 score = 0.8536082474226804\n"
     ]
    },
    {
     "data": {
      "image/png": "[encoded data removed]",
      "text/plain": [
       "<Figure size 432x288 with 2 Axes>"
      ]
     },
     "metadata": {
      "needs_background": "light"
     },
     "output_type": "display_data"
    }
   ],
   "source": [
    "# get metrics and plot confusion matrix\n",
    "modelmetric(ada_tvec_gs, x_test, y_test)"
   ]
  },
  {
   "cell_type": "markdown",
   "id": "6c3b86f6",
   "metadata": {},
   "source": [
    "Even with the words above being correctly determined as strong classifiers, the model still made a lot of false positives (and way more misclassifications in general). This leads me to suspect that I have overestimated the presence of these words in the mtgfinance subreddit."
   ]
  },
  {
   "cell_type": "code",
   "execution_count": 151,
   "id": "11247acd",
   "metadata": {},
   "outputs": [],
   "source": [
    "# get misclassified\n",
    "ada_tvec_misclass = misclassified(ada_tvec_gs, x_test, y_test)"
   ]
  },
  {
   "cell_type": "code",
   "execution_count": 152,
   "id": "12a563c6",
   "metadata": {},
   "outputs": [
    {
     "data": {
      "text/plain": [
       "(71, 3)"
      ]
     },
     "execution_count": 152,
     "metadata": {},
     "output_type": "execute_result"
    }
   ],
   "source": [
    "# check if is sum of fp and fn\n",
    "ada_tvec_misclass.shape"
   ]
  },
  {
   "cell_type": "code",
   "execution_count": 153,
   "id": "d81ff9b4",
   "metadata": {},
   "outputs": [
    {
     "data": {
      "text/html": [
       "<div>\n",
       "<style scoped>\n",
       "    .dataframe tbody tr th:only-of-type {\n",
       "        vertical-align: middle;\n",
       "    }\n",
       "\n",
       "    .dataframe tbody tr th {\n",
       "        vertical-align: top;\n",
       "    }\n",
       "\n",
       "    .dataframe thead th {\n",
       "        text-align: right;\n",
       "    }\n",
       "</style>\n",
       "<table border=\"1\" class=\"dataframe\">\n",
       "  <thead>\n",
       "    <tr style=\"text-align: right;\">\n",
       "      <th></th>\n",
       "      <th>predicted</th>\n",
       "      <th>actual</th>\n",
       "      <th>text</th>\n",
       "    </tr>\n",
       "  </thead>\n",
       "  <tbody>\n",
       "    <tr>\n",
       "      <th>4</th>\n",
       "      <td>1</td>\n",
       "      <td>0</td>\n",
       "      <td>I received an email from TCGPlayer asking me i...</td>\n",
       "    </tr>\n",
       "    <tr>\n",
       "      <th>16</th>\n",
       "      <td>1</td>\n",
       "      <td>0</td>\n",
       "      <td>This promotion is a no brainer for every singl...</td>\n",
       "    </tr>\n",
       "    <tr>\n",
       "      <th>27</th>\n",
       "      <td>1</td>\n",
       "      <td>0</td>\n",
       "      <td>According To Mark Rosewater There Will Be No M...</td>\n",
       "    </tr>\n",
       "    <tr>\n",
       "      <th>31</th>\n",
       "      <td>1</td>\n",
       "      <td>0</td>\n",
       "      <td>So I had my first sale on TCG Player and I cli...</td>\n",
       "    </tr>\n",
       "    <tr>\n",
       "      <th>42</th>\n",
       "      <td>1</td>\n",
       "      <td>0</td>\n",
       "      <td>I just got my first arabian nights cards and I...</td>\n",
       "    </tr>\n",
       "  </tbody>\n",
       "</table>\n",
       "</div>"
      ],
      "text/plain": [
       "    predicted  actual                                               text\n",
       "4           1       0  I received an email from TCGPlayer asking me i...\n",
       "16          1       0  This promotion is a no brainer for every singl...\n",
       "27          1       0  According To Mark Rosewater There Will Be No M...\n",
       "31          1       0  So I had my first sale on TCG Player and I cli...\n",
       "42          1       0  I just got my first arabian nights cards and I..."
      ]
     },
     "execution_count": 153,
     "metadata": {},
     "output_type": "execute_result"
    }
   ],
   "source": [
    "ada_tvec_misclass.head()"
   ]
  },
  {
   "cell_type": "code",
   "execution_count": 154,
   "id": "580e2272",
   "metadata": {
    "scrolled": true
   },
   "outputs": [
    {
     "data": {
      "image/png": "[encoded data removed]",
      "text/plain": [
       "<Figure size 432x288 with 1 Axes>"
      ]
     },
     "metadata": {
      "needs_background": "light"
     },
     "output_type": "display_data"
    }
   ],
   "source": [
    "# most commonly misclassified tokens\n",
    "plot_misclassified(ada_tvec_misclass, 'text', stoplist, 1, 3);"
   ]
  },
  {
   "cell_type": "code",
   "execution_count": 155,
   "id": "fb03c444",
   "metadata": {
    "scrolled": true
   },
   "outputs": [
    {
     "data": {
      "image/png": "[encoded data removed]",
      "text/plain": [
       "<Figure size 432x288 with 1 Axes>"
      ]
     },
     "metadata": {
      "needs_background": "light"
     },
     "output_type": "display_data"
    }
   ],
   "source": [
    "# plot overall ROC AUC\n",
    "disp = plot_roc_curve(logreg_stemmed_tfidf_gs, x_stem_test, y_test, label='LR TFIDF Stem')\n",
    "plot_roc_curve(nb_tvec_gs, x_test, y_test, ax=disp.ax_, label='NB TFIDF');\n",
    "plot_roc_curve(bag_tvec_gs, x_test, y_test, ax=disp.ax_, label='Bagged TFIDF');\n",
    "plot_roc_curve(rf_tvec_gs, x_test, y_test, ax=disp.ax_, label='RandomForest TFIDF');\n",
    "plot_roc_curve(ada_tvec_gs, x_test, y_test, ax=disp.ax_, label='AdaBoost TFIDF');\n",
    "plt.plot([0, 1], [0, 1], label='baseline', linestyle='--');"
   ]
  },
  {
   "cell_type": "markdown",
   "id": "cb48a944",
   "metadata": {},
   "source": [
    "Strangely, the Logistic Regression model performs the best, followed closely by Naive Bayes. The tree based models performed poorly, with only RandomForest even putting up much of a fight."
   ]
  },
  {
   "cell_type": "markdown",
   "id": "522e556b",
   "metadata": {},
   "source": [
    "## Conclusions"
   ]
  },
  {
   "cell_type": "markdown",
   "id": "d8222c03",
   "metadata": {},
   "source": [
    "For an NLP classifier as specific as this, it appears that either a logistic regression or a Naive Bayes estimator model would work, with either a lemmatized or stemmed transformer."
   ]
  },
  {
   "cell_type": "markdown",
   "id": "5fdd4405",
   "metadata": {},
   "source": [
    "# TO DO"
   ]
  },
  {
   "cell_type": "markdown",
   "id": "b7684fd9",
   "metadata": {},
   "source": [
    "do conclusion, with table of results\n",
    "\n",
    "split into 3 notebooks"
   ]
  },
  {
   "cell_type": "code",
   "execution_count": null,
   "id": "10fff020",
   "metadata": {},
   "outputs": [],
   "source": []
  }
 ],
 "metadata": {
  "kernelspec": {
   "display_name": "Python 3",
   "language": "python",
   "name": "python3"
  },
  "language_info": {
   "codemirror_mode": {
    "name": "ipython",
    "version": 3
   },
   "file_extension": ".py",
   "mimetype": "text/x-python",
   "name": "python",
   "nbconvert_exporter": "python",
   "pygments_lexer": "ipython3",
   "version": "3.8.8"
  }
 },
 "nbformat": 4,
 "nbformat_minor": 5
}
