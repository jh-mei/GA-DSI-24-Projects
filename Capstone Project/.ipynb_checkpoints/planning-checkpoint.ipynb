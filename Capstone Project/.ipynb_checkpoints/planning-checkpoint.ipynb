{
 "cells": [
  {
   "cell_type": "markdown",
   "id": "de3c0a19",
   "metadata": {},
   "source": [
    "# Potential Topic 1\n",
    "\n",
    "### What is your problem statement? What will you actually be doing?\n",
    "\n",
    "Text Autocompleter to increase efficiency of email preparation using RoBERTa. The autocompleter will be tailored to industry to generate specific industry related terminology. In the context of this project it will autocomplete finance related emails.\n",
    "\n",
    "### Who is your audience? Why will they care?\n",
    "\n",
    "Anyone who works in the finance industry and sends emails.\n",
    "\n",
    "### What is your success metric? How will you know if you are actually solving the problem in a useful way?\n",
    "\n",
    "It is able to autocomplete sentences or phrases with a good level of accuracy.\n",
    "\n",
    "### What is your data source? What format is your data in? How much cleaning and munging will be required?\n",
    "\n",
    "Emails. Cleaning of relevant data vs irrelevant data.\n",
    "\n",
    "### What are potential challenges or obstacles and how will you mitigate them?\n",
    "\n",
    "Finding out what kind of industry specific terminology is commonly used.\n",
    "\n",
    "### Is this a reasonable project given the time constraints that you have?\n",
    "\n",
    "No idea yet."
   ]
  },
  {
   "cell_type": "markdown",
   "id": "9fa19a47",
   "metadata": {},
   "source": [
    "# Potential Topic 2\n",
    "\n",
    "### What is your problem statement? What will you actually be doing?\n",
    "\n",
    "Predictive Text Generator using GPT-2 or GPT-J-6B. Context is TBD.\n",
    "\n",
    "### Who is your audience? Why will they care?\n",
    "\n",
    "Rogue like game developers. They are always looking for a way to procedurally generate content, and this is one of them.\n",
    "\n",
    "### What is your success metric? How will you know if you are actually solving the problem in a useful way?\n",
    "\n",
    "Predicted text is coherent and complete. Grammar should be within acceptable standards.\n",
    "\n",
    "### What is your data source? What format is your data in? How much cleaning and munging will be required?\n",
    "\n",
    "Any textual data will be usable. Minimal cleaning of non-dictionary words.\n",
    "\n",
    "### What are potential challenges or obstacles and how will you mitigate them?\n",
    "\n",
    "Seems like training takes a long time.\n",
    "\n",
    "### Is this a reasonable project given the time constraints that you have?\n",
    "\n",
    "No idea yet."
   ]
  },
  {
   "cell_type": "markdown",
   "id": "f9914c37",
   "metadata": {},
   "source": [
    "# Potential Topic 3\n",
    "\n",
    "### What is your problem statement? What will you actually be doing?\n",
    "\n",
    "Chatbot that emulates empathy using basic RNN seq2seq model.\n",
    "\n",
    "### Who is your audience? Why will they care?\n",
    "\n",
    "Angry people who just need an outlet to vent at\n",
    "\n",
    "### What is your success metric? How will you know if you are actually solving the problem in a useful way?\n",
    "\n",
    "- Chatbot is able to respond in coherent, complete sentences. \n",
    "- Chatbot is able to utilize sentiment analysis to determine the overall mood of the person. \n",
    "- Chatbot will not generate any text that would worsen the mood of the person.\n",
    "\n",
    "### What is your data source? What format is your data in? How much cleaning and munging will be required?\n",
    "\n",
    "There are several dedicated question answer datasets out there for chatbot training. Not a lot of cleaning will be required.\n",
    "\n",
    "### What are potential challenges or obstacles and how will you mitigate them?\n",
    "\n",
    "Learning how to use the dataset.\n",
    "\n",
    "### Is this a reasonable project given the time constraints that you have?\n",
    "\n",
    "Not sure yet."
   ]
  },
  {
   "cell_type": "markdown",
   "id": "067a3eb4",
   "metadata": {},
   "source": [
    "look at bidirectional models and attention models\n",
    "\n",
    "use keras.preprocessing.text.Tokenizer\n",
    "\n",
    "look at what GPT 3 can do"
   ]
  },
  {
   "cell_type": "markdown",
   "id": "dfc1c422",
   "metadata": {},
   "source": [
    "# DIARY"
   ]
  },
  {
   "cell_type": "markdown",
   "id": "83d90490",
   "metadata": {},
   "source": [
    "Looking at Enron dataset\n",
    "\n",
    "1. Emails are sorted by personnel and then their personal folders. Emails themselves are unnamed, with only generic numbers to differentiate them\n",
    "\n",
    "2. Emails are in MIME format. Need to read up more about that and how to use it.\n",
    "\n",
    "3. Apparently email library is useful, specifically email.parser import Parser\n",
    "\n",
    "Model to be used\n",
    "\n",
    "1. To look at attention models\n",
    "\n",
    "2. Alternatively, NLTK\n",
    "\n",
    "3. Rate: Modelling a corpus of 8k unique words takes 10 mins with 20 epochs. "
   ]
  },
  {
   "cell_type": "markdown",
   "id": "a804238d",
   "metadata": {},
   "source": [
    "prepare demo\n",
    "\n",
    "share about the challenges\n",
    "\n",
    "what is a major change you had along the way\n",
    "\n",
    "show all models using flask\n"
   ]
  },
  {
   "cell_type": "code",
   "execution_count": null,
   "id": "a4c757a4",
   "metadata": {},
   "outputs": [],
   "source": []
  }
 ],
 "metadata": {
  "kernelspec": {
   "display_name": "Python 3",
   "language": "python",
   "name": "python3"
  },
  "language_info": {
   "codemirror_mode": {
    "name": "ipython",
    "version": 3
   },
   "file_extension": ".py",
   "mimetype": "text/x-python",
   "name": "python",
   "nbconvert_exporter": "python",
   "pygments_lexer": "ipython3",
   "version": "3.8.8"
  }
 },
 "nbformat": 4,
 "nbformat_minor": 5
}
