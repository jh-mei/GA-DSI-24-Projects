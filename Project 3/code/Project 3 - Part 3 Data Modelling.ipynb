{
 "cells": [
  {
   "cell_type": "markdown",
   "id": "17f6a725",
   "metadata": {},
   "source": [
    "<img src=\"http://imgur.com/1ZcRyrc.png\" style=\"float: left; margin: 20px; height: 55px\">\n",
    "\n",
    "# Project 3 - Part 3: Data Modelling"
   ]
  },
  {
   "cell_type": "markdown",
   "id": "8e1f1d1d",
   "metadata": {},
   "source": [
    "### Contents:\n",
    "- [Data Modelling - Logistic Regression](#Data-Modelling-\\--Logistic-Regression)\n",
    "- [Data Modelling - Others](#Data-Modelling-\\--Others)\n",
    "- [Conclusions and Recommendations](#Conclusions-and-Recommendations)"
   ]
  },
  {
   "cell_type": "markdown",
   "id": "9d01d08b",
   "metadata": {},
   "source": [
    "### Library Imports"
   ]
  },
  {
   "cell_type": "code",
   "execution_count": 1,
   "id": "acc2deea",
   "metadata": {},
   "outputs": [],
   "source": [
    "# basic libraries\n",
    "import numpy as np\n",
    "import pandas as pd\n",
    "\n",
    "# nlp libraries\n",
    "from nltk.tokenize import sent_tokenize, word_tokenize, RegexpTokenizer\n",
    "from nltk.stem import WordNetLemmatizer\n",
    "from nltk.stem.porter import PorterStemmer\n",
    "from nltk.corpus import stopwords\n",
    "import re\n",
    "\n",
    "# visualization libraries\n",
    "import matplotlib.pyplot as plt\n",
    "import seaborn as sns\n",
    "\n",
    "# sklearn libraries\n",
    "from sklearn.feature_extraction import text\n",
    "from sklearn.feature_extraction.text import CountVectorizer, TfidfVectorizer\n",
    "from sklearn.model_selection import train_test_split, GridSearchCV\n",
    "from sklearn.pipeline import Pipeline\n",
    "from sklearn.naive_bayes import MultinomialNB\n",
    "from sklearn.linear_model import LogisticRegression\n",
    "from sklearn.tree import DecisionTreeClassifier\n",
    "from sklearn.ensemble import (\n",
    "    BaggingClassifier,\n",
    "    RandomForestClassifier,\n",
    "    GradientBoostingClassifier,\n",
    "    AdaBoostClassifier,\n",
    "    VotingClassifier\n",
    ")\n",
    "    \n",
    "from sklearn.metrics import (\n",
    "    confusion_matrix, \n",
    "    plot_confusion_matrix,\n",
    "    accuracy_score,\n",
    "    plot_roc_curve,\n",
    "    roc_auc_score,\n",
    "    recall_score,\n",
    "    precision_score,\n",
    "    f1_score\n",
    ")\n",
    "\n",
    "from ast import literal_eval\n",
    "\n",
    "%matplotlib inline"
   ]
  },
  {
   "cell_type": "markdown",
   "id": "d107993e",
   "metadata": {},
   "source": [
    "### File Imports"
   ]
  },
  {
   "cell_type": "code",
   "execution_count": 2,
   "id": "26419e53",
   "metadata": {},
   "outputs": [],
   "source": [
    "# import clean csv\n",
    "tcg_df = pd.read_csv('../datasets/tcg_df_part2.csv')\n",
    "mtgfin_df = pd.read_csv('../datasets/mtgfin_df_part2.csv')\n",
    "\n",
    "# revert csv export conversion of lists to strings\n",
    "tcg_df['lemmatized'] = tcg_df['lemmatized'].apply(literal_eval)\n",
    "tcg_df['stemmed'] = tcg_df['stemmed'].apply(literal_eval)\n",
    "tcg_df['tokens'] = tcg_df['tokens'].apply(literal_eval)\n",
    "mtgfin_df['tokens'] = mtgfin_df['tokens'].apply(literal_eval)\n",
    "mtgfin_df['lemmatized'] = mtgfin_df['lemmatized'].apply(literal_eval)\n",
    "mtgfin_df['stemmed'] = mtgfin_df['stemmed'].apply(literal_eval)"
   ]
  },
  {
   "cell_type": "markdown",
   "id": "ef0e7e6f",
   "metadata": {},
   "source": [
    "### Functions Used"
   ]
  },
  {
   "cell_type": "code",
   "execution_count": 3,
   "id": "a8ef7aa1",
   "metadata": {},
   "outputs": [],
   "source": [
    "def modelmetric(model, x_test, y_test):\n",
    "    y_pred = model.predict(x_test) # get predictions\n",
    "    tn, fp, fn, tp = confusion_matrix(y_test, y_pred).ravel() # instantiate con matrix\n",
    "    accuracy = accuracy_score(y_test, y_pred) # setting up metrics\n",
    "    specificity = tn/(tn+fp)\n",
    "    recall = recall_score(y_test, y_pred)\n",
    "    precision = precision_score(y_test, y_pred)\n",
    "    f1score = f1_score(y_test, y_pred)\n",
    "    print(f'Accuracy = {accuracy}') # printing metrics\n",
    "    print(f'Specificity = {specificity}')\n",
    "    print(f'Sensitivity/Recall = {recall}')\n",
    "    print(f'Precision = {precision}')\n",
    "    print(f'F1 score = {f1score}')\n",
    "    plot_confusion_matrix(model, x_test, y_test, cmap='Blues',  # plot con matrix\n",
    "                      values_format='d')"
   ]
  },
  {
   "cell_type": "code",
   "execution_count": 4,
   "id": "7d628d33",
   "metadata": {},
   "outputs": [],
   "source": [
    "def misclassified(model, x_test, y_test):\n",
    "    results = pd.DataFrame(model.predict(x_test), columns=['predicted'])\n",
    "    results['actual'] = y_test.to_frame().reset_index(drop=True)\n",
    "    results['text'] = x_test.to_frame().reset_index(drop=True)\n",
    "    return results.loc[(results['predicted'] != results['actual']), :]"
   ]
  },
  {
   "cell_type": "code",
   "execution_count": 5,
   "id": "ae964068",
   "metadata": {},
   "outputs": [],
   "source": [
    "def plot_misclassified(df, col, stoplist, n1, n2):\n",
    "    cvec = CountVectorizer(stop_words=stoplist, ngram_range=(n1, n2)) # instantiate\n",
    "    vec_ = cvec.fit_transform(df[col]) # fit transform\n",
    "    vec_df = pd.DataFrame(vec_.todense(),\n",
    "                          columns=cvec.get_feature_names()) # convert to df\n",
    "    x = vec_df.sum().sort_values(ascending=False).head(20).plot(kind='barh') # plot\n",
    "    return x"
   ]
  },
  {
   "cell_type": "markdown",
   "id": "fb833f0b",
   "metadata": {},
   "source": [
    "### State Imports"
   ]
  },
  {
   "cell_type": "code",
   "execution_count": 6,
   "id": "0e3facd4",
   "metadata": {},
   "outputs": [],
   "source": [
    "stoplist = text.ENGLISH_STOP_WORDS.union(\n",
    "    [\n",
    "        'lt',\n",
    "        'gt',\n",
    "        'tt',\n",
    "        'annotation',\n",
    "        'amp',\n",
    "        '000',\n",
    "        'catid',\n",
    "        '2021',\n",
    "        '21',\n",
    "        'tcgplayer',\n",
    "        'cardkingdom',\n",
    "        '99',\n",
    "        'dollar',\n",
    "        'today',\n",
    "        'copies',\n",
    "        'available',\n",
    "        'ck',\n",
    "        'kingdom',\n",
    "        'cards',\n",
    "        'card',\n",
    "        'magic'\n",
    "    ]\n",
    ")"
   ]
  },
  {
   "cell_type": "markdown",
   "id": "3622f608",
   "metadata": {},
   "source": [
    "## Data Modelling - Logistic Regression"
   ]
  },
  {
   "cell_type": "markdown",
   "id": "8b0dad46",
   "metadata": {},
   "source": [
    "We will label a post 1 if it originated in magicTCG, and 0 otherwise."
   ]
  },
  {
   "cell_type": "code",
   "execution_count": 7,
   "id": "a394a300",
   "metadata": {},
   "outputs": [],
   "source": [
    "# create label column\n",
    "tcg_df['label'] = 1\n",
    "mtgfin_df['label'] = 0"
   ]
  },
  {
   "cell_type": "code",
   "execution_count": 8,
   "id": "70acf725",
   "metadata": {},
   "outputs": [
    {
     "data": {
      "text/plain": [
       "(922, 5)"
      ]
     },
     "execution_count": 8,
     "metadata": {},
     "output_type": "execute_result"
    }
   ],
   "source": [
    "tcg_df.shape"
   ]
  },
  {
   "cell_type": "code",
   "execution_count": 9,
   "id": "a7151be7",
   "metadata": {},
   "outputs": [
    {
     "data": {
      "text/plain": [
       "(957, 5)"
      ]
     },
     "execution_count": 9,
     "metadata": {},
     "output_type": "execute_result"
    }
   ],
   "source": [
    "mtgfin_df.shape"
   ]
  },
  {
   "cell_type": "code",
   "execution_count": 10,
   "id": "8ba58dd8",
   "metadata": {},
   "outputs": [],
   "source": [
    "# merge dataframes\n",
    "final_df = pd.concat([tcg_df, mtgfin_df], axis=0).reset_index(drop=True)"
   ]
  },
  {
   "cell_type": "markdown",
   "id": "c582f9fc",
   "metadata": {},
   "source": [
    "### No Lemmatizing or Stemming - CVec Logistic Regression"
   ]
  },
  {
   "cell_type": "code",
   "execution_count": 11,
   "id": "a04203d1",
   "metadata": {},
   "outputs": [],
   "source": [
    "# using alltext first\n",
    "x = final_df['alltext'] # series because going to cvec\n",
    "y = final_df['label']\n",
    "\n",
    "# train test split\n",
    "x_train, x_test, y_train, y_test = train_test_split(\n",
    "    x,\n",
    "    y,\n",
    "    stratify=y,\n",
    "    random_state=42)"
   ]
  },
  {
   "cell_type": "code",
   "execution_count": 12,
   "id": "c5d8cce7",
   "metadata": {},
   "outputs": [
    {
     "data": {
      "text/plain": [
       "0    0.509581\n",
       "1    0.490419\n",
       "Name: label, dtype: float64"
      ]
     },
     "execution_count": 12,
     "metadata": {},
     "output_type": "execute_result"
    }
   ],
   "source": [
    "# baseline accuracy\n",
    "y_train.value_counts(normalize=True)"
   ]
  },
  {
   "cell_type": "code",
   "execution_count": 13,
   "id": "a94c9378",
   "metadata": {
    "scrolled": true
   },
   "outputs": [
    {
     "name": "stdout",
     "output_type": "stream",
     "text": [
      "Fitting 5 folds for each of 6 candidates, totalling 30 fits\n"
     ]
    }
   ],
   "source": [
    "logreg_cvec_pipe = Pipeline([\n",
    "    ('cvec', CountVectorizer(stop_words=stoplist)),\n",
    "    ('logreg', LogisticRegression(solver='lbfgs'))\n",
    "])\n",
    "\n",
    "logreg_cvec_pipe_params = {\n",
    "    'cvec__max_features': [None, 5000, 10000],\n",
    "    'cvec__ngram_range': [(1, 2), (1, 3)] # also tried (1, 1)\n",
    "}\n",
    "\n",
    "logreg_cvec_gs = GridSearchCV(\n",
    "    logreg_cvec_pipe,\n",
    "    logreg_cvec_pipe_params,\n",
    "    cv=5,\n",
    "    verbose=1\n",
    ")\n",
    "\n",
    "logreg_cvec_gs.fit(x_train, y_train);"
   ]
  },
  {
   "cell_type": "code",
   "execution_count": 14,
   "id": "fb177659",
   "metadata": {},
   "outputs": [
    {
     "data": {
      "text/plain": [
       "{'cvec__max_features': None, 'cvec__ngram_range': (1, 2)}"
      ]
     },
     "execution_count": 14,
     "metadata": {},
     "output_type": "execute_result"
    }
   ],
   "source": [
    "logreg_cvec_gs.best_params_"
   ]
  },
  {
   "cell_type": "code",
   "execution_count": 15,
   "id": "d78085d3",
   "metadata": {},
   "outputs": [
    {
     "data": {
      "text/plain": [
       "0.86230534312612"
      ]
     },
     "execution_count": 15,
     "metadata": {},
     "output_type": "execute_result"
    }
   ],
   "source": [
    "logreg_cvec_gs.best_score_"
   ]
  },
  {
   "cell_type": "code",
   "execution_count": 16,
   "id": "5af220dd",
   "metadata": {},
   "outputs": [
    {
     "name": "stdout",
     "output_type": "stream",
     "text": [
      "Accuracy = 0.8851063829787233\n",
      "Specificity = 0.8702928870292888\n",
      "Sensitivity/Recall = 0.9004329004329005\n",
      "Precision = 0.8702928870292888\n",
      "F1 score = 0.8851063829787235\n"
     ]
    },
    {
     "data": {
      "image/png": "[encoded data removed]",
      "text/plain": [
       "<Figure size 432x288 with 2 Axes>"
      ]
     },
     "metadata": {
      "needs_background": "light"
     },
     "output_type": "display_data"
    }
   ],
   "source": [
    "# get metrics and plot confusion matrix\n",
    "modelmetric(logreg_cvec_gs, x_test, y_test)"
   ]
  },
  {
   "cell_type": "code",
   "execution_count": 17,
   "id": "15083a06",
   "metadata": {},
   "outputs": [
    {
     "data": {
      "text/plain": [
       "(54, 3)"
      ]
     },
     "execution_count": 17,
     "metadata": {},
     "output_type": "execute_result"
    }
   ],
   "source": [
    "# get misclassified\n",
    "logreg_cvec_misclass = misclassified(logreg_cvec_gs, x_test, y_test)\n",
    "\n",
    "# check if is sum of fp and fn\n",
    "logreg_cvec_misclass.shape"
   ]
  },
  {
   "cell_type": "code",
   "execution_count": 18,
   "id": "dcb2b4e1",
   "metadata": {
    "scrolled": true
   },
   "outputs": [
    {
     "data": {
      "text/html": [
       "<div>\n",
       "<style scoped>\n",
       "    .dataframe tbody tr th:only-of-type {\n",
       "        vertical-align: middle;\n",
       "    }\n",
       "\n",
       "    .dataframe tbody tr th {\n",
       "        vertical-align: top;\n",
       "    }\n",
       "\n",
       "    .dataframe thead th {\n",
       "        text-align: right;\n",
       "    }\n",
       "</style>\n",
       "<table border=\"1\" class=\"dataframe\">\n",
       "  <thead>\n",
       "    <tr style=\"text-align: right;\">\n",
       "      <th></th>\n",
       "      <th>predicted</th>\n",
       "      <th>actual</th>\n",
       "      <th>text</th>\n",
       "    </tr>\n",
       "  </thead>\n",
       "  <tbody>\n",
       "    <tr>\n",
       "      <th>23</th>\n",
       "      <td>0</td>\n",
       "      <td>1</td>\n",
       "      <td>Following my previous analyses (my latest was ...</td>\n",
       "    </tr>\n",
       "    <tr>\n",
       "      <th>32</th>\n",
       "      <td>1</td>\n",
       "      <td>0</td>\n",
       "      <td>Hello to MTGFinance people everywhere!\\n\\nSome...</td>\n",
       "    </tr>\n",
       "    <tr>\n",
       "      <th>46</th>\n",
       "      <td>0</td>\n",
       "      <td>1</td>\n",
       "      <td>Hello,\\n\\nI've been playing for about 2-3 mont...</td>\n",
       "    </tr>\n",
       "    <tr>\n",
       "      <th>52</th>\n",
       "      <td>1</td>\n",
       "      <td>0</td>\n",
       "      <td>I have a gilded drake that is a close call bet...</td>\n",
       "    </tr>\n",
       "    <tr>\n",
       "      <th>54</th>\n",
       "      <td>1</td>\n",
       "      <td>0</td>\n",
       "      <td>I've been getting a  500-Internal server error...</td>\n",
       "    </tr>\n",
       "  </tbody>\n",
       "</table>\n",
       "</div>"
      ],
      "text/plain": [
       "    predicted  actual                                               text\n",
       "23          0       1  Following my previous analyses (my latest was ...\n",
       "32          1       0  Hello to MTGFinance people everywhere!\\n\\nSome...\n",
       "46          0       1  Hello,\\n\\nI've been playing for about 2-3 mont...\n",
       "52          1       0  I have a gilded drake that is a close call bet...\n",
       "54          1       0  I've been getting a  500-Internal server error..."
      ]
     },
     "execution_count": 18,
     "metadata": {},
     "output_type": "execute_result"
    }
   ],
   "source": [
    "logreg_cvec_misclass.head()"
   ]
  },
  {
   "cell_type": "code",
   "execution_count": 19,
   "id": "7c134e79",
   "metadata": {},
   "outputs": [
    {
     "data": {
      "image/png": "[encoded data removed]",
      "text/plain": [
       "<Figure size 432x288 with 1 Axes>"
      ]
     },
     "metadata": {
      "needs_background": "light"
     },
     "output_type": "display_data"
    }
   ],
   "source": [
    "# most commonly misclassified tokens\n",
    "plot_misclassified(logreg_cvec_misclass, 'text', stoplist, 1, 2);"
   ]
  },
  {
   "cell_type": "markdown",
   "id": "503996c9",
   "metadata": {},
   "source": [
    "The most commonly misclassified tokens make sense, as they are very generic words. The top 3 non-stopword-ish misclassified tokens, 'digital', 'new' and 'set' are also words that would fit very well into either subreddit.\n",
    "\n",
    "However, based on experience, the word 'box' should be more commonly associated with /r/mtgfinance and the word 'commander' should be more commonly associated with /r/magicTCG, and thus shouldn't be misclassified so often."
   ]
  },
  {
   "cell_type": "markdown",
   "id": "cd3ef18c",
   "metadata": {},
   "source": [
    "### No Lemmatizing or Stemming - TF-IDF Logistic Regression"
   ]
  },
  {
   "cell_type": "code",
   "execution_count": 20,
   "id": "f3850671",
   "metadata": {},
   "outputs": [
    {
     "name": "stdout",
     "output_type": "stream",
     "text": [
      "Fitting 5 folds for each of 6 candidates, totalling 30 fits\n"
     ]
    }
   ],
   "source": [
    "logreg_tfidf_pipe = Pipeline([\n",
    "    ('tvec', TfidfVectorizer(stop_words=stoplist)),\n",
    "    ('logreg', LogisticRegression(solver='lbfgs'))\n",
    "])\n",
    "\n",
    "logreg_tfidf_pipe_params = {\n",
    "    'tvec__max_features': [None, 10000, 15000], # also tried 5000\n",
    "    'tvec__ngram_range': [(1, 2), (1, 3)] # also tried (1, 1)\n",
    "}\n",
    "\n",
    "logreg_tfidf_gs = GridSearchCV(\n",
    "    logreg_tfidf_pipe,\n",
    "    logreg_tfidf_pipe_params,\n",
    "    cv=5,\n",
    "    verbose=1\n",
    ")\n",
    "\n",
    "logreg_tfidf_gs.fit(x_train, y_train);"
   ]
  },
  {
   "cell_type": "code",
   "execution_count": 21,
   "id": "4fae3982",
   "metadata": {},
   "outputs": [
    {
     "data": {
      "text/plain": [
       "{'tvec__max_features': 10000, 'tvec__ngram_range': (1, 2)}"
      ]
     },
     "execution_count": 21,
     "metadata": {},
     "output_type": "execute_result"
    }
   ],
   "source": [
    "logreg_tfidf_gs.best_params_"
   ]
  },
  {
   "cell_type": "code",
   "execution_count": 22,
   "id": "a8d98bc1",
   "metadata": {},
   "outputs": [
    {
     "data": {
      "text/plain": [
       "0.8750940157997021"
      ]
     },
     "execution_count": 22,
     "metadata": {},
     "output_type": "execute_result"
    }
   ],
   "source": [
    "logreg_tfidf_gs.best_score_"
   ]
  },
  {
   "cell_type": "code",
   "execution_count": 23,
   "id": "2330478a",
   "metadata": {},
   "outputs": [
    {
     "name": "stdout",
     "output_type": "stream",
     "text": [
      "Accuracy = 0.8978723404255319\n",
      "Specificity = 0.9037656903765691\n",
      "Sensitivity/Recall = 0.8917748917748918\n",
      "Precision = 0.8995633187772926\n",
      "F1 score = 0.8956521739130435\n"
     ]
    },
    {
     "data": {
      "image/png": "[encoded data removed]",
      "text/plain": [
       "<Figure size 432x288 with 2 Axes>"
      ]
     },
     "metadata": {
      "needs_background": "light"
     },
     "output_type": "display_data"
    }
   ],
   "source": [
    "# get metrics and plot confusion matrix\n",
    "modelmetric(logreg_tfidf_gs, x_test, y_test)"
   ]
  },
  {
   "cell_type": "code",
   "execution_count": 24,
   "id": "68044181",
   "metadata": {},
   "outputs": [],
   "source": [
    "# get misclassified\n",
    "logreg_tfidf_misclass = misclassified(logreg_tfidf_gs, x_test, y_test)"
   ]
  },
  {
   "cell_type": "code",
   "execution_count": 25,
   "id": "a947ea93",
   "metadata": {},
   "outputs": [
    {
     "data": {
      "text/plain": [
       "(48, 3)"
      ]
     },
     "execution_count": 25,
     "metadata": {},
     "output_type": "execute_result"
    }
   ],
   "source": [
    "# check if is sum of fp and fn\n",
    "logreg_tfidf_misclass.shape"
   ]
  },
  {
   "cell_type": "code",
   "execution_count": 26,
   "id": "0a69c3c8",
   "metadata": {},
   "outputs": [
    {
     "data": {
      "text/html": [
       "<div>\n",
       "<style scoped>\n",
       "    .dataframe tbody tr th:only-of-type {\n",
       "        vertical-align: middle;\n",
       "    }\n",
       "\n",
       "    .dataframe tbody tr th {\n",
       "        vertical-align: top;\n",
       "    }\n",
       "\n",
       "    .dataframe thead th {\n",
       "        text-align: right;\n",
       "    }\n",
       "</style>\n",
       "<table border=\"1\" class=\"dataframe\">\n",
       "  <thead>\n",
       "    <tr style=\"text-align: right;\">\n",
       "      <th></th>\n",
       "      <th>predicted</th>\n",
       "      <th>actual</th>\n",
       "      <th>text</th>\n",
       "    </tr>\n",
       "  </thead>\n",
       "  <tbody>\n",
       "    <tr>\n",
       "      <th>23</th>\n",
       "      <td>0</td>\n",
       "      <td>1</td>\n",
       "      <td>Following my previous analyses (my latest was ...</td>\n",
       "    </tr>\n",
       "    <tr>\n",
       "      <th>32</th>\n",
       "      <td>1</td>\n",
       "      <td>0</td>\n",
       "      <td>Hello to MTGFinance people everywhere!\\n\\nSome...</td>\n",
       "    </tr>\n",
       "    <tr>\n",
       "      <th>46</th>\n",
       "      <td>0</td>\n",
       "      <td>1</td>\n",
       "      <td>Hello,\\n\\nI've been playing for about 2-3 mont...</td>\n",
       "    </tr>\n",
       "    <tr>\n",
       "      <th>52</th>\n",
       "      <td>1</td>\n",
       "      <td>0</td>\n",
       "      <td>I have a gilded drake that is a close call bet...</td>\n",
       "    </tr>\n",
       "    <tr>\n",
       "      <th>54</th>\n",
       "      <td>1</td>\n",
       "      <td>0</td>\n",
       "      <td>I've been getting a  500-Internal server error...</td>\n",
       "    </tr>\n",
       "  </tbody>\n",
       "</table>\n",
       "</div>"
      ],
      "text/plain": [
       "    predicted  actual                                               text\n",
       "23          0       1  Following my previous analyses (my latest was ...\n",
       "32          1       0  Hello to MTGFinance people everywhere!\\n\\nSome...\n",
       "46          0       1  Hello,\\n\\nI've been playing for about 2-3 mont...\n",
       "52          1       0  I have a gilded drake that is a close call bet...\n",
       "54          1       0  I've been getting a  500-Internal server error..."
      ]
     },
     "execution_count": 26,
     "metadata": {},
     "output_type": "execute_result"
    }
   ],
   "source": [
    "logreg_tfidf_misclass.head()"
   ]
  },
  {
   "cell_type": "code",
   "execution_count": 27,
   "id": "edeff855",
   "metadata": {
    "scrolled": false
   },
   "outputs": [
    {
     "data": {
      "image/png": "[encoded data removed]",
      "text/plain": [
       "<Figure size 432x288 with 1 Axes>"
      ]
     },
     "metadata": {
      "needs_background": "light"
     },
     "output_type": "display_data"
    }
   ],
   "source": [
    "# most commonly misclassified tokens\n",
    "plot_misclassified(logreg_tfidf_misclass, 'text', stoplist, 1, 2);"
   ]
  },
  {
   "cell_type": "markdown",
   "id": "51b9abab",
   "metadata": {},
   "source": [
    "Again, the most commonly misclassified tokens, 'digital' and 'wotc' are generic words that can fit into either subreddit. Interestingly, 'new' and 'set' are much more likely to be misclassified now."
   ]
  },
  {
   "cell_type": "markdown",
   "id": "c38b3646",
   "metadata": {},
   "source": [
    "### Lemmatized - Cvec Logistic Regression"
   ]
  },
  {
   "cell_type": "code",
   "execution_count": 28,
   "id": "22c86d20",
   "metadata": {
    "scrolled": true
   },
   "outputs": [],
   "source": [
    "# joining into single string\n",
    "final_df['lemmatized'] = final_df['lemmatized'].apply(lambda x: ' '.join(x))"
   ]
  },
  {
   "cell_type": "code",
   "execution_count": 29,
   "id": "6d3bbfb1",
   "metadata": {},
   "outputs": [],
   "source": [
    "# using lemmatized now\n",
    "x_lemm = final_df['lemmatized'] # series because going to cvec\n",
    "y = final_df['label']\n",
    "\n",
    "# train test split\n",
    "x_lemm_train, x_lemm_test, y_train, y_test = train_test_split(\n",
    "    x_lemm,\n",
    "    y,\n",
    "    stratify=y,\n",
    "    random_state=42)"
   ]
  },
  {
   "cell_type": "code",
   "execution_count": 30,
   "id": "bdc77f38",
   "metadata": {},
   "outputs": [
    {
     "name": "stdout",
     "output_type": "stream",
     "text": [
      "Fitting 5 folds for each of 6 candidates, totalling 30 fits\n"
     ]
    }
   ],
   "source": [
    "logreg_lemmatized_pipe = Pipeline([\n",
    "    ('cvec', CountVectorizer(stop_words=stoplist)),\n",
    "    ('logreg', LogisticRegression(solver='lbfgs'))\n",
    "])\n",
    "\n",
    "logreg_lemmatized_pipe_params = {\n",
    "    'cvec__max_features': [None, 5000, 10000],\n",
    "    'cvec__ngram_range': [(1, 2), (1, 3)] # also tried (1, 1)\n",
    "}\n",
    "\n",
    "logreg_lemmatized_gs = GridSearchCV(\n",
    "    logreg_lemmatized_pipe,\n",
    "    logreg_lemmatized_pipe_params,\n",
    "    cv=5,\n",
    "    verbose=1\n",
    ")\n",
    "\n",
    "logreg_lemmatized_gs.fit(x_lemm_train, y_train);"
   ]
  },
  {
   "cell_type": "code",
   "execution_count": 31,
   "id": "f1b6d174",
   "metadata": {},
   "outputs": [
    {
     "data": {
      "text/plain": [
       "{'cvec__max_features': None, 'cvec__ngram_range': (1, 2)}"
      ]
     },
     "execution_count": 31,
     "metadata": {},
     "output_type": "execute_result"
    }
   ],
   "source": [
    "logreg_lemmatized_gs.best_params_"
   ]
  },
  {
   "cell_type": "code",
   "execution_count": 32,
   "id": "f39a45b3",
   "metadata": {},
   "outputs": [
    {
     "data": {
      "text/plain": [
       "0.8630196108124479"
      ]
     },
     "execution_count": 32,
     "metadata": {},
     "output_type": "execute_result"
    }
   ],
   "source": [
    "logreg_lemmatized_gs.best_score_"
   ]
  },
  {
   "cell_type": "code",
   "execution_count": 33,
   "id": "dd2500f7",
   "metadata": {
    "scrolled": false
   },
   "outputs": [
    {
     "name": "stdout",
     "output_type": "stream",
     "text": [
      "Accuracy = 0.9085106382978724\n",
      "Specificity = 0.8828451882845189\n",
      "Sensitivity/Recall = 0.935064935064935\n",
      "Precision = 0.8852459016393442\n",
      "F1 score = 0.9094736842105262\n"
     ]
    },
    {
     "data": {
      "image/png": "[encoded data removed]",
      "text/plain": [
       "<Figure size 432x288 with 2 Axes>"
      ]
     },
     "metadata": {
      "needs_background": "light"
     },
     "output_type": "display_data"
    }
   ],
   "source": [
    "# get metrics and plot confusion matrix\n",
    "modelmetric(logreg_lemmatized_gs, x_lemm_test, y_test)"
   ]
  },
  {
   "cell_type": "code",
   "execution_count": 34,
   "id": "b2a0efdc",
   "metadata": {},
   "outputs": [],
   "source": [
    "# get misclassified\n",
    "logreg_lemmatized_misclass = misclassified(logreg_lemmatized_gs, x_lemm_test, y_test)"
   ]
  },
  {
   "cell_type": "code",
   "execution_count": 35,
   "id": "b14e185d",
   "metadata": {},
   "outputs": [
    {
     "data": {
      "text/plain": [
       "(43, 3)"
      ]
     },
     "execution_count": 35,
     "metadata": {},
     "output_type": "execute_result"
    }
   ],
   "source": [
    "# check if is sum of fp and fn\n",
    "logreg_lemmatized_misclass.shape"
   ]
  },
  {
   "cell_type": "code",
   "execution_count": 36,
   "id": "b628e25d",
   "metadata": {},
   "outputs": [
    {
     "data": {
      "text/html": [
       "<div>\n",
       "<style scoped>\n",
       "    .dataframe tbody tr th:only-of-type {\n",
       "        vertical-align: middle;\n",
       "    }\n",
       "\n",
       "    .dataframe tbody tr th {\n",
       "        vertical-align: top;\n",
       "    }\n",
       "\n",
       "    .dataframe thead th {\n",
       "        text-align: right;\n",
       "    }\n",
       "</style>\n",
       "<table border=\"1\" class=\"dataframe\">\n",
       "  <thead>\n",
       "    <tr style=\"text-align: right;\">\n",
       "      <th></th>\n",
       "      <th>predicted</th>\n",
       "      <th>actual</th>\n",
       "      <th>text</th>\n",
       "    </tr>\n",
       "  </thead>\n",
       "  <tbody>\n",
       "    <tr>\n",
       "      <th>23</th>\n",
       "      <td>0</td>\n",
       "      <td>1</td>\n",
       "      <td>following my previous analysis my latest wa st...</td>\n",
       "    </tr>\n",
       "    <tr>\n",
       "      <th>32</th>\n",
       "      <td>1</td>\n",
       "      <td>0</td>\n",
       "      <td>hello to mtgfinance people everywhere some of ...</td>\n",
       "    </tr>\n",
       "    <tr>\n",
       "      <th>46</th>\n",
       "      <td>0</td>\n",
       "      <td>1</td>\n",
       "      <td>hello i ve been playing for about 2 3 month an...</td>\n",
       "    </tr>\n",
       "    <tr>\n",
       "      <th>52</th>\n",
       "      <td>1</td>\n",
       "      <td>0</td>\n",
       "      <td>i have a gilded drake that is a close call bet...</td>\n",
       "    </tr>\n",
       "    <tr>\n",
       "      <th>54</th>\n",
       "      <td>1</td>\n",
       "      <td>0</td>\n",
       "      <td>i ve been getting a 500 internal server error ...</td>\n",
       "    </tr>\n",
       "  </tbody>\n",
       "</table>\n",
       "</div>"
      ],
      "text/plain": [
       "    predicted  actual                                               text\n",
       "23          0       1  following my previous analysis my latest wa st...\n",
       "32          1       0  hello to mtgfinance people everywhere some of ...\n",
       "46          0       1  hello i ve been playing for about 2 3 month an...\n",
       "52          1       0  i have a gilded drake that is a close call bet...\n",
       "54          1       0  i ve been getting a 500 internal server error ..."
      ]
     },
     "execution_count": 36,
     "metadata": {},
     "output_type": "execute_result"
    }
   ],
   "source": [
    "logreg_lemmatized_misclass.head()"
   ]
  },
  {
   "cell_type": "code",
   "execution_count": 37,
   "id": "d48dac27",
   "metadata": {
    "scrolled": true
   },
   "outputs": [
    {
     "data": {
      "image/png": "[encoded data removed]",
      "text/plain": [
       "<Figure size 432x288 with 1 Axes>"
      ]
     },
     "metadata": {
      "needs_background": "light"
     },
     "output_type": "display_data"
    }
   ],
   "source": [
    "# most commonly misclassified tokens\n",
    "plot_misclassified(logreg_lemmatized_misclass, 'text', stoplist, 1, 2);"
   ]
  },
  {
   "cell_type": "markdown",
   "id": "afbf0446",
   "metadata": {},
   "source": [
    "Because of the lemmatization, there are now nonsensical words like 'wa' and 'ha' in the top misclassified tokens. The words 'set' and 'digital' are still leading the misclassification charts. Perhaps adding these 2 to the list of stop words will change something. We will explore this later."
   ]
  },
  {
   "cell_type": "markdown",
   "id": "6d4a18e4",
   "metadata": {},
   "source": [
    "### Lemmatized - TF-IDF Logistic Regression"
   ]
  },
  {
   "cell_type": "code",
   "execution_count": 38,
   "id": "5e056e1e",
   "metadata": {},
   "outputs": [
    {
     "name": "stdout",
     "output_type": "stream",
     "text": [
      "Fitting 5 folds for each of 6 candidates, totalling 30 fits\n"
     ]
    }
   ],
   "source": [
    "logreg_lemmatized_tfidf_pipe = Pipeline([\n",
    "    ('tvec', TfidfVectorizer(stop_words=stoplist)),\n",
    "    ('logreg', LogisticRegression(solver='lbfgs'))\n",
    "])\n",
    "\n",
    "logreg_lemmatized_tfidf_pipe_params = {\n",
    "    'tvec__max_features': [None, 5000, 10000],\n",
    "    'tvec__ngram_range': [(1, 2), (1, 3)] # also tried (1, 1)\n",
    "}\n",
    "\n",
    "logreg_lemmatized_tfidf_gs = GridSearchCV(\n",
    "    logreg_lemmatized_tfidf_pipe,\n",
    "    logreg_lemmatized_tfidf_pipe_params,\n",
    "    cv=5,\n",
    "    verbose=1\n",
    ")\n",
    "\n",
    "logreg_lemmatized_tfidf_gs.fit(x_lemm_train, y_train);"
   ]
  },
  {
   "cell_type": "code",
   "execution_count": 39,
   "id": "956e91f5",
   "metadata": {},
   "outputs": [
    {
     "data": {
      "text/plain": [
       "{'tvec__max_features': 5000, 'tvec__ngram_range': (1, 2)}"
      ]
     },
     "execution_count": 39,
     "metadata": {},
     "output_type": "execute_result"
    }
   ],
   "source": [
    "logreg_lemmatized_tfidf_gs.best_params_"
   ]
  },
  {
   "cell_type": "code",
   "execution_count": 40,
   "id": "02c9191d",
   "metadata": {},
   "outputs": [
    {
     "data": {
      "text/plain": [
       "0.8758007117437723"
      ]
     },
     "execution_count": 40,
     "metadata": {},
     "output_type": "execute_result"
    }
   ],
   "source": [
    "logreg_lemmatized_tfidf_gs.best_score_"
   ]
  },
  {
   "cell_type": "code",
   "execution_count": 41,
   "id": "a88435a1",
   "metadata": {},
   "outputs": [
    {
     "name": "stdout",
     "output_type": "stream",
     "text": [
      "Accuracy = 0.9042553191489362\n",
      "Specificity = 0.9037656903765691\n",
      "Sensitivity/Recall = 0.9047619047619048\n",
      "Precision = 0.9008620689655172\n",
      "F1 score = 0.9028077753779697\n"
     ]
    },
    {
     "data": {
      "image/png": "[encoded data removed]",
      "text/plain": [
       "<Figure size 432x288 with 2 Axes>"
      ]
     },
     "metadata": {
      "needs_background": "light"
     },
     "output_type": "display_data"
    }
   ],
   "source": [
    "# get metrics and plot confusion matrix\n",
    "modelmetric(logreg_lemmatized_tfidf_gs, x_lemm_test, y_test)"
   ]
  },
  {
   "cell_type": "code",
   "execution_count": 42,
   "id": "ecdc3dd3",
   "metadata": {},
   "outputs": [],
   "source": [
    "# get misclassified\n",
    "logreg_lemmatized_tfidf_misclass = misclassified(logreg_lemmatized_tfidf_gs, x_lemm_test, y_test)"
   ]
  },
  {
   "cell_type": "code",
   "execution_count": 43,
   "id": "0c8f21a0",
   "metadata": {},
   "outputs": [
    {
     "data": {
      "text/plain": [
       "(45, 3)"
      ]
     },
     "execution_count": 43,
     "metadata": {},
     "output_type": "execute_result"
    }
   ],
   "source": [
    "# check if is sum of fp and fn\n",
    "logreg_lemmatized_tfidf_misclass.shape"
   ]
  },
  {
   "cell_type": "code",
   "execution_count": 44,
   "id": "ed21bb6b",
   "metadata": {},
   "outputs": [
    {
     "data": {
      "text/html": [
       "<div>\n",
       "<style scoped>\n",
       "    .dataframe tbody tr th:only-of-type {\n",
       "        vertical-align: middle;\n",
       "    }\n",
       "\n",
       "    .dataframe tbody tr th {\n",
       "        vertical-align: top;\n",
       "    }\n",
       "\n",
       "    .dataframe thead th {\n",
       "        text-align: right;\n",
       "    }\n",
       "</style>\n",
       "<table border=\"1\" class=\"dataframe\">\n",
       "  <thead>\n",
       "    <tr style=\"text-align: right;\">\n",
       "      <th></th>\n",
       "      <th>predicted</th>\n",
       "      <th>actual</th>\n",
       "      <th>text</th>\n",
       "    </tr>\n",
       "  </thead>\n",
       "  <tbody>\n",
       "    <tr>\n",
       "      <th>23</th>\n",
       "      <td>0</td>\n",
       "      <td>1</td>\n",
       "      <td>following my previous analysis my latest wa st...</td>\n",
       "    </tr>\n",
       "    <tr>\n",
       "      <th>32</th>\n",
       "      <td>1</td>\n",
       "      <td>0</td>\n",
       "      <td>hello to mtgfinance people everywhere some of ...</td>\n",
       "    </tr>\n",
       "    <tr>\n",
       "      <th>46</th>\n",
       "      <td>0</td>\n",
       "      <td>1</td>\n",
       "      <td>hello i ve been playing for about 2 3 month an...</td>\n",
       "    </tr>\n",
       "    <tr>\n",
       "      <th>52</th>\n",
       "      <td>1</td>\n",
       "      <td>0</td>\n",
       "      <td>i have a gilded drake that is a close call bet...</td>\n",
       "    </tr>\n",
       "    <tr>\n",
       "      <th>54</th>\n",
       "      <td>1</td>\n",
       "      <td>0</td>\n",
       "      <td>i ve been getting a 500 internal server error ...</td>\n",
       "    </tr>\n",
       "  </tbody>\n",
       "</table>\n",
       "</div>"
      ],
      "text/plain": [
       "    predicted  actual                                               text\n",
       "23          0       1  following my previous analysis my latest wa st...\n",
       "32          1       0  hello to mtgfinance people everywhere some of ...\n",
       "46          0       1  hello i ve been playing for about 2 3 month an...\n",
       "52          1       0  i have a gilded drake that is a close call bet...\n",
       "54          1       0  i ve been getting a 500 internal server error ..."
      ]
     },
     "execution_count": 44,
     "metadata": {},
     "output_type": "execute_result"
    }
   ],
   "source": [
    "logreg_lemmatized_tfidf_misclass.head()"
   ]
  },
  {
   "cell_type": "code",
   "execution_count": 45,
   "id": "693d71d9",
   "metadata": {
    "scrolled": false
   },
   "outputs": [
    {
     "data": {
      "image/png": "[encoded data removed]",
      "text/plain": [
       "<Figure size 432x288 with 1 Axes>"
      ]
     },
     "metadata": {
      "needs_background": "light"
     },
     "output_type": "display_data"
    }
   ],
   "source": [
    "# most commonly misclassified tokens\n",
    "plot_misclassified(logreg_lemmatized_tfidf_misclass, 'text', stoplist, 1, 2);"
   ]
  },
  {
   "cell_type": "markdown",
   "id": "ac8598bb",
   "metadata": {},
   "source": [
    "Interestingly, TFIDF had had way more subreddit specific words misclassified than Cvec. Besides 'like', 'just', 'wa' and 'ha', the top 16 misclassified tokens are all subreddit specific."
   ]
  },
  {
   "cell_type": "markdown",
   "id": "a53d4dc5",
   "metadata": {},
   "source": [
    "### Stemmed - Cvec Logistic Regression"
   ]
  },
  {
   "cell_type": "code",
   "execution_count": 46,
   "id": "ab5a7691",
   "metadata": {},
   "outputs": [],
   "source": [
    "# joining into single string\n",
    "final_df['stemmed'] = final_df['stemmed'].apply(lambda x: ' '.join(x))"
   ]
  },
  {
   "cell_type": "code",
   "execution_count": 47,
   "id": "c2a3c271",
   "metadata": {},
   "outputs": [],
   "source": [
    "# using stemmed now\n",
    "x_stem = final_df['stemmed'] # series because going to cvec\n",
    "y = final_df['label']\n",
    "\n",
    "# train test split\n",
    "x_stem_train, x_stem_test, y_train, y_test = train_test_split(\n",
    "    x_stem,\n",
    "    y,\n",
    "    stratify=y,\n",
    "    random_state=42)"
   ]
  },
  {
   "cell_type": "code",
   "execution_count": 48,
   "id": "c1713b8c",
   "metadata": {},
   "outputs": [
    {
     "name": "stdout",
     "output_type": "stream",
     "text": [
      "Fitting 5 folds for each of 6 candidates, totalling 30 fits\n"
     ]
    }
   ],
   "source": [
    "logreg_stemmed_pipe = Pipeline([\n",
    "    ('cvec', CountVectorizer(stop_words=stoplist)),\n",
    "    ('logreg', LogisticRegression(solver='lbfgs'))\n",
    "])\n",
    "\n",
    "logreg_stemmed_pipe_params = {\n",
    "    'cvec__max_features': [None, 5000, 10000], # also tried 15000\n",
    "    'cvec__ngram_range': [(1, 2), (1, 3)] # also tried (1, 1)\n",
    "}\n",
    "\n",
    "logreg_stemmed_gs = GridSearchCV(\n",
    "    logreg_stemmed_pipe,\n",
    "    logreg_stemmed_pipe_params,\n",
    "    cv=5,\n",
    "    verbose=1\n",
    ")\n",
    "\n",
    "logreg_stemmed_gs.fit(x_stem_train, y_train);"
   ]
  },
  {
   "cell_type": "code",
   "execution_count": 49,
   "id": "3bd699ce",
   "metadata": {},
   "outputs": [
    {
     "data": {
      "text/plain": [
       "{'cvec__max_features': None, 'cvec__ngram_range': (1, 3)}"
      ]
     },
     "execution_count": 49,
     "metadata": {},
     "output_type": "execute_result"
    }
   ],
   "source": [
    "logreg_stemmed_gs.best_params_"
   ]
  },
  {
   "cell_type": "code",
   "execution_count": 50,
   "id": "dad4716a",
   "metadata": {},
   "outputs": [
    {
     "data": {
      "text/plain": [
       "0.8630297064687917"
      ]
     },
     "execution_count": 50,
     "metadata": {},
     "output_type": "execute_result"
    }
   ],
   "source": [
    "logreg_stemmed_gs.best_score_"
   ]
  },
  {
   "cell_type": "code",
   "execution_count": 51,
   "id": "d7cb21f6",
   "metadata": {},
   "outputs": [
    {
     "name": "stdout",
     "output_type": "stream",
     "text": [
      "Accuracy = 0.9063829787234042\n",
      "Specificity = 0.8870292887029289\n",
      "Sensitivity/Recall = 0.9264069264069265\n",
      "Precision = 0.8879668049792531\n",
      "F1 score = 0.9067796610169492\n"
     ]
    },
    {
     "data": {
      "image/png": "[encoded data removed]",
      "text/plain": [
       "<Figure size 432x288 with 2 Axes>"
      ]
     },
     "metadata": {
      "needs_background": "light"
     },
     "output_type": "display_data"
    }
   ],
   "source": [
    "# get metrics and plot confusion matrix\n",
    "modelmetric(logreg_stemmed_gs, x_stem_test, y_test)"
   ]
  },
  {
   "cell_type": "code",
   "execution_count": 52,
   "id": "81ca4ed6",
   "metadata": {},
   "outputs": [],
   "source": [
    "# get misclassified\n",
    "logreg_stemmed_misclass = misclassified(logreg_stemmed_gs, x_stem_test, y_test)"
   ]
  },
  {
   "cell_type": "code",
   "execution_count": 53,
   "id": "5882d415",
   "metadata": {},
   "outputs": [
    {
     "data": {
      "text/plain": [
       "(44, 3)"
      ]
     },
     "execution_count": 53,
     "metadata": {},
     "output_type": "execute_result"
    }
   ],
   "source": [
    "# check if is sum of fp and fn\n",
    "logreg_stemmed_misclass.shape"
   ]
  },
  {
   "cell_type": "code",
   "execution_count": 54,
   "id": "676507e3",
   "metadata": {},
   "outputs": [
    {
     "data": {
      "text/html": [
       "<div>\n",
       "<style scoped>\n",
       "    .dataframe tbody tr th:only-of-type {\n",
       "        vertical-align: middle;\n",
       "    }\n",
       "\n",
       "    .dataframe tbody tr th {\n",
       "        vertical-align: top;\n",
       "    }\n",
       "\n",
       "    .dataframe thead th {\n",
       "        text-align: right;\n",
       "    }\n",
       "</style>\n",
       "<table border=\"1\" class=\"dataframe\">\n",
       "  <thead>\n",
       "    <tr style=\"text-align: right;\">\n",
       "      <th></th>\n",
       "      <th>predicted</th>\n",
       "      <th>actual</th>\n",
       "      <th>text</th>\n",
       "    </tr>\n",
       "  </thead>\n",
       "  <tbody>\n",
       "    <tr>\n",
       "      <th>23</th>\n",
       "      <td>0</td>\n",
       "      <td>1</td>\n",
       "      <td>follow my previou analys my latest wa strixhav...</td>\n",
       "    </tr>\n",
       "    <tr>\n",
       "      <th>32</th>\n",
       "      <td>1</td>\n",
       "      <td>0</td>\n",
       "      <td>hello to mtgfinanc peopl everywher some of you...</td>\n",
       "    </tr>\n",
       "    <tr>\n",
       "      <th>46</th>\n",
       "      <td>0</td>\n",
       "      <td>1</td>\n",
       "      <td>hello i ve been play for about 2 3 month and s...</td>\n",
       "    </tr>\n",
       "    <tr>\n",
       "      <th>52</th>\n",
       "      <td>1</td>\n",
       "      <td>0</td>\n",
       "      <td>i have a gild drake that is a close call betwe...</td>\n",
       "    </tr>\n",
       "    <tr>\n",
       "      <th>54</th>\n",
       "      <td>1</td>\n",
       "      <td>0</td>\n",
       "      <td>i ve been get a 500 intern server error all da...</td>\n",
       "    </tr>\n",
       "  </tbody>\n",
       "</table>\n",
       "</div>"
      ],
      "text/plain": [
       "    predicted  actual                                               text\n",
       "23          0       1  follow my previou analys my latest wa strixhav...\n",
       "32          1       0  hello to mtgfinanc peopl everywher some of you...\n",
       "46          0       1  hello i ve been play for about 2 3 month and s...\n",
       "52          1       0  i have a gild drake that is a close call betwe...\n",
       "54          1       0  i ve been get a 500 intern server error all da..."
      ]
     },
     "execution_count": 54,
     "metadata": {},
     "output_type": "execute_result"
    }
   ],
   "source": [
    "logreg_stemmed_misclass.head()"
   ]
  },
  {
   "cell_type": "code",
   "execution_count": 55,
   "id": "9276fb3a",
   "metadata": {
    "scrolled": true
   },
   "outputs": [
    {
     "data": {
      "image/png": "[encoded data removed]",
      "text/plain": [
       "<Figure size 432x288 with 1 Axes>"
      ]
     },
     "metadata": {
      "needs_background": "light"
     },
     "output_type": "display_data"
    }
   ],
   "source": [
    "# most commonly misclassified tokens\n",
    "plot_misclassified(logreg_stemmed_misclass, 'text', stoplist, 1, 3);"
   ]
  },
  {
   "cell_type": "markdown",
   "id": "c11b0344",
   "metadata": {},
   "source": [
    "As stemming is a cruder form of lemmatization, the list of misclassified tokens make even less sense. For some reason, this doesn't change the misclassification of the words 'digital' (now stemmed to 'digit') and 'set', but introduces the word 'play' and 'thi' to be the most misclassified instead.\n",
    "\n",
    "Having said that, the number of misclassified posts is actually LESS than the lemmatized model."
   ]
  },
  {
   "cell_type": "markdown",
   "id": "ae582ddb",
   "metadata": {},
   "source": [
    "### Stemmed - TF-IDF Logistic Regression"
   ]
  },
  {
   "cell_type": "code",
   "execution_count": 56,
   "id": "87e7ca8a",
   "metadata": {},
   "outputs": [
    {
     "name": "stdout",
     "output_type": "stream",
     "text": [
      "Fitting 5 folds for each of 12 candidates, totalling 60 fits\n"
     ]
    }
   ],
   "source": [
    "logreg_stemmed_tfidf_pipe = Pipeline([\n",
    "    ('tvec', TfidfVectorizer(stop_words=stoplist)),\n",
    "    ('logreg', LogisticRegression(solver='lbfgs'))\n",
    "])\n",
    "\n",
    "logreg_stemmed_tfidf_pipe_params = {\n",
    "    'tvec__max_features': [None, 5000, 10000, 15000], \n",
    "    'tvec__ngram_range': [(1, 1), (1, 2), (1, 3)]\n",
    "}\n",
    "\n",
    "logreg_stemmed_tfidf_gs = GridSearchCV(\n",
    "    logreg_stemmed_tfidf_pipe,\n",
    "    logreg_stemmed_tfidf_pipe_params,\n",
    "    cv=5,\n",
    "    verbose=1\n",
    ")\n",
    "\n",
    "logreg_stemmed_tfidf_gs.fit(x_stem_train, y_train);"
   ]
  },
  {
   "cell_type": "code",
   "execution_count": 57,
   "id": "4244b84e",
   "metadata": {},
   "outputs": [
    {
     "data": {
      "text/plain": [
       "{'tvec__max_features': 5000, 'tvec__ngram_range': (1, 1)}"
      ]
     },
     "execution_count": 57,
     "metadata": {},
     "output_type": "execute_result"
    }
   ],
   "source": [
    "logreg_stemmed_tfidf_gs.best_params_"
   ]
  },
  {
   "cell_type": "code",
   "execution_count": 58,
   "id": "a0d0a702",
   "metadata": {},
   "outputs": [
    {
     "data": {
      "text/plain": [
       "0.8807677746649503"
      ]
     },
     "execution_count": 58,
     "metadata": {},
     "output_type": "execute_result"
    }
   ],
   "source": [
    "logreg_stemmed_tfidf_gs.best_score_"
   ]
  },
  {
   "cell_type": "code",
   "execution_count": 59,
   "id": "ed97eb81",
   "metadata": {
    "scrolled": false
   },
   "outputs": [
    {
     "name": "stdout",
     "output_type": "stream",
     "text": [
      "Accuracy = 0.9106382978723404\n",
      "Specificity = 0.9121338912133892\n",
      "Sensitivity/Recall = 0.9090909090909091\n",
      "Precision = 0.9090909090909091\n",
      "F1 score = 0.9090909090909091\n"
     ]
    },
    {
     "data": {
      "image/png": "[encoded data removed]",
      "text/plain": [
       "<Figure size 432x288 with 2 Axes>"
      ]
     },
     "metadata": {
      "needs_background": "light"
     },
     "output_type": "display_data"
    }
   ],
   "source": [
    "# get metrics and plot confusion matrix\n",
    "modelmetric(logreg_stemmed_tfidf_gs, x_stem_test, y_test)"
   ]
  },
  {
   "cell_type": "code",
   "execution_count": 60,
   "id": "cb67d3d6",
   "metadata": {},
   "outputs": [],
   "source": [
    "# get misclassified\n",
    "logreg_stemmed_tfidf_misclass = misclassified(logreg_stemmed_tfidf_gs, x_stem_test, y_test)"
   ]
  },
  {
   "cell_type": "code",
   "execution_count": 61,
   "id": "a2d6a9e5",
   "metadata": {},
   "outputs": [
    {
     "data": {
      "text/plain": [
       "(42, 3)"
      ]
     },
     "execution_count": 61,
     "metadata": {},
     "output_type": "execute_result"
    }
   ],
   "source": [
    "# check if is sum of fp and fn\n",
    "logreg_stemmed_tfidf_misclass.shape"
   ]
  },
  {
   "cell_type": "code",
   "execution_count": 62,
   "id": "1858c759",
   "metadata": {},
   "outputs": [
    {
     "data": {
      "text/html": [
       "<div>\n",
       "<style scoped>\n",
       "    .dataframe tbody tr th:only-of-type {\n",
       "        vertical-align: middle;\n",
       "    }\n",
       "\n",
       "    .dataframe tbody tr th {\n",
       "        vertical-align: top;\n",
       "    }\n",
       "\n",
       "    .dataframe thead th {\n",
       "        text-align: right;\n",
       "    }\n",
       "</style>\n",
       "<table border=\"1\" class=\"dataframe\">\n",
       "  <thead>\n",
       "    <tr style=\"text-align: right;\">\n",
       "      <th></th>\n",
       "      <th>predicted</th>\n",
       "      <th>actual</th>\n",
       "      <th>text</th>\n",
       "    </tr>\n",
       "  </thead>\n",
       "  <tbody>\n",
       "    <tr>\n",
       "      <th>23</th>\n",
       "      <td>0</td>\n",
       "      <td>1</td>\n",
       "      <td>follow my previou analys my latest wa strixhav...</td>\n",
       "    </tr>\n",
       "    <tr>\n",
       "      <th>32</th>\n",
       "      <td>1</td>\n",
       "      <td>0</td>\n",
       "      <td>hello to mtgfinanc peopl everywher some of you...</td>\n",
       "    </tr>\n",
       "    <tr>\n",
       "      <th>42</th>\n",
       "      <td>1</td>\n",
       "      <td>0</td>\n",
       "      <td>i just got my first arabian night card and i w...</td>\n",
       "    </tr>\n",
       "    <tr>\n",
       "      <th>46</th>\n",
       "      <td>0</td>\n",
       "      <td>1</td>\n",
       "      <td>hello i ve been play for about 2 3 month and s...</td>\n",
       "    </tr>\n",
       "    <tr>\n",
       "      <th>52</th>\n",
       "      <td>1</td>\n",
       "      <td>0</td>\n",
       "      <td>i have a gild drake that is a close call betwe...</td>\n",
       "    </tr>\n",
       "  </tbody>\n",
       "</table>\n",
       "</div>"
      ],
      "text/plain": [
       "    predicted  actual                                               text\n",
       "23          0       1  follow my previou analys my latest wa strixhav...\n",
       "32          1       0  hello to mtgfinanc peopl everywher some of you...\n",
       "42          1       0  i just got my first arabian night card and i w...\n",
       "46          0       1  hello i ve been play for about 2 3 month and s...\n",
       "52          1       0  i have a gild drake that is a close call betwe..."
      ]
     },
     "execution_count": 62,
     "metadata": {},
     "output_type": "execute_result"
    }
   ],
   "source": [
    "logreg_stemmed_tfidf_misclass.head()"
   ]
  },
  {
   "cell_type": "code",
   "execution_count": 63,
   "id": "718a80b1",
   "metadata": {
    "scrolled": false
   },
   "outputs": [
    {
     "data": {
      "image/png": "[encoded data removed]",
      "text/plain": [
       "<Figure size 432x288 with 1 Axes>"
      ]
     },
     "metadata": {
      "needs_background": "light"
     },
     "output_type": "display_data"
    }
   ],
   "source": [
    "# most commonly misclassified tokens\n",
    "plot_misclassified(logreg_stemmed_tfidf_misclass, 'text', stoplist, 1, 1);"
   ]
  },
  {
   "cell_type": "markdown",
   "id": "e08f9afd",
   "metadata": {},
   "source": [
    "The word 'thi' was misclassified 70 times, the highest any token has been misclassified out of any model so far. Not sure what kind of inference can be made about this. In other news, 'digit' and 'set' are still topping the boards."
   ]
  },
  {
   "cell_type": "code",
   "execution_count": 64,
   "id": "f875e1eb",
   "metadata": {
    "scrolled": false
   },
   "outputs": [
    {
     "data": {
      "image/png": "[encoded data removed]",
      "text/plain": [
       "<Figure size 432x288 with 1 Axes>"
      ]
     },
     "metadata": {
      "needs_background": "light"
     },
     "output_type": "display_data"
    }
   ],
   "source": [
    "# plot overall ROC AUC\n",
    "disp = plot_roc_curve(logreg_cvec_gs, x_test, y_test, label='CVec')\n",
    "plot_roc_curve(logreg_tfidf_gs, x_test, y_test, ax=disp.ax_, label='TFIDF');\n",
    "plot_roc_curve(logreg_lemmatized_gs, x_lemm_test, y_test, ax=disp.ax_, label='CVec Lemm');\n",
    "plot_roc_curve(logreg_stemmed_gs, x_stem_test, y_test, ax=disp.ax_, label='Cvec Stem');\n",
    "plot_roc_curve(logreg_lemmatized_tfidf_gs, x_lemm_test, y_test, ax=disp.ax_, label='TFIDF Lemm');\n",
    "plot_roc_curve(logreg_stemmed_tfidf_gs, x_stem_test, y_test, ax=disp.ax_, label='TFIDF Stem');\n",
    "plt.plot([0, 1], [0, 1], label='baseline', linestyle='--');"
   ]
  },
  {
   "cell_type": "markdown",
   "id": "a3d630eb",
   "metadata": {},
   "source": [
    "TF-IDF (yellow, purple and brown) gives much better results than CVec (blue, green, red).\n",
    "\n",
    "In particular, TF-IDF with stemming (brown) stands out as having the best AUC, followed closely behind by TF-IDF with lemmatizing (purple). Considering that the suspicion above was that lemmatizing only underperformed due to insufficient stop words, we will adjust the stop words list and compare TF-IDF stemming and TF-IDF lemmatizing again."
   ]
  },
  {
   "cell_type": "markdown",
   "id": "92deeae2",
   "metadata": {},
   "source": [
    "### Comparing lemmatizing and stemming after stop word adjustment"
   ]
  },
  {
   "cell_type": "code",
   "execution_count": 65,
   "id": "b0c19267",
   "metadata": {},
   "outputs": [],
   "source": [
    "stoplist2 = text.ENGLISH_STOP_WORDS.union(\n",
    "    [\n",
    "        'lt',\n",
    "        'gt',\n",
    "        'tt',\n",
    "        'annotation',\n",
    "        'amp',\n",
    "        '000',\n",
    "        'catid',\n",
    "        '2021',\n",
    "        '21',\n",
    "        'tcgplayer',\n",
    "        'cardkingdom',\n",
    "        '99',\n",
    "        'dollar',\n",
    "        'today',\n",
    "        'copies',\n",
    "        'available',\n",
    "        'ck',\n",
    "        'kingdom',\n",
    "        'cards',\n",
    "        'card',\n",
    "        'magic',\n",
    "        'digital', # new word\n",
    "        'set' # new word\n",
    "    ]\n",
    ")"
   ]
  },
  {
   "cell_type": "code",
   "execution_count": 66,
   "id": "efd734b8",
   "metadata": {},
   "outputs": [
    {
     "name": "stdout",
     "output_type": "stream",
     "text": [
      "Fitting 5 folds for each of 6 candidates, totalling 30 fits\n"
     ]
    }
   ],
   "source": [
    "logreg_lemmatized_tfidf2_pipe = Pipeline([\n",
    "    ('tvec', TfidfVectorizer(stop_words=stoplist2)),\n",
    "    ('logreg', LogisticRegression(solver='lbfgs'))\n",
    "])\n",
    "\n",
    "logreg_lemmatized_tfidf2_pipe_params = {\n",
    "    'tvec__max_features': [None, 5000, 10000],\n",
    "    'tvec__ngram_range': [(1, 3), (1, 2)] # also tried (1, 1)\n",
    "}\n",
    "\n",
    "logreg_lemmatized_tfidf2_gs = GridSearchCV(\n",
    "    logreg_lemmatized_tfidf2_pipe,\n",
    "    logreg_lemmatized_tfidf2_pipe_params,\n",
    "    cv=5,\n",
    "    verbose=1\n",
    ")\n",
    "\n",
    "logreg_lemmatized_tfidf2_gs.fit(x_lemm_train, y_train);"
   ]
  },
  {
   "cell_type": "code",
   "execution_count": 67,
   "id": "6f18d19d",
   "metadata": {},
   "outputs": [
    {
     "data": {
      "text/plain": [
       "{'tvec__max_features': 5000, 'tvec__ngram_range': (1, 2)}"
      ]
     },
     "execution_count": 67,
     "metadata": {},
     "output_type": "execute_result"
    }
   ],
   "source": [
    "logreg_lemmatized_tfidf2_gs.best_params_"
   ]
  },
  {
   "cell_type": "code",
   "execution_count": 68,
   "id": "f0992d96",
   "metadata": {},
   "outputs": [
    {
     "data": {
      "text/plain": [
       "0.8772292471164281"
      ]
     },
     "execution_count": 68,
     "metadata": {},
     "output_type": "execute_result"
    }
   ],
   "source": [
    "logreg_lemmatized_tfidf2_gs.best_score_"
   ]
  },
  {
   "cell_type": "code",
   "execution_count": 69,
   "id": "2c26d31f",
   "metadata": {},
   "outputs": [
    {
     "name": "stdout",
     "output_type": "stream",
     "text": [
      "Accuracy = 0.902127659574468\n",
      "Specificity = 0.899581589958159\n",
      "Sensitivity/Recall = 0.9047619047619048\n",
      "Precision = 0.8969957081545065\n",
      "F1 score = 0.9008620689655172\n"
     ]
    },
    {
     "data": {
      "image/png": "[encoded data removed]",
      "text/plain": [
       "<Figure size 432x288 with 2 Axes>"
      ]
     },
     "metadata": {
      "needs_background": "light"
     },
     "output_type": "display_data"
    }
   ],
   "source": [
    "# get metrics and plot confusion matrix\n",
    "modelmetric(logreg_lemmatized_tfidf2_gs, x_lemm_test, y_test)"
   ]
  },
  {
   "cell_type": "code",
   "execution_count": 70,
   "id": "b7b593fa",
   "metadata": {},
   "outputs": [],
   "source": [
    "# get misclassified\n",
    "logreg_lemmatized_tfidf2_misclass = misclassified(logreg_lemmatized_tfidf2_gs, x_lemm_test, y_test)"
   ]
  },
  {
   "cell_type": "code",
   "execution_count": 71,
   "id": "f60616d1",
   "metadata": {},
   "outputs": [
    {
     "data": {
      "text/plain": [
       "(46, 3)"
      ]
     },
     "execution_count": 71,
     "metadata": {},
     "output_type": "execute_result"
    }
   ],
   "source": [
    "# check if is sum of fp and fn\n",
    "logreg_lemmatized_tfidf2_misclass.shape"
   ]
  },
  {
   "cell_type": "code",
   "execution_count": 72,
   "id": "38963b9d",
   "metadata": {},
   "outputs": [
    {
     "data": {
      "text/html": [
       "<div>\n",
       "<style scoped>\n",
       "    .dataframe tbody tr th:only-of-type {\n",
       "        vertical-align: middle;\n",
       "    }\n",
       "\n",
       "    .dataframe tbody tr th {\n",
       "        vertical-align: top;\n",
       "    }\n",
       "\n",
       "    .dataframe thead th {\n",
       "        text-align: right;\n",
       "    }\n",
       "</style>\n",
       "<table border=\"1\" class=\"dataframe\">\n",
       "  <thead>\n",
       "    <tr style=\"text-align: right;\">\n",
       "      <th></th>\n",
       "      <th>predicted</th>\n",
       "      <th>actual</th>\n",
       "      <th>text</th>\n",
       "    </tr>\n",
       "  </thead>\n",
       "  <tbody>\n",
       "    <tr>\n",
       "      <th>23</th>\n",
       "      <td>0</td>\n",
       "      <td>1</td>\n",
       "      <td>following my previous analysis my latest wa st...</td>\n",
       "    </tr>\n",
       "    <tr>\n",
       "      <th>32</th>\n",
       "      <td>1</td>\n",
       "      <td>0</td>\n",
       "      <td>hello to mtgfinance people everywhere some of ...</td>\n",
       "    </tr>\n",
       "    <tr>\n",
       "      <th>46</th>\n",
       "      <td>0</td>\n",
       "      <td>1</td>\n",
       "      <td>hello i ve been playing for about 2 3 month an...</td>\n",
       "    </tr>\n",
       "    <tr>\n",
       "      <th>52</th>\n",
       "      <td>1</td>\n",
       "      <td>0</td>\n",
       "      <td>i have a gilded drake that is a close call bet...</td>\n",
       "    </tr>\n",
       "    <tr>\n",
       "      <th>54</th>\n",
       "      <td>1</td>\n",
       "      <td>0</td>\n",
       "      <td>i ve been getting a 500 internal server error ...</td>\n",
       "    </tr>\n",
       "  </tbody>\n",
       "</table>\n",
       "</div>"
      ],
      "text/plain": [
       "    predicted  actual                                               text\n",
       "23          0       1  following my previous analysis my latest wa st...\n",
       "32          1       0  hello to mtgfinance people everywhere some of ...\n",
       "46          0       1  hello i ve been playing for about 2 3 month an...\n",
       "52          1       0  i have a gilded drake that is a close call bet...\n",
       "54          1       0  i ve been getting a 500 internal server error ..."
      ]
     },
     "execution_count": 72,
     "metadata": {},
     "output_type": "execute_result"
    }
   ],
   "source": [
    "logreg_lemmatized_tfidf2_misclass.head()"
   ]
  },
  {
   "cell_type": "code",
   "execution_count": 73,
   "id": "811c7140",
   "metadata": {
    "scrolled": false
   },
   "outputs": [
    {
     "data": {
      "image/png": "[encoded data removed]",
      "text/plain": [
       "<Figure size 432x288 with 1 Axes>"
      ]
     },
     "metadata": {
      "needs_background": "light"
     },
     "output_type": "display_data"
    }
   ],
   "source": [
    "# most commonly misclassified tokens\n",
    "plot_misclassified(logreg_lemmatized_tfidf2_misclass, 'text', stoplist2, 1, 2);"
   ]
  },
  {
   "cell_type": "markdown",
   "id": "06d6d251",
   "metadata": {},
   "source": [
    "Train score went up from 0.876 to 0.877 and number of misclassifications did not change."
   ]
  },
  {
   "cell_type": "code",
   "execution_count": 74,
   "id": "a8f92767",
   "metadata": {},
   "outputs": [
    {
     "name": "stdout",
     "output_type": "stream",
     "text": [
      "Fitting 5 folds for each of 6 candidates, totalling 30 fits\n"
     ]
    }
   ],
   "source": [
    "logreg_stemmed_tfidf2_pipe = Pipeline([\n",
    "    ('tvec', TfidfVectorizer(stop_words=stoplist2)),\n",
    "    ('logreg', LogisticRegression(solver='lbfgs'))\n",
    "])\n",
    "\n",
    "logreg_stemmed_tfidf2_pipe_params = {\n",
    "    'tvec__max_features': [None, 5000, 10000],\n",
    "    'tvec__ngram_range': [(1, 2), (1, 3)] # also tried (1, 1)\n",
    "}\n",
    "\n",
    "logreg_stemmed_tfidf2_gs = GridSearchCV(\n",
    "    logreg_stemmed_tfidf2_pipe,\n",
    "    logreg_stemmed_tfidf2_pipe_params,\n",
    "    cv=5,\n",
    "    verbose=1\n",
    ")\n",
    "\n",
    "logreg_stemmed_tfidf2_gs.fit(x_stem_train, y_train);"
   ]
  },
  {
   "cell_type": "code",
   "execution_count": 75,
   "id": "208311f5",
   "metadata": {},
   "outputs": [
    {
     "data": {
      "text/plain": [
       "{'tvec__max_features': None, 'tvec__ngram_range': (1, 3)}"
      ]
     },
     "execution_count": 75,
     "metadata": {},
     "output_type": "execute_result"
    }
   ],
   "source": [
    "logreg_stemmed_tfidf2_gs.best_params_"
   ]
  },
  {
   "cell_type": "code",
   "execution_count": 76,
   "id": "e30bd28b",
   "metadata": {},
   "outputs": [
    {
     "data": {
      "text/plain": [
       "0.8800560308927083"
      ]
     },
     "execution_count": 76,
     "metadata": {},
     "output_type": "execute_result"
    }
   ],
   "source": [
    "logreg_stemmed_tfidf2_gs.best_score_"
   ]
  },
  {
   "cell_type": "code",
   "execution_count": 77,
   "id": "1151613a",
   "metadata": {
    "scrolled": false
   },
   "outputs": [
    {
     "name": "stdout",
     "output_type": "stream",
     "text": [
      "Accuracy = 0.8978723404255319\n",
      "Specificity = 0.9288702928870293\n",
      "Sensitivity/Recall = 0.8658008658008658\n",
      "Precision = 0.9216589861751152\n",
      "F1 score = 0.8928571428571428\n"
     ]
    },
    {
     "data": {
      "image/png": "[encoded data removed]",
      "text/plain": [
       "<Figure size 432x288 with 2 Axes>"
      ]
     },
     "metadata": {
      "needs_background": "light"
     },
     "output_type": "display_data"
    }
   ],
   "source": [
    "# get metrics and plot confusion matrix\n",
    "modelmetric(logreg_stemmed_tfidf2_gs, x_stem_test, y_test)"
   ]
  },
  {
   "cell_type": "code",
   "execution_count": 78,
   "id": "75c26a83",
   "metadata": {},
   "outputs": [],
   "source": [
    "# get misclassified\n",
    "logreg_stemmed_tfidf2_misclass = misclassified(logreg_stemmed_tfidf2_gs, x_stem_test, y_test)"
   ]
  },
  {
   "cell_type": "code",
   "execution_count": 79,
   "id": "6f73b7a4",
   "metadata": {},
   "outputs": [
    {
     "data": {
      "text/plain": [
       "(48, 3)"
      ]
     },
     "execution_count": 79,
     "metadata": {},
     "output_type": "execute_result"
    }
   ],
   "source": [
    "# check if is sum of fp and fn\n",
    "logreg_stemmed_tfidf2_misclass.shape"
   ]
  },
  {
   "cell_type": "code",
   "execution_count": 80,
   "id": "f4ac7b92",
   "metadata": {},
   "outputs": [
    {
     "data": {
      "text/html": [
       "<div>\n",
       "<style scoped>\n",
       "    .dataframe tbody tr th:only-of-type {\n",
       "        vertical-align: middle;\n",
       "    }\n",
       "\n",
       "    .dataframe tbody tr th {\n",
       "        vertical-align: top;\n",
       "    }\n",
       "\n",
       "    .dataframe thead th {\n",
       "        text-align: right;\n",
       "    }\n",
       "</style>\n",
       "<table border=\"1\" class=\"dataframe\">\n",
       "  <thead>\n",
       "    <tr style=\"text-align: right;\">\n",
       "      <th></th>\n",
       "      <th>predicted</th>\n",
       "      <th>actual</th>\n",
       "      <th>text</th>\n",
       "    </tr>\n",
       "  </thead>\n",
       "  <tbody>\n",
       "    <tr>\n",
       "      <th>23</th>\n",
       "      <td>0</td>\n",
       "      <td>1</td>\n",
       "      <td>follow my previou analys my latest wa strixhav...</td>\n",
       "    </tr>\n",
       "    <tr>\n",
       "      <th>26</th>\n",
       "      <td>1</td>\n",
       "      <td>0</td>\n",
       "      <td>titan nest is a veri power card as low as 20 c...</td>\n",
       "    </tr>\n",
       "    <tr>\n",
       "      <th>32</th>\n",
       "      <td>1</td>\n",
       "      <td>0</td>\n",
       "      <td>hello to mtgfinanc peopl everywher some of you...</td>\n",
       "    </tr>\n",
       "    <tr>\n",
       "      <th>46</th>\n",
       "      <td>0</td>\n",
       "      <td>1</td>\n",
       "      <td>hello i ve been play for about 2 3 month and s...</td>\n",
       "    </tr>\n",
       "    <tr>\n",
       "      <th>52</th>\n",
       "      <td>1</td>\n",
       "      <td>0</td>\n",
       "      <td>i have a gild drake that is a close call betwe...</td>\n",
       "    </tr>\n",
       "  </tbody>\n",
       "</table>\n",
       "</div>"
      ],
      "text/plain": [
       "    predicted  actual                                               text\n",
       "23          0       1  follow my previou analys my latest wa strixhav...\n",
       "26          1       0  titan nest is a veri power card as low as 20 c...\n",
       "32          1       0  hello to mtgfinanc peopl everywher some of you...\n",
       "46          0       1  hello i ve been play for about 2 3 month and s...\n",
       "52          1       0  i have a gild drake that is a close call betwe..."
      ]
     },
     "execution_count": 80,
     "metadata": {},
     "output_type": "execute_result"
    }
   ],
   "source": [
    "logreg_stemmed_tfidf2_misclass.head()"
   ]
  },
  {
   "cell_type": "code",
   "execution_count": 81,
   "id": "a600e452",
   "metadata": {
    "scrolled": true
   },
   "outputs": [
    {
     "data": {
      "image/png": "[encoded data removed]",
      "text/plain": [
       "<Figure size 432x288 with 1 Axes>"
      ]
     },
     "metadata": {
      "needs_background": "light"
     },
     "output_type": "display_data"
    }
   ],
   "source": [
    "# most commonly misclassified tokens\n",
    "plot_misclassified(logreg_stemmed_tfidf2_misclass, 'text', stoplist2, 1, 2);"
   ]
  },
  {
   "cell_type": "markdown",
   "id": "12f6f099",
   "metadata": {},
   "source": [
    "Stemmed model simply got worse. It seems that adding stop words has an effect of overfitting. This makes sense because common words like 'digital' or 'set' can fit in either subreddits."
   ]
  },
  {
   "cell_type": "markdown",
   "id": "86e8e4e8",
   "metadata": {},
   "source": [
    "## Data Modelling - Others"
   ]
  },
  {
   "cell_type": "markdown",
   "id": "d1d8de81",
   "metadata": {},
   "source": [
    "For all models going forward, TFIDF will be used. Both original text and stemmed text will be tried, and the better result will be kept."
   ]
  },
  {
   "cell_type": "markdown",
   "id": "f1eee623",
   "metadata": {},
   "source": [
    "### Naive Bayes"
   ]
  },
  {
   "cell_type": "code",
   "execution_count": 82,
   "id": "48fa0bef",
   "metadata": {},
   "outputs": [
    {
     "name": "stdout",
     "output_type": "stream",
     "text": [
      "Fitting 5 folds for each of 9 candidates, totalling 45 fits\n"
     ]
    }
   ],
   "source": [
    "nb_tvec_pipe = Pipeline([\n",
    "    ('tvec', TfidfVectorizer(stop_words=stoplist)),\n",
    "    ('nb', MultinomialNB())\n",
    "])\n",
    "\n",
    "nb_tvec_pipe_params = {\n",
    "    'tvec__max_features': [None, 5000, 10000], # also tried 15000\n",
    "    'tvec__ngram_range': [(1, 1), (1, 2), (1, 3)]\n",
    "}\n",
    "\n",
    "nb_tvec_gs = GridSearchCV(\n",
    "    nb_tvec_pipe,\n",
    "    nb_tvec_pipe_params,\n",
    "    cv=5,\n",
    "    verbose=1\n",
    ")\n",
    "\n",
    "nb_tvec_gs.fit(x_stem_train, y_train);"
   ]
  },
  {
   "cell_type": "code",
   "execution_count": 83,
   "id": "3efae3b6",
   "metadata": {},
   "outputs": [
    {
     "data": {
      "text/plain": [
       "{'tvec__max_features': 10000, 'tvec__ngram_range': (1, 3)}"
      ]
     },
     "execution_count": 83,
     "metadata": {},
     "output_type": "execute_result"
    }
   ],
   "source": [
    "nb_tvec_gs.best_params_"
   ]
  },
  {
   "cell_type": "code",
   "execution_count": 84,
   "id": "d1006cf1",
   "metadata": {},
   "outputs": [
    {
     "data": {
      "text/plain": [
       "0.8786476868327402"
      ]
     },
     "execution_count": 84,
     "metadata": {},
     "output_type": "execute_result"
    }
   ],
   "source": [
    "nb_tvec_gs.best_score_"
   ]
  },
  {
   "cell_type": "code",
   "execution_count": 85,
   "id": "47c6a8b4",
   "metadata": {
    "scrolled": false
   },
   "outputs": [
    {
     "name": "stdout",
     "output_type": "stream",
     "text": [
      "Accuracy = 0.8978723404255319\n",
      "Specificity = 0.9581589958158996\n",
      "Sensitivity/Recall = 0.8354978354978355\n",
      "Precision = 0.9507389162561576\n",
      "F1 score = 0.8894009216589862\n"
     ]
    },
    {
     "data": {
      "image/png": "[encoded data removed]",
      "text/plain": [
       "<Figure size 432x288 with 2 Axes>"
      ]
     },
     "metadata": {
      "needs_background": "light"
     },
     "output_type": "display_data"
    }
   ],
   "source": [
    "# get metrics and plot confusion matrix\n",
    "modelmetric(nb_tvec_gs, x_stem_test, y_test)"
   ]
  },
  {
   "cell_type": "code",
   "execution_count": 86,
   "id": "6fb0b840",
   "metadata": {},
   "outputs": [],
   "source": [
    "# get misclassified\n",
    "nb_tvec_misclass = misclassified(nb_tvec_gs, x_stem_test, y_test)"
   ]
  },
  {
   "cell_type": "code",
   "execution_count": 87,
   "id": "8030a8f4",
   "metadata": {},
   "outputs": [
    {
     "data": {
      "text/plain": [
       "(48, 3)"
      ]
     },
     "execution_count": 87,
     "metadata": {},
     "output_type": "execute_result"
    }
   ],
   "source": [
    "# check if is sum of fp and fn\n",
    "nb_tvec_misclass.shape"
   ]
  },
  {
   "cell_type": "code",
   "execution_count": 88,
   "id": "6c5f6e0b",
   "metadata": {},
   "outputs": [
    {
     "data": {
      "text/html": [
       "<div>\n",
       "<style scoped>\n",
       "    .dataframe tbody tr th:only-of-type {\n",
       "        vertical-align: middle;\n",
       "    }\n",
       "\n",
       "    .dataframe tbody tr th {\n",
       "        vertical-align: top;\n",
       "    }\n",
       "\n",
       "    .dataframe thead th {\n",
       "        text-align: right;\n",
       "    }\n",
       "</style>\n",
       "<table border=\"1\" class=\"dataframe\">\n",
       "  <thead>\n",
       "    <tr style=\"text-align: right;\">\n",
       "      <th></th>\n",
       "      <th>predicted</th>\n",
       "      <th>actual</th>\n",
       "      <th>text</th>\n",
       "    </tr>\n",
       "  </thead>\n",
       "  <tbody>\n",
       "    <tr>\n",
       "      <th>6</th>\n",
       "      <td>0</td>\n",
       "      <td>1</td>\n",
       "      <td>specif regard if it is possibl to recov the fe...</td>\n",
       "    </tr>\n",
       "    <tr>\n",
       "      <th>23</th>\n",
       "      <td>0</td>\n",
       "      <td>1</td>\n",
       "      <td>follow my previou analys my latest wa strixhav...</td>\n",
       "    </tr>\n",
       "    <tr>\n",
       "      <th>26</th>\n",
       "      <td>1</td>\n",
       "      <td>0</td>\n",
       "      <td>titan nest is a veri power card as low as 20 c...</td>\n",
       "    </tr>\n",
       "    <tr>\n",
       "      <th>46</th>\n",
       "      <td>0</td>\n",
       "      <td>1</td>\n",
       "      <td>hello i ve been play for about 2 3 month and s...</td>\n",
       "    </tr>\n",
       "    <tr>\n",
       "      <th>57</th>\n",
       "      <td>0</td>\n",
       "      <td>1</td>\n",
       "      <td>i m look for singl and some of the card i want...</td>\n",
       "    </tr>\n",
       "  </tbody>\n",
       "</table>\n",
       "</div>"
      ],
      "text/plain": [
       "    predicted  actual                                               text\n",
       "6           0       1  specif regard if it is possibl to recov the fe...\n",
       "23          0       1  follow my previou analys my latest wa strixhav...\n",
       "26          1       0  titan nest is a veri power card as low as 20 c...\n",
       "46          0       1  hello i ve been play for about 2 3 month and s...\n",
       "57          0       1  i m look for singl and some of the card i want..."
      ]
     },
     "execution_count": 88,
     "metadata": {},
     "output_type": "execute_result"
    }
   ],
   "source": [
    "nb_tvec_misclass.head()"
   ]
  },
  {
   "cell_type": "code",
   "execution_count": 89,
   "id": "7046005b",
   "metadata": {
    "scrolled": true
   },
   "outputs": [
    {
     "data": {
      "image/png": "[encoded data removed]",
      "text/plain": [
       "<Figure size 432x288 with 1 Axes>"
      ]
     },
     "metadata": {
      "needs_background": "light"
     },
     "output_type": "display_data"
    }
   ],
   "source": [
    "# most commonly misclassified tokens\n",
    "plot_misclassified(nb_tvec_misclass, 'text', stoplist, 1, 3);"
   ]
  },
  {
   "cell_type": "markdown",
   "id": "1af8a488",
   "metadata": {},
   "source": [
    "The Naive Bayes model gives us fewer false positives and more false negatives, which means it classifies posts as belonging in the mtgfinance subreddit more often. Since the Naive Bayes algorithm assumes all features (in this case tokens) are independent of each other, the top misclassified words kind of make sense. The separate words 'boosters' and 'boxes' are usually attributed towards the tcg subreddit but 'booster boxes' is usually attributed to mtgfinance."
   ]
  },
  {
   "cell_type": "markdown",
   "id": "1dc428cf",
   "metadata": {},
   "source": [
    "### Bootstrap Aggregation"
   ]
  },
  {
   "cell_type": "code",
   "execution_count": 90,
   "id": "e377f967",
   "metadata": {},
   "outputs": [
    {
     "name": "stdout",
     "output_type": "stream",
     "text": [
      "Fitting 5 folds for each of 9 candidates, totalling 45 fits\n"
     ]
    }
   ],
   "source": [
    "bag_tvec_pipe = Pipeline([\n",
    "    ('tvec', TfidfVectorizer(stop_words=stoplist)),\n",
    "    ('bag', BaggingClassifier(random_state=42))\n",
    "])\n",
    "\n",
    "bag_tvec_pipe_params = {\n",
    "    'tvec__max_features': [5000], # also tried None, 10000\n",
    "    'tvec__ngram_range': [(1, 3)], # also tried (1, 1), (1,2)\n",
    "    'bag__max_samples': [0.6 , 0.8, 1.0],\n",
    "    'bag__n_estimators': [100, 200, 300]\n",
    "}\n",
    "\n",
    "bag_tvec_gs = GridSearchCV(\n",
    "    bag_tvec_pipe,\n",
    "    bag_tvec_pipe_params,\n",
    "    cv=5,\n",
    "    verbose=1\n",
    ")\n",
    "\n",
    "bag_tvec_gs.fit(x_stem_train, y_train);"
   ]
  },
  {
   "cell_type": "code",
   "execution_count": 91,
   "id": "c7d8cc96",
   "metadata": {},
   "outputs": [
    {
     "data": {
      "text/plain": [
       "{'bag__max_samples': 0.8,\n",
       " 'bag__n_estimators': 300,\n",
       " 'tvec__max_features': 5000,\n",
       " 'tvec__ngram_range': (1, 3)}"
      ]
     },
     "execution_count": 91,
     "metadata": {},
     "output_type": "execute_result"
    }
   ],
   "source": [
    "bag_tvec_gs.best_params_"
   ]
  },
  {
   "cell_type": "code",
   "execution_count": 92,
   "id": "bba77e4b",
   "metadata": {},
   "outputs": [
    {
     "data": {
      "text/plain": [
       "0.8388985638928851"
      ]
     },
     "execution_count": 92,
     "metadata": {},
     "output_type": "execute_result"
    }
   ],
   "source": [
    "bag_tvec_gs.best_score_"
   ]
  },
  {
   "cell_type": "code",
   "execution_count": 93,
   "id": "ee96af96",
   "metadata": {
    "scrolled": false
   },
   "outputs": [
    {
     "name": "stdout",
     "output_type": "stream",
     "text": [
      "Accuracy = 0.8531914893617021\n",
      "Specificity = 0.8451882845188284\n",
      "Sensitivity/Recall = 0.8614718614718615\n",
      "Precision = 0.8432203389830508\n",
      "F1 score = 0.8522483940042827\n"
     ]
    },
    {
     "data": {
      "image/png": "[encoded data removed]",
      "text/plain": [
       "<Figure size 432x288 with 2 Axes>"
      ]
     },
     "metadata": {
      "needs_background": "light"
     },
     "output_type": "display_data"
    }
   ],
   "source": [
    "# get metrics and plot confusion matrix\n",
    "modelmetric(bag_tvec_gs, x_stem_test, y_test)"
   ]
  },
  {
   "cell_type": "code",
   "execution_count": 94,
   "id": "b05e5ee2",
   "metadata": {},
   "outputs": [],
   "source": [
    "# get misclassified\n",
    "bag_tvec_misclass = misclassified(bag_tvec_gs, x_stem_test, y_test)"
   ]
  },
  {
   "cell_type": "code",
   "execution_count": 95,
   "id": "99c7fe6f",
   "metadata": {},
   "outputs": [
    {
     "data": {
      "text/plain": [
       "(69, 3)"
      ]
     },
     "execution_count": 95,
     "metadata": {},
     "output_type": "execute_result"
    }
   ],
   "source": [
    "# check if is sum of fp and fn\n",
    "bag_tvec_misclass.shape"
   ]
  },
  {
   "cell_type": "code",
   "execution_count": 96,
   "id": "ba6c1166",
   "metadata": {},
   "outputs": [
    {
     "data": {
      "text/html": [
       "<div>\n",
       "<style scoped>\n",
       "    .dataframe tbody tr th:only-of-type {\n",
       "        vertical-align: middle;\n",
       "    }\n",
       "\n",
       "    .dataframe tbody tr th {\n",
       "        vertical-align: top;\n",
       "    }\n",
       "\n",
       "    .dataframe thead th {\n",
       "        text-align: right;\n",
       "    }\n",
       "</style>\n",
       "<table border=\"1\" class=\"dataframe\">\n",
       "  <thead>\n",
       "    <tr style=\"text-align: right;\">\n",
       "      <th></th>\n",
       "      <th>predicted</th>\n",
       "      <th>actual</th>\n",
       "      <th>text</th>\n",
       "    </tr>\n",
       "  </thead>\n",
       "  <tbody>\n",
       "    <tr>\n",
       "      <th>12</th>\n",
       "      <td>0</td>\n",
       "      <td>1</td>\n",
       "      <td>super vagu but here s the situat i bought a ki...</td>\n",
       "    </tr>\n",
       "    <tr>\n",
       "      <th>21</th>\n",
       "      <td>0</td>\n",
       "      <td>1</td>\n",
       "      <td>hey reddit check out the detail on our preview...</td>\n",
       "    </tr>\n",
       "    <tr>\n",
       "      <th>23</th>\n",
       "      <td>0</td>\n",
       "      <td>1</td>\n",
       "      <td>follow my previou analys my latest wa strixhav...</td>\n",
       "    </tr>\n",
       "    <tr>\n",
       "      <th>26</th>\n",
       "      <td>1</td>\n",
       "      <td>0</td>\n",
       "      <td>titan nest is a veri power card as low as 20 c...</td>\n",
       "    </tr>\n",
       "    <tr>\n",
       "      <th>34</th>\n",
       "      <td>0</td>\n",
       "      <td>1</td>\n",
       "      <td>hello i ve been want to do a box open video fo...</td>\n",
       "    </tr>\n",
       "  </tbody>\n",
       "</table>\n",
       "</div>"
      ],
      "text/plain": [
       "    predicted  actual                                               text\n",
       "12          0       1  super vagu but here s the situat i bought a ki...\n",
       "21          0       1  hey reddit check out the detail on our preview...\n",
       "23          0       1  follow my previou analys my latest wa strixhav...\n",
       "26          1       0  titan nest is a veri power card as low as 20 c...\n",
       "34          0       1  hello i ve been want to do a box open video fo..."
      ]
     },
     "execution_count": 96,
     "metadata": {},
     "output_type": "execute_result"
    }
   ],
   "source": [
    "bag_tvec_misclass.head()"
   ]
  },
  {
   "cell_type": "code",
   "execution_count": 97,
   "id": "d0cde416",
   "metadata": {
    "scrolled": true
   },
   "outputs": [
    {
     "data": {
      "image/png": "[encoded data removed]",
      "text/plain": [
       "<Figure size 432x288 with 1 Axes>"
      ]
     },
     "metadata": {
      "needs_background": "light"
     },
     "output_type": "display_data"
    }
   ],
   "source": [
    "# most commonly misclassified tokens\n",
    "plot_misclassified(bag_tvec_misclass, 'text', stoplist, 1, 3);"
   ]
  },
  {
   "cell_type": "markdown",
   "id": "117cd012",
   "metadata": {},
   "source": [
    "Bootstrap aggregation model does not seem to give good results, despite being the first ensemble model we tried."
   ]
  },
  {
   "cell_type": "markdown",
   "id": "20f6cb34",
   "metadata": {},
   "source": [
    "### Random Forest"
   ]
  },
  {
   "cell_type": "code",
   "execution_count": 118,
   "id": "c24a5431",
   "metadata": {},
   "outputs": [
    {
     "name": "stdout",
     "output_type": "stream",
     "text": [
      "Fitting 5 folds for each of 18 candidates, totalling 90 fits\n"
     ]
    }
   ],
   "source": [
    "rf_tvec_pipe = Pipeline([\n",
    "    ('tvec', TfidfVectorizer(stop_words=stoplist)),\n",
    "    ('rf', RandomForestClassifier())\n",
    "])\n",
    "\n",
    "rf_tvec_pipe_params = {\n",
    "    'tvec__max_features': [None, 5000, 10000],\n",
    "    'tvec__ngram_range': [(1, 2), (1, 3)], # tried (1, 1)\n",
    "    'rf__n_estimators': [50, 100, 150]\n",
    "}\n",
    "\n",
    "rf_tvec_gs = GridSearchCV(\n",
    "    rf_tvec_pipe,\n",
    "    rf_tvec_pipe_params,\n",
    "    cv=5,\n",
    "    verbose=1\n",
    ")\n",
    "\n",
    "rf_tvec_gs.fit(x_train, y_train);"
   ]
  },
  {
   "cell_type": "code",
   "execution_count": 119,
   "id": "4ed37513",
   "metadata": {},
   "outputs": [
    {
     "data": {
      "image/png": "[encoded data removed]",
      "text/plain": [
       "<Figure size 720x576 with 1 Axes>"
      ]
     },
     "metadata": {
      "needs_background": "light"
     },
     "output_type": "display_data"
    }
   ],
   "source": [
    "# get feature importances\n",
    "rf_feat = rf_tvec_gs.best_estimator_.named_steps['rf'].feature_importances_\n",
    "\n",
    "# revectorize to get list of words used (probably not best practice)\n",
    "tvec = TfidfVectorizer(stop_words=stoplist)\n",
    "word_df = pd.DataFrame(tvec.fit_transform(x_train).todense(), \n",
    "                          columns=tvec.get_feature_names())\n",
    "\n",
    "# a dict to hold feature_name: feature_importance\n",
    "feats = {} \n",
    "for feature, importance in zip(word_df.columns, rf_feat):\n",
    "    feats[feature] = importance \n",
    "\n",
    "# creating dataframe and limiting to 10 words descending\n",
    "importances = pd.DataFrame.from_dict(\n",
    "    feats,\n",
    "    orient='index'\n",
    ").rename(\n",
    "    columns={0: 'feature-importance'}\n",
    ").sort_values(\n",
    "    'feature-importance',\n",
    "    ascending=False\n",
    ").head(10)\n",
    "\n",
    "# define size of bar plot\n",
    "plt.figure(figsize=(10,8))\n",
    "\n",
    "# plot Seaborn bar chart\n",
    "sns.barplot(x=importances['feature-importance'], y=importances.index)\n",
    "\n",
    "# add chart labels\n",
    "plt.title('Random Forest Feature Importance')\n",
    "plt.xlabel('Importance')\n",
    "plt.ylabel('Word');"
   ]
  },
  {
   "cell_type": "markdown",
   "id": "c39c0449",
   "metadata": {},
   "source": [
    "The most important words used to classify subreddits are actually quite unexpected. In fact, the top 10 words are not words that I would consider useful in classification at all. They are all rather meaningless words, with the exception of 'foils' which could frankly go in either subreddit."
   ]
  },
  {
   "cell_type": "code",
   "execution_count": 120,
   "id": "cb147f2f",
   "metadata": {},
   "outputs": [
    {
     "data": {
      "text/plain": [
       "{'rf__n_estimators': 100,\n",
       " 'tvec__max_features': 5000,\n",
       " 'tvec__ngram_range': (1, 3)}"
      ]
     },
     "execution_count": 120,
     "metadata": {},
     "output_type": "execute_result"
    }
   ],
   "source": [
    "rf_tvec_gs.best_params_"
   ]
  },
  {
   "cell_type": "code",
   "execution_count": 121,
   "id": "72d37797",
   "metadata": {},
   "outputs": [
    {
     "data": {
      "text/plain": [
       "0.8601701118093941"
      ]
     },
     "execution_count": 121,
     "metadata": {},
     "output_type": "execute_result"
    }
   ],
   "source": [
    "rf_tvec_gs.best_score_"
   ]
  },
  {
   "cell_type": "code",
   "execution_count": 122,
   "id": "bf4c53ff",
   "metadata": {
    "scrolled": false
   },
   "outputs": [
    {
     "name": "stdout",
     "output_type": "stream",
     "text": [
      "Accuracy = 0.902127659574468\n",
      "Specificity = 0.899581589958159\n",
      "Sensitivity/Recall = 0.9047619047619048\n",
      "Precision = 0.8969957081545065\n",
      "F1 score = 0.9008620689655172\n"
     ]
    },
    {
     "data": {
      "image/png": "[encoded data removed]",
      "text/plain": [
       "<Figure size 432x288 with 2 Axes>"
      ]
     },
     "metadata": {
      "needs_background": "light"
     },
     "output_type": "display_data"
    }
   ],
   "source": [
    "# get metrics and plot confusion matrix\n",
    "modelmetric(rf_tvec_gs, x_test, y_test)"
   ]
  },
  {
   "cell_type": "code",
   "execution_count": 123,
   "id": "9640dda0",
   "metadata": {},
   "outputs": [],
   "source": [
    "# get misclassified\n",
    "rf_tvec_misclass = misclassified(rf_tvec_gs, x_test, y_test)"
   ]
  },
  {
   "cell_type": "code",
   "execution_count": 124,
   "id": "1b08a647",
   "metadata": {},
   "outputs": [
    {
     "data": {
      "text/plain": [
       "(46, 3)"
      ]
     },
     "execution_count": 124,
     "metadata": {},
     "output_type": "execute_result"
    }
   ],
   "source": [
    "# check if is sum of fp and fn\n",
    "rf_tvec_misclass.shape"
   ]
  },
  {
   "cell_type": "code",
   "execution_count": 125,
   "id": "4081723b",
   "metadata": {},
   "outputs": [
    {
     "data": {
      "text/html": [
       "<div>\n",
       "<style scoped>\n",
       "    .dataframe tbody tr th:only-of-type {\n",
       "        vertical-align: middle;\n",
       "    }\n",
       "\n",
       "    .dataframe tbody tr th {\n",
       "        vertical-align: top;\n",
       "    }\n",
       "\n",
       "    .dataframe thead th {\n",
       "        text-align: right;\n",
       "    }\n",
       "</style>\n",
       "<table border=\"1\" class=\"dataframe\">\n",
       "  <thead>\n",
       "    <tr style=\"text-align: right;\">\n",
       "      <th></th>\n",
       "      <th>predicted</th>\n",
       "      <th>actual</th>\n",
       "      <th>text</th>\n",
       "    </tr>\n",
       "  </thead>\n",
       "  <tbody>\n",
       "    <tr>\n",
       "      <th>23</th>\n",
       "      <td>0</td>\n",
       "      <td>1</td>\n",
       "      <td>Following my previous analyses (my latest was ...</td>\n",
       "    </tr>\n",
       "    <tr>\n",
       "      <th>32</th>\n",
       "      <td>1</td>\n",
       "      <td>0</td>\n",
       "      <td>Hello to MTGFinance people everywhere!\\n\\nSome...</td>\n",
       "    </tr>\n",
       "    <tr>\n",
       "      <th>34</th>\n",
       "      <td>0</td>\n",
       "      <td>1</td>\n",
       "      <td>Hello! I've been wanting to do a \"box opening\"...</td>\n",
       "    </tr>\n",
       "    <tr>\n",
       "      <th>42</th>\n",
       "      <td>1</td>\n",
       "      <td>0</td>\n",
       "      <td>I just got my first arabian nights cards and I...</td>\n",
       "    </tr>\n",
       "    <tr>\n",
       "      <th>46</th>\n",
       "      <td>0</td>\n",
       "      <td>1</td>\n",
       "      <td>Hello,\\n\\nI've been playing for about 2-3 mont...</td>\n",
       "    </tr>\n",
       "  </tbody>\n",
       "</table>\n",
       "</div>"
      ],
      "text/plain": [
       "    predicted  actual                                               text\n",
       "23          0       1  Following my previous analyses (my latest was ...\n",
       "32          1       0  Hello to MTGFinance people everywhere!\\n\\nSome...\n",
       "34          0       1  Hello! I've been wanting to do a \"box opening\"...\n",
       "42          1       0  I just got my first arabian nights cards and I...\n",
       "46          0       1  Hello,\\n\\nI've been playing for about 2-3 mont..."
      ]
     },
     "execution_count": 125,
     "metadata": {},
     "output_type": "execute_result"
    }
   ],
   "source": [
    "rf_tvec_misclass.head()"
   ]
  },
  {
   "cell_type": "code",
   "execution_count": 126,
   "id": "c1598068",
   "metadata": {
    "scrolled": true
   },
   "outputs": [
    {
     "data": {
      "image/png": "[encoded data removed]",
      "text/plain": [
       "<Figure size 432x288 with 1 Axes>"
      ]
     },
     "metadata": {
      "needs_background": "light"
     },
     "output_type": "display_data"
    }
   ],
   "source": [
    "# most commonly misclassified tokens\n",
    "plot_misclassified(rf_tvec_misclass, 'text', stoplist, 1, 3);"
   ]
  },
  {
   "cell_type": "markdown",
   "id": "852cc1ae",
   "metadata": {},
   "source": [
    "The list of misclassified words also seem rather unremarkable, sporting a lot of commonalities with the lists in the logistic regression permutations."
   ]
  },
  {
   "cell_type": "markdown",
   "id": "a6888dbf",
   "metadata": {},
   "source": [
    "### AdaBoostClassifier"
   ]
  },
  {
   "cell_type": "code",
   "execution_count": 107,
   "id": "bd97acea",
   "metadata": {},
   "outputs": [
    {
     "name": "stdout",
     "output_type": "stream",
     "text": [
      "Fitting 5 folds for each of 4 candidates, totalling 20 fits\n"
     ]
    }
   ],
   "source": [
    "ada_tvec_pipe = Pipeline([\n",
    "    ('tvec', TfidfVectorizer(stop_words=stoplist)),\n",
    "    ('ada', AdaBoostClassifier(base_estimator=DecisionTreeClassifier()))\n",
    "])\n",
    "\n",
    "ada_tvec_pipe_params = {\n",
    "    'tvec__max_features': [None], # tried 10000 as well\n",
    "    'tvec__ngram_range': [(1, 1)], # tried (2, 3) as well\n",
    "    'ada__n_estimators': [50, 100], # tried 150 as well\n",
    "    'ada__base_estimator__max_depth': [1], # tried 2 as well\n",
    "    'ada__learning_rate': [.8, .9] # tried 1.0 as well\n",
    "}\n",
    "\n",
    "ada_tvec_gs = GridSearchCV(\n",
    "    ada_tvec_pipe,\n",
    "    ada_tvec_pipe_params,\n",
    "    cv=5,\n",
    "    verbose=1\n",
    ")\n",
    "\n",
    "ada_tvec_gs.fit(x_stem_train, y_train);"
   ]
  },
  {
   "cell_type": "code",
   "execution_count": 108,
   "id": "bb72aca5",
   "metadata": {},
   "outputs": [
    {
     "data": {
      "image/png": "[encoded data removed]",
      "text/plain": [
       "<Figure size 720x576 with 1 Axes>"
      ]
     },
     "metadata": {
      "needs_background": "light"
     },
     "output_type": "display_data"
    }
   ],
   "source": [
    "# get feature importances\n",
    "ada_feat = ada_tvec_gs.best_estimator_.named_steps['ada'].feature_importances_\n",
    "\n",
    "# revectorize to get list of words used (probably not best practice)\n",
    "tvec = TfidfVectorizer(stop_words=stoplist)\n",
    "word_df = pd.DataFrame(tvec.fit_transform(x_stem_train).todense(), \n",
    "                          columns=tvec.get_feature_names())\n",
    "\n",
    "# a dict to hold feature_name: feature_importance\n",
    "feats = {} \n",
    "for feature, importance in zip(word_df.columns, ada_feat):\n",
    "    feats[feature] = importance \n",
    "\n",
    "# creating dataframe and limiting to 10 words descending\n",
    "importances = pd.DataFrame.from_dict(\n",
    "    feats,\n",
    "    orient='index'\n",
    ").rename(\n",
    "    columns={0: 'feature-importance'}\n",
    ").sort_values(\n",
    "    'feature-importance',\n",
    "    ascending=False\n",
    ").head(10)\n",
    "\n",
    "# define size of bar plot\n",
    "plt.figure(figsize=(10,8))\n",
    "\n",
    "# plot Seaborn bar chart\n",
    "sns.barplot(x=importances['feature-importance'], y=importances.index)\n",
    "\n",
    "# add chart labels\n",
    "plt.title('AdaBoost Feature Importance')\n",
    "plt.xlabel('Importance')\n",
    "plt.ylabel('Word');"
   ]
  },
  {
   "cell_type": "markdown",
   "id": "c34b4e24",
   "metadata": {},
   "source": [
    "Now the important features list makes much more sense. All these words, can be classified as more predominantly in either subreddit. For example, 'grade', 'supply', 'future' and 'foil' are all words that I would find more in the mtgfinance subreddit."
   ]
  },
  {
   "cell_type": "code",
   "execution_count": 109,
   "id": "f1b8eb25",
   "metadata": {},
   "outputs": [
    {
     "data": {
      "text/plain": [
       "{'ada__base_estimator__max_depth': 1,\n",
       " 'ada__learning_rate': 0.8,\n",
       " 'ada__n_estimators': 50,\n",
       " 'tvec__max_features': None,\n",
       " 'tvec__ngram_range': (1, 1)}"
      ]
     },
     "execution_count": 109,
     "metadata": {},
     "output_type": "execute_result"
    }
   ],
   "source": [
    "ada_tvec_gs.best_params_"
   ]
  },
  {
   "cell_type": "code",
   "execution_count": 110,
   "id": "7ebbcf89",
   "metadata": {},
   "outputs": [
    {
     "data": {
      "text/plain": [
       "0.831788697912723"
      ]
     },
     "execution_count": 110,
     "metadata": {},
     "output_type": "execute_result"
    }
   ],
   "source": [
    "ada_tvec_gs.best_score_"
   ]
  },
  {
   "cell_type": "code",
   "execution_count": 111,
   "id": "abe67a0b",
   "metadata": {
    "scrolled": false
   },
   "outputs": [
    {
     "name": "stdout",
     "output_type": "stream",
     "text": [
      "Accuracy = 0.8382978723404255\n",
      "Specificity = 0.8242677824267782\n",
      "Sensitivity/Recall = 0.8528138528138528\n",
      "Precision = 0.8242677824267782\n",
      "F1 score = 0.8382978723404256\n"
     ]
    },
    {
     "data": {
      "image/png": "[encoded data removed]",
      "text/plain": [
       "<Figure size 432x288 with 2 Axes>"
      ]
     },
     "metadata": {
      "needs_background": "light"
     },
     "output_type": "display_data"
    }
   ],
   "source": [
    "# get metrics and plot confusion matrix\n",
    "modelmetric(ada_tvec_gs, x_stem_test, y_test)"
   ]
  },
  {
   "cell_type": "markdown",
   "id": "7395a572",
   "metadata": {},
   "source": [
    "Even with the words above being correctly determined as strong classifiers, the model still made a lot of false positives (and way more misclassifications in general). This leads me to suspect that I have overestimated the presence of these words in the mtgfinance subreddit."
   ]
  },
  {
   "cell_type": "code",
   "execution_count": 112,
   "id": "11247acd",
   "metadata": {},
   "outputs": [],
   "source": [
    "# get misclassified\n",
    "ada_tvec_misclass = misclassified(ada_tvec_gs, x_stem_test, y_test)"
   ]
  },
  {
   "cell_type": "code",
   "execution_count": 113,
   "id": "12a563c6",
   "metadata": {},
   "outputs": [
    {
     "data": {
      "text/plain": [
       "(76, 3)"
      ]
     },
     "execution_count": 113,
     "metadata": {},
     "output_type": "execute_result"
    }
   ],
   "source": [
    "# check if is sum of fp and fn\n",
    "ada_tvec_misclass.shape"
   ]
  },
  {
   "cell_type": "code",
   "execution_count": 114,
   "id": "d81ff9b4",
   "metadata": {},
   "outputs": [
    {
     "data": {
      "text/html": [
       "<div>\n",
       "<style scoped>\n",
       "    .dataframe tbody tr th:only-of-type {\n",
       "        vertical-align: middle;\n",
       "    }\n",
       "\n",
       "    .dataframe tbody tr th {\n",
       "        vertical-align: top;\n",
       "    }\n",
       "\n",
       "    .dataframe thead th {\n",
       "        text-align: right;\n",
       "    }\n",
       "</style>\n",
       "<table border=\"1\" class=\"dataframe\">\n",
       "  <thead>\n",
       "    <tr style=\"text-align: right;\">\n",
       "      <th></th>\n",
       "      <th>predicted</th>\n",
       "      <th>actual</th>\n",
       "      <th>text</th>\n",
       "    </tr>\n",
       "  </thead>\n",
       "  <tbody>\n",
       "    <tr>\n",
       "      <th>5</th>\n",
       "      <td>1</td>\n",
       "      <td>0</td>\n",
       "      <td>i want to know what the commun would have done...</td>\n",
       "    </tr>\n",
       "    <tr>\n",
       "      <th>21</th>\n",
       "      <td>0</td>\n",
       "      <td>1</td>\n",
       "      <td>hey reddit check out the detail on our preview...</td>\n",
       "    </tr>\n",
       "    <tr>\n",
       "      <th>23</th>\n",
       "      <td>0</td>\n",
       "      <td>1</td>\n",
       "      <td>follow my previou analys my latest wa strixhav...</td>\n",
       "    </tr>\n",
       "    <tr>\n",
       "      <th>29</th>\n",
       "      <td>1</td>\n",
       "      <td>0</td>\n",
       "      <td>so i bought 11 ultim secret lair bundl and all...</td>\n",
       "    </tr>\n",
       "    <tr>\n",
       "      <th>34</th>\n",
       "      <td>0</td>\n",
       "      <td>1</td>\n",
       "      <td>hello i ve been want to do a box open video fo...</td>\n",
       "    </tr>\n",
       "  </tbody>\n",
       "</table>\n",
       "</div>"
      ],
      "text/plain": [
       "    predicted  actual                                               text\n",
       "5           1       0  i want to know what the commun would have done...\n",
       "21          0       1  hey reddit check out the detail on our preview...\n",
       "23          0       1  follow my previou analys my latest wa strixhav...\n",
       "29          1       0  so i bought 11 ultim secret lair bundl and all...\n",
       "34          0       1  hello i ve been want to do a box open video fo..."
      ]
     },
     "execution_count": 114,
     "metadata": {},
     "output_type": "execute_result"
    }
   ],
   "source": [
    "ada_tvec_misclass.head()"
   ]
  },
  {
   "cell_type": "code",
   "execution_count": 115,
   "id": "580e2272",
   "metadata": {
    "scrolled": true
   },
   "outputs": [
    {
     "data": {
      "image/png": "[encoded data removed]",
      "text/plain": [
       "<Figure size 432x288 with 1 Axes>"
      ]
     },
     "metadata": {
      "needs_background": "light"
     },
     "output_type": "display_data"
    }
   ],
   "source": [
    "# most commonly misclassified tokens\n",
    "plot_misclassified(ada_tvec_misclass, 'text', stoplist, 1, 3);"
   ]
  },
  {
   "cell_type": "code",
   "execution_count": 133,
   "id": "fb03c444",
   "metadata": {},
   "outputs": [
    {
     "data": {
      "image/png": "[encoded data removed]",
      "text/plain": [
       "<Figure size 432x288 with 1 Axes>"
      ]
     },
     "metadata": {
      "needs_background": "light"
     },
     "output_type": "display_data"
    }
   ],
   "source": [
    "# plot overall ROC AUC\n",
    "disp = plot_roc_curve(logreg_stemmed_tfidf_gs, x_stem_test, y_test, label='LR TFIDF Stem')\n",
    "plot_roc_curve(nb_tvec_gs, x_stem_test, y_test, ax=disp.ax_, label='NB TFIDF');\n",
    "plot_roc_curve(bag_tvec_gs, x_stem_test, y_test, ax=disp.ax_, label='Bagged TFIDF');\n",
    "plot_roc_curve(rf_tvec_gs, x_test, y_test, ax=disp.ax_, label='RandomForest TFIDF');\n",
    "plot_roc_curve(ada_tvec_gs, x_stem_test, y_test, ax=disp.ax_, label='AdaBoost TFIDF');\n",
    "plt.plot([0, 1], [0, 1], label='baseline', linestyle='--');"
   ]
  },
  {
   "cell_type": "markdown",
   "id": "cb48a944",
   "metadata": {},
   "source": [
    "The Logistic Regression model performs the best, followed closely by Naive Bayes. The tree based models performed poorly, with only RandomForest even putting up much of a fight."
   ]
  },
  {
   "cell_type": "markdown",
   "id": "64680c74",
   "metadata": {},
   "source": [
    "## Conclusions and Recommendations"
   ]
  },
  {
   "cell_type": "markdown",
   "id": "1a579bfd",
   "metadata": {},
   "source": [
    "|Lemm/Stem|Transformer|Model|Hyperparameters|Train Score|Test Score|Specificity|Sensitivity|Precision|Misclass|F1 Score|AUC|\n",
    "|---------|-----------|-----|---------------|-----------|----------|-----------|-----------|------|---|--------|---|\n",
    "|NA|CountVect|Logistic|max_feat=None, ngram=(1, 2)|0.862|0.885|0.870|0.900|0.870|54|0.885|0.95|\n",
    "|NA|TF-IDF|Logistic|max_feat=10000, ngram=(1, 2)|0.875|0.898|0.903|0.892|0.900|48|0.896|0.96|\n",
    "|Lemm|CountVect|Logistic|max_feat=None, ngram=(1, 2)|0.863|0.909|0.883|0.935|0.885|43|0.909|0.95|\n",
    "|Lemm|TF-IDF|Logistic|max_feat=5000, ngram=(1, 2)|0.876|0.904|0.904|0.905|0.901|45|0.903|0.96|\n",
    "|Stem|CountVect|Logistic|max_feat=None, ngram=(1, 3)|0.863|0.906|0.887|0.926|0.888|44|0.907|0.95|\n",
    "|Stem|TF-IDF|Logistic|max_feat=5000, ngram=(1, 1)|0.881|0.911|0.909|0.909|0.909|42|0.909|0.96|\n",
    "|Stem|TF-IDF|Naive Bayes|max_feat=10000, ngram=(1, 3)|0.879|0.898|0.958|0.835|0.951|48|0.889|0.96|\n",
    "|Stem|TF-IDF|Bootstrap Agg|max_sample=0.8, n_est=300, max_feat=5000, ngram=(1, 3) |0.839|0.853|0.845|0.861|0.843|69|0.852|0.92|\n",
    "|NA|TF-IDF|Random Forest|n_est=100, max_feat=5000, ngram=(1, 3) |0.860|0.902|0.900|0.905|0.897|46|0.901|0.96|\n",
    "|Stem|TF-IDF|AdaBoost|max_depth=1, learning_rate=0.8, n_est=50, max_feat=None, ngram=(1, 1) |0.832|0.838|0.824|0.853|0.824|76|0.838|0.90|"
   ]
  },
  {
   "cell_type": "markdown",
   "id": "8d91aaa0",
   "metadata": {},
   "source": [
    "- Generally, the test scores are slightly higher than the train score, but there are a few models where the scores are not too far apart. \n",
    "\n",
    "- There does not seem to be evidence of significant overfitting. AUC strikes out Bagged model and AdaBoost model as their AUC are much lower than the rest.\n",
    "\n",
    "- Lemmatizing and stemming gives a clear boost to test score but only a marginal boost to train score. This shows that either should be performed during preprocessing as compared to leaving the text as is.\n",
    "\n",
    "- The Naive Bayes model boasts the best specificity and precision scores, implying they have they least false positives, but they also have comparatively poor sensitivity to make up for it. This model tended to classify posts in the mtgfinance subreddit more often. If we were looking to minimize false positives for some reason, perhaps this model would have been good.\n",
    "\n",
    "- The lemmatized countvectorized Logistic Regression model boasts the best sensitivity score. If we were looking to minimize false negatives for some reason, this model would have been chosen.\n",
    "\n",
    "- However, given that we don't have a reason to minimize false negative or false positive specifically, the main metric we should look for is the flat number of misclassified posts. With this aim in mind, the best model would be **stemmed TF-IDF Logistic Regression** with 42 misclassifications. We would introduce this model as the base classifier for the problem statement."
   ]
  },
  {
   "cell_type": "markdown",
   "id": "8a6a91b4",
   "metadata": {},
   "source": [
    "### Further Improvements"
   ]
  },
  {
   "cell_type": "markdown",
   "id": "5dc95603",
   "metadata": {},
   "source": [
    "As a base model it might work, but it requires more fine tuning as an accuracy of 0.911 is still not good enough for a production-phase model. There are a few things we might want to do before that:\n",
    "\n",
    "1. Get more data to train on.\n",
    "\n",
    "2. Try to adopt it into a multiclassifier.\n",
    "\n",
    "3. Look into sentiment analysis.\n",
    "\n",
    "4. Look into pictorial classification.\n",
    "\n",
    "Furthermore, there are bound to be limitations to the model. It cannot ever be perfect, because there is always the human error to consider. Perhaps a post should be in subreddit A but the author thought it fit subreddit B better."
   ]
  }
 ],
 "metadata": {
  "kernelspec": {
   "display_name": "Python 3",
   "language": "python",
   "name": "python3"
  },
  "language_info": {
   "codemirror_mode": {
    "name": "ipython",
    "version": 3
   },
   "file_extension": ".py",
   "mimetype": "text/x-python",
   "name": "python",
   "nbconvert_exporter": "python",
   "pygments_lexer": "ipython3",
   "version": "3.8.8"
  }
 },
 "nbformat": 4,
 "nbformat_minor": 5
}
